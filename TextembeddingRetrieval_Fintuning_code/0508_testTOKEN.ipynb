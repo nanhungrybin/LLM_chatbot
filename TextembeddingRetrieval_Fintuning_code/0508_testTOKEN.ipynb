{
  "cells": [
    {
      "cell_type": "code",
      "source": [
        "import torch\n",
        "from torch.utils.data import DataLoader\n",
        "from transformers import BertTokenizerFast, BertForMaskedLM, BertConfig, AdamW\n",
        "from transformers import DataCollatorForLanguageModeling\n",
        "from tokenizers import BertWordPieceTokenizer\n",
        "from datasets import load_dataset\n",
        "import os\n",
        "from datetime import datetime\n",
        "import os\n",
        "import matplotlib.pyplot as plt\n",
        "os.environ['CUDA_LAUNCH_BLOCKING'] = \"1\"\n",
        "os.environ[\"CUDA_VISIBLE_DEVICES\"] = \"0\"\n",
        "os.environ[\"TOKENIZERS_PARALLELISM\"] = \"false\"\n",
        "os.environ['TORCH_USE_CUDA_DSA'] = \"1\""
      ],
      "outputs": [
        {
          "output_type": "stream",
          "name": "stderr",
          "text": "/anaconda/envs/llm-rag-embeddings/lib/python3.8/site-packages/tqdm/auto.py:21: TqdmWarning: IProgress not found. Please update jupyter and ipywidgets. See https://ipywidgets.readthedocs.io/en/stable/user_install.html\n  from .autonotebook import tqdm as notebook_tqdm\n"
        }
      ],
      "execution_count": 1,
      "metadata": {
        "gather": {
          "logged": 1717373475693
        }
      }
    },
    {
      "cell_type": "markdown",
      "source": [
        "기존 데이터"
      ],
      "metadata": {
        "nteract": {
          "transient": {
            "deleting": false
          }
        }
      }
    },
    {
      "cell_type": "code",
      "source": [
        "# # 경로 설정 : 데이터를 읽어오는 곳\n",
        "    \n",
        "# path = \"/home/azureuser/cloudfiles/code/Users/hb.suh/OUR_BERT/CODE/사출성형/tokenizer_data/\"\n",
        "\n",
        "# all_texts = []\n",
        "\n",
        "# # 폴더 내의 모든 txt 파일의 데이터를 모음\n",
        "# for file in os.listdir(path):\n",
        "#     if file.endswith('.txt'):\n",
        "#         file_path = os.path.join(path, file)\n",
        "#         with open(file_path, 'r', encoding='utf-8') as f:\n",
        "#             all_texts.append(f.read())\n",
        "\n",
        "# file_paths = [os.path.join(path, file) for file in os.listdir(path) if file.endswith('.txt')] #list\n",
        "\n",
        "\n",
        "# # 데이터셋 로드\n",
        "# dataset = load_dataset('text', data_files=file_paths, cache_dir='/home/azureuser/cloudfiles/code/Users/hb.suh/cache')\n",
        "\n",
        "# from datasets import DatasetDict, Dataset\n",
        "\n",
        "# # 훈련 데이터셋을 훈련 세트와 검증 세트로 분할\n",
        "# train_test_split = dataset['train'].train_test_split(test_size=0.2)\n",
        "\n",
        "# # 분할된 데이터셋을 다시 DatasetDict로 구성\n",
        "# dataset = DatasetDict({\n",
        "#     'train': train_test_split['train'],\n",
        "#     'valid': train_test_split['test']\n",
        "# })\n",
        "\n",
        "# print(dataset)"
      ],
      "outputs": [],
      "execution_count": 4,
      "metadata": {
        "jupyter": {
          "source_hidden": false,
          "outputs_hidden": false
        },
        "nteract": {
          "transient": {
            "deleting": false
          }
        },
        "gather": {
          "logged": 1717082435574
        }
      }
    },
    {
      "cell_type": "markdown",
      "source": [
        "새로 수집한 데이터"
      ],
      "metadata": {
        "nteract": {
          "transient": {
            "deleting": false
          }
        }
      }
    },
    {
      "cell_type": "code",
      "source": [
        "import os\n",
        "import json\n",
        "from datasets import Dataset, DatasetDict, load_dataset\n",
        "\n",
        "# 여러 경로를 리스트에 저장\n",
        "text_paths = [\n",
        "    \n",
        "    \"/home/azureuser/cloudfiles/code/Users/hb.suh/(0522part)_번역원본\",\n",
        "    \"/home/azureuser/cloudfiles/code/Users/hb.suh/(0527part)_번역원본\",\n",
        "    \"/home/azureuser/cloudfiles/code/Users/hb.suh/(0522part)_OnlyTranslatedData/사출성형\",\n",
        "    \"/home/azureuser/cloudfiles/code/Users/hb.suh/(0527part)_OnlyTranslatedData\"\n",
        "]\n",
        "\n",
        "before_paths = [\"/home/azureuser/cloudfiles/code/Users/hb.suh/OUR_BERT/CODE/사출성형/tokenizer_data/\"]\n",
        "\n",
        "json_paths = [\n",
        "    \"/home/azureuser/cloudfiles/code/Users/hb.suh/OUR_BERT/CODE/TestGPT_data/\"\n",
        "]\n",
        "\n",
        "\n",
        "main_content_texts = []\n",
        "for onepath in text_paths:\n",
        "    for file in os.listdir(onepath):\n",
        "        if file.endswith('.txt'):\n",
        "            with open(os.path.join(onepath, file), 'r', encoding='utf-8') as f:\n",
        "                lines = f.readlines()\n",
        "                main_content = \"\"\n",
        "                extract = False\n",
        "\n",
        "                for line in lines:\n",
        "                    # \"main_content:\" 또는 \"Main Content:\"로 시작\n",
        "                    if line.strip().lower().startswith(\"main_content:\") or line.strip().lower().startswith(\"main content:\"):\n",
        "                        if extract and main_content:\n",
        "                            # 이전에 추출된 main_content를 추가합니다.\n",
        "                            main_content_texts.append(main_content.strip())\n",
        "                            main_content = \"\"\n",
        "                        extract = True\n",
        "                        # \"main_content:\" 이후의 내용을 추출합니다.\n",
        "                        main_content = line.strip().split(\":\", 1)[1].strip()\n",
        "                    elif extract:\n",
        "                        if line.strip() == \"\":\n",
        "                            # 빈 줄이 나오면 추출을 중지하고 main_content를 추가합니다.\n",
        "                            main_content_texts.append(main_content.strip())\n",
        "                            extract = False\n",
        "                            main_content = \"\"\n",
        "                        else:\n",
        "                            # 이어지는 줄을 main_content에 추가합니다.\n",
        "                            main_content += \" \" + line.strip()\n",
        "\n",
        "                # 파일 끝에 도달했을 때 남아있는 main_content를 추가합니다.\n",
        "                if main_content:\n",
        "                    main_content_texts.append(main_content.strip())\n",
        "\n",
        "main_content_texts[2]"
      ],
      "outputs": [
        {
          "output_type": "execute_result",
          "execution_count": 2,
          "data": {
            "text/plain": "'ABSTRACT Printed electrolyte-gated transistors (EGTs) are an emerging biosensor platform that leverage the facile fabrication engendered by printed electronics with the low voltage operation enabled by ion gel dielectrics. The resulting label-free, nonoptical sensors have high gain and provide sensing operations that can be challenging for conventional chemical field effect transistor architectures. After providing an overview of EGT device fabrication and operation, we highlight opportunities for microfluidic enhancement of EGT sensor performance via multiplexing, sample preconcentration, and improved transport to the sensor surface. Published under license by AIP Publishing. https://doi.org/10.1063/1.5131365 1. INTRODUCTION Surface-based adsorption, where an analyte of interest is pulled down from a solution by a specific capture agent, such as an antibody, is a standard biosensing method. These surface adsorption-based assays typically rely on an optical readout, such as the fluorescence-based measurements used in DNA microarrays 1 or the changes in refractive index obtained by surface plasmon res- onance (SPR). 2 Electronic-based detection provides a potentially simpler readout of the binding event, obviating the need for the labeling steps in a fluorescence-based readout or the optical align- ment required for sensitive methods such as SPR. Transistor-based methods, including field effect transistors (FETs) and electrolyte gated transistors (EGTs), provide one possible route toward elec- tronic detection, where the binding event changes the threshold voltage required to turn the transistor ON. This perspectives article focuses on recent advances in bio- sensing using electrolyte gated transistors and opportunities for improving the technology via microfluidics. In an EGT, the gate dielectric typical of a conventional FET is replaced with a liquid or gel electrolyte. There are two basic modes of EGT operation: elec- trochemical and electric double layer. In the electrochemical mode, application of a gate voltage drives electrochemical oxidation or reduction of the semiconductor channel with accompanying pene- tration of ions into the semiconductor. In the electric double layer mode, ions do not penetrate the semiconductor. Instead, the gate voltage drives the formation of a sheet of carriers (electrons or holes) in the semiconductor and an oppositely charged sheet of ions in the electrolyte immediately adjacent to the semiconductor. Both modes enhance the conductivity of the semiconductor channel by increasing the free carrier density. In most of our bio- sensing work, we have exploited EGTs based on the benchmark polymer semiconductor poly(3-hexylthiophene), or P3HT, which is permeable to ions. Thus, the P3HT EGTs operate in the electro- chemical mode. Irrespective of the mode of operation, all EGTs have the property that they work at very low voltages because of the enormous capacitance of electrolytes; low voltage operation, in turn, makes the devices sensitive to label-free chemical binding to surfaces, as described below. The EGT is an emerging platform, and much of the research 3-32 to date has focused on proof-of-principle detection or funda- 17,28,33-41 mental studies of the device operation. However, the EGT platform and, in particular, the length scales accessible by printed electronics, make printed EGTs ideally suited for microfluidic integration. Microfluidics thus has the potential to dramatically improve EGT sensors via facile multiplexing, sample preconcen- tration, and improved transport to the surface. This perspectives article is not intended to provide a compre- hensive review of FET and EGT biosensors, and readers interested 42-45 in a more thorough recent overview are referred elsewhere. Rather, this perspective aims to provide sufficient background on the sensing technology for the microfluidics community to identify and take advantage of opportunities in EGT sensing, with a particular emphasis on the floating-gate EGT platform developed in our labs. II. CHEMICAL FIELD EFFECT TRANSISTORS The principle of detecting a chemical in solution via transduc- tion by a FET, known as a ChemFET, was introduced in the 1970s, and Janata. 49,50 with the earliest work pioneered by Bergveld 46-48 Figure 1 illustrates the basic principle behind different variants of a ChemFET. In the absence of any applied gate voltage, the FET is in the OFF state. As the gate voltage increases, the increasing electric field created within the semiconductor channel causes the transistor to turn ON at the threshold voltage, VT, producing a sharp increase in current between the source and the drain electrodes. The differ- ence in current between the ON and OFF states is typically orders of magnitude. In the saturation regime, the drain current is given by51 where the width and length of the semiconductor channel are W and L, respectively, m is the carrier mobility within the semiconduc- tor, and Ci is the specific capacitance of the gate dielectric. The latter quantity plays a key role in EGT-based sensing; we will return to the importance of Ci in Sec. III A. In a ChemFET, the solution containing the analyte is placed between the gate electrode [Fig. 1(b)] and the dielectric surface. Adsorption of the analyte to the dielectric produces a shift in the threshold voltage due to a change in the interfacial potential of the dielectric/solution surface. Measuring the difference in threshold voltage, △VT, between the ChemFET in the presence and absence of the analyte thus provides a way to quantify chemisorption onto the FET surface. The particular example in Fig. 1(b) corresponds to the binding of an antibody to the dielectric surface, but one can use other capture agents, such as aptamers, or change the binding site to the semiconductor itself. 54-59 In general, the ChemFET architecture in Fig. 1(b) poses signif- icant materials science challenges for biological detection because (i) the capture agent must be bound directly to the thin dielectric and (ii) the dielectric is in contact with the aqueous medium. In particular, it is generally the case that the molecular grafting chem- istry available for dielectric materials such as SiO2 is not as well- controlled or as convenient as the grafting chemistries applicable to noble metals such as silver, gold, or platinum. This limits the ability to attach capture molecules in an oriented fashion to the dielectric. Additionally, in order for the ChemFET to sense small threshold voltage shifts associated with chemical binding, the dielectric layer needs to be extremely thin (a few tens of nanome- ters), and this makes the whole device susceptible to leakage cur- rents associated with ion migration in and out of pinholes in the thin dielectric. These considerations significantly limit the applica- tion of ChemFETs with the Fig. 1(b) architecture in applications where the analyte solution is a biofluid, such as blood, or situations where the reagents needed to extract the analyte from a complex medium also serve as etchants for the dielectric. One approach to the material incompatibility problem is to use an ion-selective membrane between the FET and the aqueous medium [Fig. 1(c)], which is the basis of an ion-selective field effect transistor (ISFET). 47 After initial demonstration by Bergveld, 47,60 ISFETs have been used in a variety of applications, 52 61 such as recent applications for pH sensing in coastal waters, 62,63 blood glucose sensing, monitoring the metabolic activity of cell populations, 64-66 and the detection of disease biomarkers in blood67 and sweat. The Ion Torrent DNA sequencer is arguably 68 the most successful application of the ISFET principle for biological applications. This sequencer uses a tantalum oxide layer to provide proton sensitivity, along with a fluidic well above the oxide layer. The DNA templates are ligated to beads, and each well contains a single bead. This device uses a sequencing-by-synthesis protocol, where the ISFET detects the local change in pH due to the release of a proton when a base is added. The Ion Torrent sequencing approach leverages the ability to create a very dense array of identical sensors using CMOS manufacturing methods, with 13 x 106 sensors on a single chip for massively parallel, nonoptical DNA sequencing. A second approach to solve the material incompatibility problem is the extended gate 53 illustrated in Fig. 1(d). concept Here, the gate electrode is extended away from the semiconductor, which allows one to create a separate aqueous environment. The extended gate architecture is also called a floating gate3 to highlight that the potential of the gate electrode in contact with the transistor is no longer directly imposed by the gate voltage. Rather, the gate voltage is applied at another electrode within the aqueous medium and capacitively coupled to the floating gate, which is then con- nected to the FET. Traditional FETs with extended gates have been 53 utilized extensively for applications such as chemical sensing, pH 70-72 73,74 75-77 proteins, and sensing, and the detection of DNA, small molecules. 78,79 Both the ISFET and the extended gate ChemFET provide routes toward biosensing in challenging environments, but these methods also have their limitations. Clearly, while the ISFET archi- tecture protects the transistor from the medium through the ion selective membrane, not all biosensing applications can be accom- plished with an ISFET configuration. The most notable example is antibody/antigen binding, which underlies highly specific and highly sensitive immunogenic biosensing methods. The extended gate architecture is more flexible and can accommodate any capture agent that can be bound to the extended gate, which is often gold. Antibodies are often used as the capture agents in these 75,76 but aptamers 77,79 devices, have also been used for the detection of proteins and DNA with extended gate FETs. However, the extended gate FET is not optimal from a fabrica- tion perspective. Explicitly, the cost of CMOS fabrication is propor- tional to the area. This scaling is the reason, in part, why the Ion Torrent DNA sequencer 69 exemplary use of FETs for chemi- is an cal sensing; it is relatively easy to create a dense array of millions of identical sensors, and DNA sequencing benefits from such mas- sively parallel operation. However, if one is making a dedicated bio- 70-77,79 this advantage is lost. Rather, one sensor for a single target, needs to forgo substantial chip real estate to add the extended gate into an integrated device. Alternatively, one can connect a commer- 70-73,80,81 cially available FET part to an extended gate electrode, 74-77,79 design and fabricate a custom MOSFET for the sensor, or directly functionalize the leads of the FET device. 82 The resulting devices are inexpensive but can lead to incommensurate sizing of the floating gate with respect to the FET channel. Essentially, one wants the capacitance of the sensing surface at the end of the extended gate electrode [C2 in Eqs. (2) and (3) appearing below] to be comparable to the capacitance of the gate/insulator/semiconduc- tor stack in the FET. Such a situation ensures sensitivity to chemi- cal binding events on the extended gate electrode. However, commercial FETs are tiny, and so one generally has a mismatch between the size of the extended gate, its sensing area, and the size of the commercial FET. This is not an insurmountable problem, but it is a consideration when one is considering high throughput, low cost manufacturing of relatively large, individual sensors. III. PRINTED ELECTROLYTE-GATED TRANSISTORS We have been pursuing an alternate strategy, based on printed electrolyte-gated transistors (EGTs), that is well suited for microfluidic sensing using a floating (extended) gate architecture. As the name implies, this device merges two concepts: printed electronics and electrolyte gating. We briefly describe each of these concepts below. A. Electrolyte gating As its name implies, an EGT uses an electrolyte to gate the transistor, rather than a conventional dielectric. It is worthwhile to clearly define an EGT here, as there is some inconsistency in the lit- erature (including in our own publications). The ISFET and extended gate FET in Fig. 1 can be considered \"electrolyte-gated FETs;\" the field effect transistor is still gated by a conventional dielectric, but there is a salt solution that is in series with the dielectric between the gate electrode and the semiconductor. We define an EGT (Fig. 2) to correspond to systems that do not have the dielectric layer such that the electrolyte is in direct contact with the semiconductor. The tran- sistor is gated by either having ions from the electrolyte penetrate into the semiconductor or through the creation of an electric double- layer proximate to the semiconductor. Owing to the permeability of organic semiconductors, it is also possible to have mixtures of both 51 current mechanisms within a single transistor. Our EGT sensors rely on the first approach by replacing the dielectric layer with an ion gel. 8 3 An ion gel comprises an ionic liquid that is mechanically stabilized by a block polymer; our sensing experiments3-5333.34 use 1-Ethyl-3-methylimidazolium bis (trifluoromethylsulfonyl)imide (EMIM/TFSI) as the ionic liquid and poly(styrene)-b-poly(ethyl acrylate)-b-poly(styrene) as the stabil- 84 This system forms a gel because the poly(styrene) blocks of izer. the copolymer are less miscible with the ionic liquid than the poly (ethyl acrylate) blocks, creating a network of nodes of poly(styrene) that are bridged by the poly(ethyl acrylate) chains within a matrix of ionic liquid. When an electric field is applied to the ion gel, the ions penetrate the semiconductor [Fig. 2(c)] to create a dense collec- tion of holes. The 30 nm thickness of the semiconductor layer leads to very high specific capacitances of Ci 2 100 �F/cm2. 51 Our EGTs have a lot of similarity to so-called organic electro- chemical transistors (OECTs), which employ aqueous electrolytes instead of the ion gel and often use the conducting polymer PEDOT:PSS as the channel material. 43,85 The mode of operation of PEDOT -based OECTs is electrochemical like our P3HT EGTs, the difference being that the PEDOT OECT is normally ON when the gate voltage is off. A positive gate voltage turns the device OFF. OECTs have been used in a variety of chemical sensing schemes which have recently been reviewed. 43,44 In general, EGTs (and OECTs) have a high specific capaci- tance, owing to the charge separation illustrated in Figs. 2(b) and 2(c), and consequently operate at a lower voltage when com- pared to polarizing a conventional dielectric layer. In the context of Eq. (1) for the transistor drain current in the saturation regime, the resulting large value of Ci implies that small changes in the thresh- old voltage VT created in a sensing environment are amplified into large changes in the drain current. This amplification is the origin of the high quasistatic gain achievable with EGTs. One of the limitations of ion gels in EGTs is that the switching time (105-106 Hz) in the best cases 86 considerably slower than is conventional FETs. Slow switching is a limitation in computing applications. For example, typical modern central processing units (CPUs) have switching speeds in the GHz range, far faster than it is possible to polarize and depolarize an ion gel. Fortunately, such switching speeds are overkill for a biosensor. Rather, the rate-limiting step for biosensing is the mass transport to the sensor surface, which typically occurs on time scales of minutes. As a result, sweeping the gate voltage at circa 50 mV/s, which leads to good sensing perfor- mance, corresponds to sampling rates of circa 20 s. Such rates are sufficient to establish equilibrium binding to the surface. B. Printed electronics Additive manufacturing methods such as printing are particu- larly attractive for low cost production of high-volume, single-use sensors, especially because they can be implemented in continuous roll-to-roll formats common to the newsprint, publishing, and packaging industries. 87-90 Widespread, commercially successful examples of printed sensors include glucose test strips and the 91,92 Indeed, the increased availability of elec- home pregnancy test. tronic inks based on conducting, semiconducting, and insulating materials makes printing of complete EGT-based sensors achiev- able. There are already examples in the literature of sheet-based aerosol-jet and ink jet printed FET- and EGT-based circuits that have more complexity than the sensor designs discussed 51,93-95 here. However, a challenge is to translate these early results to roll-to-roll processes and such research is ongoing. Currently, our printed EGT devices use a combination of con- ventional lithography and printed electronics illustrated in Fig. 3. In the first step, we lithographically pattern gold-on-chrome elec- trodes onto a silicon wafer in the desired locations. We then print the semiconductor, which in our case is the organic semiconductor poly(3-hexylthiophene), or P3HT. P3HT is dissolved in chloroform with terpineol added as a cosolvent. P3HT is then printed over the source and drain electrode using an aerosol-jet printer. The ion gel is printed subsequently over the channel and the gate electrode, thereby completing the EGT circuit. Following this, polstyrene is printed over the ion gel as an encapsulation layer. This prevents oxygen from diffusing through the ion gel and doping the semicon- ductor on the time scale of our experiments. In contrast to CMOS electronics, the length scales accessible by printed electronics are ideally suited for integration with micro- fluidics. The component size for printed electronics is set by the size of the spots of ink that can be deposited during printing; for aerosol-jet printing, this sets the feature sizes to be circa 10 um. Soft lithography in PDMS using SU-8 molds readily produces flu- It is relatively easy to increase the idics with these length scales. 96 feature size in printed electronics, which opens the possibility for 97-100 creating molds from simpler methods (e.g., 3D printing rather than lithographically producing SU-8 molds. We have produced our devices on a silicon substrate, which easily bonds to the PDMS microfluidics. It is also possible to print devices on a wide range of substrates, including glass and flexible 101-106 substrates. While glass is easily used with PDMS microflui- dics, the polymeric substrates can pose integration challenges with the PDMS. A possible solution to the integration problem is to print both the electronics and the microfluidics, as done for a 107 recently reported sensor. IV. OPERATION AND APPLICATIONS OF EGTS FOR BIOSENSING A. Mechanism of detection in a floating gate EGT Figure 4(a) provides a schematic representation of an EGT biosensor using a floating gate architecture. The left side of the device is the EGT analogous to Fig. 2(a). The left arm (FG1) of the floating gate electrode communicates with the aqueous environ- ment electronically by a via to the right arm (FG2) of the floating gate. The right arm of the floating gate is functionalized with the capture agent and communicates through the aqueous electrolyte to the control gate. This architecture is quite flexible with respect to the right arm of the floating gate, and we have demonstrated protein binding to sensing functionality for DNA hybridization, 3 DNA aptamers, 4,5 binding to antibodies, 5 and self- protein assembled monolayers (SAMs)33,34 on the floating gate. In an experiment using the setup in Fig. 4(a), we sweep the control gate voltage, VG, and measure the drain current, ID, between the source and drain electrodes, producing a transfer curve such as the one in Fig. 4(b).3 4% As the gate voltage becomes more negative, the transistor turns ON and the drain current increases, which is the expected behavior for a p-type semiconductor such as P3HT. From Eq. (1) for a transistor in the saturation regime, the threshold voltage VT is obtained from a plot of I1/2 VS VG by extrapolating the linear fit to zero current. We have conducted a series of systematic experiments 33,34 to determine how the voltage VG imposed on the control gate is related to the voltage VF at the floating gate, since VF is responsible for polarizing the ion gel and thus turning ON the EGT. The first Printing of an EGT. The P3HT and ion gel are aerosol- sequentially onto a silicon aerosol-jet printing, illus- schematically in the upper panel, carrier flow containing the rele- (P3HT or ion gel) and a that focuses the carrier jet surface. The electrodes and pads are created prior to print- using the conventional set of experiments33 varied the size of the electrodes to investigate the role of the relative capacitances of each interface. These experi- ments revealed that the device operation is captured by the equiva- lent circuit model in Fig. 4(c). Applying voltage to the control gate sets up double layers at all of the interfaces within the device except the semiconductor/ion gel interface, where electrochemical doping occurs [e.g., Fig. 2(b)]. The double layers and electrochemical doping can be modeled by their capacitance. These interfaces can then be lumped into two overall capacitances, with C1 representing the capacitance of interfaces on the ion gel side of the device in Fig. 4(a) and C2 representing capacitances within the aqueous phase. A model with only these two capacitors predicts that Unfortunately, this model fails to capture the experimental data as 33 the ratio of the floating gate area to the P3HT area changes. Rather, we need to include an additional parasitic capacitance that accounts for a charge, Q* that can be stored elsewhere within the device. The exact nature of this parasitic capacitance remains a subject of investigation, but we have speculated33 that a fraction f of the charge that would otherwise be stored on the floating gate is lost to the parasitic capacitor. As a result, that charge is no longer available to bias the transistor, shifting the ID - VG response. The analysis of the complete circuit model in Fig. 4(c) furnishes33 where f is the fraction of the charge on C2 that is stored in the par- with asitic capacitor. Equation (3) fits the experimental data 33 f = 0.77, and a more detailed discussion of this effect appears in Ref. 33. Equation (3) reveals that the sensor is capable of detecting the accumulation of the material near the floating gate surface FG2 since this material would affect C2 and thus the relationship between the applied control gate voltage and the floating gate voltage that is turning the transistor ON. This effect is easily veri- fied by creating self-assembled monolayers (SAMs) of alkane thiols of varying lengths at the gold FG2 surface 33 since the capacitance 108 of the SAM is an inverse to the thickness of the layer. In the context of biosensing, such changes could occur due to the capture of large neutral molecules. 17 Palazzo et al., using an EGT with the gate electrode above the electrolyte [i.e., the EGT equivalent to the ChemFET configura- tion in Fig. 1(b)], proposed that there exists an additional capaci- tance within the device that was not considered directly in our previous work. 33 Explicitly, the lumped capacitance C2 in our model arises from the pair of capacitors due to the double layers formed at the control gate and the floating gate. Palazzo et al. 17 proposed that, for biosensing, there exists a capacitor between the two in our model that accounts for the formation of a Donnan equilibrium created by the immobilized charges at the capture site. From an operational standpoint, the additional capacitance created by the Donnan layer does not affect Eq. (3) because it would appear within the lumped capacitance C2. However, the presence of a Donnan layer permits capacitive sensing outside the Debye layer, thereby overcoming a key limitation of field effect transistor detection. It is also worthwhile to understand how the sensor responds to the accumulation of charge, for example, during DNA hybridization or the capture of charged macromolecules. To decouple charge accumulation from changes in capacitance, 21 May 2024 23:47:53 subsequent experiments34 took advantage of a SAM of 11-mercaptoundecanoic acid (MUA) adsorbed onto the right arm of the floating gate. MUA is deprotonated by increasing pH, which leads to the accumulation of a charge close to the surface, without a change in capacitance. 109 These experiments revealed that the model in Eq. (3) in the presence of charge 34 accumulation becomes where DF accounts for potential changes on the right arm of the floating gate. While we have focused here on how D⌀ arises due to charge accumulation at the sensor surface by deprotonation of a SAM, 34 such potential changes could arise from the adsorption of a charged molecule such as DNA or from adsorption-induced surface dipoles. 33,34 Equation (4) illustrates the advantage of working at low voltages, since we want the device to be sensitive to the D⌀ term, which is typi- cally a few hundred mV for SAMs and DNA. Equation (4) represents our current working model for EGT detection, where the potential VF on the floating gate plays the role 있어요. of the gate voltage in Eq. (1). Following (1), changes in capaci- tance lead to a change in the slope of VS VG, while changes in surface potential lead to a horizontal shift in the curve. We can thus discern the sensing mechanism directly from the inspection of the transfer curves obtained with and without a given analyte. B. Device layout for biosensing The device layout used in Fig. 4 is ideal for understanding the basis for EGT biosensing but is less useful for applications. First, the use of a quiescent fluid above the sensing pad leads to slow dif- fusional transport to the sensor surface. Second, comparing the threshold voltages for two different scenarios is suboptimal in terms of the signal gain. Figure 5 provides a more robust biosensor layout for EGT detection. 4 To improve detection time, the system uses flow over the sensing area of the floating gate. Since the floating gate needs to be capacitively coupled to the control gate, there is an additional flow from the control gate toward the floating gate, which keeps the control gate pristine. To improve detection sensitivity, the sensor is configured as an inverter by adding a resistor between the drain and the supply voltage. The output voltage, Vout, is obtained between the drain and the load resistor. Figure 5(b) shows the advantage of operating the device as an inverter. As the input voltage to the control gate is swept to negative voltages, there is a rapid rise in the output signal over a very small change in Vin, i.e., a high gain. Subtracting two inverter curves gives a distinct peak in the output voltage, which we interpret as the signal for sensing applications. Measuring ID - VG curves or Vout from an inverter 111 but the inverter configuration provides equivalent information, is preferable due to the gain. We also find converting the inverter output to signal peaks, as in Fig. 5(b), to be an intuitive way to visualize the data when compared to analyzing differences between ID - VG curves. C. Biosensing applications Our first work using the EGT platform3 focused on the detec- tion of DNA hybridization using the quiescent fluid device in Fig. 4(a). These experiments demonstrated the proof-of-principle for the platform; the hybridization equilibrium was well described by a Langmuir isotherm, with sensitivity to mismatches in the target strand. However, the sensitivity of the device was relatively low, especially when compared with fluorescence detection. Our subsequent biosensing work4,5 thus took advantage of the flow-based inverter configuration in Fig. 5(a) for faster, more sensi- tive analysis. The first experiments demonstrated the ability to 110 detect ricin subunit B using a DNA aptamer as the capture agent. Figure 6 shows that the EGT platform can successfully detect ricin at low concentrations, even from relatively complex food matrices such as milk and orange juice, without any sample cleanup or preconcentration. The approach to measure the inverter signal for these experiments is illustrated in Fig. 5(b), using the peak of Vout as the signal. There is a slight reduction in the sensitiv- ity of the device in complex media, which is consistent with previ- ous experiments using this DNA aptamer110 and thus attributable to the binding agent rather than the sensor architecture. We have also demonstrated the detection of gluten in the EGT platform. 5 This is a considerably more challenging sensing problem, due to the strongly reducing chemicals needed to extract gluten from food 112 and the ill-defined chemical nature of gluten, which varies by source. In addition to detection using a DNA 113 also used a commercially available antibody for aptamer, we wheat gluten 114 antibody for barley gluten. 5 and raised a custom These different capture agents were challenged with different con- centrations of gluten extracted from barley, wheat, and corn, where the latter serves as the control experiment. In addition to achieving detection down to the \"gluten-free\" limit of 1 ug/ml of gluten and negligible signal for the corn control, the three different sensors each yielded different responses depending on whether they were challenged with wheat or barley. This result opens up the potential for using an array of EGTs and capture agents to obtain chemical fingerprints for complicated analytes. 5 Overall, we have demonstrated that EGTs can achieve com- petitive sensitivities in a label-free, nonoptical format from complex matrices without the need for any sample cleanup or preconcentration. 4,5 The selectivity of the sensor arises from the dissociation constant, KD, for the capture agent, and we have gen- erally been able to achieve a limit-of-detection of approximately 0.1KD, where KD has units of concentration. Since the sensing pad is a gold electrode, there are no impediments to using either DNA aptamers 4,5 or antibodies as the capture agent. Moreover, it is rel- atively easy to passivate the surface with poly(ethylene glycol) to prevent nonspecific adsorption. 4 There exist approaches to bind capture agents to and passivate other surfaces, but gold is particu- larly convenient to use because the chemistry for these reactions is very mature. EGTs without an extended gate have also demonstrated com- petitive sensivities. Recent studies from the Torsi group have evi- denced EGTs that can achieve a limit of detection down to a single protein via functionalization of the gate electrodes with chem-SAMs and bio-SAMs, using bovine serum albumin (BSA) to passivate the surface. 28,31 of the Debye Due to the limitations length, de-ionized water was used as the gating electrolyte. The model proposed for the sensing mechanism of the single-molecule transistor (SiMoTs) assumes domains of SAMs that electrostatically cooperate through hydrogen bonding. Once the protein is bound to the bio-SAM, there is a change in the work function of the gate electrode that is propagated through the domain, which, in turn, changes the threshold voltage of the SiMoT, as shown in Fig. 7. Other gate-functionalized EGTs have also exploited SAM chemistry 13 to selectively react with biomolecules, such as dopamine, while others have used different methods to immobilize antibodies 37,38 aptamers, 24 cells, 2 7 and proteins. 20 Similar to ChemFETs, the semiconductor of EGTs can be functionalized with capture agents at the semiconductor surface, and the chemistry can be tailored to expose a variety of biorecep- 21,32 eliciting a change in capacitance upon tors. In addition to binding, the semiconductor channel can also become doped. The response is thus a change in the drain current, or shift in the threshold voltage, depending on the type of doping. Hao et al. demonstrated this through functionalization of graphene with aptamers that specifically bind to insulin, causing deformation of the aptamer, as shown in Fig. 8.21 The pH of the electrolyte (7.4) was above the isoelectric point of insulin (5.8), so the insulin was weakly and negatively charged, causing the change in current and the Dirac voltage to be attributed to charge transfer from either the insulin or the deformed aptamer. In the case of organic electro- chemical transistors, electrochemical doping of the ion permeable channel is responsible for the functionality of the sensor. Organic electrochemical transistors also elicit a change in the effective gating, or electrochemical doping, upon binding events at the func- 11 tionalized channel surface and have been used to sense bacteria, 23 25 metabolites, and viruses. FIG. 7. SiMoT sensing measurements. (a) Transfer curves with varied IgG concentrations of 6 zeptoMolar (zM, black curve), (6 土 3) x 10 zM (blue curve), (6 土 1) x 102 zM (dark curve), (6.7 土 0.1) x 103 zM (magenta curve), and (6.67 土 0.01) x 106 zM (light green curve) in PBS standard solutions. (b) Negative shifts in the work function with corresponding threshold voltage shifts at each functionalization step. EF is the gate electrochemical potential and VL is the vacuum level. Reproduced with permission from Macchia et al., Nat. Commun. 9, 3223 (2018). Copyright 2018, Author(s), licensed under Attribution 4.0 International (CC BY 4.0). The compatibility between the electrolyte and the semicon- ductor limits the versatility of this approach but can be overcome by the usage of an ion selective membrane 16 or by passivating the 14,17 surface with the bioreceptor. Functionalization of a phospho- lipid bilayer containing the capturing agents to the organic semi- conductor surface causes capacitance changes at the semiconductor/electrolyte interface. The use of the phospholipid layer prevents ion diffusion from the electrolyte into the semicon- ductor, confirmed by low hysteresis in ID-VG curves along with low (nA) gate leakage currents. The sensing mechanism for the reported capture of negatively charged proteins, such as streptavi- din and C-reactive protein, is the increase in drain current and shift in threshold voltage compared to EGTs with no exposure to the protein. 28 both specific detection of This approach allows for biomolecules and detection beyond the Debye length in high ionic strength solutions (lD = 0.7 nm) through the formation of Donnan equilibrium at the protein capture site. V. OPPORTUNITIES FOR MICROFLUIDICS IN EGT BIOSENSORS Having provided an overview of EGT biosensing, we now explore a trio of possible approaches to improve EGT detection in the future via microfluidics. We consider both straightforward modifications, as well as some more speculative ideas related to control of the environment near the sensor surface. A. Sensor multiplexing Multiplexing of the sensors represents the most straightfor- ward approach to improve sensor performance. There has been only minimal work toward multiplexing of EGT sensors, despite the relative simplicity of the process. For example, we have con- nected two sensors in the same inverter circuit* to provide direct subtraction of the reference and test sensor during a measurement. We also fabricated multiple instances of the flow-based device in Fig. 5 on a single wafer for our multipixel approach to gluten detec- tion. 5 While useful steps forward, neither of these approaches takes advantage of the inherent advantages of microfluidics to create rela- tively complicated fluidic flow paths, especially in compact formats, that would enable improved device performance. For a given target, it is desirable to make four measurements per sample, using all combinations of blank solution VS sample sol- ution and functionalized sensor VS blank sensor. Such an experi- ment could be implemented using a multiplexed design. This quartet of experiments provides a complete set of control experi- ments. As indicated by the error bars in Fig. 6, there is also some variability in the signal obtained from a single EGT sensor. While the latter variability is sure to decrease as the EGT biosensor plat- forms mature, in particular, if they ultimately move to a commer- cial fabrication facility, it likely will remain desirable to add an additional layer of multiplexing to capture sensor-to-sensor vari- ability as well. Even a 5-fold test would only involve 20 separate sensors on the chip, well below the massive levels of integration that have been achieved in microfluidic devices for almost 20 years 115 now. Internal calibration can be achieved by subtracting the output of two EGTs to measure relative amounts. A key challenge in creating multiplexed devices is separately functionalizing different sensors on the device and alignment of the fluidics with the printed sensors. The former problem is readily solved by reversibly bonding a fluidic layer for flowing solution over the desired sample pads and then replacing that layer by the fluidic system for sample handling prior to use. Alternatively, if the pads are large enough, simply creating wells above each pad for functionalization is possible. The alignment of the microfluidics does not represent a significant challenge due to relatively large sizes of the control gate and floating gate required to optimize the device operation. We thus view multiplexing as the most natural microfluidic route for immediate improvements in EGT biosensors. B. Sample preconcentration Our experiments 4,5 revealed that our EGT sensor typically operates with a limit of detection of 0.1KD for the capture agent. The limit of detection in the EGT is affected by the device-to-device variability in the signal, as indicated by the error bars in Fig. 6 and the noise in the control experiment. Both of these device-related issues can be ameliorated somewhat by improvements in both the fabrication process and the device design. But, it is also desirable to consider approaches to improve the limit of detection via microfluidics. The standard approach to lower the limit of detection is sample preconcentration prior to analysis, such that the sample sent to the sensor is at a higher concentration than the original material. Sample preconcentration effectively acts as a multiplica- tive factor for the limit of detection. One particularly attractive method for sample preconcentra- tion within a microfluidic device for charged molecules is isotacho- 116 thorough phoresis (ITP). Eid and Santiago have provided a recent review of ITP, with a particular focus on how ITP can improve heterogeneous biomolecular reactions such as those arising from capture agents bound to the surface of a sensor. Briefly, ITP involves two electrolytes, a leading electrolyte with a high electrophoretic mobility and a trailing electrolyte with a low electrophoretic mobility. If the analyte of interest has an electro- phoretic mobility that lies between the trailing and leading electro- lytes, it will become concentrated at the interface between them. The thickness of the interface between the different electrolytes is set by molecular diffusion and is thus quite sharp. A particularly attractive feature of ITP is that it is a self-focusing method, since analytes in the leading electrolyte will fall behind (and vice versa for the trailing electrolyte), so there is no need to provide a sharp injection plug of the sample. Indeed, one of the limitations in ITP is that the sample plug may pass over the sensor so quickly that the time for reaction at the surface becomes a limiting factor. This 117 effect can be attenuated by using a stop-and-diffuse approach, where the electric field is turned off when the sample plug reaches the sensor, thereby allowing additional time for reactions from the concentrated sample. Although million-fold increases in sample concentration are theoretically possible, typical enhancements in biological fluids are around 10 000-fold. 116 Compared to a fluorescence-based assay, there are some minor challenges to implementing ITP in an EGT. It is unlikely one can simultaneously apply an electric field to drive the ITP while also modulating the gate voltage, as the ITP electric field would affect the potential at the gate electrode. Figure 9 illustrates a possible approach based on a pulsed ITP method. At the start of the process, ITP is used to focus the sample. Since we are using a label-free method, this band cannot be imaged in the manner used for fluorescence-based detection. If the sample has not reached the detector, then there should be no signal. The ITP can be turned on and off repeatedly while driving the analyte toward the sensor surface. We expect to see a sudden spike in the △V signal when the ITP band reaches the sensor surface. At this point, the pulsed ITP operation can be stopped and we can use a conventional EGT mea- surement by sweeping the gate voltage. Note that, since ITP is a focusing method, there is no loss in sensitivity by periodically releasing that electric potential and allowing the ions to diffuse; once the potential is reapplied, the bands will automatically sharpen again. As an effect, the proposed operating method is akin until the to running many \"stop-and-diffuse\" ITP protocols 117 analyte band reaches the sensor surface. The key challenge is bal- ancing the rate of switching between ITP and EGT sensing and the magnitude of the electric potential driving the electrophoresis of the analyte band to the sensor surface. The second challenge is identifying an appropriate leading and trailing electrolyte for new analytes of interest, although ITP recipes have been developed for a large number of useful biological moieties, in particular, for nucleic acids in complex media. 118 C. Improved transport to the sensor surface In addition to increasing the equilibrium binding to the surface, preconcentration also increases the kinetics of the reaction through an increase in the concentration gradient. Both of these factors are important for sensor performance; the equilibrium sce- nario sets the limit of detection, but also the kinetics of the binding reaction govern the speed of detection. Thus, it is also worthwhile to consider other microfluidic approaches to enhance detection speed in addition to detection sensitivity. To a large extent, EGT sensors have worked with static reser- voirs, such as the one in Fig. 4(a), or droplets. 3,6-14,16-19,21-32,34-41 provide a basic understanding of how flow can Squires et al. 119 enhance sensor operation by confining the diffusion-dominated region to a boundary layer near the sensor surface, building on classical chemical engineering analysis. There are considerable opportunities for improving the mass flux to the EGT sensor surface by using the results of scaling theory or insights gained by numerical solutions to the convection-diffusion-reaction equa- 119 Naturally, any design optimization for the fluid flow will tions. be constrained by the size scales imposed by the printed electronics and the operating mechanism for the EGT. In particular, the size of the floating gate for the EGT must be large compared to the semi- conductor channel, which may pose challenges if that sensing pad needs to be confined within a thin microfluidic channel. Another approach to enhance the reactions at the surface is to promote mixing within the microchannel near the sensor surface. 119 herringbone mixer model in Fig. 10, One option is the which creates a chaotic flow pattern in the microchannel, 120 but a myriad of other passive micromixers that have been developed (see Ref. 121 for a recent review). In this context, it is important to keep in mind the goal of the mixer. Much of the literature on microflui- dic mixing focuses on the important problem of the homogeniza- tion of two inlet streams at different concentrations. This is not the challenge in sensing, since the initial inlet stream is already homo- geneous. Rather, the goal is to break up the depletion layer near the sensor surface 119 through convective transport from the bulk. In this respect, a herringbone mixer patterned onto the ceiling of the microchannel could be particularly effective at enhancing the sensor speed. Lamination-based mixing strategies based on spilt-and-recombining of streams, while effective for creating a homogeneous fluid, are not optimal for use in conjunction with the EGT sensor. Overall, we view enhancing transport to the sensor surface via fluid flow as the most promising avenue for improving EGT sensor performance via microfluidics. This opinion is based on the combi- nation of (i) the absence of much engineering in this direction to date and (ii) the extensive literature in microfluidics in this area for other applications. Of particular interest is the work done to opti- 122 mize depletion boundary layers in electrochemical reactors, which involve both the use of herringbone mixers and multiple inlets/outlets for replenishing depletion layers. VI. CONCLUDING REMARKS EGTs are an emerging platform for biosensing. This electronic-based method provides label-free, nonoptical detection of biomolecules from complex media 4,5 sample without any cleanup or preconcentration. The key advantage of EGTs with respect to their FET counterparts is their easy manufacturing by printing, which is both advantageous for the prototyping work needed to develop the technology and, in the longer term, for com- mercial production. Indeed, if the promise of printing electronics using the same roll-to-roll techniques used, for example, in newspa- per print are realized, this would lead to a dramatic reduction in cost and increase in throughput. Converting existing EGT sensors on silicon or glass onto flexible substrates could combine the porta- bility of paper microfluidic devices 123 with even more sophisticated 124 electronics than existing electrochemical paper sensors, poten- tially enabling a wealth of new applications. As an emerging sensing area, much of the work to date has focused on the electronics side of the EGT and proof-of-principle experimentation. The time is ripe to deploy the microfluidics toolbox to convert these prototype sensors into automated, high precision systems. We have identified here the low-hanging fruit that would come from multiplexing, sample preconcentration, and controlling transport to the surface. This is by no means an exhaus- tive list of possible ways in which microfluidics can improve EGT biosensors, and there is a wealth of knowledge in microfluidic sensors in other contexts that can be translated to the EGT plat- form. In general, printed electronics is a promising route for inte- gration with microfluidics, since the electronic platforms tend to use planar layouts with length scales in the hundred micrometer range that are ideally suited for microfluidic integration. We would be remiss if we concluded our discourse without a few comments on EGT detection in general, beyond those that are likely to be remedied by the microfluidic solutions discussed here. There are some improvements on the device side that are relatively straightforward. For example, our EGT biosensors could employ higher mobility semiconductors that can produce even higher 125 Similarly, the parasitic capacitance problem 33 needs to be gain. thoroughly understood and then remedied. This detective work will require careful, systematic experimentation, but it is likely a solv- able problem using existing techniques. We also see two major out- standing challenges in EGT detection in general that do not have straightforward, generic solutions. The first major challenge is EGT-based detection of small, neutral analytes. Owing to their small size relative to an antibody and the sparseness of the capture agents on the surface, such mole- cules are unlikely to create measurable changes in the capacitance C2 in Eq. (4). One possible solution is the use of shape-changing DNA aptamers, following recent work with these molecules in con- ventional ChemFETs. 2 9 this approach, binding of the neutral In molecules induces a change in the amount of DNA proximate to the surface and thus affects the term △⌀ in Eq. (4), not only the capacitance C2. Shape-changing aptamers certainly can address the problem, but their use is limited because it is not obvious that such aptamers can be identified for all relevant targets. A generic solu- tion to the small neutral molecule problem would have broad appli- cability, as there are a range of medically relevant targets (e.g., cortisol126,127) that fall within this class of analytes. The second major challenge is the detection of small charged molecules. It is clear that charges located proximate to the surface will affect △⌀, as evidenced by our work with SAMs of MUA. 34 However, an oft-cited problem with transistor-based detection is that charge detection is not operable outside the Debye layer, which is circa 1 nm in typical biological solutions. A number of possible solutions to this problem have appeared in the FET bio- sensor literature, including using antibody fragments 128,129 or self- hybridizing DNA aptamers 130 reduce the capture agent size, employing high136 frequency gate voltages 131 quickly pulsing the or gate voltage to avoid the formation of the static Debye layer on the measurement time, or the use of a porous poly(ethylene glycol) (PEG) layer at the sensor surface. 81,137-139 The latter approach is especially attractive since PEG can also prevent nonspe- cific adsorption to the sensor surface. Initial reports for this strategy proposed that the PEG layer creates a region of lower dielectric constant and thus extends the Debye length. However, a recent analysis of the experimental data 140 suggests that the key effect is the formation of a Donnan equilibrium for the antibody/antigen within the PEG layer, which leads to a different decay length and provides an interesting analogy with the capacitive sensing mecha- nism for EGTs proposed by Palazzo et al. 17 While we have identified material-based and electronic-based solutions that might be translated from FETs to EGTs for both of these key challenges, it is worthwhile to contemplate whether microfluidics offers novel solutions that are orthogonal to approaches based on the electronics design or capture agent chem- istry. Such flow-based solutions would not only improve EGT detection but could be translated broadly to all transistor-based detection schemes. ACKNOWLEDGMENTS This work was supported by the Michael H. Baker Family Foundation. Demetra Z. Adrahtas was supported by a Biotechnology Training (Grant No. NIH T32GM008347). References: 1M. Schena, D. Shalon, R. W. Davis, and P. 0. Brown, Science 270, 467 (1995). 2J. N. Anker, W. P. Hall, 0. Lyandres, N. C. Shah, J. Zhao, and R. P. van Duyne, Nat. Mater. 7, 442 (2008). 3S. P. White, K. D. Dorfman, and C. D. Frisbie, Anal. Chem. 87, 1861 (2015). 4S. P. White, S. Sreevatsan, C. D. Frisbie, and K. D. Dorfman, ACS Sens. 1, 1213 (2016). 5S. P. White, C. D. Frisbie, and K. D. Dorfman, ACS Sens. 3, 395 (2018). 6Z. Zhu, J. T. Mabeck, C. Zhu, N. C. Cady, C. A. Batt, and G. G. Malliaras, Chem. Commun. 2004, 1556. 7D. A. Bernards, D. J. Macaya, M. Nikolou, J. A. DeFranco, S. Takamatsu, and G. G. Malliaras, J. Mater. Chem. 18, 116 (2008). 8N. Y. Shim, D. A. Bernards, D. J. Macaya, J. A. DeFranco, M. Nikolou, R. M. Owens, and G. G. Malliaras, Sensors 9, 9896 (2009). 9Y. Ohno, K. Maehashi, Y. Yamashiro, and K. Matsumoto, Nano Lett. 9, 3318 (2009). 10F. Buth, A. Donner, M. Sachsenhauser, M. Stutzmann, and J. A. Garrido, Adv. Mater. 24, 4511 (2012). 11R. X. He, M. Zhang, F. Tan, P. H. M. Leung, X. Zhao, H. L. W. Chan, M. Yang, and F. Yan, J. Mater. Chem. 22, 22072 (2012). 12C. Suspene, B. Piro, S. Reisberg, M. Pham, H. Toss, M. Berggren, A. Yassar, and G. Horowitz, J. Mater. Chem. B 1, 2090 (2013). 13S. Casalini, F. Leonardi, T. Cramer, and F. Biscarini, Org. Electron. 14, 156 (2013). 14M. Magliulo, A. Mallardi, M. Y. Mulla, S. Cotrone, B. R. Pistillo, P. Favia, I. Vikholm-Lundin, G. Palazzo, and L. Torsi, Adv. Mater. 25, 2090 (2013). 15K. Schmoltner, J. Kofler, A. Klug, and E. J. W. List-Kratochvil, Adv. Mater. 25, 6895 (2013). 16E. Bandiello, M. Sessolo, and H. J. Bolink, J. Mater. Chem. C 2, 10277 (2014). 17G. Palazzo, D. de Tullio, M. Magliulo, A. Mallardi, F. Intranuovo, M. Y. Mulla, P. Favia, I. Vikholm-Lundin, and L. Torsi, Adv. Mater. 27, 911 (2015). 18E. Bihar, Y. Deng, T. Miyake, M. Saadaoui, G. G. Malliaras, and M. Rolandi, Sci. Rep. 6, 27582 (2016). 19M. Magliulo, D. De Tullio, I. Vikholm-Lundin, W. M. Albers, T. Munter, K. Manoli, G. Palazzo, and L. Torsi, Anal. Bioanal. Chem. 408, 3943 (2016). 20A. M. Pappa, V. F. Curto, M. Braendlein, X. Strakosas, M. J. Donahue, M. Fiocchi, G. G. Malliaras, and R. M. Owens, Adv. Healthc. Mater. 5, 2295 21Z. Hao, Y. Zhu, X. Wang, P. G. Rotti, C. DiMarco, S. R. Tyler, X. Zhao, J. F. Engelhardt, J. Hone, and Q. Lin, ACS Appl. Mater. Interfaces 9, 27504 (2017). 22T. Minamiki, Y. Hashima, Y. Sasaki, and T. Minami, Chem. Commun. 54, 6907 (2018). 23A. M. Pappa, D. Ohayon, A. Giovannitti, I. P. Maria, A. Savva, I. Uguz, J. Rivnay, I. McCulloch, R. M. Owens, and S. Inal, Sci. Adv. 4, eaat0911 (2018). 24N. Saraf, R. E. Woods, M. Peppler, and S. Seal, Biosens. Bioelectron. 117, 40 (2018). 25W. Hai, T. Goda, H. Takeuchi, S. Yamaoka, Y. Horiguchi, A. Matsumoto, and Y. Miyahara, Sens. Actuators B 260, 635 (2018). 26p. Seshadri, K. Manoli, N. Schneiderhan-Marra, U. Anthes, P. Wierzchowiec, K. Bonrad, C. Di Franco, and L. Torsi, Biosens. Bioelectron. 104, 113 (2018). 27L. Chen, Y. Fu, N. Wang, A. Yang, Y. Li, J. Wu, H. Ju, and F. Yan, ACS Appl. Mater. Interfaces 10, 18470 (2018). 28E. Macchia, K. Manoli, B. Holzer, C. Di Franco, M. Ghittorelli, F. Torricelli, D. Alberga, G. F. Mangiatordi, G. Palazzo, G. Scamarcio, and L. Torsi, Nat. Commun. 9, 3223 (2018). 29N. Nakatsuka, K. A. Yang, J. M. Abendroth, K. M. Cheung, X. Xu, H. Yang, C. Zhao, B. Zhu, Y. S. Rim, Y. Yang, P. S. Weiss, M. N. Stojanovic, and A. M. Andrews, Science 362, 319 (2018). 30R. Campos, J. Borme, J. R. Guerreiro, G. Machado, M. F. Cerqueira, D. Y. Pertovykj, and P. Alpuim, ACS Sens. 4, 286 (2019). 31E. Macchia, K. Manoli, B. Holzer, C. Di Franco, R. A. Picca, N. Cioffi, G. Scamarcio, G. Palazzo, and L. Torsi, Anal. Bioanal. Chem. 411, 4899 (2019). 32J. Liu, X. Chen, Q. Wan, M. Xiao, D. Zhong, W. Sun, G. Zhang, and Z. Zhang, Nano Lett. 19, 1437 (2019). 33S. P. White, K. D. Dorfman, and C. D. Frisbie, J. Phys. Chem. C 120, 108 34M. S. Thomas, S. P. White, K. D. Dorfman, and C. D. Frisbie, J. Phys. Chem. Lett. 9, 1335 (2018). 35p. Lin, F. Yan, and H. L. W. Chan, ACS Appl. Mater. Interfaces 2, 1637 (2010). 36H. Toss, B. Suspene, C. Piro, A. Yassar, X. Crispin, L. Kergoat, M. Pham, and M. Berggren, Org. Electron. 15, 2420 (2014). 37 A. Casalini, A. C. Dumitru, F. Leonardi, C. A. Bortolotti, E. T. Herruzo, A. Campana, R. F. de Oliveira, T. Cramer, R. Garcia, and F. Biscarni, ACS Nano 9, 5051 (2015). 38M. Berto, S. Casalini, M. Di Lauro, S. L. Marasso, M. Cocuzza, D. Perrone, M. Pinti, A. Cossarizza, C. F. Pirri, D. T. Simon, M. Berggren, F. Zerbetto, C. A. Bortolotti, and F. Biscarini, Anal. Chem. 88, 12330 (2016). 39 Q. Zhang, F. Leonardi, S. Casalini, I. Temino, and M. Mas-Torrent, Sci. Rep. 6, 39623 (2016). 40S. Okuda, T. Ono, Y. Kanai, T. Ikuta, M. Shimatani, S. Ogawa, K. Maehashi, K. Inoue, and K. Matsumoto, ACS Sens. 3, 200 (2018). 41 M. Sensi, M. Berto, A. Candini, A. Liscio, A. Cossarizza, V. Beni, F. Biscarini, and C. A. Bortolotti, ACS Omega 4, 5374 (2019). 42M. Kaisti, Biosens. Bioelectron. 98, 437 (2018). 43J. Rivnay, S. Inal, A. Salleo, R. M. Owens, M. Berggren, and G. G. Malliaras, Nat. Rev. Mater. 3, 17086 (2018). 44L. M. Bai, C. G. Elosegui, W. Q. Li, P. Yu, J. J. Fei, and L. Q. Mao, Front. Chem. 7, 313 (2019). 45H. Li, W. Shi, J. Song, H. J. Jang, J. Dailey, J. Yu, and H. E. Katz, Chem. Rev. 119, 3 (2019). 46p. Bergveld, IEEE Trans. Biomed. Eng. BME-17, 70 (1970). 47p. Bergveld, IEEE Trans. Biomed. Eng. 19, 342 (1972). 48 C. Toumazou, P. Georgiou, and P. Bergveld, Electron. Lett. 47, S7 (2011). 49S. Caras and J. Janata, Anal. Chem. 52, 1935 (1980). 50J. Janata, Electroanalysis 16, 1831 (2004). 51S. H. Kim, K. Hong, W. Xie, K. H. Lee, S. Zhang, T. P. Lodge, and C. D. Frisbie, Adv. Mater. 25, 1822 (2013). 52p. Bergveld, Sens. Actuators B 88, 1 (2003). 53J. van der Spiegel, I. Lauks, P. Chan, and D. Babic, Sens. Actuators 4, 291 (1983). 54S. Mao, G. Lu, K. Yu, Z. Bo, and J. Chen, Adv. Mater. 22, 3521 (2010). 55J. M. Kim, S. K. Jha, R. Chand, D. H. Lee, and Y. S. Kim, Biosens. Bioelectron. 26, 2264 (2011). 56J. Hagen, W. Lyon, Y. Chushak, M. Tomczak, R. Naik, M. Stone, and N. Kelley-Loughnane, ACS Chem. Neurosci. 4, 444 (2013). 57M. L. Hammock, 0. Knopfmacher, B. D. Naab, J. B. H. Tok, and Z. Bao, ACS Nano 7, 3970 (2013). 58H. Park, G. Han, S. W. Lee, H. Lee, S. H. Jeong, M. Naqi, A. AlMutairi, Y. J. Kim, J. Lee, W. Kim, S. Kim, Y. Yoon, and G. Yoo, ACS Appl. Mater. Interfaces 9, 43490 (2017). 59H. W. Lee, D. Kang, J. H. Cho, S. Lee, D. Jun, and J. Park, ACS Appl. Mater. Interfaces 10, 17369 (2018). 60p. Bergveld, Sens. Actuators 1, 17 (1981). 61K. McLaughlin, A. Dickson, S. B. Weisberg, K. Coale, V. Elrod, C. Hunter, K. S. Johnson, S. Kram, R. Kudela, T. Martz, K. Negrey, U. Passow, F. Shaughnessy, J. E. Smith, D. Tadesse, L. Washburn, and K. R. Weis, Reg. Stud. Mar. Sci. 12, 11 (2017). 62J. Kiumra, N. Ito, T. Kuriyama, M. Kikuchi, T. Arai, N. Negishi, and Y. Tomita, J. Electrochem. Soc. 136, 1744 (1989). 63X. L. Luo, J. J. Xu, W. Zhao, and H. Y. Chen, Sens. Actuators B 97, 249 (2004). 64T. Sakata, H. Sugimoto, and A. Saito, Anal. Chem. 90, 12731 (2018). 65S. Martinoia, N. Rosso, M. Grattarola, L. Lorenzelli, B. Margesin, and M. Zen, Biosens. Bioelectron. 16, 1043 (2001). 66F. Bettaieb, L. Ponsonnet, P. Lejeune, H. B. Ouada, C. Martelet, A. Bakhrouf, N. Jaffrezic-Renault, and A. Othmane, Bioelectrochem. 71, 118 (2007). 670. Kutova, M. Dusheiko, N. I. Klyui, and V. A. Skryshevsky, Microelectron. Eng. 215, 110993 (2019). 68S. Nakata, T. Arie, S. Akita, and K. Takei, ACS Sens. 2, 443 (2017). 69J. M. Rothberg, W. Hinz, T. M. Rearick, J. Schultz, W. Mileski, M. Davey, J. H. Leamon, K. Johnson, M. J. Milgrew, M. Edwards, J. Hoon, J. F. Simons, D. Marran, J. W. Myers, J. F. Davidson, A. Branting, J. R. Nobile, B. P. Puc, D. Light, T. A. Clark, M. Humber, J. T. Branciforte, I. B. Stoner, S. E. Cawley, M. Lyons, Y. Fu, N. Homer, M. Sedova, X. Miao, B. Reed, J. Sabina, E. Feierstein, M. Schorn, M. Alanjary, E. Dimalanta, D. Dressman, R. Kasinskas, T. Sokolsky, J. A. Fidanza, E. Namsaraev, K. J. McKernan, A. Williams, G. T. Roth, and J. Bustillo, Nature 475, 348 (2011). 70N. H. Al-Hardan, M. A. Abdul Hamid, N. M. Ahmed, A. Jalar, R. Shamsudin, N. K. Othman, L. Kar Keng, W. Chiu, and H. N. Al-Rawi, Sensors 16, 839 71L. T. Yin, J. C. Chou, W. Y. Chung, T. P. Sun, and S. K. Hsiung, Sens. Actuators B 71, 106 (2000). 72p. D. Batista and M. Mulato, Appl. Phys. Lett. 87, 143508 (2005). 73C. P. Chen, A. Ganguly, C. Y. Lu, T. Y. Chen, C. C. Kuo, R. S. Chen, W. H. Tu, W. B. Fishcer, K. H. Chen, and L. C. Chen, Anal. Chem. 83, 1938 (2011). 74T. Sakata, S. Matsumoto, Y. Nakajima, and Y. Miyahara, Jpn. J. Appl. Phys. 44, 2860 (2005). 75M. Kamahori, Y. Ishige, and M. Shimoda, Biosens. Bioelectron. 22, 3080 (2007). 76Q. Xue, C. Bian, J. Tong, J. Sun, H. Zhang, and S. Xia, Sens. Actuators A 169, 282 (2011). 77T. Goda and Y. Miyahara, Biosens. Bioelectron. 45, 89 (2013). 78W. Guan, X. Duan, and M. A. Reed, Biosens. Bioelectron. 51, 225 (2014). 79N. Aliakbarinodehi, P. Jolly, N. Bhalla, A. Miodek, G. de Micheli, P. Estrela, and S. Carrara, Sci. Rep. 7, 44409 (2017). 80 A. Tarasov, D. W. Gray, M.-Y. Tsai, N. Sheilds, A. Montrose, N. Creedon, P. Lovera, A. O\\'Riordan, M. H. Mooney, and E. M. Vogel, Biosens. Bioelectron. 79, 669 (2016). 81�. Guti�rrez-Sanz, N. M. Andoy, M. S. Filipiak, N. Haustein, and A. Tarasov, ACS Sens. 2, 1278 (2017). 82S. Zafar, M. Lu, and A. Jagtiani, Sci. Rep. 7, 41430 (2017). 83J. H. Cho, J. Lee, Y. Xia, B. Kim, Y. He, M. J. Renn, T. P. Lodge, and C. D. Frisbie, Nat. Mater. 7, 900 (2008). 84B. Tang, S. P. White, C. D. Frisbie, and T. P. Lodge, Macromolecules 48, 4942 (2015). 85D. Khodagholy, J. Rivnay, M. Sessolo, M. Gurfinkel, P. Leleux, L. H. Jimison, E. Stavrinidou, T. Herve, S. Sanaur, R. M. Owens, and G. G. Malliaras, Nat. Commun. 4, 2133 (2013). 86F. Z. Bidoky, B. Tang, R. Ma, K. S. Jochem, W. J. Hyun, D. Song, S. J. Koester, T. P. Lodge, and C. D. Frisbie, Adv. Funct. Mater. 29, 1902028 (2019). 87R. Abbel, Y. Galagan, and P. Groen, Adv. Eng. Mater. 20, 1701190 88 A. C. Arias, J. D. MacKenzie, I. McChulloch, J. Rivnay, and A. Salleo, Chem. Rev. 110, 3 (2010). 89D. Tobjork and R. Osterbacka, Adv. Mater. 23, 1935 (2011). 90R. R. Sondergaard, M. Hosel, and F. C. Krebs, J. Polym. Sci. B Polym. Phys. 51, 16 (2013). 91Z. Taleat, A. Khoshroo, and M. Mazlou-Ardakani, Microchim. Acta 181, 865 92W. C. Mak, V. Beni, and A. P. F. Turner, TRAC Trends Anal. Chem. 79, 297 93L. Nayak, S. Mohanty, S. K. Nayak, and A. Ramadoss, J. Mater. Chem. C 7, 8771 (2019). 94A. C. Arias, J. Daniel, B. Krusor, S. Ready, V. Sholin, and R. Street, J. Soc. Inf. Display 15, 485 (2007). 95M. J. Ha, W. Zhang, D. Braga, M. J. Renn, C. H. Kim, and C. D. Frisbie, ACS Appl. Mater. Interfaces 5, 13198 (2013). 96D. C. Duffy, J. C. McDonald, 0. J. A. Schueller, and G. M. Whitesides, Anal. Chem. 70, 4974 (1998). 97G. Comina, A. Suska, and D. Filppini, Lab Chip 14, 424 (2014). 98K. Kamei, Y. Mashimo, Y. Koyama, C. Fockenberg, M. Nakashima, M. Nakajima, J. Li, and Y. Chen, Biomed. Microdev. 17, 36 (2015). 99Y. Hwang, 0. H. Paydar, and R. N. Candler, Sens. Actuators A 226, 137 100H. N. Chan, Y. Chen, Y. Shu, Y. Chen, Q. Tian, and H. Wu, Microfluid. Nanofluid. 19, 9 (2015). 101B. Y. Ahn, E. B. Duoss, M. J. Motala, X. Guo, S. I. Park, Y. Xiong, J. Yoon, R. G. Nuzzo, J. A. Rogers, and J. A. Lewis, Science 323, 1590 (2009). 102S. H. Kim, K. Hong, K. H. Lee, and C. D. Frisbie, ACS Appl. Mater. Interfaces 5, 6580 (2013). 103R. P. Gandhiraman, V. Jayan, J.-W. Han, B. Chen, J. E. Koehne, and M. Meyyappan, ACS Appl. Mater. Interfaces 6, 20860 (2014). 104M. Smith, Y. S. Choi, C. Boughey, and S. Kar-Narayan, Flex. Print. Electron. 2, 015004 (2017). 105S. Kahn, T. P. Nguyen, M. Lubej, L. Thiery, P. Vairac, and D. Briand, Microelectron. Eng. 194, 71 (2018). 106M. T. Rahaman, C. Y. Cheng, B. Karagoz, M. Renn, M. Schrandt, A. Gellman, and R. Panat, ACS Appl. Nano Mater. 2, 3280 (2019). 107N. G. Di Novo, E. Cantu, S. Tonello, E. Sardini, and M. Serpelloni, Sensors 19, 1842 (2019). 108M. A. Rampi, 0. J. A. Schueller, and G. M. Whitesides, Appl. Phys. Lett. 72, 1781 (1998). 109T. Kakiuchi, M. Iida, S. Imabayashi, and K. Niki, Langmuir 16, 5397 (2000). 110E. A. Lamont, L. He, K. Warriner, T. P. Labuza, and S. Sreevatsan, Analyst 136, 3884 (2011). 111M. S. Thomas, K. D. Dorfman, and C. D. Frisbie, Flex. Print. Electron. 4, 044001 (2019). 112E. Garcia, M. Llorente, A. Hernando, R. Kieffer, H. Wieser, and E. Mendez, Eur. J. Gastroenterol. Hepatol. 17, 529 (2005). 113S. Amaya Gonzalez, N. de Los Santos Alvarez, A. J. Miranda Ordieres, and M. J. Lobo Castanon, Anal. Chem. 86, 2733 (2014). 114R. Hochegger, W. Mayer, and M. Prochaska, Foods 4, 654 (2015). 115T. Thorsen, S. J. Merkl, and S. R. Quake, Science 298, 580 (2002). 116C. Eid and J. G. Santiago, Lab Chip 18, 11 (2018). 117F. Paratore, T. Z. Kalman, T. Rosenfeld, G. V. Kaigala, and M. Bercovici, Anal. Chem. 89, 7373 (2017). 118A. Rogacs, L. A. Marshall, and J. G. Santiago, J. Chromatogr. A 1335, 105 119T. M. Squires, R. J. Messinger, and S. R. Manalis, Nat. Biotechnol. 26, 417 (2008). 120A. D. Stroock, S. K. W. Dertinger, A. Ajdari, I. Mezic, H. A. Stone, and G. M. Whitesides, Science 295, 647 (2002). 121C. Y. Lee, W. T. Wang, C. C. Liu, and L. M. Fu, Chem. Eng. J. 288, 146 122S. K. Yoon, G. W. Fichtl, and P. J. A. Kenis, Lab Chip 6, 1516 (2006). 123D. D. Liana, B. Raguse, J. J. Gooding, and E. Chow, Sensors 12, 11505 (2012). 124W. Dungchai, 0. Chailapakul, and C. S. Henry, Anal. Chem. 81, 5821 125K. Hong, S. H. Kim, K. H. Lee, and C. D. Frisbie, Adv. Mater. 24, 3413 126A. Kaushik, A. Vasudev, S. K. Arya, S. K. Pasha, and S. Bhansali, Biosens. Bioelectron. 53, 499 (2014). 1270. Parlak, S. T. Keene, A. Marais, V. F. Curto, and A. Salleo, Sci. Adv. 4, eaar2904 (2018). 128R. Elnathan, M. Kwiat, A. Pevzner, Y. Engel, L. Burstein, A. Khatchtourints, A. Lichtenstein, R. Kantaev, and F. Patolsky, Nano Lett. 12, 5245 (2012). 129S. Cheng, K. Hotani, S. Hideshima, S. Kuroiwa, T. Nakanishi, M. Hashimoto, Y. Mori, and T. Osaka, Materials 7, 2490 (2014). 130K. Maehashi, T. Katsura, K. Kerman, Y. Takamura, K. Matsumoto, and E. Tamiya, Anal. Chem. 79, 782 (2007). 131 G. S. Kulkarni and Z. Zhong, Nano Lett. 12, 719 (2012). 132C. H. Chu, I. Sarangadharan, A. Regmi, Y. W. Chen, C. P. Hsu, W. H. Chang, G. Y. Lee, J. I. Chyi, C. C. Chen, S. C. Shiesh, G. B. Lee, and Y. L. Wang, Sci. Rep. 7, 5256 (2017). 133J. Yang, P. Carey, F. Ren, Y. L. Wang, M. L. Good, S. Jang, M. A. Mastro, and S.J. Pearton, Appl. Phys. Lett. 111, 202104 (2017). 134I. Sarangadharan, A. Regmi, Y. W. Chen, C. P. Hsu, P. C. Chen, W. H. Chang, G. Y. Lee, J. I. Chyi, S. C. Shiesh, G. B. Lee, and Y. L. Wang, Biosens. Bioelectron. 100, 282 (2018). 135Y. W. Chen, T. Y. Tai, C. P. Hsu, I. Sarangadharan, A. K. Pulikkathodi, H. L. Wang, R. Sukesan, G. Y. Lee, J. I. Chyi, C. C. Chen, G. B. Lee, and Y. L. Wang, Sens. Actuators B 271, 110 (2018). scitation.org/journal/bmf 136T. Y. Tai, A. Sinha, I. Sarangadharan, A. K. Pulikkathodi, S. L. Wang, G. Y. Lee, J. I. Chyi, S. C. Shiesh, G. B. Lee, and Y. L. Wang, Anal. Chem. 91, 5953 (2019). 137N. Gao, W. Zhou, X. Jiang, G. Hong, T. M. Fu, and C. M. Lieber, Nano Lett. 15, 2143 (2015). 138N. Gao, T. Gao, X. Yang, X. Dai, W. Zhou, A. Zhang, and C. M. Lieber, Proc. Natl. Acad. Sci. U.S.A. 113, 14633 (2016). 139S. Ma, X. Li, Y. K. Lee, and A. Zhang, Biosens. Bioelectron. 117, 276 140N. Haustein, O. Guti�rrez-Sanz, and A. Tarasov, ACS Sens. 4, 874 (2019). 14, 011301-15'"
          },
          "metadata": {}
        }
      ],
      "execution_count": 2,
      "metadata": {
        "jupyter": {
          "source_hidden": false,
          "outputs_hidden": false
        },
        "nteract": {
          "transient": {
            "deleting": false
          }
        },
        "gather": {
          "logged": 1717373587335
        }
      }
    },
    {
      "cell_type": "code",
      "source": [
        "# GPU 활동\n",
        "!nvidia-smi"
      ],
      "outputs": [],
      "execution_count": null,
      "metadata": {
        "jupyter": {
          "source_hidden": false,
          "outputs_hidden": false
        },
        "nteract": {
          "transient": {
            "deleting": false
          }
        },
        "gather": {
          "logged": 1717082443956
        }
      }
    },
    {
      "cell_type": "code",
      "source": [
        "# 기존 txt 파일 경로를 모두 합침\n",
        "file_paths = []\n",
        "for path in before_paths:\n",
        "    file_paths.extend([os.path.join(path, file) for file in os.listdir(path) if file.endswith('.txt')])\n",
        "\n",
        "# JSON 파일에서 [\"contents\"] 추출\n",
        "json_contents = []\n",
        "for namefolder in os.listdir(json_paths[0]):\n",
        "    folder_path = os.path.join(json_paths[0], namefolder)\n",
        "    if os.path.isdir(folder_path):\n",
        "        for file in os.listdir(folder_path):\n",
        "            if file.endswith('.json'):\n",
        "                json_path = os.path.join(folder_path, file)\n",
        "                with open(json_path, 'r', encoding='utf-8') as f:\n",
        "                    data = json.load(f)\n",
        "                    json_contents.extend(data.get(\"contents\", []))\n",
        "\n",
        "# 기존 텍스트 파일 데이터셋 로드\n",
        "text_dataset = load_dataset('text', data_files=file_paths, cache_dir='/home/azureuser/cloudfiles/code/Users/hb.suh/cache')\n",
        "\n",
        "# JSON 파일에서 추출한 contents를 데이터셋으로 변환\n",
        "json_dataset = Dataset.from_dict({\"text\": json_contents})\n",
        "\n",
        "# text_path의 main_content 데이터를 데이터셋으로 변환\n",
        "main_content_dataset = Dataset.from_dict({\"text\": main_content_texts})\n",
        "\n",
        "# 텍스트와 JSON 데이터셋 병합\n",
        "combined_dataset = DatasetDict({\n",
        "    \"text_files\": text_dataset['train'],\n",
        "    \"json_contents\": json_dataset,\n",
        "    \"main_contents\": main_content_dataset\n",
        "})\n",
        "\n",
        "# 데이터셋 확인 (예시)\n",
        "print(combined_dataset)\n"
      ],
      "outputs": [
        {
          "output_type": "stream",
          "name": "stdout",
          "text": "DatasetDict({\n    text_files: Dataset({\n        features: ['text'],\n        num_rows: 944\n    })\n    json_contents: Dataset({\n        features: ['text'],\n        num_rows: 1193\n    })\n    main_contents: Dataset({\n        features: ['text'],\n        num_rows: 1484\n    })\n})\n"
        }
      ],
      "execution_count": 3,
      "metadata": {
        "jupyter": {
          "source_hidden": false,
          "outputs_hidden": false
        },
        "nteract": {
          "transient": {
            "deleting": false
          }
        },
        "gather": {
          "logged": 1717373594968
        }
      }
    },
    {
      "cell_type": "code",
      "source": [
        "# 데이터셋 로드\n",
        "\n",
        "from datasets import DatasetDict, Dataset\n",
        "\n",
        "# 각 데이터셋을 train과 test로 분할\n",
        "text_files_split = combined_dataset['text_files'].train_test_split(test_size=0.2)\n",
        "json_contents_split = combined_dataset['json_contents'].train_test_split(test_size=0.2)\n",
        "main_contents_split = combined_dataset['main_contents'].train_test_split(test_size=0.2)\n",
        "\n",
        "# 분할된 데이터셋을 다시 DatasetDict로 구성\n",
        "train_test_combined_dataset = DatasetDict({\n",
        "    'train': DatasetDict({\n",
        "        'text_files': text_files_split['train'],\n",
        "        'json_contents': json_contents_split['train'],\n",
        "        'main_contents': main_contents_split['train']\n",
        "    }),\n",
        "    'val': DatasetDict({\n",
        "        'text_files': text_files_split['test'],\n",
        "        'json_contents': json_contents_split['test'],\n",
        "        'main_contents': main_contents_split['test']\n",
        "    })\n",
        "})\n",
        "\n",
        "print(train_test_combined_dataset)\n"
      ],
      "outputs": [
        {
          "output_type": "stream",
          "name": "stdout",
          "text": "DatasetDict({\n    train: DatasetDict({\n        text_files: Dataset({\n            features: ['text'],\n            num_rows: 755\n        })\n        json_contents: Dataset({\n            features: ['text'],\n            num_rows: 954\n        })\n        main_contents: Dataset({\n            features: ['text'],\n            num_rows: 1187\n        })\n    })\n    val: DatasetDict({\n        text_files: Dataset({\n            features: ['text'],\n            num_rows: 189\n        })\n        json_contents: Dataset({\n            features: ['text'],\n            num_rows: 239\n        })\n        main_contents: Dataset({\n            features: ['text'],\n            num_rows: 297\n        })\n    })\n})\n"
        }
      ],
      "execution_count": 4,
      "metadata": {
        "jupyter": {
          "source_hidden": false,
          "outputs_hidden": false
        },
        "nteract": {
          "transient": {
            "deleting": false
          }
        },
        "gather": {
          "logged": 1717373595384
        }
      }
    },
    {
      "cell_type": "code",
      "source": [
        "# 텍스트 파일 경로를 파일로 저장\n",
        "\n",
        "merged_file_path = \"/home/azureuser/cloudfiles/code/Users/hb.suh/merged_data.txt\"\n",
        "with open(merged_file_path, 'w', encoding='utf-8') as f:\n",
        "    # text_files 데이터셋 저장\n",
        "    for item in combined_dataset['text_files']:\n",
        "        text = item['text']\n",
        "        if isinstance(text, dict):\n",
        "            text = json.dumps(text)\n",
        "        f.write(text + '\\n')\n",
        "    \n",
        "    # json_contents 데이터셋 저장\n",
        "    for item in combined_dataset['json_contents']:\n",
        "        text = item['text']\n",
        "        if isinstance(text, dict):\n",
        "            text = json.dumps(text)\n",
        "        f.write(text + '\\n')\n",
        "    \n",
        "    # main_contents 데이터셋 저장\n",
        "    for item in combined_dataset['main_contents']:\n",
        "        text = item['text']\n",
        "        if isinstance(text, dict):\n",
        "            text = json.dumps(text)\n",
        "        f.write(text + '\\n')"
      ],
      "outputs": [],
      "execution_count": 5,
      "metadata": {
        "jupyter": {
          "source_hidden": false,
          "outputs_hidden": false
        },
        "nteract": {
          "transient": {
            "deleting": false
          }
        },
        "gather": {
          "logged": 1717373597952
        }
      }
    },
    {
      "cell_type": "code",
      "source": [
        "from tokenizers import BertWordPieceTokenizer\n",
        "\n",
        "# BertWordPieceTokenizer 인스턴스 생성\n",
        "tokenizer = BertWordPieceTokenizer(clean_text=True, handle_chinese_chars=True, strip_accents=False, lowercase=False, wordpieces_prefix=\"##\")\n",
        "\n",
        "# 훈련하기\n",
        "tokenizer.train(\n",
        "    merged_file_path,\n",
        "    vocab_size=30000,\n",
        "    min_frequency=3,\n",
        "    show_progress=True,\n",
        "    special_tokens = [\"[PAD]\", \"[CLS]\", \"[UNK]\", \"[SEP]\", \"[MASK]\"],\n",
        "    wordpieces_prefix=\"##\",\n",
        ")\n",
        "\n",
        "# 저장할 디렉토리 경로    \n",
        "save_path = \"/home/azureuser/cloudfiles/code/Users/hb.suh/OUR_BERT/trained_tokenizer/0530_AddData_bertwordpiece\"\n",
        "\n",
        "# 디렉토리가 없으면 생성\n",
        "if not os.path.exists(save_path):\n",
        "    os.makedirs(save_path)\n",
        "\n",
        "# 토크나이저 모델 저장\n",
        "tokenizer.save_model(save_path)"
      ],
      "outputs": [
        {
          "output_type": "stream",
          "name": "stdout",
          "text": "\n\n\n"
        },
        {
          "output_type": "execute_result",
          "execution_count": 6,
          "data": {
            "text/plain": "['/home/azureuser/cloudfiles/code/Users/hb.suh/OUR_BERT/trained_tokenizer/0530_AddData_bertwordpiece/vocab.txt']"
          },
          "metadata": {}
        }
      ],
      "execution_count": 6,
      "metadata": {
        "jupyter": {
          "source_hidden": false,
          "outputs_hidden": false
        },
        "nteract": {
          "transient": {
            "deleting": false
          }
        },
        "gather": {
          "logged": 1717140559359
        }
      }
    },
    {
      "cell_type": "code",
      "source": [
        "# 새로운 토크나이저 로드\n",
        "new_tokenizer = BertTokenizerFast.from_pretrained('beomi/kcbert-base')\n",
        "model = BertForMaskedLM.from_pretrained('beomi/kcbert-base')\n",
        "len(new_tokenizer)\n",
        "\n",
        "new_tokens_added = 0\n",
        "new_vocab = {}  # 새로운 토큰과 아이디를 담을 딕셔너리\n",
        "\n",
        "#path = \"/home/azureuser/cloudfiles/code/Users/hb.suh/OUR_BERT/trained_tokenizer/0527test_bertwordpiece/vocab.txt\"\n",
        "path = os.path.join(save_path, \"vocab.txt\")\n",
        "# 기존의 토크나이저 vocab에서 새로운 토큰들을 제외하고 아이디 부여\n",
        "with open(path, 'r', encoding='utf-8') as f:\n",
        "    for line in f:\n",
        "        token = line.strip()  # 줄바꿈 문자를 제거하여 토큰만 가져옴\n",
        "        if token not in new_tokenizer.get_vocab():\n",
        "            new_tokenizer.add_tokens(token)\n",
        "            new_tokens_added += 1\n",
        "            new_vocab[token] = len(new_tokenizer) - 1  # 새로운 토큰에 새로운 아이디 부여\n",
        "\n",
        "        else:\n",
        "            # 토큰이 이미 존재하면, 기존 ID 사용\n",
        "            new_vocab[token] = new_tokenizer.convert_tokens_to_ids(token)\n",
        "\n",
        "print(\"new_tokens_added : \", new_tokens_added)\n",
        "print(len(new_tokenizer))\n",
        "\n",
        "# 토크나이저 모델 파일 저장\n",
        "tokenizer_model_path = \"/home/azureuser/cloudfiles/code/Users/hb.suh/OUR_BERT/trained_tokenizer/0530_AddData_bertwordpiece\"\n",
        "new_tokenizer.save_pretrained(tokenizer_model_path,do_lower_case=False)\n",
        "\n",
        "len(new_tokenizer)\n",
        "\n",
        "print(f\"Added {new_tokens_added} new tokens\")\n"
      ],
      "outputs": [
        {
          "output_type": "stream",
          "name": "stderr",
          "text": "Some weights of the model checkpoint at beomi/kcbert-base were not used when initializing BertForMaskedLM: ['bert.pooler.dense.bias', 'bert.pooler.dense.weight', 'cls.seq_relationship.bias', 'cls.seq_relationship.weight']\n- This IS expected if you are initializing BertForMaskedLM from the checkpoint of a model trained on another task or with another architecture (e.g. initializing a BertForSequenceClassification model from a BertForPreTraining model).\n- This IS NOT expected if you are initializing BertForMaskedLM from the checkpoint of a model that you expect to be exactly identical (initializing a BertForSequenceClassification model from a BertForSequenceClassification model).\n"
        },
        {
          "output_type": "stream",
          "name": "stdout",
          "text": "new_tokens_added :  939\n30939\nAdded 939 new tokens\n"
        }
      ],
      "execution_count": 7,
      "metadata": {
        "jupyter": {
          "source_hidden": false,
          "outputs_hidden": false
        },
        "nteract": {
          "transient": {
            "deleting": false
          }
        },
        "gather": {
          "logged": 1717140598322
        }
      }
    },
    {
      "cell_type": "markdown",
      "source": [
        "TEST"
      ],
      "metadata": {
        "nteract": {
          "transient": {
            "deleting": false
          }
        }
      }
    },
    {
      "cell_type": "code",
      "source": [
        "# 2. 데이터셋 토큰화\n",
        "\n",
        "# def tokenize_data(tokenizer, dataset):\n",
        "#     def tokenize_function(examples):\n",
        "#         # tokenizer의 결과에서 'input_ids'와 'attention_mask'만 반환하도록 수정 #128\n",
        "#         tokenized_output = tokenizer(examples['text'], max_length=300, truncation=True, padding=\"max_length\", return_tensors=\"pt\")\n",
        "#         return {'input_ids': tokenized_output['input_ids'], 'attention_mask': tokenized_output['attention_mask']}\n",
        "#     return dataset.map(tokenize_function, batched=True, remove_columns=['text'])\n",
        "  \n",
        "\n",
        "# def resize_and_initialize_embeddings(model, tokenizer, old_tokenizer=None):\n",
        "#     # 모델의 원래 토큰 임베딩 크기\n",
        "#     original_num_tokens = model.config.vocab_size if old_tokenizer is None else len(old_tokenizer)\n",
        "    \n",
        "#     # 새 토크나이저에 따른 임베딩 크기 조정\n",
        "#     new_num_tokens = len(tokenizer)\n",
        "#     model.resize_token_embeddings(new_num_tokens)\n",
        "\n",
        "#     # 임베딩 레이어에 접근\n",
        "#     embeddings = model.get_input_embeddings()\n",
        "    \n",
        "#     # 새로운 토큰이 추가되었을 경우\n",
        "#     if new_num_tokens > original_num_tokens:\n",
        "#         # 기존 임베딩의 평균과 표준편차 계산\n",
        "#         with torch.no_grad():\n",
        "#             old_embeddings = embeddings.weight[:original_num_tokens]\n",
        "#             mean, std = old_embeddings.mean(dim=0), old_embeddings.std(dim=0)\n",
        "#             # 새로운 토큰의 임베딩 초기화\n",
        "#             new_embeddings = torch.randn(new_num_tokens - original_num_tokens, embeddings.embedding_dim)\n",
        "#             new_embeddings = mean + std * new_embeddings\n",
        "#             embeddings.weight[original_num_tokens:] = new_embeddings\n",
        "\n",
        "#     return model\n",
        "new_tokenizer = BertTokenizerFast.from_pretrained('beomi/kcbert-base')\n",
        "model = BertForMaskedLM.from_pretrained('beomi/kcbert-base')\n",
        "\n",
        "\n",
        "# 기존 가중치 freeze\n",
        "def resize_and_initialize_embeddings(model, tokenizer, old_tokenizer=None):\n",
        "    # 모델의 원래 토큰 임베딩 크기\n",
        "    original_num_tokens = model.config.vocab_size if old_tokenizer is None else len(old_tokenizer)\n",
        "    \n",
        "    # 새 토크나이저에 따른 임베딩 크기 조정\n",
        "    new_num_tokens = len(tokenizer)\n",
        "    model.resize_token_embeddings(new_num_tokens)\n",
        "\n",
        "    # 임베딩 레이어에 접근\n",
        "    embeddings = model.get_input_embeddings()\n",
        "    \n",
        "    # 기존 임베딩의 그라디언트 업데이트 비활성화\n",
        "    embeddings.weight.requires_grad = False\n",
        "\n",
        "    # 새로운 토큰이 추가되었을 경우\n",
        "    if new_num_tokens > original_num_tokens:\n",
        "        # 새로운 토큰의 임베딩만 그라디언트 업데이트 활성화\n",
        "        embeddings.weight[original_num_tokens:].requires_grad = True\n",
        "        \n",
        "        # 기존 임베딩의 평균과 표준편차 계산\n",
        "        with torch.no_grad():\n",
        "            old_embeddings = embeddings.weight[:original_num_tokens]\n",
        "            mean, std = old_embeddings.mean(dim=0), old_embeddings.std(dim=0)\n",
        "            # 새로운 토큰의 임베딩 초기화\n",
        "            new_embeddings = torch.randn(new_num_tokens - original_num_tokens, embeddings.embedding_dim, device=old_embeddings.device)\n",
        "            new_embeddings = mean + std * new_embeddings\n",
        "            embeddings.weight[original_num_tokens:].data = new_embeddings\n",
        "\n",
        "    return model\n",
        "\n",
        "\n",
        "# model = BertForMaskedLM.from_pretrained('beomi/kcbert-base')\n",
        "# 드롭아웃 비율 조정\n",
        "for name, module in model.named_modules():\n",
        "    if isinstance(module, torch.nn.Dropout):\n",
        "        module.p = 0.3  # 드롭아웃 확률을 0.3으로 조정\n",
        "###############################################################\n",
        "after_add_Trained_Tokenizer = BertTokenizerFast.from_pretrained(\"/home/azureuser/cloudfiles/code/Users/hb.suh/OUR_BERT/trained_tokenizer/0530_AddData_bertwordpiece/\",do_lower_case=False)\n",
        "\n",
        "model = resize_and_initialize_embeddings(model, after_add_Trained_Tokenizer )\n",
        "print(len(after_add_Trained_Tokenizer))\n"
      ],
      "outputs": [
        {
          "output_type": "stream",
          "name": "stderr",
          "text": "Some weights of the model checkpoint at beomi/kcbert-base were not used when initializing BertForMaskedLM: ['bert.pooler.dense.bias', 'bert.pooler.dense.weight', 'cls.seq_relationship.bias', 'cls.seq_relationship.weight']\n- This IS expected if you are initializing BertForMaskedLM from the checkpoint of a model trained on another task or with another architecture (e.g. initializing a BertForSequenceClassification model from a BertForPreTraining model).\n- This IS NOT expected if you are initializing BertForMaskedLM from the checkpoint of a model that you expect to be exactly identical (initializing a BertForSequenceClassification model from a BertForSequenceClassification model).\nSpecial tokens have been added in the vocabulary, make sure the associated word embeddings are fine-tuned or trained.\n"
        },
        {
          "output_type": "stream",
          "name": "stdout",
          "text": "30939\n"
        }
      ],
      "execution_count": 6,
      "metadata": {
        "jupyter": {
          "source_hidden": false,
          "outputs_hidden": false
        },
        "nteract": {
          "transient": {
            "deleting": false
          }
        },
        "gather": {
          "logged": 1717373600602
        }
      }
    },
    {
      "cell_type": "code",
      "source": [
        "# import torch\n",
        "# from torch.utils.data import DataLoader\n",
        "# from transformers import DataCollatorForLanguageModeling, AdamW, get_scheduler\n",
        "# import matplotlib.pyplot as plt\n",
        "\n",
        "# def train_model(model, train_dataset, valid_dataset, tokenizer, EPOCH, early_stopping_patience=None):\n",
        "#     device = torch.device(\"cuda\" if torch.cuda.is_available() else \"cpu\")\n",
        "#     model.to(device)\n",
        "\n",
        "#     # Optimizer and learning rate scheduler setup\n",
        "#     optimizer = torch.optim.AdamW(model.parameters(), lr=1e-6)\n",
        "#     total_steps = len(train_dataset) * EPOCH\n",
        "\n",
        "#     scheduler = torch.optim.lr_scheduler.CyclicLR(optimizer, \n",
        "#                                                   base_lr=1e-6, \n",
        "#                                                   max_lr=1e-4,  # Adjusted max_lr\n",
        "#                                                   step_size_up=total_steps // 4,\n",
        "#                                                   step_size_down=total_steps - total_steps // 4,\n",
        "#                                                   mode='triangular',\n",
        "#                                                   cycle_momentum=False)\n",
        "\n",
        "#     data_collator = DataCollatorForLanguageModeling(tokenizer=tokenizer, mlm=True, mlm_probability=0.15)\n",
        "#     train_loader = DataLoader(train_dataset, batch_size=16, collate_fn=data_collator)\n",
        "#     valid_loader = DataLoader(valid_dataset, batch_size=16, collate_fn=data_collator)\n",
        "\n",
        "#     model.train()\n",
        "\n",
        "#     train_losses = []\n",
        "#     valid_losses = []\n",
        "#     best_loss = float('inf')\n",
        "#     patience_counter = 0\n",
        "\n",
        "\n",
        "#     # 데이터 검증을 위한 간단한 함수\n",
        "#     def validate_data(batch):\n",
        "#         for k, v in batch.items():\n",
        "#             if torch.isnan(v).any() or torch.isinf(v).any():\n",
        "#                 print(f\"Invalid data in batch: {k}\")\n",
        "#                 return False\n",
        "#         return True\n",
        "\n",
        "\n",
        "#     for epoch in range(EPOCH):\n",
        "#         model.train()\n",
        "#         epoch_train_losses = []\n",
        "#         for batch in train_loader:\n",
        "#             batch = {k: v.to(device) for k, v in batch.items()}\n",
        "\n",
        "#             # 데이터 검증\n",
        "#             if not validate_data(batch):\n",
        "#                 continue\n",
        "\n",
        "#             outputs = model(**batch)\n",
        "#             loss = outputs.loss\n",
        "\n",
        "#             if torch.isnan(loss):\n",
        "#                 print(\"NaN detected, skipping the update\")\n",
        "#                 continue\n",
        "\n",
        "#             loss.backward()\n",
        "\n",
        "#             # Implementing gradient clipping\n",
        "#             torch.nn.utils.clip_grad_norm_(model.parameters(), max_norm=1.0)\n",
        "\n",
        "#             optimizer.step()\n",
        "#             scheduler.step()\n",
        "#             optimizer.zero_grad()\n",
        "\n",
        "#             epoch_train_losses.append(loss.item())\n",
        "\n",
        "#         train_loss = sum(epoch_train_losses) / len(epoch_train_losses)\n",
        "#         train_losses.append(train_loss)\n",
        "\n",
        "#         # Validation phase\n",
        "#         model.eval()\n",
        "#         epoch_valid_losses = []\n",
        "#         with torch.no_grad():\n",
        "#             for batch in valid_loader:\n",
        "#                 batch = {k: v.to(device) for k, v in batch.items()}\n",
        "#                 outputs = model(**batch)\n",
        "#                 loss = outputs.loss\n",
        "\n",
        "#                 if torch.isnan(loss):\n",
        "#                     print(\"NaN detected in validation, skipping this batch\")\n",
        "#                     continue\n",
        "\n",
        "#                 epoch_valid_losses.append(loss.item())\n",
        "\n",
        "#         valid_loss = sum(epoch_valid_losses) / len(epoch_valid_losses)\n",
        "#         valid_losses.append(valid_loss)\n",
        "\n",
        "#         print(f\"Epoch {epoch + 1} completed, Train Loss: {train_loss}, Valid Loss: {valid_loss}, Current LR: {scheduler.get_last_lr()[0]}\")\n",
        "\n",
        "#         # Early stopping logic\n",
        "#         if valid_loss < best_loss:\n",
        "#             best_loss = valid_loss\n",
        "#             patience_counter = 0\n",
        "#         else:\n",
        "#             patience_counter += 1\n",
        "\n",
        "#         if early_stopping_patience and patience_counter >= early_stopping_patience:\n",
        "#             print(f\"Early stopping at epoch {epoch + 1} as no improvement in validation loss.\")\n",
        "#             break\n",
        "\n",
        "#     # Plotting the training and validation loss trends\n",
        "#     plt.figure(figsize=(12, 6))\n",
        "#     plt.plot(train_losses, label='Training Loss')\n",
        "#     plt.plot(valid_losses, label='Validation Loss')\n",
        "#     plt.title('Training and Validation Loss Trends')\n",
        "#     plt.xlabel('Epoch')\n",
        "#     plt.ylabel('Loss')\n",
        "#     plt.legend()\n",
        "#     plt.grid(True)\n",
        "#     plt.show()\n",
        "\n",
        "#     return model\n"
      ],
      "outputs": [],
      "execution_count": 16,
      "metadata": {
        "jupyter": {
          "source_hidden": false,
          "outputs_hidden": false
        },
        "nteract": {
          "transient": {
            "deleting": false
          }
        },
        "gather": {
          "logged": 1717048550206
        }
      }
    },
    {
      "cell_type": "code",
      "source": [
        "\n",
        "def save_model(model, tokenizer, pretrained_model_name):\n",
        "\n",
        "    safe_model_name = pretrained_model_name.replace(\"/\", \"-\")\n",
        "    # 현재 날짜와 시간을 포함한 디렉토리 이름을 생성\n",
        "    timestamp = datetime.now().strftime(\"%Y-%m-%d_%H-%M-%S\")\n",
        "    directory = f\"/home/azureuser/cloudfiles/code/Users/hb.suh/OUR_BERT/MLM_trained_model/{safe_model_name}_CyclicLRtriangular-{timestamp}\"\n",
        "\n",
        "    # 디렉토리가 존재하지 않으면 생성\n",
        "    if not os.path.exists(directory):\n",
        "        os.makedirs(directory)\n",
        "\n",
        "    # 모델과 토크나이저를 사전 훈련된 디렉토리에 저장\n",
        "    model.save_pretrained(directory)\n",
        "    tokenizer.save_pretrained(directory)"
      ],
      "outputs": [],
      "execution_count": 7,
      "metadata": {
        "jupyter": {
          "source_hidden": false,
          "outputs_hidden": false
        },
        "nteract": {
          "transient": {
            "deleting": false
          }
        },
        "gather": {
          "logged": 1717373600792
        }
      }
    },
    {
      "cell_type": "code",
      "source": [
        "# train_dataset = train_test_combined_dataset['train']\n",
        "\n",
        "# def tokenize_data(tokenizer, dataset):\n",
        "#     def tokenize_function(examples):\n",
        "#         # 리스트 형식의 텍스트 입력을 처리하도록 수정\n",
        "#         if isinstance(examples['text'], list):\n",
        "#             examples['text'] = [str(x) for x in examples['text']]\n",
        "#         else:\n",
        "#             examples['text'] = [str(examples['text'])]\n",
        "\n",
        "#         tokenized_output = tokenizer(examples['text'], max_length=300, truncation=True, padding=\"max_length\")\n",
        "#         return {'input_ids': tokenized_output['input_ids'], 'attention_mask': tokenized_output['attention_mask']}\n",
        "    \n",
        "#     return dataset.map(tokenize_function, batched=True, remove_columns=['text'])\n",
        "\n",
        "# train_tokenized_datasets = tokenize_data(after_add_Trained_Tokenizer, train_dataset)\n"
      ],
      "outputs": [],
      "execution_count": null,
      "metadata": {
        "jupyter": {
          "source_hidden": false,
          "outputs_hidden": false
        },
        "nteract": {
          "transient": {
            "deleting": false
          }
        },
        "gather": {
          "logged": 1717074313523
        }
      }
    },
    {
      "cell_type": "code",
      "source": [
        "# val_dataset = train_test_combined_dataset['valid']\n",
        "# val_tokenized_datasets = tokenize_data(after_add_Trained_Tokenizer, val_dataset)"
      ],
      "outputs": [],
      "execution_count": null,
      "metadata": {
        "jupyter": {
          "source_hidden": false,
          "outputs_hidden": false
        },
        "nteract": {
          "transient": {
            "deleting": false
          }
        },
        "gather": {
          "logged": 1717074313535
        }
      }
    },
    {
      "cell_type": "code",
      "source": [
        "# train_tokenized_datasets"
      ],
      "outputs": [],
      "execution_count": null,
      "metadata": {
        "jupyter": {
          "source_hidden": false,
          "outputs_hidden": false
        },
        "nteract": {
          "transient": {
            "deleting": false
          }
        },
        "gather": {
          "logged": 1717074312822
        }
      }
    },
    {
      "cell_type": "code",
      "source": [
        "train_test_combined_dataset"
      ],
      "outputs": [
        {
          "output_type": "execute_result",
          "execution_count": 27,
          "data": {
            "text/plain": "DatasetDict({\n    train: DatasetDict({\n        text_files: Dataset({\n            features: ['text'],\n            num_rows: 755\n        })\n        json_contents: Dataset({\n            features: ['text'],\n            num_rows: 932\n        })\n        main_contents: Dataset({\n            features: ['text'],\n            num_rows: 1187\n        })\n    })\n    val: DatasetDict({\n        text_files: Dataset({\n            features: ['text'],\n            num_rows: 189\n        })\n        json_contents: Dataset({\n            features: ['text'],\n            num_rows: 233\n        })\n        main_contents: Dataset({\n            features: ['text'],\n            num_rows: 297\n        })\n    })\n})"
          },
          "metadata": {}
        }
      ],
      "execution_count": 27,
      "metadata": {
        "jupyter": {
          "source_hidden": false,
          "outputs_hidden": false
        },
        "nteract": {
          "transient": {
            "deleting": false
          }
        },
        "gather": {
          "logged": 1717079605354
        }
      }
    },
    {
      "cell_type": "code",
      "source": [
        "def tokenize_data(tokenizer, dataset):\n",
        "    def tokenize_function(examples):\n",
        "        if isinstance(examples['text'], list):\n",
        "            examples['text'] = [str(x) for x in examples['text']]\n",
        "        else:\n",
        "            examples['text'] = [str(examples['text'])]\n",
        "        tokenized_output = tokenizer(examples['text'], max_length=300, truncation=True, padding=\"max_length\")\n",
        "        return {'input_ids': tokenized_output['input_ids'], 'attention_mask': tokenized_output['attention_mask']}\n",
        "    \n",
        "    return dataset.map(tokenize_function, batched=True, remove_columns=['text'])\n",
        "\n",
        "# train과 validation 데이터셋을 개별적으로 토큰화\n",
        "train_test_combined_dataset = DatasetDict({\n",
        "    'train': {\n",
        "        'text_files': tokenize_data(after_add_Trained_Tokenizer, train_test_combined_dataset['train']['text_files']),\n",
        "        'json_contents': tokenize_data(after_add_Trained_Tokenizer, train_test_combined_dataset['train']['json_contents']),\n",
        "        'main_contents': tokenize_data(after_add_Trained_Tokenizer, train_test_combined_dataset['train']['main_contents'])\n",
        "    },\n",
        "    'valid': {\n",
        "        'text_files': tokenize_data(after_add_Trained_Tokenizer, train_test_combined_dataset['val']['text_files']),\n",
        "        'json_contents': tokenize_data(after_add_Trained_Tokenizer, train_test_combined_dataset['val']['json_contents']),\n",
        "        'main_contents': tokenize_data(after_add_Trained_Tokenizer, train_test_combined_dataset['val']['main_contents'])\n",
        "    }\n",
        "})\n",
        "\n",
        "\n",
        "from datasets import concatenate_datasets\n",
        "# 모든 데이터셋을 하나로 병합\n",
        "train_dataset = concatenate_datasets([\n",
        "    train_test_combined_dataset['train']['text_files'],\n",
        "    train_test_combined_dataset['train']['json_contents'],\n",
        "    train_test_combined_dataset['train']['main_contents']\n",
        "])\n",
        "val_dataset = concatenate_datasets([\n",
        "    train_test_combined_dataset['valid']['text_files'],\n",
        "    train_test_combined_dataset['valid']['json_contents'],\n",
        "    train_test_combined_dataset['valid']['main_contents']\n",
        "])"
      ],
      "outputs": [
        {
          "output_type": "stream",
          "name": "stderr",
          "text": "Map: 100%|██████████| 755/755 [00:29<00:00, 25.64 examples/s]\nMap: 100%|██████████| 954/954 [00:01<00:00, 740.23 examples/s]\nMap: 100%|██████████| 1187/1187 [00:18<00:00, 63.53 examples/s]\nMap: 100%|██████████| 189/189 [00:00<00:00, 487.78 examples/s]\nMap: 100%|██████████| 239/239 [00:00<00:00, 749.73 examples/s]\nMap: 100%|██████████| 297/297 [00:04<00:00, 66.32 examples/s]\n"
        }
      ],
      "execution_count": 8,
      "metadata": {
        "jupyter": {
          "source_hidden": false,
          "outputs_hidden": false
        },
        "nteract": {
          "transient": {
            "deleting": false
          }
        },
        "gather": {
          "logged": 1717373655658
        }
      }
    },
    {
      "cell_type": "code",
      "source": [
        "def train_model(model, train_dataset, valid_dataset, tokenizer, EPOCH, early_stopping_patience=None):\n",
        "    try:\n",
        "        device = torch.device(\"cuda\" if torch.cuda.is_available() else \"cpu\")\n",
        "        print(torch.cuda.is_available())\n",
        "        model.to(device)\n",
        "        print(device)\n",
        "    except RuntimeError as e:\n",
        "        print(f\"CUDA error: {e}\")\n",
        "        print(\"Falling back to CPU...\")\n",
        "        device = torch.device(\"cpu\")\n",
        "        model.to(device)\n",
        "\n",
        "    optimizer = torch.optim.AdamW(model.parameters(), lr=1e-6)\n",
        "    total_steps = len(train_dataset) * EPOCH\n",
        "\n",
        "    scheduler = torch.optim.lr_scheduler.CyclicLR(optimizer, \n",
        "                                                  base_lr=1e-6, \n",
        "                                                  max_lr=1e-5,  \n",
        "                                                  step_size_up=total_steps // 4,\n",
        "                                                  step_size_down=total_steps - total_steps // 4,\n",
        "                                                  mode='triangular',\n",
        "                                                  cycle_momentum=False)\n",
        "\n",
        "    data_collator = DataCollatorForLanguageModeling(tokenizer=tokenizer, mlm=True, mlm_probability=0.15)\n",
        "    train_loader = DataLoader(train_dataset, batch_size=16, collate_fn=data_collator)\n",
        "    valid_loader = DataLoader(valid_dataset, batch_size=16, collate_fn=data_collator)\n",
        "\n",
        "    model.train()\n",
        "\n",
        "    train_losses = []\n",
        "    train_losses = []\n",
        "    valid_losses = []\n",
        "    best_loss = float('inf')\n",
        "    patience_counter = 0\n",
        "\n",
        "    def validate_data(batch):\n",
        "        for k, v in batch.items():\n",
        "            if torch.isnan(v).any() or torch.isinf(v).any():\n",
        "                print(f\"Invalid data in batch: {k}\")\n",
        "                return False\n",
        "        return True\n",
        "\n",
        "    for epoch in range(EPOCH):\n",
        "        model.train()\n",
        "        epoch_train_losses = []\n",
        "        for batch in train_loader:\n",
        "            batch = {k: v.to(device) for k, v in batch.items()}\n",
        "\n",
        "            if not validate_data(batch):\n",
        "                continue\n",
        "\n",
        "            outputs = model(**batch)\n",
        "            loss = outputs.loss\n",
        "\n",
        "            if torch.isnan(loss):\n",
        "                print(\"NaN detected, skipping the update\")\n",
        "                continue\n",
        "\n",
        "            loss.backward()\n",
        "\n",
        "            torch.nn.utils.clip_grad_norm_(model.parameters(), max_norm=1.0)\n",
        "\n",
        "            optimizer.step()\n",
        "            scheduler.step()\n",
        "            optimizer.zero_grad()\n",
        "\n",
        "            epoch_train_losses.append(loss.item())\n",
        "\n",
        "        train_loss = sum(epoch_train_losses) / len(epoch_train_losses)\n",
        "        train_losses.append(train_loss)\n",
        "\n",
        "        model.eval()\n",
        "        epoch_valid_losses = []\n",
        "        with torch.no_grad():\n",
        "            for batch in valid_loader:\n",
        "                batch = {k: v.to(device) for k, v in batch.items()}\n",
        "                outputs = model(**batch)\n",
        "                loss = outputs.loss\n",
        "\n",
        "                if torch.isnan(loss):\n",
        "                    print(\"NaN detected in validation, skipping this batch\")\n",
        "                    continue\n",
        "\n",
        "                epoch_valid_losses.append(loss.item())\n",
        "\n",
        "        valid_loss = sum(epoch_valid_losses) / len(epoch_valid_losses)\n",
        "        valid_losses.append(valid_loss)\n",
        "\n",
        "        print(f\"Epoch {epoch + 1} completed, Train Loss: {train_loss}, Valid Loss: {valid_loss}, Current LR: {scheduler.get_last_lr()[0]}\")\n",
        "\n",
        "        if valid_loss < best_loss:\n",
        "            best_loss = valid_loss\n",
        "            patience_counter = 0\n",
        "        else:\n",
        "            patience_counter += 1\n",
        "\n",
        "        if early_stopping_patience and patience_counter >= early_stopping_patience:\n",
        "            print(f\"Early stopping at epoch {epoch + 1} as no improvement in validation loss.\")\n",
        "            break\n",
        "\n",
        "    plt.figure(figsize=(12, 6))\n",
        "    plt.plot(train_losses, label='Training Loss')\n",
        "    plt.plot(valid_losses, label='Validation Loss')\n",
        "    plt.title('Training and Validation Loss Trends')\n",
        "    plt.xlabel('Epoch')\n",
        "    plt.ylabel('Loss')\n",
        "    plt.legend()\n",
        "    plt.grid(True)\n",
        "    plt.show()\n",
        "\n",
        "    return model"
      ],
      "outputs": [],
      "execution_count": 9,
      "metadata": {
        "jupyter": {
          "source_hidden": false,
          "outputs_hidden": false
        },
        "nteract": {
          "transient": {
            "deleting": false
          }
        },
        "gather": {
          "logged": 1717373655974
        }
      }
    },
    {
      "cell_type": "code",
      "source": [
        "! nvidia-smi"
      ],
      "outputs": [
        {
          "output_type": "stream",
          "name": "stdout",
          "text": "Mon Jun  3 00:14:15 2024       \r\n+---------------------------------------------------------------------------------------+\r\n| NVIDIA-SMI 535.154.05             Driver Version: 535.154.05   CUDA Version: 12.2     |\r\n|-----------------------------------------+----------------------+----------------------+\r\n| GPU  Name                 Persistence-M | Bus-Id        Disp.A | Volatile Uncorr. ECC |\r\n| Fan  Temp   Perf          Pwr:Usage/Cap |         Memory-Usage | GPU-Util  Compute M. |\r\n|                                         |                      |               MIG M. |\r\n|=========================================+======================+======================|\r\n|   0  Tesla V100-PCIE-16GB           Off | 00000001:00:00.0 Off |                  Off |\r\n| N/A   32C    P0              37W / 250W |  11342MiB / 16384MiB |      0%      Default |\r\n|                                         |                      |                  N/A |\r\n+-----------------------------------------+----------------------+----------------------+\r\n                                                                                         \r\n+---------------------------------------------------------------------------------------+\r\n| Processes:                                                                            |\r\n|  GPU   GI   CI        PID   Type   Process name                            GPU Memory |\r\n|        ID   ID                                                             Usage      |\r\n|=======================================================================================|\r\n|    0   N/A  N/A      4096      C   /anaconda/envs/generation/bin/python       1988MiB |\r\n|    0   N/A  N/A    656741      C   .../envs/llm-rag-embeddings/bin/python     9350MiB |\r\n+---------------------------------------------------------------------------------------+\r\n"
        }
      ],
      "execution_count": 10,
      "metadata": {
        "jupyter": {
          "source_hidden": false,
          "outputs_hidden": false
        },
        "nteract": {
          "transient": {
            "deleting": false
          }
        },
        "gather": {
          "logged": 1717079256907
        }
      }
    },
    {
      "cell_type": "code",
      "source": [
        "# 모델 학습 \n",
        "model = train_model(model, train_dataset, val_dataset, after_add_Trained_Tokenizer , 20, early_stopping_patience=5)\n",
        "\n",
        "print(len(after_add_Trained_Tokenizer))\n",
        "\n",
        "# 모델 저장\n",
        "save_model(model, after_add_Trained_Tokenizer, \"beomi/kcbert-base\")"
      ],
      "outputs": [
        {
          "output_type": "stream",
          "name": "stdout",
          "text": "True\ncuda\nEpoch 1 completed, Train Loss: 4.727162554777788, Valid Loss: 3.756145347719607, Current LR: 2.2375000000000175e-06\nEpoch 2 completed, Train Loss: 4.334030848181709, Valid Loss: 3.4686498279156894, Current LR: 3.4750000000000353e-06\nEpoch 3 completed, Train Loss: 4.050618487827027, Valid Loss: 3.211669333603071, Current LR: 4.7124999999999655e-06\nEpoch 4 completed, Train Loss: 3.829213365006842, Valid Loss: 3.074985944706461, Current LR: 5.949999999999983e-06\nEpoch 5 completed, Train Loss: 3.637079971271325, Valid Loss: 2.871929137603096, Current LR: 7.1875e-06\nEpoch 6 completed, Train Loss: 3.478320109910069, Valid Loss: 2.8221050163973933, Current LR: 8.425000000000018e-06\nEpoch 7 completed, Train Loss: 3.335305454981261, Valid Loss: 2.6903595302415932, Current LR: 9.662500000000037e-06\nEpoch 8 completed, Train Loss: 3.2114289643356155, Valid Loss: 2.6767838908278425, Current LR: 1.0899999999999967e-05\nEpoch 9 completed, Train Loss: 3.107893974082905, Valid Loss: 2.5223685451175855, Current LR: 1.2137499999999983e-05\nEpoch 10 completed, Train Loss: 3.0347288063217923, Valid Loss: 2.4911410938138547, Current LR: 1.3375000000000002e-05\nEpoch 11 completed, Train Loss: 2.928865296405982, Valid Loss: 2.389020432596621, Current LR: 1.461250000000002e-05\nEpoch 12 completed, Train Loss: 2.8551152588912796, Valid Loss: 2.3868902947591697, Current LR: 1.5850000000000036e-05\nEpoch 13 completed, Train Loss: 2.7998641966456206, Valid Loss: 2.3398554972980334, Current LR: 1.7087499999999968e-05\nEpoch 14 completed, Train Loss: 2.7245756644570367, Valid Loss: 2.2599779950535814, Current LR: 1.8324999999999985e-05\nEpoch 15 completed, Train Loss: 2.6639577585030656, Valid Loss: 2.2731136226135753, Current LR: 1.95625e-05\nEpoch 16 completed, Train Loss: 2.62812726800613, Valid Loss: 2.2046339835809623, Current LR: 2.080000000000002e-05\nEpoch 17 completed, Train Loss: 2.55872755353622, Valid Loss: 2.172044506539469, Current LR: 2.2037500000000038e-05\nEpoch 18 completed, Train Loss: 2.5318673150974083, Valid Loss: 2.1128314072671146, Current LR: 2.3274999999999966e-05\nEpoch 19 completed, Train Loss: 2.466315493399267, Valid Loss: 2.1174778756888015, Current LR: 2.4512499999999986e-05\nEpoch 20 completed, Train Loss: 2.4162776753388715, Valid Loss: 2.048411011695862, Current LR: 2.5750000000000002e-05\n"
        },
        {
          "output_type": "display_data",
          "data": {
            "text/plain": "<Figure size 1200x600 with 1 Axes>",
            "image/png": "[encoded data removed]"
          },
          "metadata": {}
        },
        {
          "output_type": "stream",
          "name": "stdout",
          "text": "30939\n"
        }
      ],
      "execution_count": 12,
      "metadata": {
        "jupyter": {
          "source_hidden": false,
          "outputs_hidden": false
        },
        "nteract": {
          "transient": {
            "deleting": false
          }
        },
        "gather": {
          "logged": 1717377334964
        }
      }
    },
    {
      "cell_type": "code",
      "source": [
        "torch.cuda.is_available()"
      ],
      "outputs": [
        {
          "output_type": "execute_result",
          "execution_count": 44,
          "data": {
            "text/plain": "True"
          },
          "metadata": {}
        }
      ],
      "execution_count": 44,
      "metadata": {
        "jupyter": {
          "source_hidden": true,
          "outputs_hidden": false
        },
        "nteract": {
          "transient": {
            "deleting": false
          }
        },
        "gather": {
          "logged": 1717057464760
        }
      }
    },
    {
      "cell_type": "markdown",
      "source": [
        "@ model : kcBert-base\n",
        "- 기본 : 98 epoch, HITRATE : 0.079\n",
        "- 표준편차를 조정 : 30 epoch, HITRATE : 0.093\n",
        "- 기존 weights freeze : 20 epoch , HITRATE : 0.136295\n",
        "- 레퍼런스 코드 따라한 기본: 188 epoch , HITRATE : 0.07938\n",
        "- ( vocab추가 : 10000 ), vocab 정리, valid set 생성(과적합 탐지), (lr, optim 변경), 기존 weights freeze : 10 epoch HITRATE : 0.14977\n",
        "- ( vocab추가 : 30000 ) , 기존 weights freeze, (dropout : 0.3) : 26 epoch HITRATE : 0.10933\n",
        "- ( vocab추가 : 30000 ) , @@데이터 추가@@, 기존 weights freeze, (dropout : 0.3) : 100 epoch HITRATE : 0.1253\n",
        "- ( vocab추가 : 10000 ) , @@데이터 추가@@, 기존 weights freeze, (dropout : 0.3) : 100 epoch HITRATE :\n",
        "\n",
        "\n",
        "@ model : KcBert-v2023 \n",
        "- ( vocab추가 : 30000 총 79871 ) , 기존 weights freeze, (dropout : 0.3) : _epoch HITRATE : "
      ],
      "metadata": {
        "nteract": {
          "transient": {
            "deleting": false
          }
        }
      }
    },
    {
      "cell_type": "markdown",
      "source": [
        "## for test"
      ],
      "metadata": {
        "nteract": {
          "transient": {
            "deleting": false
          }
        }
      }
    },
    {
      "cell_type": "markdown",
      "source": [
        "토큰학습"
      ],
      "metadata": {
        "nteract": {
          "transient": {
            "deleting": false
          }
        }
      }
    },
    {
      "cell_type": "markdown",
      "source": [
        "토큰 추가 후 최종 토크나이저"
      ],
      "metadata": {
        "nteract": {
          "transient": {
            "deleting": false
          }
        }
      }
    },
    {
      "cell_type": "code",
      "source": [
        "from transformers import BertTokenizerFast\n",
        "text = '  공정변수를 진공성형의 사출성형해석에 요인배치로써 공급부에 중요한 역할을 제공한다. '\n",
        "tokenizer =BertTokenizerFast.from_pretrained(\"/home/azureuser/cloudfiles/code/Users/hb.suh/OUR_BERT/trained_tokenizer/0508test_bertwordpiece/\",do_lower_case=False)\n",
        "# 텍스트 토큰화\n",
        "tokenized_output = tokenizer.encode(text, add_special_tokens=False)\n",
        "print(tokenized_output)\n",
        "print(\"tokenizer len:\",len(tokenizer))\n",
        "# 토큰화 결과 출력\n",
        "for output in tokenized_output:\n",
        "    decoded_output = tokenizer.decode(output)\n",
        "    print(\"Decoded Text:\", decoded_output)"
      ],
      "outputs": [
        {
          "output_type": "stream",
          "name": "stderr",
          "text": "Special tokens have been added in the vocabulary, make sure the associated word embeddings are fine-tuned or trained.\n"
        },
        {
          "output_type": "stream",
          "name": "stdout",
          "text": "[34904, 31027, 33480, 30994, 2255, 31029, 17238, 14639, 11144, 15328, 10302, 17572, 13248, 8008, 17]\ntokenizer len: 36196\nDecoded Text: 공정변수를\nDecoded Text: 진공\nDecoded Text: 성형의\nDecoded Text: 사출성형해석\nDecoded Text: 에\nDecoded Text: 요인\nDecoded Text: 배치\nDecoded Text: ##로써\nDecoded Text: 공급\nDecoded Text: ##부에\nDecoded Text: 중요한\nDecoded Text: 역할을\nDecoded Text: 제공\nDecoded Text: ##한다\nDecoded Text: .\n"
        }
      ],
      "execution_count": 35,
      "metadata": {
        "jupyter": {
          "source_hidden": false,
          "outputs_hidden": false
        },
        "nteract": {
          "transient": {
            "deleting": false
          }
        },
        "gather": {
          "logged": 1715179613825
        }
      }
    },
    {
      "cell_type": "code",
      "source": [
        "from transformers import BertTokenizer\n",
        "\n",
        "text = [\"공정변수가 진공성형의 사출성형해석에 요인배치로써 공급부에 중요한 역할을 제공한다.\"]\n",
        "tokenizer = BertTokenizer.from_pretrained('/home/azureuser/cloudfiles/code/Users/hb.suh/OUR_BERT/trained_tokenizer/bertwordpiece', do_basic_tokenize=False)\n",
        "# 텍스트 토큰화\n",
        "tokenized_output = tokenizer.encode(str(text), add_special_tokens=True)\n",
        "print(tokenized_output)\n",
        "\n",
        "# 토큰화 결과 출력\n",
        "for output in tokenized_output:\n",
        "    decoded_output = tokenizer.decode(output, skip_special_tokens=True)\n",
        "    print(\"Decoded Text:\", decoded_output)"
      ],
      "outputs": [
        {
          "output_type": "stream",
          "name": "stdout",
          "text": "[2, 1, 1, 1785, 4208, 4093, 4572, 4032, 27667, 1, 1, 10302, 17572, 1, 3]\nDecoded Text: [ C L S ]\nDecoded Text: [ U N K ]\nDecoded Text: [ U N K ]\nDecoded Text: 사\nDecoded Text: # # 출\nDecoded Text: # # 성\nDecoded Text: # # 형\nDecoded Text: # # 해\nDecoded Text: # # 석 에\nDecoded Text: [ U N K ]\nDecoded Text: [ U N K ]\nDecoded Text: 중 요 한\nDecoded Text: 역 할 을\nDecoded Text: [ U N K ]\nDecoded Text: [ S E P ]\n"
        }
      ],
      "execution_count": 14,
      "metadata": {
        "jupyter": {
          "source_hidden": false,
          "outputs_hidden": false
        },
        "nteract": {
          "transient": {
            "deleting": false
          }
        },
        "gather": {
          "logged": 1715046387913
        }
      }
    },
    {
      "cell_type": "code",
      "source": [
        "from transformers import BertTokenizerFast\n",
        "text = '  공정변수를 진공성형의 사출성형해석에 요인배치로써 공급부에 중요한 역할을 제공한다. '\n",
        "tokenizer =BertTokenizerFast.from_pretrained(\"/home/azureuser/cloudfiles/code/Users/hb.suh/OUR_BERT/trained_tokenizer/0508test_bertwordpiece/\",do_lower_case=False)\n",
        "# 텍스트 토큰화\n",
        "tokenized_output = tokenizer.encode(text, add_special_tokens=False)\n",
        "print(tokenized_output)\n",
        "print(\"tokenizer len:\",len(tokenizer))\n",
        "# 토큰화 결과 출력\n",
        "for output in tokenized_output:\n",
        "    decoded_output = tokenizer.decode(output)\n",
        "    print(\"Decoded Text:\", decoded_output)"
      ],
      "outputs": [
        {
          "output_type": "stream",
          "name": "stderr",
          "text": "Special tokens have been added in the vocabulary, make sure the associated word embeddings are fine-tuned or trained.\n"
        },
        {
          "output_type": "stream",
          "name": "stdout",
          "text": "[34904, 31027, 33480, 30994, 2255, 31029, 17238, 14639, 11144, 15328, 10302, 17572, 13248, 8008, 17]\ntokenizer len: 36196\nDecoded Text: 공정변수를\nDecoded Text: 진공\nDecoded Text: 성형의\nDecoded Text: 사출성형해석\nDecoded Text: 에\nDecoded Text: 요인\nDecoded Text: 배치\nDecoded Text: ##로써\nDecoded Text: 공급\nDecoded Text: ##부에\nDecoded Text: 중요한\nDecoded Text: 역할을\nDecoded Text: 제공\nDecoded Text: ##한다\nDecoded Text: .\n"
        }
      ],
      "execution_count": 20,
      "metadata": {
        "jupyter": {
          "source_hidden": false,
          "outputs_hidden": false
        },
        "nteract": {
          "transient": {
            "deleting": false
          }
        },
        "gather": {
          "logged": 1715176094596
        }
      }
    },
    {
      "cell_type": "code",
      "source": [
        "# 새 토큰의 ID 확인\n",
        "token_id = tokenizer.convert_tokens_to_ids(\"공정변수\")\n",
        "print(\"Token ID for '공정변수':\", token_id)\n",
        "\n",
        "# 직접 인코딩과 디코딩을 통한 검증\n",
        "encoded_text = tokenizer.encode(\"공정변수\", add_special_tokens=False)\n",
        "decoded_text = tokenizer.decode(encoded_text)\n",
        "print(\"Encoded and Decoded Text:\", decoded_text)"
      ],
      "outputs": [
        {
          "output_type": "stream",
          "name": "stdout",
          "text": "Token ID for '공정변수': 31021\nEncoded and Decoded Text: 공정변수\n"
        }
      ],
      "execution_count": 10,
      "metadata": {
        "jupyter": {
          "source_hidden": false,
          "outputs_hidden": false
        },
        "nteract": {
          "transient": {
            "deleting": false
          }
        },
        "gather": {
          "logged": 1715175503784
        }
      }
    },
    {
      "cell_type": "code",
      "source": [
        "test_str = ' [CLS] 공정변수를 진공성형의 사출성형해석에 요인배치로써 공급부에 중요한 역할을 제공한다. [SEP]'\n",
        "print('테스트 문장: ',test_str)\n",
        "\n",
        "encoded_str = tokenizer.encode(test_str,add_special_tokens=False)\n",
        "print('문장 인코딩: ',encoded_str)\n",
        "\n",
        "decoded_str = tokenizer.decode(encoded_str)\n",
        "print('문장 디코딩: ',decoded_str)"
      ],
      "outputs": [
        {
          "output_type": "stream",
          "name": "stdout",
          "text": "테스트 문장:   [CLS] 공정변수를 진공성형의 사출성형해석에 요인배치로써 공급부에 중요한 역할을 제공한다. [SEP]\n문장 인코딩:  [2, 34904, 31027, 33480, 30994, 2255, 31029, 17238, 14639, 11144, 15328, 10302, 17572, 13248, 8008, 17, 3]\n문장 디코딩:  [CLS] 공정변수를 진공 성형의 사출성형해석 에 요인 배치로써 공급부에 중요한 역할을 제공한다. [SEP]\n"
        }
      ],
      "execution_count": 13,
      "metadata": {
        "jupyter": {
          "source_hidden": false,
          "outputs_hidden": false
        },
        "nteract": {
          "transient": {
            "deleting": false
          }
        },
        "gather": {
          "logged": 1715175558144
        }
      }
    },
    {
      "cell_type": "code",
      "source": [
        "tokenizer = BertTokenizerFast.from_pretrained(\"/home/azureuser/cloudfiles/code/Users/hb.suh/OUR_BERT/trained_tokenizer/0508test_bertwordpiece/\")\n",
        "def chunk_text(text, chunk_size=5100):\n",
        "    token_ids = tokenizer.encode(text, add_special_tokens=False)  # 특수 토큰을 제외하고 인코딩\n",
        "    return [token_ids[i:i + chunk_size] for i in range(0, len(token_ids), chunk_size)]\n",
        "\n",
        "# 예시 텍스트\n",
        "text = \"공정변수를 진공성형의 사출성형해석에 요인배치로써 공급부에 중요한 역할을 제공한다.\"\n",
        "\n",
        "# 텍스트를 청크로 나누기\n",
        "chunks = chunk_text(text)\n",
        "\n",
        "# 각 청크를 별도로 처리\n",
        "for chunk in chunks:\n",
        "    inputs = tokenizer.decode(chunk, skip_special_tokens=True)  # 토큰 ID를 다시 텍스트로 디코드\n",
        "    print(inputs)\n"
      ],
      "outputs": [
        {
          "output_type": "stream",
          "name": "stderr",
          "text": "Special tokens have been added in the vocabulary, make sure the associated word embeddings are fine-tuned or trained.\n"
        },
        {
          "output_type": "stream",
          "name": "stdout",
          "text": "사출성형해석 에 중요한 역할을 제공한다.\n"
        }
      ],
      "execution_count": 5,
      "metadata": {
        "jupyter": {
          "source_hidden": false,
          "outputs_hidden": false
        },
        "nteract": {
          "transient": {
            "deleting": false
          }
        },
        "gather": {
          "logged": 1715143978330
        }
      }
    },
    {
      "cell_type": "code",
      "source": [
        "from transformers import BertTokenizerFast\n",
        "text = '  공정변수를 진공성형의 사출성형해석에 요인배치로써 공급부에 중요한 역할을 제공한다. '\n",
        "tokenizer =BertTokenizerFast.from_pretrained(\"beomi/KcBERT-v2023\",do_lower_case=False)\n",
        "# 텍스트 토큰화\n",
        "tokenized_output = tokenizer.encode(text, add_special_tokens=False)\n",
        "print(tokenized_output)\n",
        "print(\"tokenizer len:\",len(tokenizer))\n",
        "# 토큰화 결과 출력\n",
        "for output in tokenized_output:\n",
        "    decoded_output = tokenizer.decode(output)\n",
        "    print(\"Decoded Text:\", decoded_output)"
      ],
      "outputs": [
        {
          "output_type": "stream",
          "name": "stderr",
          "text": "The tokenizer class you load from this checkpoint is not the same type as the class this function is called from. It may result in unexpected tokenization. \nThe tokenizer class you load from this checkpoint is 'RobertaTokenizer'. \nThe class this function is called from is 'BertTokenizerFast'.\n"
        },
        {
          "output_type": "stream",
          "name": "stdout",
          "text": "[225, 1856, 1221, 3132, 581, 621, 20893, 342, 364, 924, 20893, 322, 10240, 1271, 13342, 11746, 1486, 4736, 11378, 4289, 13756, 7260, 733, 18, 225]\ntokenizer len: 50265\nDecoded Text:  \nDecoded Text:  공정\nDecoded Text: 변\nDecoded Text: 수를\nDecoded Text:  진\nDecoded Text: 공\nDecoded Text: 성형\nDecoded Text: 의\nDecoded Text:  사\nDecoded Text: 출\nDecoded Text: 성형\nDecoded Text: 해\nDecoded Text: 석에\nDecoded Text:  요\nDecoded Text: 인배\nDecoded Text: 치로\nDecoded Text: 써\nDecoded Text:  공급\nDecoded Text: 부에\nDecoded Text:  중요한\nDecoded Text:  역할을\nDecoded Text:  제공\nDecoded Text: 한다\nDecoded Text: .\nDecoded Text:  \n"
        }
      ],
      "execution_count": 26,
      "metadata": {
        "jupyter": {
          "source_hidden": false,
          "outputs_hidden": false
        },
        "nteract": {
          "transient": {
            "deleting": false
          }
        },
        "gather": {
          "logged": 1717049671425
        }
      }
    },
    {
      "cell_type": "code",
      "source": [],
      "outputs": [],
      "execution_count": null,
      "metadata": {
        "jupyter": {
          "source_hidden": false,
          "outputs_hidden": false
        },
        "nteract": {
          "transient": {
            "deleting": false
          }
        }
      }
    }
  ],
  "metadata": {
    "kernelspec": {
      "name": "llm-rag-embeddings",
      "language": "python",
      "display_name": "genai"
    },
    "language_info": {
      "name": "python",
      "version": "3.8.19",
      "mimetype": "text/x-python",
      "codemirror_mode": {
        "name": "ipython",
        "version": 3
      },
      "pygments_lexer": "ipython3",
      "nbconvert_exporter": "python",
      "file_extension": ".py"
    },
    "kernel_info": {
      "name": "llm-rag-embeddings"
    },
    "microsoft": {
      "host": {
        "AzureML": {
          "notebookHasBeenCompleted": true
        }
      }
    },
    "nteract": {
      "version": "nteract-front-end@1.0.0"
    }
  },
  "nbformat": 4,
  "nbformat_minor": 2
}