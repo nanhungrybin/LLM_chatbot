{
  "cells": [
    {
      "cell_type": "code",
      "source": [
        "import sys\n",
        "sys.path.append(\"//anaconda/envs/azureml_py38/bin/python\")\n",
        "import torch\n",
        "from torch.utils.data import DataLoader\n",
        "from transformers import BertTokenizerFast, BertForMaskedLM, BertConfig, AdamW\n",
        "from transformers import DataCollatorForLanguageModeling\n",
        "from tokenizers import BertWordPieceTokenizer\n",
        "from datasets import load_dataset\n",
        "import os\n",
        "from datetime import datetime\n",
        "import os\n",
        "import matplotlib.pyplot as plt\n",
        "os.environ['CUDA_LAUNCH_BLOCKING'] = \"1\"\n",
        "os.environ[\"CUDA_VISIBLE_DEVICES\"] = \"0\"\n",
        "os.environ[\"TOKENIZERS_PARALLELISM\"] = \"false\""
      ],
      "outputs": [],
      "execution_count": 18,
      "metadata": {
        "gather": {
          "logged": 1714577810750
        }
      },
      "id": "d5beb215-d337-4bf3-b18f-eece24ac9b9e"
    },
    {
      "cell_type": "code",
      "source": [
        "# len(after_add_Trained_Tokenizer)"
      ],
      "outputs": [],
      "execution_count": 19,
      "metadata": {
        "jupyter": {
          "source_hidden": false,
          "outputs_hidden": false
        },
        "nteract": {
          "transient": {
            "deleting": false
          }
        },
        "gather": {
          "logged": 1714577812502
        }
      },
      "id": "720e66a3-075b-4a38-b1fc-c2803f60c155"
    },
    {
      "cell_type": "code",
      "source": [
        "# 1. 토크나이저 초기화 및 훈련\n",
        "\n",
        "def train_tokenizer(text_file):\n",
        "\n",
        "    # # BertWordPieceTokenizer 인스턴스 생성\n",
        "    # tokenizer = BertWordPieceTokenizer(clean_text=True, handle_chinese_chars=True, strip_accents=True, lowercase=True)\n",
        "    \n",
        "    # # 토크나이저 훈련\n",
        "    # # min_frequency 10, new vocab_size 3000 으로 설정해서 토크나이저 재훈련\n",
        "    # tokenizer.train(files=text_file, vocab_size=15000, min_frequency=10, limit_alphabet=1000, special_tokens=[\n",
        "    #     \"[PAD]\", \"[UNK]\", \"[CLS]\", \"[SEP]\", \"[MASK]\"\n",
        "    # ])\n",
        "\n",
        "    # BertWordPieceTokenizer 인스턴스 생성\n",
        "    tokenizer = BertWordPieceTokenizer(clean_text=True, handle_chinese_chars=True, strip_accents=False, lowercase=False, wordpieces_prefix=\"##\")\n",
        "\n",
        "    # 훈련하기\n",
        "    tokenizer.train(\n",
        "        file_paths,\n",
        "        vocab_size=10000,\n",
        "        min_frequency=10,\n",
        "        show_progress=True,\n",
        "        special_tokens = [\"[PAD]\", \"[CLS]\", \"[UNK]\", \"[SEP]\", \"[MASK]\"],\n",
        "        wordpieces_prefix=\"##\",\n",
        "    )\n",
        "    \n",
        "    # 저장할 디렉토리 경로    \n",
        "    save_path = \"/home/azureuser/cloudfiles/code/Users/hb.suh/OUR_BERT/trained_tokenizer\"\n",
        "    \n",
        "    # 디렉토리가 없으면 생성\n",
        "    if not os.path.exists(save_path):\n",
        "        os.makedirs(save_path)\n",
        "    \n",
        "    # 토크나이저 모델 저장\n",
        "    tokenizer.save_model(save_path)\n",
        "\n",
        "    return tokenizer\n",
        "    \n",
        "    \n",
        "    \n",
        "# 2. 데이터셋 토큰화\n",
        "\n",
        "def tokenize_data(tokenizer, dataset):\n",
        "    def tokenize_function(examples):\n",
        "        # tokenizer의 결과에서 'input_ids'와 'attention_mask'만 반환하도록 수정 #128\n",
        "        tokenized_output = tokenizer(examples['text'], max_length=128, truncation=True, padding=\"max_length\", return_tensors=\"pt\")\n",
        "        return {'input_ids': tokenized_output['input_ids'], 'attention_mask': tokenized_output['attention_mask']}\n",
        "    return dataset.map(tokenize_function, batched=True, remove_columns=['text'])\n",
        "\n",
        "\n",
        "\n",
        "\n",
        "\n",
        "# 3. & 4. 모델 임베딩 크기 조정 및 새로운 토큰 추가\n",
        "\n",
        "def add_new_token(Trained_Tokenizer, new_tokenizer):\n",
        "\n",
        "    vocab_file_path = \"/home/azureuser/cloudfiles/code/Users/hb.suh/OUR_BERT/trained_tokenizer/vocab.txt\"\n",
        "\n",
        "    # 새로운 토크나이저 로드\n",
        "    new_tokenizer = BertTokenizerFast.from_pretrained('beomi/kcbert-base')\n",
        "    len(new_tokenizer)\n",
        "\n",
        "    new_tokens_added = 0\n",
        "    new_vocab = {}  # 새로운 토큰과 아이디를 담을 딕셔너리\n",
        "\n",
        "    # 기존의 토크나이저 vocab에서 새로운 토큰들을 제외하고 아이디 부여\n",
        "    with open(vocab_file_path, 'r', encoding='utf-8') as f:\n",
        "        for line in f:\n",
        "            token = line.strip()  # 줄바꿈 문자를 제거하여 토큰만 가져옴\n",
        "            if token not in new_tokenizer.get_vocab():\n",
        "                new_tokenizer.add_tokens(token)\n",
        "                new_tokens_added += 1\n",
        "                new_vocab[token] = len(new_tokenizer) - 1  # 새로운 토큰에 새로운 아이디 부여\n",
        "\n",
        "    print(\"new_tokens_added : \", new_tokens_added)\n",
        "    print(len(new_tokenizer))\n",
        "\n",
        "    # 토크나이저 모델 파일 저장\n",
        "    tokenizer_model_path = \"/home/azureuser/cloudfiles/code/Users/hb.suh/OUR_BERT/trained_tokenizer/ADD1000_tokenizer_model\"\n",
        "    new_tokenizer.save_pretrained(tokenizer_model_path)\n",
        "\n",
        "    len(new_tokenizer)\n",
        "\n",
        "    print(f\"Added {new_tokens_added} new tokens\")\n",
        "\n",
        "    # 새로운 토큰과 아이디를 vocab.txt 파일에 저장\n",
        "    with open(tokenizer_model_path + \"/vocab.txt\", 'a', encoding='utf-8') as lf:\n",
        "        for token, idx in new_vocab.items():\n",
        "            lf.write(f\"{token}\\t{idx}\\n\")\n",
        "\n",
        "    print(f\"Added {new_tokens_added} new tokens\")\n",
        "\n",
        "    \n",
        "\n",
        "\n",
        "\n",
        "def resize_and_initialize_embeddings(model, tokenizer, old_tokenizer=None):\n",
        "    # 모델의 원래 토큰 임베딩 크기\n",
        "    original_num_tokens = model.config.vocab_size if old_tokenizer is None else len(old_tokenizer)\n",
        "    \n",
        "    # 새 토크나이저에 따른 임베딩 크기 조정\n",
        "    new_num_tokens = len(tokenizer)\n",
        "    model.resize_token_embeddings(new_num_tokens)\n",
        "\n",
        "    # 임베딩 레이어에 접근\n",
        "    embeddings = model.get_input_embeddings()\n",
        "    \n",
        "    # 새로운 토큰이 추가되었을 경우\n",
        "    if new_num_tokens > original_num_tokens:\n",
        "        # 기존 임베딩의 평균과 표준편차 계산\n",
        "        with torch.no_grad():\n",
        "            old_embeddings = embeddings.weight[:original_num_tokens]\n",
        "            mean, std = old_embeddings.mean(dim=0), old_embeddings.std(dim=0)\n",
        "            # 새로운 토큰의 임베딩 초기화\n",
        "            new_embeddings = torch.randn(new_num_tokens - original_num_tokens, embeddings.embedding_dim)\n",
        "            new_embeddings = mean + std * new_embeddings\n",
        "            embeddings.weight[original_num_tokens:] = new_embeddings\n",
        "\n",
        "    return model\n",
        "\n",
        "# def resize_and_initialize_embeddings(model, tokenizer, old_tokenizer=None):\n",
        "\n",
        "#     # old tokenizer : transformer 기반의 원래 사용하려고 했던 토크나이저\n",
        "    \n",
        "#     # 모델의 원래 토큰 임베딩 크기\n",
        "#     original_num_tokens = model.config.vocab_size if old_tokenizer is None else len(old_tokenizer)\n",
        "    \n",
        "#     # 새 토크나이저( 학습한 토크나이저 ) 에 따른 임베딩 크기 조정\n",
        "#     new_num_tokens = len(tokenizer)\n",
        "#     model.resize_token_embeddings(new_num_tokens)\n",
        "\n",
        "#     # 임베딩 레이어에 접근\n",
        "#     embeddings = model.get_input_embeddings()\n",
        "    \n",
        "#     # 새로운 토큰이 추가되었을 경우\n",
        "#     if new_num_tokens > original_num_tokens:\n",
        "#         # 기존 임베딩의 평균과 표준편차 계산\n",
        "#         with torch.no_grad():\n",
        "#             # 새로운 토큰의 임베딩 초기화\n",
        "#             new_embeddings = torch.randn(new_num_tokens - original_num_tokens, embeddings.embedding_dim)\n",
        "#             embeddings.weight[original_num_tokens:] = new_embeddings  # 새로운 토큰에 대해서만 임베딩을 초기화\n",
        "\n",
        "#     # 기존 임베딩의 가중치를 freeze\n",
        "#     for param in embeddings.parameters():\n",
        "#         param.requires_grad = False  # 모든 임베딩 파라미터에 대해 gradient 업데이트 비활성화\n",
        "\n",
        "#     # 새로 추가된 임베딩에 대해서만 gradient 업데이트를 활성화\n",
        "#     for i in range(original_num_tokens, new_num_tokens):\n",
        "#         embeddings.weight[i].requires_grad = True\n",
        "\n",
        "#     return model\n",
        "\n",
        "\n",
        "from transformers import get_linear_schedule_with_warmup\n",
        "\n",
        "def train_model(model, train_dataset, tokenizer, EPOCH, early_stopping_patience = None):\n",
        "    device = torch.device(\"cuda:0\" if torch.cuda.is_available() else \"cpu\")\n",
        "    model.to(device)\n",
        "    \n",
        "    # 옵티마이저와 스케줄러를 설정합니다.\n",
        "    optimizer = torch.optim.AdamW(model.parameters(), lr=1e-6)\n",
        "    total_steps = len(train_dataset) * EPOCH \n",
        "    \n",
        "    # 학습률이 주기적으로 높아졌다가 낮아지도록 설정되며, \n",
        "    # 처음에는 낮은 학습률에서 시작하여 점차 학습률을 높인 뒤 다시 낮추는 방식으로 진행\n",
        "    scheduler = torch.optim.lr_scheduler.CyclicLR(optimizer, \n",
        "                                                  base_lr=1e-6,  # 최소 학습률\n",
        "                                                  max_lr=5e-5,  # 최대 학습률\n",
        "                                                  step_size_up=total_steps // 4,  # 학습률이 증가하는 스텝 수\n",
        "                                                  step_size_down=total_steps - total_steps // 4,  # 감소하는 스텝 수\n",
        "                                                  mode='triangular',\n",
        "                                                  cycle_momentum=False)  # 'triangular', 'triangular2' 또는 'exp_range'\n",
        "    \n",
        "    data_collator = DataCollatorForLanguageModeling(tokenizer=tokenizer, mlm=True, mlm_probability=0.15)\n",
        "    train_loader = DataLoader(train_dataset, batch_size=16, collate_fn=data_collator)\n",
        "    model.train()\n",
        "\n",
        "    losses = []\n",
        "    best_loss = float('inf')\n",
        "    patience_counter = 0  # for the early stopping\n",
        "\n",
        "    for epoch in range(EPOCH):\n",
        "\n",
        "        epoch_losses = []  \n",
        "\n",
        "        for batch in train_loader:\n",
        "            batch = {k: v.to(device) for k, v in batch.items()}\n",
        "            outputs = model(**batch)\n",
        "            loss = outputs.loss\n",
        "            \n",
        "            loss.backward()\n",
        "            \n",
        "            # 그라디언트 클리핑을 적용하여 그라디언트 폭발을 방지합니다.\n",
        "            # torch.nn.utils.clip_grad_norm_(model.parameters(), max_norm=1.0)\n",
        "            \n",
        "            optimizer.step()\n",
        "            scheduler.step()  # 학습률을 업데이트합니다.\n",
        "            optimizer.zero_grad()\n",
        "\n",
        "            epoch_losses.append(loss.item())  # 현재 배치의 loss 값을 저장\n",
        "\n",
        "        # 현재 epoch의 평균 loss 값을 계산하여 출력\n",
        "        epoch_loss_mean = sum(epoch_losses) / len(epoch_losses)\n",
        "        print(f\"Epoch {epoch + 1} completed, Loss: {loss.item()}, Current LR: {scheduler.get_last_lr()[0]}\")\n",
        "        losses.extend(epoch_losses)\n",
        "\n",
        "        # early stopping 체크\n",
        "        if epoch_loss_mean < best_loss:\n",
        "            best_loss = epoch_loss_mean\n",
        "            patience_counter = 0  # 성능이 개선되면 카운터 초기화\n",
        "        else:\n",
        "            patience_counter += 1  # 성능이 개선되지 않으면 카운터 증가\n",
        "\n",
        "        if patience_counter >= early_stopping_patience:\n",
        "            print(f\"Early stopping at epoch {epoch + 1} as no improvement in loss.\")\n",
        "            break\n",
        "\n",
        "\n",
        "    # Loss 함수 시각화\n",
        "    plt.plot(losses)\n",
        "    plt.xlabel('Batch')\n",
        "    plt.ylabel('Loss')\n",
        "    plt.title('Training Loss Trend')\n",
        "    plt.show()\n",
        "\n",
        "    return model\n",
        "\n",
        "\n",
        "\n",
        "def save_model(model, tokenizer, pretrained_model_name):\n",
        "\n",
        "    safe_model_name = pretrained_model_name.replace(\"/\", \"-\")\n",
        "    # 현재 날짜와 시간을 포함한 디렉토리 이름을 생성\n",
        "    timestamp = datetime.now().strftime(\"%Y-%m-%d_%H-%M-%S\")\n",
        "    directory = f\"/home/azureuser/cloudfiles/code/Users/hb.suh/OUR_BERT/MLM_trained_model/{safe_model_name}_CyclicLRtriangular-{timestamp}\"\n",
        "\n",
        "    # 디렉토리가 존재하지 않으면 생성\n",
        "    if not os.path.exists(directory):\n",
        "        os.makedirs(directory)\n",
        "\n",
        "    # 모델과 토크나이저를 사전 훈련된 디렉토리에 저장\n",
        "    model.save_pretrained(directory)\n",
        "    tokenizer.save_pretrained(directory)\n",
        "    \n"
      ],
      "outputs": [],
      "execution_count": 20,
      "metadata": {
        "gather": {
          "logged": 1714577814926
        }
      },
      "id": "55792a61-d121-4ee3-b48b-19044549d281"
    },
    {
      "cell_type": "code",
      "source": [
        "if __name__ == \"__main__\":\n",
        "  \n",
        "    # 경로 설정 : 데이터를 읽어오는 곳\n",
        "    \n",
        "    path = \"/home/azureuser/cloudfiles/code/Users/hb.suh/사출성형/tokenizer_data/\"\n",
        "\n",
        "    all_texts = []\n",
        "\n",
        "    # 폴더 내의 모든 txt 파일의 데이터를 모음\n",
        "    for file in os.listdir(path):\n",
        "        if file.endswith('.txt'):\n",
        "            file_path = os.path.join(path, file)\n",
        "            with open(file_path, 'r', encoding='utf-8') as f:\n",
        "                all_texts.append(f.read())\n",
        "    \n",
        "    file_paths = [os.path.join(path, file) for file in os.listdir(path) if file.endswith('.txt')] #list\n",
        "\n",
        "    \n",
        "    # 데이터셋 로드\n",
        "    dataset = load_dataset('text', data_files=file_paths, cache_dir='/home/azureuser/cloudfiles/code/Users/hb.suh/cache')\n",
        "    \n",
        "\n",
        "    # file_paths로 제공된 데이터로 토크나이저 훈련\n",
        "    Trained_Tokenizer = train_tokenizer(file_paths)\n"
      ],
      "outputs": [
        {
          "output_type": "stream",
          "name": "stdout",
          "text": "\n\n\n"
        }
      ],
      "execution_count": 21,
      "metadata": {
        "gather": {
          "logged": 1714577985957
        }
      },
      "id": "d6dea74f-70d0-41e2-bc50-ce0286581418"
    },
    {
      "cell_type": "code",
      "source": [
        "from transformers import AutoTokenizer, AutoModel\n",
        "from transformers import AutoModelForMaskedLM\n",
        "\n",
        "# 새로운 토크나이저 로드\n",
        "new_tokenizer = BertTokenizerFast.from_pretrained('beomi/kcbert-base')\n",
        "model = BertForMaskedLM.from_pretrained('beomi/kcbert-base')\n",
        "\n",
        "\n",
        "# add new vocab 그리고 초기화\n",
        "\n",
        "add_new_token(Trained_Tokenizer, new_tokenizer) # Test 1 : new_tokens_added # 2770 개 \n",
        "\n"
      ],
      "outputs": [
        {
          "output_type": "stream",
          "name": "stderr",
          "text": "Some weights of the model checkpoint at beomi/kcbert-base were not used when initializing BertForMaskedLM: ['bert.pooler.dense.bias', 'bert.pooler.dense.weight', 'cls.seq_relationship.bias', 'cls.seq_relationship.weight']\n- This IS expected if you are initializing BertForMaskedLM from the checkpoint of a model trained on another task or with another architecture (e.g. initializing a BertForSequenceClassification model from a BertForPreTraining model).\n- This IS NOT expected if you are initializing BertForMaskedLM from the checkpoint of a model that you expect to be exactly identical (initializing a BertForSequenceClassification model from a BertForSequenceClassification model).\n"
        },
        {
          "output_type": "stream",
          "name": "stdout",
          "text": "new_tokens_added :  14679\n44679\nAdded 14679 new tokens\nAdded 14679 new tokens\n"
        }
      ],
      "execution_count": 22,
      "metadata": {
        "tags": [],
        "gather": {
          "logged": 1714578931088
        }
      },
      "id": "19f14ea4-9a5d-41b7-aed0-c7673d613aec"
    },
    {
      "cell_type": "code",
      "source": [
        "after_add_Trained_Tokenizer = BertTokenizerFast.from_pretrained(\"/home/azureuser/cloudfiles/code/Users/hb.suh/OUR_BERT/trained_tokenizer/ADD1000_tokenizer_model\")\n",
        "\n",
        "model = resize_and_initialize_embeddings(model, after_add_Trained_Tokenizer )\n",
        "print(len(after_add_Trained_Tokenizer))\n",
        "\n",
        "train_dataset = dataset['train']\n",
        "tokenized_datasets = tokenize_data(after_add_Trained_Tokenizer, train_dataset)\n",
        "model.resize_token_embeddings(len(after_add_Trained_Tokenizer))\n",
        "# 모델 학습 \n",
        "model = train_model(model, tokenized_datasets, after_add_Trained_Tokenizer , 20, early_stopping_patience=5)\n",
        "\n",
        "print(len(after_add_Trained_Tokenizer))\n",
        "\n",
        "# 모델 저장\n",
        "save_model(model, after_add_Trained_Tokenizer, \"kcbert-base\")"
      ],
      "outputs": [
        {
          "output_type": "stream",
          "name": "stderr",
          "text": "Special tokens have been added in the vocabulary, make sure the associated word embeddings are fine-tuned or trained.\nMap: 100%|██████████| 942/942 [00:10<00:00, 91.39 examples/s]\n"
        },
        {
          "output_type": "stream",
          "name": "stdout",
          "text": "44679\nEpoch 1 completed, Loss: 3.5609915256500244, Current LR: 1.6138004246284554e-06\nEpoch 2 completed, Loss: 3.716280221939087, Current LR: 2.2276008492569107e-06\nEpoch 3 completed, Loss: 3.64831805229187, Current LR: 2.8414012738853666e-06\nEpoch 4 completed, Loss: 3.400723695755005, Current LR: 3.4552016985138216e-06\nEpoch 5 completed, Loss: 3.535951852798462, Current LR: 4.0690021231422335e-06\nEpoch 6 completed, Loss: 3.145925521850586, Current LR: 4.682802547770689e-06\nEpoch 7 completed, Loss: 3.444678544998169, Current LR: 5.296602972399144e-06\nEpoch 8 completed, Loss: 2.6941888332366943, Current LR: 5.9104033970276e-06\nEpoch 9 completed, Loss: 3.448493242263794, Current LR: 6.524203821656055e-06\nEpoch 10 completed, Loss: 3.2533230781555176, Current LR: 7.138004246284511e-06\nEpoch 11 completed, Loss: 3.137188196182251, Current LR: 7.751804670912966e-06\nEpoch 12 completed, Loss: 2.924555778503418, Current LR: 8.365605095541422e-06\nEpoch 13 completed, Loss: 2.7061407566070557, Current LR: 8.979405520169834e-06\nEpoch 14 completed, Loss: 2.9879543781280518, Current LR: 9.59320594479829e-06\nEpoch 15 completed, Loss: 2.3386683464050293, Current LR: 1.0207006369426746e-05\nEpoch 16 completed, Loss: 2.540288209915161, Current LR: 1.0820806794055202e-05\nEpoch 17 completed, Loss: 2.595729112625122, Current LR: 1.1434607218683656e-05\nEpoch 18 completed, Loss: 2.679119348526001, Current LR: 1.2048407643312112e-05\nEpoch 19 completed, Loss: 2.9834773540496826, Current LR: 1.2662208067940568e-05\nEpoch 20 completed, Loss: 2.5615079402923584, Current LR: 1.3276008492569024e-05\n"
        },
        {
          "output_type": "display_data",
          "data": {
            "text/plain": "<Figure size 640x480 with 1 Axes>",
            "image/png": "[encoded data removed]"
          },
          "metadata": {}
        },
        {
          "output_type": "stream",
          "name": "stdout",
          "text": "44679\n"
        }
      ],
      "execution_count": 23,
      "metadata": {
        "jupyter": {
          "source_hidden": false,
          "outputs_hidden": false
        },
        "nteract": {
          "transient": {
            "deleting": false
          }
        },
        "gather": {
          "logged": 1714579288230
        }
      },
      "id": "72bfbee6-9e75-4ad2-ba3a-a04f4ce3df76"
    },
    {
      "cell_type": "code",
      "source": [
        "# 15-16-15\n",
        "# "
      ],
      "outputs": [],
      "execution_count": null,
      "metadata": {
        "jupyter": {
          "source_hidden": false,
          "outputs_hidden": false
        },
        "nteract": {
          "transient": {
            "deleting": false
          }
        }
      },
      "id": "8a4a8636-db32-4599-899d-d7fe6baf94ba"
    },
    {
      "cell_type": "code",
      "source": [],
      "outputs": [],
      "execution_count": null,
      "metadata": {
        "jupyter": {
          "source_hidden": false,
          "outputs_hidden": false
        },
        "nteract": {
          "transient": {
            "deleting": false
          }
        }
      },
      "id": "3cc388f3-084d-42a4-9024-a6d7bfb57abb"
    },
    {
      "cell_type": "code",
      "source": [],
      "outputs": [],
      "execution_count": null,
      "metadata": {
        "jupyter": {
          "source_hidden": false,
          "outputs_hidden": false
        },
        "nteract": {
          "transient": {
            "deleting": false
          }
        }
      },
      "id": "143cffd5-861c-4411-80a4-ee045f5e96b5"
    }
  ],
  "metadata": {
    "kernelspec": {
      "name": "llm-rag-embeddings",
      "language": "python",
      "display_name": "genai"
    },
    "language_info": {
      "name": "python",
      "version": "3.8.19",
      "mimetype": "text/x-python",
      "codemirror_mode": {
        "name": "ipython",
        "version": 3
      },
      "pygments_lexer": "ipython3",
      "nbconvert_exporter": "python",
      "file_extension": ".py"
    },
    "kernel_info": {
      "name": "llm-rag-embeddings"
    },
    "nteract": {
      "version": "nteract-front-end@1.0.0"
    },
    "microsoft": {
      "host": {
        "AzureML": {
          "notebookHasBeenCompleted": true
        }
      }
    }
  },
  "nbformat": 4,
  "nbformat_minor": 5
}