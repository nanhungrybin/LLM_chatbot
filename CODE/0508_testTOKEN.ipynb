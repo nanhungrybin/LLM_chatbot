{
  "cells": [
    {
      "cell_type": "code",
      "source": [
        "import sys\n",
        "sys.path.append(\"//anaconda/envs/azureml_py38/bin/python\")\n",
        "import torch\n",
        "from torch.utils.data import DataLoader\n",
        "from transformers import BertTokenizerFast, BertForMaskedLM, BertConfig, AdamW\n",
        "from transformers import DataCollatorForLanguageModeling\n",
        "from tokenizers import BertWordPieceTokenizer\n",
        "from datasets import load_dataset\n",
        "import os\n",
        "from datetime import datetime\n",
        "import os\n",
        "import matplotlib.pyplot as plt\n",
        "os.environ['CUDA_LAUNCH_BLOCKING'] = \"1\"\n",
        "os.environ[\"CUDA_VISIBLE_DEVICES\"] = \"0\"\n",
        "os.environ[\"TOKENIZERS_PARALLELISM\"] = \"false\""
      ],
      "outputs": [
        {
          "output_type": "stream",
          "name": "stderr",
          "text": "/anaconda/envs/llm-rag-embeddings/lib/python3.8/site-packages/tqdm/auto.py:21: TqdmWarning: IProgress not found. Please update jupyter and ipywidgets. See https://ipywidgets.readthedocs.io/en/stable/user_install.html\n  from .autonotebook import tqdm as notebook_tqdm\n"
        }
      ],
      "execution_count": 1,
      "metadata": {
        "gather": {
          "logged": 1715216215361
        }
      }
    },
    {
      "cell_type": "code",
      "source": [
        "# 경로 설정 : 데이터를 읽어오는 곳\n",
        "    \n",
        "path = \"/home/azureuser/cloudfiles/code/Users/hb.suh/사출성형/tokenizer_data/\"\n",
        "\n",
        "all_texts = []\n",
        "\n",
        "# 폴더 내의 모든 txt 파일의 데이터를 모음\n",
        "for file in os.listdir(path):\n",
        "    if file.endswith('.txt'):\n",
        "        file_path = os.path.join(path, file)\n",
        "        with open(file_path, 'r', encoding='utf-8') as f:\n",
        "            all_texts.append(f.read())\n",
        "\n",
        "file_paths = [os.path.join(path, file) for file in os.listdir(path) if file.endswith('.txt')] #list\n",
        "\n",
        "\n",
        "# 데이터셋 로드\n",
        "dataset = load_dataset('text', data_files=file_paths, cache_dir='/home/azureuser/cloudfiles/code/Users/hb.suh/cache')"
      ],
      "outputs": [],
      "execution_count": 2,
      "metadata": {
        "jupyter": {
          "source_hidden": false,
          "outputs_hidden": false
        },
        "nteract": {
          "transient": {
            "deleting": false
          }
        },
        "gather": {
          "logged": 1715216217489
        }
      }
    },
    {
      "cell_type": "code",
      "source": [
        "from tokenizers import BertWordPieceTokenizer\n",
        "\n",
        "# BertWordPieceTokenizer 인스턴스 생성\n",
        "tokenizer = BertWordPieceTokenizer(clean_text=True, handle_chinese_chars=True, strip_accents=False, lowercase=False, wordpieces_prefix=\"##\")\n",
        "\n",
        "# 훈련하기\n",
        "tokenizer.train(\n",
        "    file_paths,\n",
        "    vocab_size=10000,\n",
        "    min_frequency=10,\n",
        "    show_progress=True,\n",
        "    special_tokens = [\"[PAD]\", \"[CLS]\", \"[UNK]\", \"[SEP]\", \"[MASK]\"],\n",
        "    wordpieces_prefix=\"##\",\n",
        ")\n",
        "\n",
        "\n",
        "# 저장할 디렉토리 경로    \n",
        "save_path = \"/home/azureuser/cloudfiles/code/Users/hb.suh/OUR_BERT/trained_tokenizer/0508test_bertwordpiece\"\n",
        "\n",
        "# 디렉토리가 없으면 생성\n",
        "if not os.path.exists(save_path):\n",
        "    os.makedirs(save_path)\n",
        "\n",
        "# 토크나이저 모델 저장\n",
        "tokenizer.save_model(save_path)\n",
        "\n",
        "# from tokenizers import ByteLevelBPETokenizer\n",
        "\n",
        "# # ByteLevelBPETokenizer 인스턴스 생성\n",
        "# tokenizer = ByteLevelBPETokenizer()\n",
        "\n",
        "# # 훈련하기\n",
        "# tokenizer.train(\n",
        "#     files=file_paths,  # 훈련할 텍스트 파일 경로 리스트\n",
        "#     vocab_size=10000,  # 어휘 사전의 최대 크기\n",
        "#     min_frequency=10,  # 토큰이 어휘 사전에 포함되기 위한 최소 빈도\n",
        "#     show_progress=True,  # 진행 상황 표시\n",
        "#     special_tokens=[\"[PAD]\", \"[CLS]\", \"[UNK]\", \"[SEP]\", \"[MASK]\"]  # 특수 토큰 추가\n",
        "# )\n",
        "\n",
        "# # 저장할 디렉토리 경로\n",
        "# save_path = \"/home/azureuser/cloudfiles/code/Users/hb.suh/OUR_BERT/trained_tokenizer/0508test_bertwordpiece\"\n",
        "\n",
        "# # 디렉토리가 없으면 생성\n",
        "# if not os.path.exists(save_path):\n",
        "#     os.makedirs(save_path)\n",
        "\n",
        "# # tokenizer 모델 저장\n",
        "# tokenizer.save_model(save_path)\n",
        "\n"
      ],
      "outputs": [
        {
          "output_type": "stream",
          "name": "stdout",
          "text": "\n\n\n"
        },
        {
          "output_type": "execute_result",
          "execution_count": 3,
          "data": {
            "text/plain": "['/home/azureuser/cloudfiles/code/Users/hb.suh/OUR_BERT/trained_tokenizer/0508test_bertwordpiece/vocab.txt']"
          },
          "metadata": {}
        }
      ],
      "execution_count": 3,
      "metadata": {
        "jupyter": {
          "source_hidden": false,
          "outputs_hidden": false
        },
        "nteract": {
          "transient": {
            "deleting": false
          }
        },
        "gather": {
          "logged": 1715175047255
        }
      }
    },
    {
      "cell_type": "code",
      "source": [
        "#vocab_file_path = \"/home/azureuser/cloudfiles/code/Users/hb.suh/OUR_BERT/trained_tokenizer/vocab.txt\"\n",
        "\n",
        "# 새로운 토크나이저 로드\n",
        "new_tokenizer = BertTokenizerFast.from_pretrained('beomi/kcbert-base')\n",
        "model = BertForMaskedLM.from_pretrained('beomi/kcbert-base')\n",
        "len(new_tokenizer)\n",
        "\n",
        "new_tokens_added = 0\n",
        "new_vocab = {}  # 새로운 토큰과 아이디를 담을 딕셔너리\n",
        "\n",
        "path = \"/home/azureuser/cloudfiles/code/Users/hb.suh/OUR_BERT/trained_tokenizer/0508test_bertwordpiece/vocab.txt\"\n",
        "# 기존의 토크나이저 vocab에서 새로운 토큰들을 제외하고 아이디 부여\n",
        "with open(path, 'r', encoding='utf-8') as f:\n",
        "    for line in f:\n",
        "        token = line.strip()  # 줄바꿈 문자를 제거하여 토큰만 가져옴\n",
        "        if token not in new_tokenizer.get_vocab():\n",
        "            new_tokenizer.add_tokens(token)\n",
        "            new_tokens_added += 1\n",
        "            new_vocab[token] = len(new_tokenizer) - 1  # 새로운 토큰에 새로운 아이디 부여\n",
        "\n",
        "        else:\n",
        "            # 토큰이 이미 존재하면, 기존 ID 사용\n",
        "            new_vocab[token] = new_tokenizer.convert_tokens_to_ids(token)\n",
        "\n",
        "print(\"new_tokens_added : \", new_tokens_added)\n",
        "print(len(new_tokenizer))\n",
        "\n",
        "# 토크나이저 모델 파일 저장\n",
        "tokenizer_model_path = \"/home/azureuser/cloudfiles/code/Users/hb.suh/OUR_BERT/trained_tokenizer/0508test_bertwordpiece\"\n",
        "new_tokenizer.save_pretrained(tokenizer_model_path)\n",
        "\n",
        "len(new_tokenizer)\n",
        "\n",
        "print(f\"Added {new_tokens_added} new tokens\")\n",
        "\n",
        "#  vocab.txt 또는 tokenizer.json 파일 중 하나만 있어도 토크나이저를 성공적으로 로드하고 사용할 수 있습니다. \n",
        "\n",
        "# # 새로운 토큰과 아이디를 vocab.txt 파일에 저장\n",
        "# with open(tokenizer_model_path + \"/vocab.txt\", 'a', encoding='utf-8') as lf:\n",
        "#     for token, idx in new_vocab.items():\n",
        "#         lf.write(f\"{token}\\t{idx}\\n\")\n",
        "\n",
        "# print(f\"Added {new_tokens_added} new tokens\")"
      ],
      "outputs": [
        {
          "output_type": "stream",
          "name": "stderr",
          "text": "Some weights of the model checkpoint at beomi/kcbert-base were not used when initializing BertForMaskedLM: ['bert.pooler.dense.bias', 'bert.pooler.dense.weight', 'cls.seq_relationship.bias', 'cls.seq_relationship.weight']\n- This IS expected if you are initializing BertForMaskedLM from the checkpoint of a model trained on another task or with another architecture (e.g. initializing a BertForSequenceClassification model from a BertForPreTraining model).\n- This IS NOT expected if you are initializing BertForMaskedLM from the checkpoint of a model that you expect to be exactly identical (initializing a BertForSequenceClassification model from a BertForSequenceClassification model).\n"
        },
        {
          "output_type": "stream",
          "name": "stdout",
          "text": "new_tokens_added :  6196\n36196\nAdded 6196 new tokens\n"
        }
      ],
      "execution_count": 5,
      "metadata": {
        "jupyter": {
          "source_hidden": false,
          "outputs_hidden": false
        },
        "nteract": {
          "transient": {
            "deleting": false
          }
        },
        "gather": {
          "logged": 1715175344927
        }
      }
    },
    {
      "cell_type": "markdown",
      "source": [
        "TEST"
      ],
      "metadata": {
        "nteract": {
          "transient": {
            "deleting": false
          }
        }
      }
    },
    {
      "cell_type": "code",
      "source": [
        "\n",
        "from transformers import BertTokenizerFast\n",
        "# 토큰화에 사용된 토큰라이저를 로드\n",
        "tokenizer = BertTokenizerFast.from_pretrained(\"/home/azureuser/cloudfiles/code/Users/hb.suh/OUR_BERT/trained_tokenizer/0508test_bertwordpiece/\", do_lower_case=False)\n",
        "\n",
        "def tokenize_data(tokenizer, dataset):\n",
        "    def tokenize_function(examples):\n",
        "        # tokenizer의 결과에서 'input_ids'와 'attention_mask'만 반환하도록 수정 #128\n",
        "        tokenized_output = tokenizer(examples['text'], max_length=300, truncation=True, padding=\"max_length\", return_tensors=\"pt\")\n",
        "        return {'input_ids': tokenized_output['input_ids'], 'attention_mask': tokenized_output['attention_mask']}\n",
        "    return dataset.map(tokenize_function, batched=True, remove_columns=['text'])\n",
        "    \n",
        "train_dataset = dataset['train']\n",
        "tokenized_datasets = tokenize_data(tokenizer, train_dataset)\n",
        "\n",
        "\n",
        "\n",
        "# 이미 토큰화된 데이터셋을 불러옵니다. 예를 들어, 이전 단계에서 정의한 `tokenized_datasets` 변수 사용\n",
        "# 토큰화된 데이터셋의 일부 샘플을 추출합니다.\n",
        "samples = tokenized_datasets.shuffle(seed=42).select(range(5))  # 5개의 무작위 샘플을 추출\n",
        "\n",
        "\n",
        "\n",
        "# 각 샘플에 대해 토큰 ID와 디코딩된 텍스트를 출력\n",
        "for i, sample in enumerate(samples):\n",
        "    input_ids = sample['input_ids']\n",
        "    print(f\"Sample {i+1} -- Input IDs: {input_ids}\")\n",
        "    decoded_text = tokenizer.decode(input_ids)\n",
        "    print(f\"Decoded Text: {decoded_text}\\n\")\n",
        "\n",
        "# 이 코드는 데이터셋이 이미 메모리에 로드되어 있어야 하며, `select` 및 `shuffle` 메소드를 사용할 수 있는 상황이어야 합니다.\n"
      ],
      "outputs": [
        {
          "output_type": "stream",
          "name": "stderr",
          "text": "Special tokens have been added in the vocabulary, make sure the associated word embeddings are fine-tuned or trained.\n"
        },
        {
          "output_type": "stream",
          "name": "stdout",
          "text": "Sample 1 -- Input IDs: [2, 8436, 15, 24258, 9810, 4008, 30894, 33989, 20277, 4113, 11212, 10302, 17283, 1463, 27195, 17, 32102, 30126, 9679, 32387, 12197, 11017, 15, 33605, 1476, 15705, 25294, 12091, 13001, 8455, 30630, 31262, 30327, 12905, 8422, 17, 10384, 15, 30630, 22664, 4113, 8738, 21837, 30126, 30678, 30299, 8215, 8422, 17, 17026, 8122, 15, 30972, 30302, 30630, 9961, 15, 21837, 30419, 31331, 30862, 9846, 8455, 21837, 33138, 9846, 8021, 8422, 17, 3, 0, 0, 0, 0, 0, 0, 0, 0, 0, 0, 0, 0, 0, 0, 0, 0, 0, 0, 0, 0, 0, 0, 0, 0, 0, 0, 0, 0, 0, 0, 0, 0, 0, 0, 0, 0, 0, 0, 0, 0, 0, 0, 0, 0, 0, 0, 0, 0, 0, 0, 0, 0, 0, 0, 0, 0, 0, 0, 0, 0, 0, 0, 0, 0, 0, 0, 0, 0, 0, 0, 0, 0, 0, 0, 0, 0, 0, 0, 0, 0, 0, 0, 0, 0, 0, 0, 0, 0, 0, 0, 0, 0, 0, 0, 0, 0, 0, 0, 0, 0, 0, 0, 0, 0, 0, 0, 0, 0, 0, 0, 0, 0, 0, 0, 0, 0, 0, 0, 0, 0, 0, 0, 0, 0, 0, 0, 0, 0, 0, 0, 0, 0, 0, 0, 0, 0, 0, 0, 0, 0, 0, 0, 0, 0, 0, 0, 0, 0, 0, 0, 0, 0, 0, 0, 0, 0, 0, 0, 0, 0, 0, 0, 0, 0, 0, 0, 0, 0, 0, 0, 0, 0, 0, 0, 0, 0, 0, 0, 0, 0, 0, 0, 0, 0, 0, 0, 0, 0, 0, 0, 0, 0, 0, 0, 0, 0, 0, 0, 0, 0, 0, 0, 0, 0, 0, 0, 0, 0, 0, 0, 0, 0, 0, 0, 0, 0, 0, 0, 0, 0, 0, 0, 0, 0, 0, 0, 0, 0, 0, 0]\nDecoded Text: [CLS] 먼저, 재료 처리는 사출성형의 품질과 성능에 매우 중요한 영향을 미칩니다. 재료는 사출성형 전에 건조 되어야 하며, 수분 및 기타 불순물을 제거하여 재료의 품질을 향상 시켜야 합니다. 또한, 재료의 성질에 따라 적절한 사출성형 조건을 설정 해야 합니다. 예를 들어, 열가소성 고분자 재료의 경우, 적절한 가열 온도와 압력을 유지하여 적절한 유동성을 유지해야 합니다. [SEP] [PAD] [PAD] [PAD] [PAD] [PAD] [PAD] [PAD] [PAD] [PAD] [PAD] [PAD] [PAD] [PAD] [PAD] [PAD] [PAD] [PAD] [PAD] [PAD] [PAD] [PAD] [PAD] [PAD] [PAD] [PAD] [PAD] [PAD] [PAD] [PAD] [PAD] [PAD] [PAD] [PAD] [PAD] [PAD] [PAD] [PAD] [PAD] [PAD] [PAD] [PAD] [PAD] [PAD] [PAD] [PAD] [PAD] [PAD] [PAD] [PAD] [PAD] [PAD] [PAD] [PAD] [PAD] [PAD] [PAD] [PAD] [PAD] [PAD] [PAD] [PAD] [PAD] [PAD] [PAD] [PAD] [PAD] [PAD] [PAD] [PAD] [PAD] [PAD] [PAD] [PAD] [PAD] [PAD] [PAD] [PAD] [PAD] [PAD] [PAD] [PAD] [PAD] [PAD] [PAD] [PAD] [PAD] [PAD] [PAD] [PAD] [PAD] [PAD] [PAD] [PAD] [PAD] [PAD] [PAD] [PAD] [PAD] [PAD] [PAD] [PAD] [PAD] [PAD] [PAD] [PAD] [PAD] [PAD] [PAD] [PAD] [PAD] [PAD] [PAD] [PAD] [PAD] [PAD] [PAD] [PAD] [PAD] [PAD] [PAD] [PAD] [PAD] [PAD] [PAD] [PAD] [PAD] [PAD] [PAD] [PAD] [PAD] [PAD] [PAD] [PAD] [PAD] [PAD] [PAD] [PAD] [PAD] [PAD] [PAD] [PAD] [PAD] [PAD] [PAD] [PAD] [PAD] [PAD] [PAD] [PAD] [PAD] [PAD] [PAD] [PAD] [PAD] [PAD] [PAD] [PAD] [PAD] [PAD] [PAD] [PAD] [PAD] [PAD] [PAD] [PAD] [PAD] [PAD] [PAD] [PAD] [PAD] [PAD] [PAD] [PAD] [PAD] [PAD] [PAD] [PAD] [PAD] [PAD] [PAD] [PAD] [PAD] [PAD] [PAD] [PAD] [PAD] [PAD] [PAD] [PAD] [PAD] [PAD] [PAD] [PAD] [PAD] [PAD] [PAD] [PAD] [PAD] [PAD] [PAD] [PAD] [PAD] [PAD] [PAD] [PAD] [PAD] [PAD] [PAD] [PAD] [PAD] [PAD] [PAD] [PAD] [PAD] [PAD] [PAD] [PAD] [PAD] [PAD] [PAD] [PAD] [PAD] [PAD] [PAD] [PAD] [PAD] [PAD] [PAD] [PAD] [PAD]\n\nSample 2 -- Input IDs: [2, 3, 0, 0, 0, 0, 0, 0, 0, 0, 0, 0, 0, 0, 0, 0, 0, 0, 0, 0, 0, 0, 0, 0, 0, 0, 0, 0, 0, 0, 0, 0, 0, 0, 0, 0, 0, 0, 0, 0, 0, 0, 0, 0, 0, 0, 0, 0, 0, 0, 0, 0, 0, 0, 0, 0, 0, 0, 0, 0, 0, 0, 0, 0, 0, 0, 0, 0, 0, 0, 0, 0, 0, 0, 0, 0, 0, 0, 0, 0, 0, 0, 0, 0, 0, 0, 0, 0, 0, 0, 0, 0, 0, 0, 0, 0, 0, 0, 0, 0, 0, 0, 0, 0, 0, 0, 0, 0, 0, 0, 0, 0, 0, 0, 0, 0, 0, 0, 0, 0, 0, 0, 0, 0, 0, 0, 0, 0, 0, 0, 0, 0, 0, 0, 0, 0, 0, 0, 0, 0, 0, 0, 0, 0, 0, 0, 0, 0, 0, 0, 0, 0, 0, 0, 0, 0, 0, 0, 0, 0, 0, 0, 0, 0, 0, 0, 0, 0, 0, 0, 0, 0, 0, 0, 0, 0, 0, 0, 0, 0, 0, 0, 0, 0, 0, 0, 0, 0, 0, 0, 0, 0, 0, 0, 0, 0, 0, 0, 0, 0, 0, 0, 0, 0, 0, 0, 0, 0, 0, 0, 0, 0, 0, 0, 0, 0, 0, 0, 0, 0, 0, 0, 0, 0, 0, 0, 0, 0, 0, 0, 0, 0, 0, 0, 0, 0, 0, 0, 0, 0, 0, 0, 0, 0, 0, 0, 0, 0, 0, 0, 0, 0, 0, 0, 0, 0, 0, 0, 0, 0, 0, 0, 0, 0, 0, 0, 0, 0, 0, 0, 0, 0, 0, 0, 0, 0, 0, 0, 0, 0, 0, 0, 0, 0, 0, 0, 0, 0, 0, 0, 0, 0, 0, 0, 0, 0, 0, 0, 0, 0]\nDecoded Text: [CLS] [SEP] [PAD] [PAD] [PAD] [PAD] [PAD] [PAD] [PAD] [PAD] [PAD] [PAD] [PAD] [PAD] [PAD] [PAD] [PAD] [PAD] [PAD] [PAD] [PAD] [PAD] [PAD] [PAD] [PAD] [PAD] [PAD] [PAD] [PAD] [PAD] [PAD] [PAD] [PAD] [PAD] [PAD] [PAD] [PAD] [PAD] [PAD] [PAD] [PAD] [PAD] [PAD] [PAD] [PAD] [PAD] [PAD] [PAD] [PAD] [PAD] [PAD] [PAD] [PAD] [PAD] [PAD] [PAD] [PAD] [PAD] [PAD] [PAD] [PAD] [PAD] [PAD] [PAD] [PAD] [PAD] [PAD] [PAD] [PAD] [PAD] [PAD] [PAD] [PAD] [PAD] [PAD] [PAD] [PAD] [PAD] [PAD] [PAD] [PAD] [PAD] [PAD] [PAD] [PAD] [PAD] [PAD] [PAD] [PAD] [PAD] [PAD] [PAD] [PAD] [PAD] [PAD] [PAD] [PAD] [PAD] [PAD] [PAD] [PAD] [PAD] [PAD] [PAD] [PAD] [PAD] [PAD] [PAD] [PAD] [PAD] [PAD] [PAD] [PAD] [PAD] [PAD] [PAD] [PAD] [PAD] [PAD] [PAD] [PAD] [PAD] [PAD] [PAD] [PAD] [PAD] [PAD] [PAD] [PAD] [PAD] [PAD] [PAD] [PAD] [PAD] [PAD] [PAD] [PAD] [PAD] [PAD] [PAD] [PAD] [PAD] [PAD] [PAD] [PAD] [PAD] [PAD] [PAD] [PAD] [PAD] [PAD] [PAD] [PAD] [PAD] [PAD] [PAD] [PAD] [PAD] [PAD] [PAD] [PAD] [PAD] [PAD] [PAD] [PAD] [PAD] [PAD] [PAD] [PAD] [PAD] [PAD] [PAD] [PAD] [PAD] [PAD] [PAD] [PAD] [PAD] [PAD] [PAD] [PAD] [PAD] [PAD] [PAD] [PAD] [PAD] [PAD] [PAD] [PAD] [PAD] [PAD] [PAD] [PAD] [PAD] [PAD] [PAD] [PAD] [PAD] [PAD] [PAD] [PAD] [PAD] [PAD] [PAD] [PAD] [PAD] [PAD] [PAD] [PAD] [PAD] [PAD] [PAD] [PAD] [PAD] [PAD] [PAD] [PAD] [PAD] [PAD] [PAD] [PAD] [PAD] [PAD] [PAD] [PAD] [PAD] [PAD] [PAD] [PAD] [PAD] [PAD] [PAD] [PAD] [PAD] [PAD] [PAD] [PAD] [PAD] [PAD] [PAD] [PAD] [PAD] [PAD] [PAD] [PAD] [PAD] [PAD] [PAD] [PAD] [PAD] [PAD] [PAD] [PAD] [PAD] [PAD] [PAD] [PAD] [PAD] [PAD] [PAD] [PAD] [PAD] [PAD] [PAD] [PAD] [PAD] [PAD] [PAD] [PAD] [PAD] [PAD] [PAD] [PAD] [PAD] [PAD] [PAD] [PAD] [PAD] [PAD] [PAD] [PAD] [PAD] [PAD] [PAD] [PAD] [PAD] [PAD] [PAD] [PAD] [PAD] [PAD] [PAD] [PAD] [PAD] [PAD] [PAD] [PAD] [PAD] [PAD] [PAD]\n\nSample 3 -- Input IDs: [2, 30126, 11, 30061, 30052, 30067, 30057, 15, 30163, 34927, 12, 2420, 31688, 902, 31515, 2424, 2627, 23929, 24396, 24704, 12670, 8741, 28658, 18352, 8717, 12939, 34802, 17, 2355, 16122, 8738, 35244, 97, 34575, 902, 2979, 4057, 30296, 11, 30165, 30173, 31130, 12, 9056, 28897, 15784, 4091, 31606, 786, 17, 32168, 34584, 11, 73, 31220, 30736, 12, 9056, 7996, 2979, 4027, 653, 4008, 313, 4128, 31334, 1265, 35042, 686, 8185, 30419, 3167, 15, 686, 4118, 33296, 9962, 9185, 32527, 15, 11499, 4047, 31340, 32765, 30276, 8741, 34883, 31945, 8120, 17, 9496, 2979, 4017, 34584, 11614, 2458, 32158, 2154, 32404, 9215, 30419, 3167, 7965, 8413, 8790, 17, 33630, 32527, 1201, 1469, 8086, 19237, 686, 4327, 8790, 17, 686, 4118, 34806, 26329, 30118, 30752, 36078, 2627, 4572, 18040, 34230, 786, 17, 2627, 24408, 2195, 18337, 30153, 9215, 31640, 34230, 34806, 306, 30488, 11, 1, 30053, 12, 9215, 10273, 8070, 34238, 2627, 4572, 4023, 36078, 3196, 4349, 4413, 10399, 17, 32168, 2451, 21423, 10273, 8070, 12535, 8304, 8249, 27107, 8251, 28621, 17, 2451, 19738, 8251, 8195, 30185, 30771, 750, 13821, 8481, 2536, 4039, 97, 3016, 97, 2219, 14911, 4180, 2398, 4039, 8455, 29565, 4167, 4203, 97, 26741, 13888, 963, 8741, 9016, 4009, 21511, 4020, 17, 31003, 14518, 30875, 750, 29971, 2219, 4163, 36193, 1478, 4027, 8278, 2177, 1931, 32143, 29971, 4017, 34230, 3518, 8805, 8032, 8544, 27152, 4020, 17, 8530, 3, 0, 0, 0, 0, 0, 0, 0, 0, 0, 0, 0, 0, 0, 0, 0, 0, 0, 0, 0, 0, 0, 0, 0, 0, 0, 0, 0, 0, 0, 0, 0, 0, 0, 0, 0, 0, 0, 0, 0, 0, 0, 0, 0, 0, 0, 0, 0, 0, 0, 0, 0, 0, 0, 0, 0, 0, 0, 0, 0, 0, 0, 0, 0, 0, 0, 0, 0, 0, 0, 0, 0, 0]\nDecoded Text: [CLS] 사출성형 ( 射 出 成 型, injection moulding ) 은 용해 된 물질 을 주형에 주입시킴으로써 여러 부분을 만들기 위한 제조 공정이다. 용도에 따라 착색 · 배합 된 칩은 사출성형기 ( Injection molding machine ) 라고 불리는 기계로 성형된 다. 사출성형기는 호퍼 ( h op per ) 라고 하는 칩을 넣는 곳과 원료 를 가열하여 녹이는 가열 통, 녹인 플라스틱을 밀어내는 스크루, 목적한 형태로 성형하는 금형의 여러 부분으로 이루어져 있다. 우선 칩이 호퍼 에서 일 정량 씩 계량 되어 가열 통으로 보내진다. 여기에서 스크루 로 밀리는 사이에 녹여진다. 녹인 플라스틱은 다음으로 사출 노즐 로부터 주형 속으로 사출된 다. 주형은 애당초 냉각 되어 있으므로 사출된 플라스틱은 곧 고화 ( [UNK] 化 ) 되어 자동적으로 성형품이 주형으 로부터 튀겨져 나온다. 사출성형기는 이 조작을 자동적으로 반복하면서 계속 제품을 만들어 낸다. 이 방법으로 만들어지는 제품의 종류 는 다양하며 접시 · 컵 · 양동이를 위시하여 텔레비전 · 라디오 부품 등 여러 가지가 만들어진다. 사출성형에 의한 제품에 는 플라스틱 양동 이의 밑을 보면 알 수 있듯이 플라스틱이 사출된 흔적이 있는 것이 특징이다. 역사 [SEP] [PAD] [PAD] [PAD] [PAD] [PAD] [PAD] [PAD] [PAD] [PAD] [PAD] [PAD] [PAD] [PAD] [PAD] [PAD] [PAD] [PAD] [PAD] [PAD] [PAD] [PAD] [PAD] [PAD] [PAD] [PAD] [PAD] [PAD] [PAD] [PAD] [PAD] [PAD] [PAD] [PAD] [PAD] [PAD] [PAD] [PAD] [PAD] [PAD] [PAD] [PAD] [PAD] [PAD] [PAD] [PAD] [PAD] [PAD] [PAD] [PAD] [PAD] [PAD] [PAD] [PAD] [PAD] [PAD] [PAD] [PAD] [PAD] [PAD] [PAD] [PAD] [PAD] [PAD] [PAD] [PAD] [PAD] [PAD] [PAD] [PAD] [PAD] [PAD] [PAD]\n\nSample 4 -- Input IDs: [2, 30126, 31545, 20187, 2270, 4087, 15, 30869, 15, 30302, 30501, 963, 18262, 20090, 4128, 10070, 4027, 35642, 8982, 17, 9250, 15, 20187, 2270, 4087, 8097, 32591, 750, 32381, 17193, 4128, 17977, 30949, 24913, 15, 30869, 20090, 4057, 30419, 321, 30153, 35128, 1843, 4042, 2275, 15559, 1355, 4598, 4198, 4569, 4027, 8226, 7966, 847, 8539, 8063, 17, 10384, 15, 30302, 34747, 8014, 21106, 32495, 33328, 321, 31583, 30583, 8226, 7966, 847, 16220, 4022, 8074, 17, 3, 0, 0, 0, 0, 0, 0, 0, 0, 0, 0, 0, 0, 0, 0, 0, 0, 0, 0, 0, 0, 0, 0, 0, 0, 0, 0, 0, 0, 0, 0, 0, 0, 0, 0, 0, 0, 0, 0, 0, 0, 0, 0, 0, 0, 0, 0, 0, 0, 0, 0, 0, 0, 0, 0, 0, 0, 0, 0, 0, 0, 0, 0, 0, 0, 0, 0, 0, 0, 0, 0, 0, 0, 0, 0, 0, 0, 0, 0, 0, 0, 0, 0, 0, 0, 0, 0, 0, 0, 0, 0, 0, 0, 0, 0, 0, 0, 0, 0, 0, 0, 0, 0, 0, 0, 0, 0, 0, 0, 0, 0, 0, 0, 0, 0, 0, 0, 0, 0, 0, 0, 0, 0, 0, 0, 0, 0, 0, 0, 0, 0, 0, 0, 0, 0, 0, 0, 0, 0, 0, 0, 0, 0, 0, 0, 0, 0, 0, 0, 0, 0, 0, 0, 0, 0, 0, 0, 0, 0, 0, 0, 0, 0, 0, 0, 0, 0, 0, 0, 0, 0, 0, 0, 0, 0, 0, 0, 0, 0, 0, 0, 0, 0, 0, 0, 0, 0, 0, 0, 0, 0, 0, 0, 0, 0, 0, 0, 0, 0, 0, 0, 0, 0, 0, 0, 0, 0, 0, 0, 0, 0, 0, 0, 0, 0, 0, 0, 0, 0, 0, 0, 0, 0, 0, 0]\nDecoded Text: [CLS] 사출성형 공정은 유체 역학, 열전달, 고분자 물성 등 다양한 이론과 개념을 포함하고 있습니다. 특히, 유체 역학적인 측면에서 는 유동의 흐름과 압력 분포를 이해하고, 열전달 이론은 가열 과 냉각 과정에 서의 열 전달 메커니즘을 이해하는 데 중요합니다. 또한, 고분자 물성에 대한 이해는 플라스틱의 유동성 과 경화 특성을 이해하는 데 필수적입니다. [SEP] [PAD] [PAD] [PAD] [PAD] [PAD] [PAD] [PAD] [PAD] [PAD] [PAD] [PAD] [PAD] [PAD] [PAD] [PAD] [PAD] [PAD] [PAD] [PAD] [PAD] [PAD] [PAD] [PAD] [PAD] [PAD] [PAD] [PAD] [PAD] [PAD] [PAD] [PAD] [PAD] [PAD] [PAD] [PAD] [PAD] [PAD] [PAD] [PAD] [PAD] [PAD] [PAD] [PAD] [PAD] [PAD] [PAD] [PAD] [PAD] [PAD] [PAD] [PAD] [PAD] [PAD] [PAD] [PAD] [PAD] [PAD] [PAD] [PAD] [PAD] [PAD] [PAD] [PAD] [PAD] [PAD] [PAD] [PAD] [PAD] [PAD] [PAD] [PAD] [PAD] [PAD] [PAD] [PAD] [PAD] [PAD] [PAD] [PAD] [PAD] [PAD] [PAD] [PAD] [PAD] [PAD] [PAD] [PAD] [PAD] [PAD] [PAD] [PAD] [PAD] [PAD] [PAD] [PAD] [PAD] [PAD] [PAD] [PAD] [PAD] [PAD] [PAD] [PAD] [PAD] [PAD] [PAD] [PAD] [PAD] [PAD] [PAD] [PAD] [PAD] [PAD] [PAD] [PAD] [PAD] [PAD] [PAD] [PAD] [PAD] [PAD] [PAD] [PAD] [PAD] [PAD] [PAD] [PAD] [PAD] [PAD] [PAD] [PAD] [PAD] [PAD] [PAD] [PAD] [PAD] [PAD] [PAD] [PAD] [PAD] [PAD] [PAD] [PAD] [PAD] [PAD] [PAD] [PAD] [PAD] [PAD] [PAD] [PAD] [PAD] [PAD] [PAD] [PAD] [PAD] [PAD] [PAD] [PAD] [PAD] [PAD] [PAD] [PAD] [PAD] [PAD] [PAD] [PAD] [PAD] [PAD] [PAD] [PAD] [PAD] [PAD] [PAD] [PAD] [PAD] [PAD] [PAD] [PAD] [PAD] [PAD] [PAD] [PAD] [PAD] [PAD] [PAD] [PAD] [PAD] [PAD] [PAD] [PAD] [PAD] [PAD] [PAD] [PAD] [PAD] [PAD] [PAD] [PAD] [PAD] [PAD] [PAD] [PAD] [PAD] [PAD] [PAD] [PAD] [PAD] [PAD] [PAD] [PAD] [PAD] [PAD] [PAD] [PAD] [PAD] [PAD] [PAD] [PAD] [PAD] [PAD] [PAD] [PAD] [PAD]\n\nSample 5 -- Input IDs: [2, 30126, 32393, 14402, 16708, 7971, 10302, 31042, 26408, 8982, 17, 2451, 32393, 30972, 30302, 32033, 30368, 18262, 27107, 32044, 847, 9021, 9345, 17, 16702, 30875, 750, 11621, 13888, 15, 29411, 10519, 15, 8774, 22422, 15, 11928, 14657, 21597, 10427, 9345, 17, 30126, 32393, 27107, 35212, 32271, 1931, 8711, 15, 33986, 26079, 4078, 15, 18247, 4042, 29406, 4009, 18705, 4008, 32406, 8569, 8982, 17, 3, 0, 0, 0, 0, 0, 0, 0, 0, 0, 0, 0, 0, 0, 0, 0, 0, 0, 0, 0, 0, 0, 0, 0, 0, 0, 0, 0, 0, 0, 0, 0, 0, 0, 0, 0, 0, 0, 0, 0, 0, 0, 0, 0, 0, 0, 0, 0, 0, 0, 0, 0, 0, 0, 0, 0, 0, 0, 0, 0, 0, 0, 0, 0, 0, 0, 0, 0, 0, 0, 0, 0, 0, 0, 0, 0, 0, 0, 0, 0, 0, 0, 0, 0, 0, 0, 0, 0, 0, 0, 0, 0, 0, 0, 0, 0, 0, 0, 0, 0, 0, 0, 0, 0, 0, 0, 0, 0, 0, 0, 0, 0, 0, 0, 0, 0, 0, 0, 0, 0, 0, 0, 0, 0, 0, 0, 0, 0, 0, 0, 0, 0, 0, 0, 0, 0, 0, 0, 0, 0, 0, 0, 0, 0, 0, 0, 0, 0, 0, 0, 0, 0, 0, 0, 0, 0, 0, 0, 0, 0, 0, 0, 0, 0, 0, 0, 0, 0, 0, 0, 0, 0, 0, 0, 0, 0, 0, 0, 0, 0, 0, 0, 0, 0, 0, 0, 0, 0, 0, 0, 0, 0, 0, 0, 0, 0, 0, 0, 0, 0, 0, 0, 0, 0, 0, 0, 0, 0, 0, 0, 0, 0, 0, 0, 0, 0, 0, 0, 0, 0, 0, 0, 0, 0, 0, 0, 0, 0, 0, 0, 0, 0, 0, 0, 0, 0]\nDecoded Text: [CLS] 사출성형 기술은 글로벌 제조업에서 중요한 위치를 차지하고 있습니다. 이 기술은 열가소성 고분자 소재를 사용하여 다양한 제품을 생산하는 데 사용됩니다. 이러한 제품에 는 자동차 부품, 가전제품, 의료기기, 포장 소재 등이 포함됩니다. 사출성형 기술은 제품을 대량으로 생산할 수 있고, 생산성이 뛰어나며, 디자인의 자유도가 높다는 장점을 가지고 있습니다. [SEP] [PAD] [PAD] [PAD] [PAD] [PAD] [PAD] [PAD] [PAD] [PAD] [PAD] [PAD] [PAD] [PAD] [PAD] [PAD] [PAD] [PAD] [PAD] [PAD] [PAD] [PAD] [PAD] [PAD] [PAD] [PAD] [PAD] [PAD] [PAD] [PAD] [PAD] [PAD] [PAD] [PAD] [PAD] [PAD] [PAD] [PAD] [PAD] [PAD] [PAD] [PAD] [PAD] [PAD] [PAD] [PAD] [PAD] [PAD] [PAD] [PAD] [PAD] [PAD] [PAD] [PAD] [PAD] [PAD] [PAD] [PAD] [PAD] [PAD] [PAD] [PAD] [PAD] [PAD] [PAD] [PAD] [PAD] [PAD] [PAD] [PAD] [PAD] [PAD] [PAD] [PAD] [PAD] [PAD] [PAD] [PAD] [PAD] [PAD] [PAD] [PAD] [PAD] [PAD] [PAD] [PAD] [PAD] [PAD] [PAD] [PAD] [PAD] [PAD] [PAD] [PAD] [PAD] [PAD] [PAD] [PAD] [PAD] [PAD] [PAD] [PAD] [PAD] [PAD] [PAD] [PAD] [PAD] [PAD] [PAD] [PAD] [PAD] [PAD] [PAD] [PAD] [PAD] [PAD] [PAD] [PAD] [PAD] [PAD] [PAD] [PAD] [PAD] [PAD] [PAD] [PAD] [PAD] [PAD] [PAD] [PAD] [PAD] [PAD] [PAD] [PAD] [PAD] [PAD] [PAD] [PAD] [PAD] [PAD] [PAD] [PAD] [PAD] [PAD] [PAD] [PAD] [PAD] [PAD] [PAD] [PAD] [PAD] [PAD] [PAD] [PAD] [PAD] [PAD] [PAD] [PAD] [PAD] [PAD] [PAD] [PAD] [PAD] [PAD] [PAD] [PAD] [PAD] [PAD] [PAD] [PAD] [PAD] [PAD] [PAD] [PAD] [PAD] [PAD] [PAD] [PAD] [PAD] [PAD] [PAD] [PAD] [PAD] [PAD] [PAD] [PAD] [PAD] [PAD] [PAD] [PAD] [PAD] [PAD] [PAD] [PAD] [PAD] [PAD] [PAD] [PAD] [PAD] [PAD] [PAD] [PAD] [PAD] [PAD] [PAD] [PAD] [PAD] [PAD] [PAD] [PAD] [PAD] [PAD] [PAD] [PAD] [PAD] [PAD] [PAD] [PAD] [PAD] [PAD] [PAD] [PAD] [PAD] [PAD] [PAD] [PAD] [PAD] [PAD] [PAD] [PAD] [PAD] [PAD] [PAD] [PAD] [PAD] [PAD]\n\n"
        }
      ],
      "execution_count": 6,
      "metadata": {
        "jupyter": {
          "source_hidden": false,
          "outputs_hidden": false
        },
        "nteract": {
          "transient": {
            "deleting": false
          }
        },
        "gather": {
          "logged": 1715216612106
        }
      }
    },
    {
      "cell_type": "code",
      "source": [
        "# 2. 데이터셋 토큰화\n",
        "\n",
        "def tokenize_data(tokenizer, dataset):\n",
        "    def tokenize_function(examples):\n",
        "        # tokenizer의 결과에서 'input_ids'와 'attention_mask'만 반환하도록 수정 #128\n",
        "        tokenized_output = tokenizer(examples['text'], max_length=300, truncation=True, padding=\"max_length\", return_tensors=\"pt\")\n",
        "        return {'input_ids': tokenized_output['input_ids'], 'attention_mask': tokenized_output['attention_mask']}\n",
        "    return dataset.map(tokenize_function, batched=True, remove_columns=['text'])\n",
        "\n",
        "    \n",
        "\n",
        "def resize_and_initialize_embeddings(model, tokenizer, old_tokenizer=None):\n",
        "    # 모델의 원래 토큰 임베딩 크기\n",
        "    original_num_tokens = model.config.vocab_size if old_tokenizer is None else len(old_tokenizer)\n",
        "    \n",
        "    # 새 토크나이저에 따른 임베딩 크기 조정\n",
        "    new_num_tokens = len(tokenizer)\n",
        "    model.resize_token_embeddings(new_num_tokens)\n",
        "\n",
        "    # 임베딩 레이어에 접근\n",
        "    embeddings = model.get_input_embeddings()\n",
        "    \n",
        "    # 새로운 토큰이 추가되었을 경우\n",
        "    if new_num_tokens > original_num_tokens:\n",
        "        # 기존 임베딩의 평균과 표준편차 계산\n",
        "        with torch.no_grad():\n",
        "            old_embeddings = embeddings.weight[:original_num_tokens]\n",
        "            mean, std = old_embeddings.mean(dim=0), old_embeddings.std(dim=0)\n",
        "            # 새로운 토큰의 임베딩 초기화\n",
        "            new_embeddings = torch.randn(new_num_tokens - original_num_tokens, embeddings.embedding_dim)\n",
        "            new_embeddings = mean + std * new_embeddings\n",
        "            embeddings.weight[original_num_tokens:] = new_embeddings\n",
        "\n",
        "    return model\n",
        "\n",
        "# import torch.nn as nn\n",
        "# import torch\n",
        "# # def resize_and_initialize_embedding_matrix(model, tokenizer, emb_mtx_name='bert.embeddings.word_embeddings.weight'):\n",
        "\n",
        "\n",
        "# after_add_Trained_Tokenizer = BertTokenizerFast.from_pretrained(\"/home/azureuser/cloudfiles/code/Users/hb.suh/OUR_BERT/trained_tokenizer/TEST_bertwordpiece/\")\n",
        "# emb_mtx_name='bert.embeddings.word_embeddings.weight'\n",
        "# # 모델의 원래 토큰 임베딩 크기\n",
        "# num_orig_tokens = model.config.vocab_size\n",
        "\n",
        "# # 새 토크나이저에 따른 임베딩 크기 조정\n",
        "# new_num_tokens = len(after_add_Trained_Tokenizer)\n",
        "# model.resize_token_embeddings(new_num_tokens)\n",
        "\n",
        "# #########################################################\n",
        "# # 임베딩 레이어의 현재 크기 확인\n",
        "# current_embedding_shape = model.get_input_embeddings().weight.size()\n",
        "# print(\"Current embedding shape:\", current_embedding_shape)\n",
        "\n",
        "# # 조정된 크기와 예상 크기 비교\n",
        "# expected_shape = (new_num_tokens, model.config.hidden_size)\n",
        "# print(\"Expected embedding shape:\", expected_shape)\n",
        "# #########################################################\n",
        "\n",
        "\n",
        "# # emb_mtx_name을 '.'을 기준으로 분할하여 각 부분을 참조\n",
        "# parts = emb_mtx_name.split('.')\n",
        "\n",
        "# # parts 리스트를 사용하여 모델에서 원하는 객체를 순차적으로 얻음\n",
        "# embedding_layer = model\n",
        "# for part in parts[:-1]:  # 마지막 부분(weight)은 제외하고 객체를 얻음\n",
        "#     embedding_layer = getattr(embedding_layer, part)\n",
        "\n",
        "# # embeddings 변수는 이미 임베딩 레이어를 참조\n",
        "# embeddings = embedding_layer\n",
        "# old_num_embeddings, embedding_dim = embeddings.weight.size()\n",
        "\n",
        "# # 새로운 임베딩 레이어 생성\n",
        "# new_embedding_layer = nn.Embedding(new_num_tokens, embedding_dim)\n",
        "\n",
        "# # 기존 임베딩 레이어의 가중치를 새 레이어에 복사\n",
        "# with torch.no_grad():\n",
        "#     new_embedding_layer.weight[:old_num_embeddings] = embeddings.weight\n",
        "\n",
        "# # 추가된 토큰 수 계산\n",
        "# num_added_tokens = new_num_tokens - old_num_embeddings\n",
        "\n",
        "# # 기존 임베딩의 통계치를 이용하여 새로운 임베딩 초기화\n",
        "# if num_added_tokens > 0:\n",
        "#     pre_expansion_embeddings = embeddings.weight[:num_orig_tokens, :]\n",
        "#     mu = pre_expansion_embeddings.mean(dim=0)\n",
        "#     std = pre_expansion_embeddings.std(dim=0)\n",
        "\n",
        "#     with torch.no_grad():\n",
        "#         new_embedding_layer.weight[old_num_embeddings:] = mu +  std * torch.randn(num_added_tokens, embedding_dim)\n",
        "\n",
        "# # 새로운 임베딩 레이어로 모델 업데이트\n",
        "# setattr(embedding_layer, 'weight', new_embedding_layer.weight)\n",
        "\n",
        "# #return model\n",
        "\n",
        "\n",
        "\n",
        "\n",
        "###############################################################\n",
        "after_add_Trained_Tokenizer = BertTokenizerFast.from_pretrained(\"/home/azureuser/cloudfiles/code/Users/hb.suh/OUR_BERT/trained_tokenizer/0508test_bertwordpiece/\",do_lower_case=False)\n",
        "\n",
        "model = resize_and_initialize_embeddings(model, after_add_Trained_Tokenizer )\n",
        "#model = resize_and_initialize_embedding_matrix(model, after_add_Trained_Tokenizer,emb_mtx_name='bert.embeddings.word_embeddings.weight')\n",
        "print(len(after_add_Trained_Tokenizer))\n"
      ],
      "outputs": [
        {
          "output_type": "stream",
          "name": "stderr",
          "text": "Special tokens have been added in the vocabulary, make sure the associated word embeddings are fine-tuned or trained.\n"
        },
        {
          "output_type": "stream",
          "name": "stdout",
          "text": "36196\n"
        }
      ],
      "execution_count": 7,
      "metadata": {
        "jupyter": {
          "source_hidden": false,
          "outputs_hidden": false
        },
        "nteract": {
          "transient": {
            "deleting": false
          }
        },
        "gather": {
          "logged": 1715175403974
        }
      }
    },
    {
      "cell_type": "code",
      "source": [
        "from transformers import get_linear_schedule_with_warmup\n",
        "\n",
        "def train_model(model, train_dataset, tokenizer, EPOCH, early_stopping_patience = None):\n",
        "    device = torch.device(\"cuda:0\" if torch.cuda.is_available() else \"cpu\")\n",
        "    model.to(device)\n",
        "    \n",
        "    # 옵티마이저와 스케줄러를 설정합니다.\n",
        "    optimizer = torch.optim.AdamW(model.parameters(), lr=1e-6)\n",
        "    total_steps = len(train_dataset) * EPOCH \n",
        "    \n",
        "    # 학습률이 주기적으로 높아졌다가 낮아지도록 설정되며, \n",
        "    # 처음에는 낮은 학습률에서 시작하여 점차 학습률을 높인 뒤 다시 낮추는 방식으로 진행\n",
        "    scheduler = torch.optim.lr_scheduler.CyclicLR(optimizer, \n",
        "                                                  base_lr=1e-6,  # 최소 학습률\n",
        "                                                  max_lr=5e-5,  # 최대 학습률\n",
        "                                                  step_size_up=total_steps // 4,  # 학습률이 증가하는 스텝 수\n",
        "                                                  step_size_down=total_steps - total_steps // 4,  # 감소하는 스텝 수\n",
        "                                                  mode='triangular',\n",
        "                                                  cycle_momentum=False)  # 'triangular', 'triangular2' 또는 'exp_range'\n",
        "    \n",
        "    data_collator = DataCollatorForLanguageModeling(tokenizer=tokenizer, mlm=True, mlm_probability=0.15)\n",
        "    train_loader = DataLoader(train_dataset, batch_size=16, collate_fn=data_collator)\n",
        "    model.train()\n",
        "\n",
        "    losses = []\n",
        "    best_loss = float('inf')\n",
        "    patience_counter = 0  # for the early stopping\n",
        "\n",
        "    for epoch in range(EPOCH):\n",
        "\n",
        "        epoch_losses = []  \n",
        "\n",
        "        for batch in train_loader:\n",
        "            batch = {k: v.to(device) for k, v in batch.items()}\n",
        "            outputs = model(**batch)\n",
        "            loss = outputs.loss\n",
        "            \n",
        "            loss.backward()\n",
        "            \n",
        "            # 그라디언트 클리핑을 적용하여 그라디언트 폭발을 방지합니다.\n",
        "            # torch.nn.utils.clip_grad_norm_(model.parameters(), max_norm=1.0)\n",
        "            \n",
        "            optimizer.step()\n",
        "            scheduler.step()  # 학습률을 업데이트합니다.\n",
        "            optimizer.zero_grad()\n",
        "\n",
        "            epoch_losses.append(loss.item())  # 현재 배치의 loss 값을 저장\n",
        "\n",
        "        # 현재 epoch의 평균 loss 값을 계산하여 출력\n",
        "        epoch_loss_mean = sum(epoch_losses) / len(epoch_losses)\n",
        "        print(f\"Epoch {epoch + 1} completed, Loss: {loss.item()}, Current LR: {scheduler.get_last_lr()[0]}\")\n",
        "        losses.extend(epoch_losses)\n",
        "\n",
        "        # early stopping 체크\n",
        "        if epoch_loss_mean < best_loss:\n",
        "            best_loss = epoch_loss_mean\n",
        "            patience_counter = 0  # 성능이 개선되면 카운터 초기화\n",
        "        else:\n",
        "            patience_counter += 1  # 성능이 개선되지 않으면 카운터 증가\n",
        "\n",
        "        if patience_counter >= early_stopping_patience:\n",
        "            print(f\"Early stopping at epoch {epoch + 1} as no improvement in loss.\")\n",
        "            break\n",
        "\n",
        "\n",
        "    # Loss 함수 시각화\n",
        "    plt.plot(losses)\n",
        "    plt.xlabel('Batch')\n",
        "    plt.ylabel('Loss')\n",
        "    plt.title('Training Loss Trend')\n",
        "    plt.show()\n",
        "\n",
        "    return model\n",
        "\n",
        "\n",
        "\n",
        "def save_model(model, tokenizer, pretrained_model_name):\n",
        "\n",
        "    safe_model_name = pretrained_model_name.replace(\"/\", \"-\")\n",
        "    # 현재 날짜와 시간을 포함한 디렉토리 이름을 생성\n",
        "    timestamp = datetime.now().strftime(\"%Y-%m-%d_%H-%M-%S\")\n",
        "    directory = f\"/home/azureuser/cloudfiles/code/Users/hb.suh/OUR_BERT/MLM_trained_model/{safe_model_name}_CyclicLRtriangular-{timestamp}\"\n",
        "\n",
        "    # 디렉토리가 존재하지 않으면 생성\n",
        "    if not os.path.exists(directory):\n",
        "        os.makedirs(directory)\n",
        "\n",
        "    # 모델과 토크나이저를 사전 훈련된 디렉토리에 저장\n",
        "    model.save_pretrained(directory)\n",
        "    tokenizer.save_pretrained(directory)\n",
        "\n",
        "\n",
        "train_dataset = dataset['train']\n",
        "tokenized_datasets = tokenize_data(after_add_Trained_Tokenizer, train_dataset)\n",
        "\n",
        "# 모델 학습 \n",
        "model = train_model(model, tokenized_datasets, after_add_Trained_Tokenizer , 100, early_stopping_patience=5)\n",
        "\n",
        "print(len(after_add_Trained_Tokenizer))\n",
        "\n",
        "# 모델 저장\n",
        "save_model(model, after_add_Trained_Tokenizer, \"kcbert-base\")"
      ],
      "outputs": [
        {
          "output_type": "stream",
          "name": "stderr",
          "text": "Map: 100%|██████████| 942/942 [00:09<00:00, 95.28 examples/s]\n"
        },
        {
          "output_type": "stream",
          "name": "stdout",
          "text": "Epoch 1 completed, Loss: 5.416138172149658, Current LR: 1.1227600849256998e-06\nEpoch 2 completed, Loss: 5.624236106872559, Current LR: 1.2455201698513996e-06\nEpoch 3 completed, Loss: 5.355045318603516, Current LR: 1.3682802547770558e-06\nEpoch 4 completed, Loss: 5.138874053955078, Current LR: 1.4910403397027556e-06\nEpoch 5 completed, Loss: 4.933863162994385, Current LR: 1.6138004246284554e-06\nEpoch 6 completed, Loss: 5.288161754608154, Current LR: 1.7365605095541552e-06\nEpoch 7 completed, Loss: 4.97595739364624, Current LR: 1.8593205944798116e-06\nEpoch 8 completed, Loss: 5.589491844177246, Current LR: 1.982080679405511e-06\nEpoch 9 completed, Loss: 5.293214797973633, Current LR: 2.104840764331211e-06\nEpoch 10 completed, Loss: 4.690286159515381, Current LR: 2.2276008492569107e-06\nEpoch 11 completed, Loss: 5.132070064544678, Current LR: 2.3503609341826105e-06\nEpoch 12 completed, Loss: 5.292284965515137, Current LR: 2.473121019108267e-06\nEpoch 13 completed, Loss: 4.534366130828857, Current LR: 2.595881104033967e-06\nEpoch 14 completed, Loss: 4.835070610046387, Current LR: 2.7186411889596667e-06\nEpoch 15 completed, Loss: 4.780516147613525, Current LR: 2.8414012738853666e-06\nEpoch 16 completed, Loss: 4.955456733703613, Current LR: 2.9641613588110223e-06\nEpoch 17 completed, Loss: 5.40580940246582, Current LR: 3.086921443736722e-06\nEpoch 18 completed, Loss: 4.406534194946289, Current LR: 3.209681528662422e-06\nEpoch 19 completed, Loss: 4.597288131713867, Current LR: 3.332441613588122e-06\nEpoch 20 completed, Loss: 4.547402858734131, Current LR: 3.4552016985138216e-06\nEpoch 21 completed, Loss: 5.010339736938477, Current LR: 3.5779617834394782e-06\nEpoch 22 completed, Loss: 4.596078395843506, Current LR: 3.700721868365178e-06\nEpoch 23 completed, Loss: 4.833019733428955, Current LR: 3.823481953290878e-06\nEpoch 24 completed, Loss: 3.984130382537842, Current LR: 3.946242038216578e-06\nEpoch 25 completed, Loss: 4.731934070587158, Current LR: 4.0690021231422335e-06\nEpoch 26 completed, Loss: 4.735256671905518, Current LR: 4.191762208067933e-06\nEpoch 27 completed, Loss: 4.767232418060303, Current LR: 4.314522292993633e-06\nEpoch 28 completed, Loss: 4.9054670333862305, Current LR: 4.437282377919333e-06\nEpoch 29 completed, Loss: 4.59790563583374, Current LR: 4.560042462845033e-06\nEpoch 30 completed, Loss: 4.261028289794922, Current LR: 4.682802547770689e-06\nEpoch 31 completed, Loss: 4.658421993255615, Current LR: 4.805562632696389e-06\nEpoch 32 completed, Loss: 4.434822082519531, Current LR: 4.928322717622089e-06\nEpoch 33 completed, Loss: 4.140870094299316, Current LR: 5.051082802547789e-06\nEpoch 34 completed, Loss: 4.241423606872559, Current LR: 5.1738428874734446e-06\nEpoch 35 completed, Loss: 4.160433769226074, Current LR: 5.296602972399144e-06\nEpoch 36 completed, Loss: 4.2798309326171875, Current LR: 5.419363057324844e-06\nEpoch 37 completed, Loss: 4.5770087242126465, Current LR: 5.542123142250544e-06\nEpoch 38 completed, Loss: 4.13612699508667, Current LR: 5.664883227176201e-06\nEpoch 39 completed, Loss: 4.1920084953308105, Current LR: 5.7876433121019005e-06\nEpoch 40 completed, Loss: 4.225115776062012, Current LR: 5.9104033970276e-06\nEpoch 41 completed, Loss: 4.083554267883301, Current LR: 6.0331634819533e-06\nEpoch 42 completed, Loss: 3.988969326019287, Current LR: 6.155923566879e-06\nEpoch 43 completed, Loss: 3.9459662437438965, Current LR: 6.278683651804656e-06\nEpoch 44 completed, Loss: 4.169326305389404, Current LR: 6.4014437367303555e-06\nEpoch 45 completed, Loss: 4.070165157318115, Current LR: 6.524203821656055e-06\nEpoch 46 completed, Loss: 3.8247692584991455, Current LR: 6.646963906581755e-06\nEpoch 47 completed, Loss: 4.106493949890137, Current LR: 6.769723991507412e-06\nEpoch 48 completed, Loss: 3.8754453659057617, Current LR: 6.8924840764331116e-06\nEpoch 49 completed, Loss: 3.7512035369873047, Current LR: 7.015244161358811e-06\nEpoch 50 completed, Loss: 3.92214298248291, Current LR: 7.138004246284511e-06\nEpoch 51 completed, Loss: 3.8723907470703125, Current LR: 7.260764331210211e-06\nEpoch 52 completed, Loss: 3.844837188720703, Current LR: 7.383524416135867e-06\nEpoch 53 completed, Loss: 3.8058078289031982, Current LR: 7.506284501061567e-06\nEpoch 54 completed, Loss: 3.831043243408203, Current LR: 7.6290445859872664e-06\nEpoch 55 completed, Loss: 3.938011884689331, Current LR: 7.751804670912966e-06\nEpoch 56 completed, Loss: 3.5023372173309326, Current LR: 7.874564755838623e-06\nEpoch 57 completed, Loss: 3.4661922454833984, Current LR: 7.997324840764324e-06\nEpoch 58 completed, Loss: 3.688948392868042, Current LR: 8.120084925690023e-06\nEpoch 59 completed, Loss: 3.3445279598236084, Current LR: 8.242845010615723e-06\nEpoch 60 completed, Loss: 3.5676169395446777, Current LR: 8.365605095541422e-06\nEpoch 61 completed, Loss: 3.7684872150421143, Current LR: 8.488365180467079e-06\nEpoch 62 completed, Loss: 3.4395086765289307, Current LR: 8.611125265392778e-06\nEpoch 63 completed, Loss: 3.078331708908081, Current LR: 8.733885350318478e-06\nEpoch 64 completed, Loss: 3.6601600646972656, Current LR: 8.856645435244179e-06\nEpoch 65 completed, Loss: 3.841081380844116, Current LR: 8.979405520169834e-06\nEpoch 66 completed, Loss: 3.652981758117676, Current LR: 9.102165605095535e-06\nEpoch 67 completed, Loss: 3.29304575920105, Current LR: 9.224925690021234e-06\nEpoch 68 completed, Loss: 3.449864149093628, Current LR: 9.347685774946934e-06\nEpoch 69 completed, Loss: 3.4679863452911377, Current LR: 9.470445859872633e-06\nEpoch 70 completed, Loss: 3.753070831298828, Current LR: 9.59320594479829e-06\nEpoch 71 completed, Loss: 3.306871175765991, Current LR: 9.71596602972399e-06\nEpoch 72 completed, Loss: 3.219059467315674, Current LR: 9.83872611464969e-06\nEpoch 73 completed, Loss: 3.4766671657562256, Current LR: 9.96148619957539e-06\nEpoch 74 completed, Loss: 3.0852723121643066, Current LR: 1.0084246284501045e-05\nEpoch 75 completed, Loss: 3.4448864459991455, Current LR: 1.0207006369426746e-05\nEpoch 76 completed, Loss: 3.13436222076416, Current LR: 1.0329766454352445e-05\nEpoch 77 completed, Loss: 2.9681856632232666, Current LR: 1.0452526539278145e-05\nEpoch 78 completed, Loss: 3.3226094245910645, Current LR: 1.0575286624203802e-05\nEpoch 79 completed, Loss: 2.953632354736328, Current LR: 1.0698046709129501e-05\nEpoch 80 completed, Loss: 3.0412583351135254, Current LR: 1.0820806794055202e-05\nEpoch 81 completed, Loss: 2.945753574371338, Current LR: 1.09435668789809e-05\nEpoch 82 completed, Loss: 3.1104562282562256, Current LR: 1.1066326963906601e-05\nEpoch 83 completed, Loss: 2.860131025314331, Current LR: 1.1189087048832256e-05\nEpoch 84 completed, Loss: 3.072817087173462, Current LR: 1.1311847133757957e-05\nEpoch 85 completed, Loss: 3.0189785957336426, Current LR: 1.1434607218683656e-05\nEpoch 86 completed, Loss: 2.6357574462890625, Current LR: 1.1557367303609357e-05\nEpoch 87 completed, Loss: 2.6958043575286865, Current LR: 1.1680127388535013e-05\nEpoch 88 completed, Loss: 3.135761260986328, Current LR: 1.1802887473460712e-05\nEpoch 89 completed, Loss: 3.040928602218628, Current LR: 1.1925647558386413e-05\nEpoch 90 completed, Loss: 2.9597158432006836, Current LR: 1.2048407643312112e-05\nEpoch 91 completed, Loss: 2.8686227798461914, Current LR: 1.2171167728237812e-05\nEpoch 92 completed, Loss: 2.899676561355591, Current LR: 1.2293927813163467e-05\nEpoch 93 completed, Loss: 2.8842716217041016, Current LR: 1.2416687898089168e-05\nEpoch 94 completed, Loss: 2.998769521713257, Current LR: 1.2539447983014867e-05\nEpoch 95 completed, Loss: 2.6823716163635254, Current LR: 1.2662208067940568e-05\nEpoch 96 completed, Loss: 3.138432502746582, Current LR: 1.2784968152866224e-05\nEpoch 97 completed, Loss: 2.6307411193847656, Current LR: 1.2907728237791923e-05\nEpoch 98 completed, Loss: 2.8165290355682373, Current LR: 1.3030488322717624e-05\nEpoch 99 completed, Loss: 2.6997482776641846, Current LR: 1.3153248407643323e-05\nEpoch 100 completed, Loss: 2.820880174636841, Current LR: 1.3276008492569024e-05\n"
        },
        {
          "output_type": "display_data",
          "data": {
            "text/plain": "<Figure size 640x480 with 1 Axes>",
            "image/png": "[encoded data removed]"
          },
          "metadata": {}
        },
        {
          "output_type": "stream",
          "name": "stdout",
          "text": "36196\n"
        }
      ],
      "execution_count": 34,
      "metadata": {
        "jupyter": {
          "source_hidden": false,
          "outputs_hidden": true
        },
        "nteract": {
          "transient": {
            "deleting": false
          }
        },
        "gather": {
          "logged": 1715179376486
        }
      }
    },
    {
      "cell_type": "markdown",
      "source": [
        "- 기본 : 98 epoch, 0.079\n",
        "- 표준편차를 조정 : 30 epoch, 0.093\n",
        "- weights freeze 시키면 : 20 epoch , 0.136295\n",
        "- 레퍼런스 코드 따라한 기본: 188 epoch , 0.07938"
      ],
      "metadata": {
        "nteract": {
          "transient": {
            "deleting": false
          }
        }
      }
    },
    {
      "cell_type": "markdown",
      "source": [
        "## for test"
      ],
      "metadata": {
        "nteract": {
          "transient": {
            "deleting": false
          }
        }
      }
    },
    {
      "cell_type": "markdown",
      "source": [
        "토큰학습"
      ],
      "metadata": {
        "nteract": {
          "transient": {
            "deleting": false
          }
        }
      }
    },
    {
      "cell_type": "markdown",
      "source": [
        "토큰 추가 후 최종 토크나이저"
      ],
      "metadata": {
        "nteract": {
          "transient": {
            "deleting": false
          }
        }
      }
    },
    {
      "cell_type": "code",
      "source": [
        "from transformers import BertTokenizerFast\n",
        "text = '  공정변수를 진공성형의 사출성형해석에 요인배치로써 공급부에 중요한 역할을 제공한다. '\n",
        "tokenizer =BertTokenizerFast.from_pretrained(\"/home/azureuser/cloudfiles/code/Users/hb.suh/OUR_BERT/trained_tokenizer/0508test_bertwordpiece/\",do_lower_case=False)\n",
        "# 텍스트 토큰화\n",
        "tokenized_output = tokenizer.encode(text, add_special_tokens=False)\n",
        "print(tokenized_output)\n",
        "print(\"tokenizer len:\",len(tokenizer))\n",
        "# 토큰화 결과 출력\n",
        "for output in tokenized_output:\n",
        "    decoded_output = tokenizer.decode(output)\n",
        "    print(\"Decoded Text:\", decoded_output)"
      ],
      "outputs": [
        {
          "output_type": "stream",
          "name": "stderr",
          "text": "Special tokens have been added in the vocabulary, make sure the associated word embeddings are fine-tuned or trained.\n"
        },
        {
          "output_type": "stream",
          "name": "stdout",
          "text": "[34904, 31027, 33480, 30994, 2255, 31029, 17238, 14639, 11144, 15328, 10302, 17572, 13248, 8008, 17]\ntokenizer len: 36196\nDecoded Text: 공정변수를\nDecoded Text: 진공\nDecoded Text: 성형의\nDecoded Text: 사출성형해석\nDecoded Text: 에\nDecoded Text: 요인\nDecoded Text: 배치\nDecoded Text: ##로써\nDecoded Text: 공급\nDecoded Text: ##부에\nDecoded Text: 중요한\nDecoded Text: 역할을\nDecoded Text: 제공\nDecoded Text: ##한다\nDecoded Text: .\n"
        }
      ],
      "execution_count": 35,
      "metadata": {
        "jupyter": {
          "source_hidden": false,
          "outputs_hidden": false
        },
        "nteract": {
          "transient": {
            "deleting": false
          }
        },
        "gather": {
          "logged": 1715179613825
        }
      }
    },
    {
      "cell_type": "code",
      "source": [
        "from transformers import BertTokenizer\n",
        "\n",
        "text = [\"공정변수가 진공성형의 사출성형해석에 요인배치로써 공급부에 중요한 역할을 제공한다.\"]\n",
        "tokenizer = BertTokenizer.from_pretrained('/home/azureuser/cloudfiles/code/Users/hb.suh/OUR_BERT/trained_tokenizer/bertwordpiece', do_basic_tokenize=False)\n",
        "# 텍스트 토큰화\n",
        "tokenized_output = tokenizer.encode(str(text), add_special_tokens=True)\n",
        "print(tokenized_output)\n",
        "\n",
        "# 토큰화 결과 출력\n",
        "for output in tokenized_output:\n",
        "    decoded_output = tokenizer.decode(output, skip_special_tokens=True)\n",
        "    print(\"Decoded Text:\", decoded_output)"
      ],
      "outputs": [
        {
          "output_type": "stream",
          "name": "stdout",
          "text": "[2, 1, 1, 1785, 4208, 4093, 4572, 4032, 27667, 1, 1, 10302, 17572, 1, 3]\nDecoded Text: [ C L S ]\nDecoded Text: [ U N K ]\nDecoded Text: [ U N K ]\nDecoded Text: 사\nDecoded Text: # # 출\nDecoded Text: # # 성\nDecoded Text: # # 형\nDecoded Text: # # 해\nDecoded Text: # # 석 에\nDecoded Text: [ U N K ]\nDecoded Text: [ U N K ]\nDecoded Text: 중 요 한\nDecoded Text: 역 할 을\nDecoded Text: [ U N K ]\nDecoded Text: [ S E P ]\n"
        }
      ],
      "execution_count": 14,
      "metadata": {
        "jupyter": {
          "source_hidden": false,
          "outputs_hidden": false
        },
        "nteract": {
          "transient": {
            "deleting": false
          }
        },
        "gather": {
          "logged": 1715046387913
        }
      }
    },
    {
      "cell_type": "code",
      "source": [
        "from transformers import BertTokenizerFast\n",
        "text = '  공정변수를 진공성형의 사출성형해석에 요인배치로써 공급부에 중요한 역할을 제공한다. '\n",
        "tokenizer =BertTokenizerFast.from_pretrained(\"/home/azureuser/cloudfiles/code/Users/hb.suh/OUR_BERT/trained_tokenizer/0508test_bertwordpiece/\",do_lower_case=False)\n",
        "# 텍스트 토큰화\n",
        "tokenized_output = tokenizer.encode(text, add_special_tokens=False)\n",
        "print(tokenized_output)\n",
        "print(\"tokenizer len:\",len(tokenizer))\n",
        "# 토큰화 결과 출력\n",
        "for output in tokenized_output:\n",
        "    decoded_output = tokenizer.decode(output)\n",
        "    print(\"Decoded Text:\", decoded_output)"
      ],
      "outputs": [
        {
          "output_type": "stream",
          "name": "stderr",
          "text": "Special tokens have been added in the vocabulary, make sure the associated word embeddings are fine-tuned or trained.\n"
        },
        {
          "output_type": "stream",
          "name": "stdout",
          "text": "[34904, 31027, 33480, 30994, 2255, 31029, 17238, 14639, 11144, 15328, 10302, 17572, 13248, 8008, 17]\ntokenizer len: 36196\nDecoded Text: 공정변수를\nDecoded Text: 진공\nDecoded Text: 성형의\nDecoded Text: 사출성형해석\nDecoded Text: 에\nDecoded Text: 요인\nDecoded Text: 배치\nDecoded Text: ##로써\nDecoded Text: 공급\nDecoded Text: ##부에\nDecoded Text: 중요한\nDecoded Text: 역할을\nDecoded Text: 제공\nDecoded Text: ##한다\nDecoded Text: .\n"
        }
      ],
      "execution_count": 20,
      "metadata": {
        "jupyter": {
          "source_hidden": false,
          "outputs_hidden": false
        },
        "nteract": {
          "transient": {
            "deleting": false
          }
        },
        "gather": {
          "logged": 1715176094596
        }
      }
    },
    {
      "cell_type": "code",
      "source": [
        "# 새 토큰의 ID 확인\n",
        "token_id = tokenizer.convert_tokens_to_ids(\"공정변수\")\n",
        "print(\"Token ID for '공정변수':\", token_id)\n",
        "\n",
        "# 직접 인코딩과 디코딩을 통한 검증\n",
        "encoded_text = tokenizer.encode(\"공정변수\", add_special_tokens=False)\n",
        "decoded_text = tokenizer.decode(encoded_text)\n",
        "print(\"Encoded and Decoded Text:\", decoded_text)"
      ],
      "outputs": [
        {
          "output_type": "stream",
          "name": "stdout",
          "text": "Token ID for '공정변수': 31021\nEncoded and Decoded Text: 공정변수\n"
        }
      ],
      "execution_count": 10,
      "metadata": {
        "jupyter": {
          "source_hidden": false,
          "outputs_hidden": false
        },
        "nteract": {
          "transient": {
            "deleting": false
          }
        },
        "gather": {
          "logged": 1715175503784
        }
      }
    },
    {
      "cell_type": "code",
      "source": [
        "test_str = ' [CLS] 공정변수를 진공성형의 사출성형해석에 요인배치로써 공급부에 중요한 역할을 제공한다. [SEP]'\n",
        "print('테스트 문장: ',test_str)\n",
        "\n",
        "encoded_str = tokenizer.encode(test_str,add_special_tokens=False)\n",
        "print('문장 인코딩: ',encoded_str)\n",
        "\n",
        "decoded_str = tokenizer.decode(encoded_str)\n",
        "print('문장 디코딩: ',decoded_str)"
      ],
      "outputs": [
        {
          "output_type": "stream",
          "name": "stdout",
          "text": "테스트 문장:   [CLS] 공정변수를 진공성형의 사출성형해석에 요인배치로써 공급부에 중요한 역할을 제공한다. [SEP]\n문장 인코딩:  [2, 34904, 31027, 33480, 30994, 2255, 31029, 17238, 14639, 11144, 15328, 10302, 17572, 13248, 8008, 17, 3]\n문장 디코딩:  [CLS] 공정변수를 진공 성형의 사출성형해석 에 요인 배치로써 공급부에 중요한 역할을 제공한다. [SEP]\n"
        }
      ],
      "execution_count": 13,
      "metadata": {
        "jupyter": {
          "source_hidden": false,
          "outputs_hidden": false
        },
        "nteract": {
          "transient": {
            "deleting": false
          }
        },
        "gather": {
          "logged": 1715175558144
        }
      }
    },
    {
      "cell_type": "code",
      "source": [
        "tokenizer = BertTokenizerFast.from_pretrained(\"/home/azureuser/cloudfiles/code/Users/hb.suh/OUR_BERT/trained_tokenizer/0508test_bertwordpiece/\")\n",
        "def chunk_text(text, chunk_size=5100):\n",
        "    token_ids = tokenizer.encode(text, add_special_tokens=False)  # 특수 토큰을 제외하고 인코딩\n",
        "    return [token_ids[i:i + chunk_size] for i in range(0, len(token_ids), chunk_size)]\n",
        "\n",
        "# 예시 텍스트\n",
        "text = \"공정변수를 진공성형의 사출성형해석에 요인배치로써 공급부에 중요한 역할을 제공한다.\"\n",
        "\n",
        "# 텍스트를 청크로 나누기\n",
        "chunks = chunk_text(text)\n",
        "\n",
        "# 각 청크를 별도로 처리\n",
        "for chunk in chunks:\n",
        "    inputs = tokenizer.decode(chunk, skip_special_tokens=True)  # 토큰 ID를 다시 텍스트로 디코드\n",
        "    print(inputs)\n"
      ],
      "outputs": [
        {
          "output_type": "stream",
          "name": "stderr",
          "text": "Special tokens have been added in the vocabulary, make sure the associated word embeddings are fine-tuned or trained.\n"
        },
        {
          "output_type": "stream",
          "name": "stdout",
          "text": "사출성형해석 에 중요한 역할을 제공한다.\n"
        }
      ],
      "execution_count": 5,
      "metadata": {
        "jupyter": {
          "source_hidden": false,
          "outputs_hidden": false
        },
        "nteract": {
          "transient": {
            "deleting": false
          }
        },
        "gather": {
          "logged": 1715143978330
        }
      }
    },
    {
      "cell_type": "markdown",
      "source": [
        "## vocab add 안하고 우리 데이터로 학습만 한 토크나이저 결과"
      ],
      "metadata": {
        "nteract": {
          "transient": {
            "deleting": false
          }
        }
      }
    },
    {
      "cell_type": "code",
      "source": [
        "from transformers import BertTokenizer\n",
        "\n",
        "text = ' [CLS] 공정변수를 진공성형의 사출성형해석에 요인배치로써 공급부에 중요한 역할을 제공한다. [SEP]'\n",
        "tokenizer = BertTokenizer(\"/home/azureuser/cloudfiles/code/Users/hb.suh/OUR_BERT/trained_tokenizer/CUSTOM_Tokenizer/vocab.txt\",do_lower_case=False)\n",
        "#tokenizer =BertTokenizerFast.from_pretrained(\"/home/azureuser/cloudfiles/code/Users/hb.suh/OUR_BERT/trained_tokenizer/0508test_bertwordpiece/vocab.txt\",do_lower_case=False)# 텍스트 토큰화\n",
        "tokenized_output = tokenizer.encode(text, add_special_tokens=False)\n",
        "print(tokenized_output)\n",
        "\n",
        "print(\"tokenizer len:\",len(tokenizer))\n",
        "# 토큰화 결과 출력\n",
        "for output in tokenized_output:\n",
        "    decoded_output = tokenizer.decode(output)\n",
        "    print(\"Decoded Text:\", decoded_output)\n"
      ],
      "outputs": [
        {
          "output_type": "stream",
          "name": "stdout",
          "text": "[1, 8456, 14466, 1040, 14881, 14467, 5104, 14469, 1073, 2768, 3854, 11219, 18, 3]\ntokenizer len: 30000\nDecoded Text: [ C L S ]\nDecoded Text: 공 정 변 수 를\nDecoded Text: 진 공 성 형\nDecoded Text: # # 의\nDecoded Text: 사 출 성 형 해 석 에\nDecoded Text: 요 인 배 치\nDecoded Text: # # 로 써\nDecoded Text: 공 급 부\nDecoded Text: # # 에\nDecoded Text: 중 요 한\nDecoded Text: 역 할 을\nDecoded Text: 제 공 한 다\nDecoded Text: .\nDecoded Text: [ S E P ]\n"
        }
      ],
      "execution_count": 31,
      "metadata": {
        "jupyter": {
          "source_hidden": false,
          "outputs_hidden": false
        },
        "nteract": {
          "transient": {
            "deleting": false
          }
        },
        "gather": {
          "logged": 1715176815672
        }
      }
    },
    {
      "cell_type": "code",
      "source": [
        "tokenizer.get_vocab()"
      ],
      "outputs": [
        {
          "output_type": "execute_result",
          "execution_count": 9,
          "data": {
            "text/plain": "{'우수하여': 13450,\n '작동': 3975,\n '영업': 7323,\n '##되어있다': 18397,\n 'ASME': 10102,\n '##FRP': 26927,\n '##ences': 4572,\n '##92': 10148,\n '냉각효율을': 22847,\n '나가는': 25020,\n 'Seo': 8274,\n '##인공신경망': 24749,\n '론본': 4401,\n 'Noh': 15645,\n '##oving': 6388,\n '신흥': 26734,\n '##문의': 20647,\n 'HIPS': 7829,\n '19': 1984,\n '##펜': 1645,\n '##치면서': 26958,\n 'prepar': 6736,\n '301': 14053,\n 'only': 6764,\n '제조하는': 7518,\n 'stationary': 16886,\n '수치해석의': 29667,\n '##oost': 27404,\n '이축': 25112,\n '10°C': 12635,\n '4번': 19516,\n '##alled': 9686,\n '균형을': 8550,\n '평균휘도': 27375,\n '##약적인': 28888,\n '##echn': 2251,\n '포함하여': 9807,\n 'defined': 11405,\n '고강도': 13891,\n '분석된다': 14027,\n '함유된': 9704,\n '##밸브': 4778,\n 'hy': 3769,\n 'Che': 6278,\n '가스채널을': 9152,\n '인수': 13314,\n '입구에서의': 22109,\n '이내': 8965,\n '회사': 7276,\n '수리': 12560,\n '440': 18079,\n '9월에': 28290,\n '##08': 28776,\n '##Engineers': 13092,\n 'd1': 19565,\n '직전의': 26800,\n '65MPa': 24392,\n 'dec': 3894,\n 'Viscoelastic': 13003,\n '높': 303,\n 'image': 5299,\n '사슬의': 23423,\n 'Lines': 24897,\n 'rem': 5753,\n 'Polymer': 2684,\n '##FC': 9770,\n '경험적': 10845,\n '사출금형을': 16188,\n '장착하여': 12260,\n 'Cent': 23557,\n 'Body': 21298,\n 'BA': 15407,\n '000톤': 12467,\n '164': 19178,\n 'Pmax': 19550,\n '동년': 22493,\n '이론밀도': 27519,\n '##기': 1085,\n '방식이': 8816,\n '##본': 1358,\n 'Prism': 17822,\n '다음이': 19896,\n 'jp': 13555,\n '6월에': 22356,\n '상에서': 12124,\n '처리에': 29648,\n '이렇': 5154,\n '수행된': 5690,\n '##Jong': 28949,\n '특수': 6836,\n '##80': 3185,\n 'Foaming': 21174,\n '##촉매': 17095,\n '##판의': 4725,\n 'Lai': 28339,\n '##onent': 22778,\n 'Jersey': 26486,\n '##개발이': 21895,\n '월드라인': 11308,\n '끊': 264,\n 'Ret': 22402,\n 'agent': 14512,\n '##비중': 25329,\n '알기': 15936,\n '나': 268,\n '##17': 5158,\n '내로': 9618,\n '1974': 11806,\n '좁은': 7926,\n '주효과': 10282,\n '경기': 20397,\n '##processes': 24433,\n '대표적이다': 29570,\n '답': 329,\n '영향은': 7714,\n '장성': 14649,\n '70mm': 24292,\n '설계': 1994,\n '경화온도': 23196,\n '##램프': 14346,\n '변화가': 3662,\n 'Qu': 8944,\n '##ears': 7524,\n '마찰이': 25982,\n '##생산을': 14422,\n 'Mechanical': 3359,\n '##사출성형공정에서': 25504,\n 'tog': 10972,\n 'DSC': 10880,\n '타이바에': 17334,\n '외': 680,\n '차지': 4303,\n '공정으로서': 24023,\n '증대되고': 29934,\n '##광': 1266,\n 'Proced': 29146,\n 'CD': 6397,\n 'Was': 19563,\n '때문이라': 24091,\n 'flowability': 18446,\n '370': 18544,\n '##각을': 13354,\n '단': 325,\n 'dimensionless': 11601,\n '##오차가': 16034,\n '##hen': 2604,\n '##평가관리': 16775,\n '폴리에틸렌': 8044,\n 'patterning': 27585,\n '반응': 2806,\n '2와': 3973,\n '박막': 5924,\n '저장소': 27693,\n '변수는': 14431,\n '패널': 8241,\n '절에서': 18927,\n '충전하고': 25473,\n '분석해': 29181,\n 'single': 10112,\n '##간에': 12158,\n '##anc': 4897,\n '핏': 940,\n '헵탄용매': 17373,\n '기구설계': 20159,\n '##기계': 2842,\n 'graphen': 24964,\n '##펄': 1800,\n '연구내용': 21712,\n 'pstatic': 18833,\n '본격': 13032,\n 'Fusion': 19532,\n 'Make': 19545,\n '분석하였다': 4078,\n '##uel': 12150,\n '버를': 26695,\n 'Structural': 14453,\n 'KSAE': 14145,\n '360': 10366,\n '##짧': 1851,\n '##me': 12811,\n '##모양': 9306,\n '차이인': 29256,\n '힌': 1001,\n '잔류벽': 11182,\n '입주': 20498,\n 'Computational': 17823,\n '물체를': 23705,\n 'No': 2218,\n '관찰되었다': 11591,\n 'Z': 62,\n '주안': 23779,\n '쌍대': 16990,\n '용융시킨': 29196,\n '##시스템이': 12231,\n '##프로락': 13757,\n 'Roth': 26510,\n '향을': 26841,\n '##남을': 5660,\n '##발생하게': 27543,\n '발생하여': 5851,\n '##모터를': 12617,\n '토글': 6480,\n '##ethod': 2379,\n '않았다': 4537,\n '##께': 1462,\n 'elasticity': 19442,\n '안동규': 20473,\n '기계공학': 11971,\n '고품질의': 9592,\n '발생될': 14005,\n '실링엣': 23385,\n '##ij': 7704,\n 'Loc': 9835,\n '##75': 5226,\n '22일': 25665,\n '접철': 28651,\n 'enc': 25846,\n '그릴': 6400,\n '##pon': 3296,\n '##tan': 25194,\n '##라면': 18961,\n '조건의': 5510,\n '##산화': 6369,\n '커버의': 10387,\n '그래프를': 11822,\n '##arrow': 20686,\n '##에이터': 7446,\n '1930': 21716,\n '모두에서': 20873,\n '이송': 5348,\n '##sec로': 21986,\n '차단': 10283,\n '##ee': 6332,\n '덴': 341,\n '고정한': 16155,\n '##그네': 3988,\n '##Techn': 12601,\n '폴리카프로락톤': 21271,\n '설립하였고': 24481,\n '##수지의': 4140,\n '##eometr': 4396,\n 'swell을': 15770,\n 'Digital': 20339,\n '##ook': 4729,\n '섬유함유율의': 21062,\n 'Styrene': 22952,\n '##다른': 8159,\n 'Bas': 11861,\n '성형해석에': 14903,\n '입력변수': 14441,\n '##흡수': 15157,\n '수지온도와': 14846,\n '##우수': 17667,\n '복굴절을': 8192,\n '##보정': 13950,\n '##종': 1431,\n 'Chiu': 29944,\n '개발이': 6966,\n '코팅이': 27645,\n '로부터': 9858,\n '§': 100,\n '도료': 25037,\n '치수안정성이': 28059,\n '##ann': 2687,\n '마찬가지로': 6782,\n '초래한다': 23362,\n '배향각': 24201,\n '다르지만': 24585,\n '##닛': 1770,\n '사이를': 19927,\n '기계학습': 25511,\n '##an': 1934,\n '외관품질을': 20202,\n '##ok': 5139,\n '가지': 2192,\n 'tool': 5823,\n '정확도가': 25705,\n '녀': 294,\n '##전원': 26983,\n '##Key': 3558,\n '##ove': 6076,\n '심사완료': 18749,\n '끝단부의': 26035,\n '495': 23203,\n '##물을': 4502,\n 'requir': 5594,\n '폴리아미드계': 24640,\n '검토하였다': 8544,\n '선형회귀': 27635,\n '불완전': 23721,\n '##ultaneous': 9460,\n '##충전': 2896,\n '클래': 9757,\n 'inserts': 24682,\n '단축하기': 29554,\n '##뮬': 1609,\n '##방법에': 9244,\n '끝나': 13296,\n '비례하는': 20107,\n '손실': 4594,\n 'nodal': 14597,\n '##게이트는': 17230,\n '##차적으로': 8086,\n '초박판': 15805,\n '투자': 8776,\n '168': 12665,\n '섬유배향상태가': 27467,\n '021': 28245,\n '##roduction': 5430,\n '1B': 28250,\n '##전자현미경': 15315,\n '겔': 203,\n '##았고': 15994,\n '##yan': 22717,\n '##공식을': 26995,\n '증가하지만': 19870,\n 'more': 5025,\n '패션': 28696,\n '절': 734,\n '할': 945,\n '##위': 1194,\n '충분': 3365,\n '마커': 15464,\n '목표로': 10079,\n '가정하면': 14857,\n '활용': 2499,\n '급속냉각': 17254,\n 'increased': 5889,\n 'Zh': 5786,\n '1초로': 24839,\n '##리게': 8152,\n '##TR': 26950,\n '⌀': 115,\n 'Modulus': 23295,\n '##i는': 16500,\n '핵': 951,\n '##껑': 1726,\n '카프로락': 22600,\n '##EX': 26913,\n 'Basic': 16880,\n '고화온도': 21875,\n '닫': 326,\n 'ofThermoplastic': 22789,\n '##Cooling': 18021,\n '유형': 12565,\n '프로그램에서': 18498,\n 'AN': 4448,\n '##inuity': 15352,\n '보압해석': 16609,\n 'SUS316L': 20258,\n '젝': 740,\n 'themold': 14771,\n '실온': 28589,\n '593': 29854,\n '##므': 1278,\n '##주기': 16000,\n '알루미늄': 3937,\n '##이론을': 27945,\n '설': 574,\n '강화재': 11422,\n '신경회로망에': 18004,\n '확보하였다': 24333,\n '엔지니어링': 4361,\n '밀착': 13584,\n '##mechanical': 28757,\n 'Parameter': 19156,\n '남게': 18862,\n '##엘': 1807,\n '설비의': 10861,\n 'ofs': 20682,\n '##벡터': 13125,\n '평평하게': 24738,\n 'Refr': 16246,\n '##퀼': 1677,\n '##mm로': 5105,\n 'membrane': 13847,\n '평면응력': 18576,\n '##였습니다': 26963,\n '활발하게': 9461,\n '분말에': 20783,\n '평가하기': 7598,\n 'variations': 24278,\n '김준': 28479,\n '##phen': 13641,\n '##단순': 28815,\n '축': 806,\n '3차원으로': 20017,\n '15mm': 22919,\n 'their': 5962,\n '##시스템으로': 20814,\n '##irefring': 5323,\n 'polypropylene': 5455,\n '모두를': 21909,\n '매립': 17513,\n '116': 9427,\n 'Se': 3105,\n '변수들이': 15688,\n '##싱크마크': 21683,\n '##actice': 15596,\n '##elligence': 12725,\n '균일한': 3865,\n '멜트': 15060,\n '383': 25924,\n '주지': 8151,\n 'indicated': 24488,\n 'respectively': 5146,\n '코팅': 3810,\n 'theta': 9896,\n '##ae': 3356,\n '직경이': 7355,\n '##모델과': 12890,\n '##용량을': 25312,\n 'Ceram': 8294,\n '##anti': 25395,\n '##uide': 4853,\n 'has': 2919,\n '한국하이티엔': 26403,\n '초간': 26810,\n 'Kg': 23580,\n 'moldedproducts': 27440,\n '느리게': 14617,\n '성형품과': 12663,\n '##값으로': 7449,\n '##quisition': 22329,\n '##러스터': 13631,\n 'pres': 10492,\n '##iton': 25412,\n '내구성을': 14152,\n 'industr': 5559,\n '완화': 8861,\n '온도까지': 24020,\n '##경우': 3445,\n '##Es': 28799,\n '단계를': 14427,\n 'overcome': 20102,\n 'ofM': 5383,\n 'function': 4041,\n '관심': 4994,\n 'P3': 11867,\n '공정시간을': 20713,\n '##따': 1279,\n '결정되면': 19153,\n 'Center': 7097,\n '##정유': 23829,\n '##력의': 5769,\n '기공은': 29659,\n 'Serv': 13515,\n '##많이': 10961,\n '##ynthesis': 12963,\n '계기': 28455,\n 'Friedl': 15832,\n '성형제품을': 25408,\n 'dispersion': 14178,\n '압착': 18215,\n 'MEMS': 15420,\n '휘도를': 28719,\n '재고': 13317,\n '구조적인': 15204,\n 'Efficient': 25895,\n '확산이': 20132,\n 'prior': 21779,\n '1989': 5089,\n '우수하다는': 29420,\n '56': 5073,\n '1999년': 9047,\n '##계': 1005,\n '글로': 25014,\n '##속도는': 7079,\n '식료공업': 21127,\n '##eet': 21563,\n 'rapidly': 10872,\n 'Determination': 12733,\n '명확하게': 22210,\n 'CRT': 22375,\n '##AD': 19743,\n 'meas': 3764,\n '배럴': 4743,\n 'LI': 9483,\n '##현': 1141,\n '##하기가': 12847,\n '우리': 4673,\n '##°': 1070,\n '##속성': 9524,\n 'Advani': 15316,\n '##생년월일': 18256,\n '##재질': 13106,\n '격자의': 26598,\n 'li': 16949,\n '구비': 23669,\n 'Br': 7034,\n 'His': 14205,\n 'Lee': 2370,\n 'frame': 18139,\n '##실험의': 27371,\n 'BOSCH': 22336,\n '##유동에': 13192,\n 'carnauba': 19365,\n '42': 4382,\n '발생은': 17120,\n '유동장의': 20722,\n '##시킨다': 4555,\n '##pos': 3551,\n 'buckling': 26532,\n '핵심': 4777,\n '해석시간': 29031,\n '천천히': 28234,\n '##ayat': 25568,\n '##겠다': 6895,\n 'causes': 21121,\n '항목을': 26179,\n 'PU': 18113,\n '제어의': 25593,\n '내부가': 29240,\n '##ather': 16836,\n '때문인': 19875,\n 'features': 5871,\n '사실은': 19369,\n '27일': 24247,\n '##가소성': 3217,\n '##겐': 1627,\n 'br': 6313,\n 'Guide': 7205,\n 'quality': 3472,\n '고정된': 12436,\n '분류된다': 20942,\n '가스사출에서는': 20187,\n '##시켰': 4045,\n 'Ak': 16910,\n '충전불균형': 5775,\n 'Pt': 28357,\n '직경': 3176,\n '이루어졌다': 11188,\n 'Bor': 28296,\n '마찰열': 21017,\n 'fronts': 24824,\n '5mm에서': 24398,\n '쇼': 593,\n 'researchers': 21057,\n '##밍': 1555,\n '부터': 5703,\n 'per': 2994,\n '신호로부터': 18570,\n '##상형': 21611,\n '7MPa': 26434,\n '유변': 4163,\n '##같은': 5085,\n 'exact': 27275,\n '##lip': 13086,\n 'attention': 19492,\n '##대학교': 2292,\n 'them': 5332,\n '사출온도와': 19308,\n '162': 21843,\n '##품은': 21585,\n 'cav': 24947,\n '나은': 19593,\n '형체력을': 7353,\n '제조한': 8898,\n '지연시간을': 26036,\n '##pylene': 3705,\n 'Crystall': 23186,\n '##il': 2003,\n 'cess': 23630,\n '모양과': 20064,\n '절감을': 10370,\n '끼치게': 26632,\n '##ous': 2530,\n 'frames': 28397,\n '##때문에': 5047,\n '##참고문헌': 11452,\n 'extruder': 19357,\n '배향은': 14425,\n '발표자': 10087,\n '##신호를': 12500,\n '1300': 15654,\n '분자량을': 25839,\n '속충수지외': 16862,\n 'automobile': 8833,\n 'Light': 6095,\n '확률신경망': 23426,\n '##V의': 26998,\n '방법에는': 24094,\n '##백': 1729,\n '전략기술인력양성사업': 18034,\n '##로겐': 21594,\n '881': 29874,\n '사출성형품의': 3309,\n 'Extrusion': 19467,\n '모조': 18192,\n '선택과': 19997,\n 'thermoforming': 22252,\n '026': 22012,\n '##용량': 9103,\n '學': 158,\n 'vent': 11476,\n '간에': 17490,\n '##명대학교': 13989,\n '##evens': 22890,\n '변수의': 8726,\n '플런저를': 20233,\n '시트를': 13480,\n '탐': 866,\n '갖고': 4848,\n '보였고': 17331,\n 'higher': 6815,\n '전에': 5350,\n '##텔': 1444,\n '진행한다': 19899,\n '미세사출성형': 7019,\n '결측': 21399,\n '수소': 3931,\n '이경': 22562,\n '##eep': 23845,\n '##니켈': 25309,\n '조작에': 27843,\n 'Prof': 14804,\n 'BEM': 15004,\n 'measurements': 26193,\n '##옥래': 25367,\n 'verify': 15339,\n '##ima': 19831,\n '##났': 1669,\n '사출공정의': 13222,\n '##값에': 8998,\n '엘라스토머': 10279,\n '스프링을': 26223,\n '플라스틱이나': 27197,\n '##스탯': 15139,\n '기술이다': 10490,\n '도광판': 3709,\n '##v': 1244,\n 'Tools': 22224,\n 'methods': 6269,\n '실시하는': 24357,\n '한국산업기술진흥원의': 18741,\n '베럴': 9860,\n '유공압': 15490,\n '##이산화탄소': 20557,\n '##지금까지': 26387,\n '예측되는': 29211,\n '끝부분': 15912,\n '최소인': 29246,\n 'Do': 5980,\n '##periment': 2512,\n '충전을': 7460,\n 'regard': 14139,\n '사이클을': 25855,\n '##Car': 26897,\n '##몸': 1869,\n 'm': 80,\n 'produced': 8190,\n '계산을': 10809,\n '##감에': 20624,\n 'Pty': 17451,\n '사출성형에서는': 9899,\n '##셔서': 21664,\n '바이': 15062,\n '할당': 20542,\n 'STANS': 22082,\n '갖추': 7151,\n 'PMMA': 4463,\n '연결되는': 18546,\n '##xx': 22715,\n '평판의': 12481,\n '##전형': 21637,\n '게이트의': 2813,\n 'Electron': 21071,\n '표면을': 6492,\n '##자재': 17680,\n '최적의': 2954,\n 'Matsu': 17963,\n '고온에서의': 25850,\n '일정량의': 19197,\n '서보모터의': 14511,\n '##플랫폼': 28934,\n '결합을': 13724,\n '사용했으며': 25429,\n '##Works': 10617,\n '##제를': 4442,\n 'Vol': 2114,\n '심층': 18900,\n '기계가공으로': 27906,\n '클립': 25157,\n '하측에': 28707,\n '모듈을': 9941,\n 'extrusion': 12490,\n '##강성': 10154,\n '끝단의': 18635,\n '세로': 7988,\n '이소시아네이트': 23502,\n '냉각온도에': 29079,\n '##저울': 26907,\n '##탐색': 12383,\n '6Al': 18782,\n 'ofPoly': 27074,\n 'RIM성': 24417,\n '밝니다': 22505,\n '화학': 3622,\n '수있을': 27586,\n '##점에서': 4281,\n '49±0': 27698,\n 'Mould': 7483,\n 'embedded': 26242,\n '쁜': 555,\n '##ditional': 12870,\n 'HOUSING': 19539,\n '제품에는': 22806,\n '##한국': 4549,\n '##성능이': 21045,\n 'CNFs': 22315,\n 'CAN': 24103,\n '연속적인': 11820,\n 'holes': 26545,\n '양상이': 28602,\n 'platform': 18704,\n '도달한': 22088,\n '##공간': 9408,\n '고밀도': 13565,\n '메카니즘': 8937,\n '##산업의': 10201,\n '춘계': 20524,\n '##전략': 26984,\n 'side': 7554,\n '유체역학': 20092,\n '없이도': 24415,\n 'Line에': 29893,\n '불균일한': 5745,\n '사출성형제품': 25414,\n '주관하는': 20270,\n '스타': 18897,\n '불균형에': 22064,\n '일정한': 3663,\n '체적수축률': 5019,\n '유동해석은': 19320,\n '##겹': 1693,\n '관한연구': 14832,\n '##시스템에서': 19186,\n 'Lho': 21319,\n '##투명': 12381,\n '논문에서는': 3368,\n '프라스틱': 17595,\n '295': 12451,\n '##우레탄': 6294,\n 'poor': 25926,\n '유량의': 17550,\n '고려하여': 3040,\n '##깨': 1826,\n 'scheme': 9162,\n '##기존의': 11638,\n '##없다': 28937,\n '설계변수는': 23204,\n '##하지만': 4053,\n '##부위는': 12932,\n '일반적': 16104,\n 'Ring': 16926,\n '대응하는': 16267,\n '그래프에서': 17931,\n '##즈': 1305,\n '금형Fig': 29006,\n '##SN': 5708,\n '사출성형해석을': 4792,\n '연구하였으며': 17113,\n '대책을': 21171,\n '##udi': 4548,\n 'KAIST': 13521,\n '결과물임을': 26355,\n 'Simp': 29987,\n '197': 2999,\n '294': 18517,\n '##팬': 1597,\n '금속분말': 4765,\n '##esium': 7454,\n '성형법은': 27088,\n '고안된': 24620,\n '##되도록': 5819,\n 'stress': 3013,\n '발생하기': 7286,\n '구체적인': 11247,\n '추정': 5281,\n '이점이': 16461,\n '원하는': 4415,\n '##치의': 8878,\n 'SUM': 26228,\n '의약품': 25111,\n '판단하여': 20833,\n '유발': 4912,\n 'Ep': 26465,\n '중앙위원회': 29473,\n '신뢰성을': 6734,\n '충전시간': 3649,\n '2022': 7790,\n '제작하게': 29123,\n '##ori': 8016,\n 'double': 11222,\n '복합재료는': 11594,\n 'Four': 16375,\n '##ATE': 17323,\n '된다고': 21786,\n '요구에': 9799,\n '##GP': 23908,\n '설치가': 16709,\n '가공하여': 9921,\n '있다면': 15595,\n '405': 24237,\n 'Tg': 10411,\n '보압절환': 8340,\n '젖': 738,\n '이호상': 17560,\n 'capt': 26041,\n '##춘계학술대회': 28962,\n '기관': 17496,\n '이는': 2365,\n '##가로': 17631,\n '용도가': 18224,\n 'typical': 27955,\n '##천': 1501,\n 'acceleration': 20300,\n 'Johnson': 29931,\n '##이형': 25198,\n '향상시켜': 17167,\n '종류의': 6387,\n '직교배열표를': 14519,\n '불량률을': 16138,\n 'MechanicalProperties': 23109,\n '계산하는': 14044,\n '1959': 23317,\n '##appropriate': 29935,\n '닿': 331,\n '##ath': 6584,\n '160': 6911,\n 'Approximation': 26236,\n '##anyang': 14484,\n '270p': 19428,\n '효과와': 25634,\n '유동성과': 19100,\n '완성하였다': 23190,\n '조작을': 20155,\n '결과도': 22824,\n 'phot': 10074,\n '부피': 4153,\n '##oxy': 7744,\n '삭': 557,\n '블로잉': 13910,\n '##램': 1460,\n 'improve': 7262,\n 'dental': 14226,\n '기계공학부대학원': 27789,\n '상수들을': 29832,\n 'l': 79,\n '##mo': 25215,\n '##arge': 4898,\n '##관': 1349,\n 'larg': 21370,\n '휘발': 23818,\n '사출방향과': 23984,\n '##Condition': 27816,\n '지점의': 20138,\n 'rheological': 11838,\n '분석하였으며': 16106,\n 'Slide': 24606,\n '향상시키며': 29258,\n '일으켜': 16815,\n 'Sm': 6876,\n '##eon': 5309,\n '##성형이': 11957,\n '사출성형공정에서의': 27412,\n '파일을': 29977,\n '숙': 596,\n '금형이다': 22799,\n '입출': 26774,\n '사이드': 6427,\n '지배방정식': 5863,\n 'research': 5387,\n '##비용': 5084,\n '##따른': 8513,\n '리': 448,\n '압력': 2016,\n '##def': 14316,\n '##재활용': 21632,\n '골': 217,\n '취출한': 24330,\n '##중요하다': 22216,\n '550': 20326,\n 'DE': 15006,\n '##것': 1383,\n '설계자의': 10624,\n '수용성': 24720,\n 'barrel': 11606,\n '안전성을': 13488,\n '점도에': 13746,\n '##공장에서는': 29334,\n '절감하고': 27600,\n '인자임을': 22971,\n '람': 390,\n '선형적으로': 12258,\n 'DMT': 22380,\n '내마모': 8228,\n '복원': 6564,\n 'images': 18591,\n '70': 3091,\n 'TECH': 16936,\n 'agreement': 12272,\n '생성': 2660,\n 'TGA': 10413,\n '요즘': 26761,\n '##차이에': 15756,\n '접수일': 24544,\n '낸': 278,\n '##ulty': 15600,\n '내장부품': 22139,\n '특정한': 12940,\n '용읍': 26764,\n 'demand': 11840,\n 'microstructure': 13188,\n 'connector': 10393,\n '##트롤': 5535,\n '##전히': 12168,\n '용량을': 13916,\n '사출성형품을': 14491,\n 'Zr': 26527,\n '직전': 14287,\n '##서히': 8319,\n '모재의': 10218,\n 'blend': 6188,\n '형성을': 12575,\n '≤': 114,\n '사출성형된': 7399,\n '신뢰도': 17895,\n 'Tensile': 8475,\n '##WGV': 21649,\n '원이다': 21487,\n 'optim': 2931,\n '##중소': 28912,\n '##anel': 7511,\n '##ousing': 7348,\n '2m': 16903,\n '들면': 11893,\n '내경': 7558,\n '##원과': 17670,\n 'BP': 21295,\n 'Joo': 16917,\n '있기때문에': 25927,\n '사출압축성형을': 27786,\n '040': 28246,\n '방안으로서': 27766,\n 'under': 4160,\n '가스에': 25529,\n 'Equ': 7683,\n '##타텍': 20635,\n '##ern': 6723,\n '##Mo': 25336,\n '크랭크': 28687,\n '표면에': 3572,\n 'Plan': 18595,\n '##Wang': 27004,\n '력포': 28512,\n '##technique': 24731,\n '자성': 3751,\n '##fiber': 13644,\n '##촬': 1723,\n 'Unified': 16699,\n 'NE': 22396,\n '변위는': 27757,\n '푼': 929,\n 'thepro': 9779,\n '집': 771,\n '##ubes': 14049,\n 'interm': 27655,\n 'AbstractThe': 14483,\n 'assembled': 23496,\n 'MAC': 26011,\n 'microscopy': 19462,\n '달라': 4668,\n '굴절율': 10382,\n 'thicknesses': 24380,\n '확보가': 17237,\n '248': 27415,\n '##작업': 4543,\n '##지면': 5957,\n 'introduced': 11645,\n '##itect': 14777,\n '##adke': 29205,\n '펜더의': 14541,\n '불량원인': 19188,\n '##bel': 22648,\n '적합하도록': 20929,\n '##ero': 6896,\n '##경우의': 27572,\n '획득하였다': 14143,\n '##encl': 21928,\n '##함수': 3611,\n '##ully': 12630,\n '연구되었음': 29029,\n '주응력': 10921,\n '##ask': 12625,\n '작은': 3187,\n '##melt': 25217,\n '연락주': 28049,\n '##J': 1543,\n '매출액은': 21157,\n ...}"
          },
          "metadata": {}
        }
      ],
      "execution_count": 9,
      "metadata": {
        "jupyter": {
          "source_hidden": false,
          "outputs_hidden": false
        },
        "nteract": {
          "transient": {
            "deleting": false
          }
        },
        "gather": {
          "logged": 1715153546667
        }
      }
    },
    {
      "cell_type": "code",
      "source": [
        "from tokenizers import BertWordPieceTokenizer\n",
        "\n",
        "# 어휘 사전 파일 확인\n",
        "vocab_path = \"/home/azureuser/cloudfiles/code/Users/hb.suh/OUR_BERT/trained_tokenizer/CUSTOM_Tokenizer/vocab.txt\"\n",
        "tokenizer = BertWordPieceTokenizer(vocab_path)\n",
        "print(tokenizer)\n",
        "\n",
        "# text = \"공정변수를 진공성형의 사출성형해석에 요인배치로써 공급부에 중요한 역할을 제공한다.\"\n",
        "# # 텍스트 토큰화\n",
        "# tokenized_output = tokenizer.encode(text, add_special_tokens=True)\n",
        "# print(\"Token IDs:\", tokenized_output.ids)\n",
        "# print(\"Tokens:\", tokenized_output.tokens)\n",
        "# # 토큰 ID 배열을 사용하여 전체 텍스트 디코딩\n",
        "# decoded_text = tokenizer.decode(tokenized_output.ids)\n",
        "# print(\"Decoded Text:\", decoded_text)\n"
      ],
      "outputs": [
        {
          "output_type": "stream",
          "name": "stdout",
          "text": "Tokenizer(vocabulary_size=30000, model=BertWordPiece, unk_token=[UNK], sep_token=[SEP], cls_token=[CLS], pad_token=[PAD], mask_token=[MASK], clean_text=True, handle_chinese_chars=True, strip_accents=None, lowercase=True, wordpieces_prefix=##)\n"
        }
      ],
      "execution_count": 2,
      "metadata": {
        "jupyter": {
          "source_hidden": false,
          "outputs_hidden": false
        },
        "nteract": {
          "transient": {
            "deleting": false
          }
        },
        "gather": {
          "logged": 1715154416519
        }
      }
    },
    {
      "cell_type": "code",
      "source": [],
      "outputs": [],
      "execution_count": null,
      "metadata": {
        "jupyter": {
          "source_hidden": false,
          "outputs_hidden": false
        },
        "nteract": {
          "transient": {
            "deleting": false
          }
        }
      }
    }
  ],
  "metadata": {
    "kernelspec": {
      "name": "llm-rag-embeddings",
      "language": "python",
      "display_name": "genai"
    },
    "language_info": {
      "name": "python",
      "version": "3.8.19",
      "mimetype": "text/x-python",
      "codemirror_mode": {
        "name": "ipython",
        "version": 3
      },
      "pygments_lexer": "ipython3",
      "nbconvert_exporter": "python",
      "file_extension": ".py"
    },
    "kernel_info": {
      "name": "llm-rag-embeddings"
    },
    "microsoft": {
      "host": {
        "AzureML": {
          "notebookHasBeenCompleted": true
        }
      }
    },
    "nteract": {
      "version": "nteract-front-end@1.0.0"
    }
  },
  "nbformat": 4,
  "nbformat_minor": 2
}