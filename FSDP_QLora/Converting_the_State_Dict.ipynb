{
  "cells": [
    {
      "cell_type": "markdown",
      "source": [
        "# Converting the State Dict\n",
        "\n",
        "The training script (`train.py`) doesn't support any fancy saving/checkpointing methods, but it does optionally save the model right at the end of training into a safetensors file. In this notebook we'll show how to load in these saved weights for downstream evaluation and usage. This should hopefully become unneeded as frameworks integrate the changes needed to make FSDP+QLoRA work natively."
      ],
      "metadata": {},
      "id": "b657476e-1865-4687-898d-276c69eda4bc"
    },
    {
      "cell_type": "markdown",
      "source": [
        "As an example, let's look at a model trained with the following command (using default settings for LoRA rank etc):\n",
        "\n",
        "`python train.py --save_model True --train_type qlora --output_dir qlora_output`\n",
        "\n",
        "We'll load the saved state_dict, and then copy the relevant weights into a PEFT model to save via their TODO method.\n",
        "\n",
        "Let's start by loading the state dict. If you uncomment the print statement, you'll see that for every linear layer that had a LoRA adapter, we have something like this:\n",
        "```\n",
        "base_model.model.model.layers.0.mlp.down_proj.base_layer.weight torch.bfloat16 torch.Size([11272192, 1])\n",
        "base_model.model.model.layers.0.mlp.down_proj.lora_A.default.weight torch.bfloat16 torch.Size([8, 11008])\n",
        "base_model.model.model.layers.0.mlp.down_proj.lora_B.default.weight torch.bfloat16 torch.Size([4096, 8])\n",
        "```\n",
        "\n",
        "The base weights are flattened and quantized 4-bit values, which we won't need (we'll load the original base model later), and the lora_A and lora_B adapters are the ones we're interested in."
      ],
      "metadata": {},
      "id": "a2a3fa90-3d40-45db-9e91-3489fc207a14"
    },
    {
      "cell_type": "code",
      "source": [
        "import os\n",
        "import torch\n",
        "os.environ[\"CUDA_DEVICE_ORDER\"]=\"PCI_BUS_ID\"\n",
        "os.environ[\"CUDA_VISIBLE_DEVICES\"]=\"2\"\n",
        "\n",
        "device = torch.device(\"cuda:0\" if torch.cuda.is_available() else \"cpu\")\n",
        "print(f\"Using device: {device}\")"
      ],
      "outputs": [
        {
          "output_type": "stream",
          "name": "stdout",
          "text": "Using device: cuda:0\n"
        }
      ],
      "execution_count": 1,
      "metadata": {
        "jupyter": {
          "source_hidden": false,
          "outputs_hidden": false
        },
        "nteract": {
          "transient": {
            "deleting": false
          }
        },
        "gather": {
          "logged": 1718098874842
        }
      },
      "id": "5f493559-f7fd-47be-969f-2ec3a3a4ae10"
    },
    {
      "cell_type": "code",
      "source": [
        "from safetensors import safe_open\n",
        "\n",
        "tensors = {}\n",
        "\n",
        "with safe_open(\"./outputs_ft/ix/ours2_re/full_7/10epoch/model_state_dict.safetensors\", framework=\"pt\", device=0) as f:\n",
        "    for k in f.keys():\n",
        "        tensors[k] = f.get_tensor(k) # loads the full tensor given a key\n",
        "        # print(k, tensors[k].dtype, tensors[k].shape) # Uncomment to view"
      ],
      "outputs": [],
      "execution_count": 7,
      "metadata": {
        "scrolled": true,
        "gather": {
          "logged": 1718098892706
        }
      },
      "id": "fb4bb4b5-a250-489c-be56-5db542ac882e"
    },
    {
      "cell_type": "markdown",
      "source": [
        "To save memory, we can delete everything but the LoRA layers:"
      ],
      "metadata": {},
      "id": "f96a4876-c355-4b00-be1e-853de6be9ce1"
    },
    {
      "cell_type": "code",
      "source": [
        "for k in tensors:\n",
        "    if 'lora' not in k: tensors[k] = None"
      ],
      "outputs": [],
      "execution_count": null,
      "metadata": {
        "gather": {
          "logged": 1718098894958
        }
      },
      "id": "7a63af21-1cbf-4c70-9841-63b1338ee757"
    },
    {
      "cell_type": "markdown",
      "source": [
        "Next, we load the base model and add a random adapter:"
      ],
      "metadata": {},
      "id": "5aaa3483-cf79-44bf-9533-3937bd089f6e"
    },
    {
      "cell_type": "code",
      "source": [
        "import torch\n",
        "from transformers import LlamaForCausalLM, BitsAndBytesConfig\n",
        "from peft import get_peft_config, get_peft_model, LoraConfig, TaskType\n",
        "\n",
        "# Make sure the compute type, target modules, rank, alpha etc match!\n",
        "bnb_config = BitsAndBytesConfig(\n",
        "    load_in_4bit=True,\n",
        "    bnb_4bit_quant_type=\"nf4\",\n",
        "    bnb_4bit_use_double_quant=False,\n",
        "    bnb_4bit_compute_dtype=torch.bfloat16\n",
        ")\n",
        "model = LlamaForCausalLM.from_pretrained(\n",
        "    \"saltlux/Ko-Llama3-Luxia-8B\",\n",
        "    use_cache=False,\n",
        "    quantization_config=bnb_config\n",
        ")\n",
        "\n",
        "# Freeze\n",
        "for param in model.parameters():\n",
        "    param.requires_grad = False\n",
        "\n",
        "# Add LoRA (make sure your rank (r) and alpha (lora_alpha) values match those used in training!)\n",
        "peft_config = LoraConfig(\n",
        "    task_type=TaskType.CAUSAL_LM, inference_mode=False, r=64, lora_alpha=16, lora_dropout=0.1,\n",
        "    target_modules=[\"k_proj\", \"q_proj\", \"v_proj\", \"up_proj\", \"down_proj\", \"gate_proj\"]\n",
        ")\n",
        "model = get_peft_model(model, peft_config)\n",
        "\n",
        "# Check out the first few keys in the state dict:\n",
        "list(model.state_dict().keys())[:10]"
      ],
      "outputs": [],
      "execution_count": null,
      "metadata": {
        "gather": {
          "logged": 1718098923290
        }
      },
      "id": "879e24cd-eb72-4d23-8583-12cd91ed117f"
    },
    {
      "cell_type": "markdown",
      "source": [
        "Now, if all goes well, we can replace the randomly initialized LoRA layers with our trained ones:"
      ],
      "metadata": {},
      "id": "322501e6-9170-4cb6-bd14-ed070045f028"
    },
    {
      "cell_type": "code",
      "source": [
        "new_sd = model.state_dict()\n",
        "for k in new_sd:\n",
        "    if 'lora' in k:\n",
        "        new_sd[k] = tensors[k]\n",
        "\n",
        "model.load_state_dict(new_sd)"
      ],
      "outputs": [],
      "execution_count": null,
      "metadata": {
        "gather": {
          "logged": 1718098934786
        }
      },
      "id": "028a26eb-18d3-4e0e-b593-1bacd4987005"
    },
    {
      "cell_type": "markdown",
      "source": [
        "And now, since we have a regular PEFT model, we can save using the built-in methods:"
      ],
      "metadata": {},
      "id": "dd59ea0b-68e4-457e-9c0f-1804b327794c"
    },
    {
      "cell_type": "code",
      "source": [
        "model.save_pretrained(\"./lora_adapters/0610/ours2_re/full_7/10epoch\")"
      ],
      "outputs": [],
      "execution_count": null,
      "metadata": {
        "gather": {
          "logged": 1718098924142
        }
      },
      "id": "21096cf2-9270-478a-b7f8-9de70827c46c"
    },
    {
      "cell_type": "code",
      "source": [
        "!ls lora_adapters"
      ],
      "outputs": [
        {
          "output_type": "stream",
          "name": "stdout",
          "text": "0527  0531  0603  README.md\r\n"
        }
      ],
      "execution_count": 14,
      "metadata": {},
      "id": "f24feebb-4928-4d1b-aa0a-b8f86e623336"
    },
    {
      "cell_type": "code",
      "source": [
        "# model.push_to_hub('your_repo_id') # If you want to share your model..."
      ],
      "outputs": [],
      "execution_count": 7,
      "metadata": {},
      "id": "ad1300e9-4beb-47e3-ba87-3616e8cd819d"
    }
  ],
  "metadata": {
    "kernelspec": {
      "name": "hm_env",
      "language": "python",
      "display_name": "hm_env"
    },
    "language_info": {
      "name": "python",
      "version": "3.10.14",
      "mimetype": "text/x-python",
      "codemirror_mode": {
        "name": "ipython",
        "version": 3
      },
      "pygments_lexer": "ipython3",
      "nbconvert_exporter": "python",
      "file_extension": ".py"
    },
    "kernel_info": {
      "name": "hm_env"
    },
    "nteract": {
      "version": "nteract-front-end@1.0.0"
    },
    "microsoft": {
      "host": {
        "AzureML": {
          "notebookHasBeenCompleted": true
        }
      }
    }
  },
  "nbformat": 4,
  "nbformat_minor": 5
}