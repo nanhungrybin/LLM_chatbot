{
  "cells": [
    {
      "cell_type": "code",
      "source": [
        "import os\n",
        "os.environ[\"CUDA_DEVICE_ORDER\"]=\"PCI_BUS_ID\"\n",
        "os.environ[\"CUDA_VISIBLE_DEVICES\"]=\"2\""
      ],
      "outputs": [],
      "execution_count": 1,
      "metadata": {
        "jupyter": {
          "source_hidden": false,
          "outputs_hidden": false
        },
        "nteract": {
          "transient": {
            "deleting": false
          }
        },
        "gather": {
          "logged": 1718099331884
        }
      }
    },
    {
      "cell_type": "markdown",
      "source": [
        "#### Saltlux Answer 생성 확인"
      ],
      "metadata": {
        "nteract": {
          "transient": {
            "deleting": false
          }
        }
      }
    },
    {
      "cell_type": "code",
      "source": [
        "from datasets import Dataset, load_dataset\n",
        "\n",
        "dataset=load_dataset(\"json\",data_files=\"/home/azureuser/cloudfiles/code/Users/hm.lim/Gen/CODE/DPO/data/df_train.json\")\n",
        "train_dataset=dataset['train']"
      ],
      "outputs": [],
      "execution_count": 10,
      "metadata": {
        "jupyter": {
          "source_hidden": false,
          "outputs_hidden": false
        },
        "nteract": {
          "transient": {
            "deleting": false
          }
        },
        "gather": {
          "logged": 1717108263984
        }
      }
    },
    {
      "cell_type": "code",
      "source": [
        "import pandas as pd\n",
        "train_dataset_df=pd.DataFrame(train_dataset)\n",
        "train_dataset_df.head(10)"
      ],
      "outputs": [
        {
          "output_type": "execute_result",
          "execution_count": 14,
          "data": {
            "text/plain": "  node_id                                                 Q1  \\\n0       0  CAE 소프트웨어를 사용한 반도체 테스트 소켓(1089핀 BGA)의 충전 및 변형 ...   \n1       1                     사출성형 제품의 품질 예측이 어려운 이유는 무엇인가요?   \n2       2                               사출성형 CAE의 역할은 무엇인가요?   \n3       3         PEI(Polyether Imide) 소재의 주요 특성과 장점은 무엇인가요?   \n4       4         8mm의 피치를 가지고 있는 나사의 상단부 지름이 중요한 이유는 무엇인가요?   \n5       5             3D 모델을 생성하기 위해 사용된 CAD 데이터의 출처는 무엇인가요?   \n6       6  생성된 3D 모델의 요소 분할 과정에서 플레이트 중앙 부분과 외곽부의 요소 크기를 ...   \n7       7  사출 시간에 따른 최대 사출압력의 변화와 그에 따른 최적의 사출 시간을 어떻게 선정...   \n8       8            따라서라는 단어는 어떤 상황에서 주로 사용되며, 그 의미는 무엇인가요?   \n9       9           수지의 최대 사출가능 온도와 실제 온도 분포가 중요한 이유는 무엇인가요?   \n\n                                                  Q2  \\\n0  반도체 테스트 소켓(1089핀 BGA)의 사출 성형 과정에서 발생할 수 있는 주요 ...   \n1                   사출성형 CAE 도구의 역할과 중요성에 대해 설명해주세요.   \n2  BGA 콘넥터의 테스트 소켓으로서의 역할과 2.5D CAE 사출성형 해석의 한계는 ...   \n3      본 연구에서 사용된 PEI 수지의 구체적인 종류와 그 특성에 대해 설명해 주세요.   \n4            8mm 피치의 나사를 사용할 때 고려해야 할 다른 요소들은 무엇인가요?   \n5                       원추형 홀을 원통형 홀로 대체한 이유는 무엇인가요?   \n6  유한 요소 생성 과정에서 fusion mesh와 3D mesh의 차이점은 무엇이며,...   \n7       사출 시간 0.12초일 경우의 모델에 대한 시간대별 충전 패턴 결과는 어떠한가?   \n8                 '따라서'와 비슷한 의미를 가진 다른 접속사는 무엇이 있나요?   \n9                 변형해석을 수행하려고 했으나 문제가 발생한 이유는 무엇인가요?   \n\n                                                  Q3  \\\n0             CAE 소프트웨어를 사용한 사출 성형 분석의 주요 단계는 무엇인가요?   \n1         사출성형 공정에서 발생할 수 있는 불량 유형과 그 원인에 대해 설명해주세요.   \n2                    본 연구에서 사용된 수지의 특성과 그 이유는 무엇인가요?   \n3          연구에서 사용된 BGA 모델의 구체적인 형상과 구조에 대해 설명해 주세요.   \n4         나사의 피치가 8mm인 경우, 나사의 용도와 적합한 응용 분야는 무엇인가요?   \n5        요소 분할 시 플레이트 중앙 부분과 외곽부의 요소 크기는 어떻게 설정되었나요?   \n6         사출속도에 따른 사출압력의 변화가 U형태의 커브를 보이는 이유는 무엇인가요?   \n7   유동 선단의 온도분포 해석 결과와 그에 따른 수지의 물성 변화에 대한 판단은 무엇인가?   \n8               '따라서'를 사용한 문장을 만들 때 주의해야 할 점은 무엇인가요?   \n9                            유동해석과 변형해석의 차이점은 무엇인가요?   \n\n                                                  A1  \\\n0  CAE(Computer Aided Engineering) 소프트웨어를 사용한 반도체...   \n1  사출성형 제품의 품질 예측이 어려운 이유는 여러 가지가 있습니다. 첫째, 사출성형 ...   \n2  사출성형 CAE의 역할은 복합적인 단계를 거쳐 각 단계별로 다양한 요구사항을 충족시...   \n3  PEI(Polyether Imide)는 비결정성 열가소성 수지로서, Ultem이라는...   \n4  8mm의 피치를 가지고 있는 나사의 상단부 지름은 나사의 강도와 적합성을 결정하는 ...   \n5  3D 모델을 생성하기 위해 사용된 CAD 데이터는 2D 데이터(Fig. 4)를 기반...   \n6  생성된 3D 모델의 요소 분할 과정에서 플레이트 중앙 부분과 외곽부의 요소 크기를 ...   \n7  사출 시간에 따른 최대 사출압력의 변화를 분석하기 위해 사출 시간을 0.06초에서부...   \n8  '따라서'라는 단어는 주로 앞서 언급된 내용이나 상황을 바탕으로 결론이나 결과를 도...   \n9  수지의 최대 사출가능 온도와 실제 온도 분포는 수지의 물성 변화와 제품의 품질에 직...   \n\n                                                  A2  \\\n0  반도체 테스트 소켓(1089핀 BGA)의 사출 성형 과정에서 발생할 수 있는 주요 ...   \n1  사출성형 CAE(Computer-Aided Engineering) 도구는 사출성형 ...   \n2  BGA 콘넥터는 반도체 IC칩 제조 과정 중 전수검사 과정에서 사용되는 테스트 소켓...   \n3  본 연구에 사용된 PEI 수지는 GE 사의 Ultem 2210R Black으로, 유...   \n4  8mm 피치의 나사를 사용할 때 고려해야 할 다른 요소들은 나사의 재질, 길이, 나...   \n5  원추형 홀을 원통형 홀로 대체한 이유는 요소 생성의 용이함과 불필요한 요소 생성을 ...   \n6  유한 요소 생성 과정에서 fusion mesh와 3D mesh의 차이점은 요소의 생...   \n7  사출 시간 0.12초일 경우의 모델에 대한 시간대별 충전 패턴 결과는 Fig. 10...   \n8  '따라서'와 비슷한 의미를 가진 접속사로는 '그러므로', '그러니까', '그래서',...   \n9  변형해석을 수행하려고 했으나 문제가 발생한 이유는 사용된 프로그램인 MPI6에서 발...   \n\n                                                  A3  \\\n0   CAE 소프트웨어를 사용한 사출 성형 분석의 주요 단계는 다음과 같습니다. 첫째,...   \n1   사출성형 공정에서 발생할 수 있는 불량 유형은 다양하며, 그 원인도 여러 가지가 ...   \n2   본 연구에서 사용된 수지는 미국 GE사가 개발한 비결정성 열가소성 수지인 PEI(...   \n3   본 연구에서 해석에 적용된 BGA(Ball Grid Array) 모델은 가로 33...   \n4   나사의 피치가 8mm인 경우, 이는 비교적 큰 피치로 간주되며, 주로 중장비, 건...   \n5   요소 분할 시 플레이트 중앙 부분과 외곽부의 요소 크기는 다르게 설정되었습니다. ...   \n6   사출속도에 따른 사출압력의 변화가 U형태의 커브를 보이는 이유는 사출속도와 유동선...   \n7   유동 선단의 온도분포 해석 결과는 Fig. 13에 제시되었다. 결과에서 보듯이 전...   \n8   '따라서'를 사용한 문장을 만들 때 주의해야 할 점은 앞서 언급된 내용과 '따라서...   \n9   유동해석과 변형해석은 각각 다른 목적과 방법을 가진 해석 기법입니다. 유동해석은 ...   \n\n                                              corpus  \\\n0  AbstractThe technologies of mold design, manuf...   \n1  금속재료에비해 경량화 및 가격경쟁력이 우수하며 재활용이 강조되면서 사출성형으로 생산...   \n2  등 복합적 단계를거쳐야 하며 각 단계별로는 양한 요구사항들이 있으며그에 맞는 기능들...   \n3  개발한 비결정성 열가소성 수지로서 Ultem이라는 상품명으로 시판되고 있는 PEI(...   \n4                           8mm의피치를 가지고 있는 상단부 지름 0.   \n5  76mm 하단부 지름0. 26mm인 원추형 홀이 1,089개가 배치되어 있는 형태를...   \n6  홀을 평균값인 0.5mm인 원통형 홀로 대체하여 모델링을 수행하였다. 생성된 3D ...   \n7  사출 압력이 증가하게 된다. 따라서 캐비티 내에서 유동선단이 적절한 일정속도로흐를 ...   \n8                                                따라서   \n9  440°C 정도의 온도 분포를 보이고 있으나 적용 수지의 최대 사출가능 온도인 46...   \n\n                               query_id  \\\n0  fb833046-758b-4e2e-a68a-d0c841c34eb4   \n1  158e15de-8954-4390-931a-f28e3fe0dbc7   \n2  1e43b3d3-e583-42ff-b440-2ee8d5504e19   \n3  1d9cf65b-d96b-4df2-8937-31a043e50abd   \n4  9dd7724f-d00b-4eaf-8954-ac194a791644   \n5  27c2fc47-965e-4ae7-adb3-a5cbe603e654   \n6  dec03665-97a2-4e3b-a7ee-4100fc5350ee   \n7  ad4b0dba-2a80-4dde-9b61-5a555419a6c2   \n8  4150c9c3-e7f9-405c-812a-76d7e1253dfa   \n9  e8468897-c2f1-45a6-bf18-90e109cd0df2   \n\n                                                text  \n0  ###{Question:CAE 소프트웨어를 사용한 반도체 테스트 소켓(1089핀 B...  \n1  ###{Question:사출성형 제품의 품질 예측이 어려운 이유는 무엇인가요?\\n#...  \n2  ###{Question:사출성형 CAE의 역할은 무엇인가요?\\n####Answer:...  \n3  ###{Question:PEI(Polyether Imide) 소재의 주요 특성과 장...  \n4  ###{Question:8mm의 피치를 가지고 있는 나사의 상단부 지름이 중요한 이...  \n5  ###{Question:3D 모델을 생성하기 위해 사용된 CAD 데이터의 출처는 무...  \n6  ###{Question:생성된 3D 모델의 요소 분할 과정에서 플레이트 중앙 부분과...  \n7  ###{Question:사출 시간에 따른 최대 사출압력의 변화와 그에 따른 최적의 ...  \n8  ###{Question:따라서라는 단어는 어떤 상황에서 주로 사용되며, 그 의미는 ...  \n9  ###{Question:수지의 최대 사출가능 온도와 실제 온도 분포가 중요한 이유는...  ",
            "text/html": "<div>\n<style scoped>\n    .dataframe tbody tr th:only-of-type {\n        vertical-align: middle;\n    }\n\n    .dataframe tbody tr th {\n        vertical-align: top;\n    }\n\n    .dataframe thead th {\n        text-align: right;\n    }\n</style>\n<table border=\"1\" class=\"dataframe\">\n  <thead>\n    <tr style=\"text-align: right;\">\n      <th></th>\n      <th>node_id</th>\n      <th>Q1</th>\n      <th>Q2</th>\n      <th>Q3</th>\n      <th>A1</th>\n      <th>A2</th>\n      <th>A3</th>\n      <th>corpus</th>\n      <th>query_id</th>\n      <th>text</th>\n    </tr>\n  </thead>\n  <tbody>\n    <tr>\n      <th>0</th>\n      <td>0</td>\n      <td>CAE 소프트웨어를 사용한 반도체 테스트 소켓(1089핀 BGA)의 충전 및 변형 ...</td>\n      <td>반도체 테스트 소켓(1089핀 BGA)의 사출 성형 과정에서 발생할 수 있는 주요 ...</td>\n      <td>CAE 소프트웨어를 사용한 사출 성형 분석의 주요 단계는 무엇인가요?</td>\n      <td>CAE(Computer Aided Engineering) 소프트웨어를 사용한 반도체...</td>\n      <td>반도체 테스트 소켓(1089핀 BGA)의 사출 성형 과정에서 발생할 수 있는 주요 ...</td>\n      <td>CAE 소프트웨어를 사용한 사출 성형 분석의 주요 단계는 다음과 같습니다. 첫째,...</td>\n      <td>AbstractThe technologies of mold design, manuf...</td>\n      <td>fb833046-758b-4e2e-a68a-d0c841c34eb4</td>\n      <td>###{Question:CAE 소프트웨어를 사용한 반도체 테스트 소켓(1089핀 B...</td>\n    </tr>\n    <tr>\n      <th>1</th>\n      <td>1</td>\n      <td>사출성형 제품의 품질 예측이 어려운 이유는 무엇인가요?</td>\n      <td>사출성형 CAE 도구의 역할과 중요성에 대해 설명해주세요.</td>\n      <td>사출성형 공정에서 발생할 수 있는 불량 유형과 그 원인에 대해 설명해주세요.</td>\n      <td>사출성형 제품의 품질 예측이 어려운 이유는 여러 가지가 있습니다. 첫째, 사출성형 ...</td>\n      <td>사출성형 CAE(Computer-Aided Engineering) 도구는 사출성형 ...</td>\n      <td>사출성형 공정에서 발생할 수 있는 불량 유형은 다양하며, 그 원인도 여러 가지가 ...</td>\n      <td>금속재료에비해 경량화 및 가격경쟁력이 우수하며 재활용이 강조되면서 사출성형으로 생산...</td>\n      <td>158e15de-8954-4390-931a-f28e3fe0dbc7</td>\n      <td>###{Question:사출성형 제품의 품질 예측이 어려운 이유는 무엇인가요?\\n#...</td>\n    </tr>\n    <tr>\n      <th>2</th>\n      <td>2</td>\n      <td>사출성형 CAE의 역할은 무엇인가요?</td>\n      <td>BGA 콘넥터의 테스트 소켓으로서의 역할과 2.5D CAE 사출성형 해석의 한계는 ...</td>\n      <td>본 연구에서 사용된 수지의 특성과 그 이유는 무엇인가요?</td>\n      <td>사출성형 CAE의 역할은 복합적인 단계를 거쳐 각 단계별로 다양한 요구사항을 충족시...</td>\n      <td>BGA 콘넥터는 반도체 IC칩 제조 과정 중 전수검사 과정에서 사용되는 테스트 소켓...</td>\n      <td>본 연구에서 사용된 수지는 미국 GE사가 개발한 비결정성 열가소성 수지인 PEI(...</td>\n      <td>등 복합적 단계를거쳐야 하며 각 단계별로는 양한 요구사항들이 있으며그에 맞는 기능들...</td>\n      <td>1e43b3d3-e583-42ff-b440-2ee8d5504e19</td>\n      <td>###{Question:사출성형 CAE의 역할은 무엇인가요?\\n####Answer:...</td>\n    </tr>\n    <tr>\n      <th>3</th>\n      <td>3</td>\n      <td>PEI(Polyether Imide) 소재의 주요 특성과 장점은 무엇인가요?</td>\n      <td>본 연구에서 사용된 PEI 수지의 구체적인 종류와 그 특성에 대해 설명해 주세요.</td>\n      <td>연구에서 사용된 BGA 모델의 구체적인 형상과 구조에 대해 설명해 주세요.</td>\n      <td>PEI(Polyether Imide)는 비결정성 열가소성 수지로서, Ultem이라는...</td>\n      <td>본 연구에 사용된 PEI 수지는 GE 사의 Ultem 2210R Black으로, 유...</td>\n      <td>본 연구에서 해석에 적용된 BGA(Ball Grid Array) 모델은 가로 33...</td>\n      <td>개발한 비결정성 열가소성 수지로서 Ultem이라는 상품명으로 시판되고 있는 PEI(...</td>\n      <td>1d9cf65b-d96b-4df2-8937-31a043e50abd</td>\n      <td>###{Question:PEI(Polyether Imide) 소재의 주요 특성과 장...</td>\n    </tr>\n    <tr>\n      <th>4</th>\n      <td>4</td>\n      <td>8mm의 피치를 가지고 있는 나사의 상단부 지름이 중요한 이유는 무엇인가요?</td>\n      <td>8mm 피치의 나사를 사용할 때 고려해야 할 다른 요소들은 무엇인가요?</td>\n      <td>나사의 피치가 8mm인 경우, 나사의 용도와 적합한 응용 분야는 무엇인가요?</td>\n      <td>8mm의 피치를 가지고 있는 나사의 상단부 지름은 나사의 강도와 적합성을 결정하는 ...</td>\n      <td>8mm 피치의 나사를 사용할 때 고려해야 할 다른 요소들은 나사의 재질, 길이, 나...</td>\n      <td>나사의 피치가 8mm인 경우, 이는 비교적 큰 피치로 간주되며, 주로 중장비, 건...</td>\n      <td>8mm의피치를 가지고 있는 상단부 지름 0.</td>\n      <td>9dd7724f-d00b-4eaf-8954-ac194a791644</td>\n      <td>###{Question:8mm의 피치를 가지고 있는 나사의 상단부 지름이 중요한 이...</td>\n    </tr>\n    <tr>\n      <th>5</th>\n      <td>5</td>\n      <td>3D 모델을 생성하기 위해 사용된 CAD 데이터의 출처는 무엇인가요?</td>\n      <td>원추형 홀을 원통형 홀로 대체한 이유는 무엇인가요?</td>\n      <td>요소 분할 시 플레이트 중앙 부분과 외곽부의 요소 크기는 어떻게 설정되었나요?</td>\n      <td>3D 모델을 생성하기 위해 사용된 CAD 데이터는 2D 데이터(Fig. 4)를 기반...</td>\n      <td>원추형 홀을 원통형 홀로 대체한 이유는 요소 생성의 용이함과 불필요한 요소 생성을 ...</td>\n      <td>요소 분할 시 플레이트 중앙 부분과 외곽부의 요소 크기는 다르게 설정되었습니다. ...</td>\n      <td>76mm 하단부 지름0. 26mm인 원추형 홀이 1,089개가 배치되어 있는 형태를...</td>\n      <td>27c2fc47-965e-4ae7-adb3-a5cbe603e654</td>\n      <td>###{Question:3D 모델을 생성하기 위해 사용된 CAD 데이터의 출처는 무...</td>\n    </tr>\n    <tr>\n      <th>6</th>\n      <td>6</td>\n      <td>생성된 3D 모델의 요소 분할 과정에서 플레이트 중앙 부분과 외곽부의 요소 크기를 ...</td>\n      <td>유한 요소 생성 과정에서 fusion mesh와 3D mesh의 차이점은 무엇이며,...</td>\n      <td>사출속도에 따른 사출압력의 변화가 U형태의 커브를 보이는 이유는 무엇인가요?</td>\n      <td>생성된 3D 모델의 요소 분할 과정에서 플레이트 중앙 부분과 외곽부의 요소 크기를 ...</td>\n      <td>유한 요소 생성 과정에서 fusion mesh와 3D mesh의 차이점은 요소의 생...</td>\n      <td>사출속도에 따른 사출압력의 변화가 U형태의 커브를 보이는 이유는 사출속도와 유동선...</td>\n      <td>홀을 평균값인 0.5mm인 원통형 홀로 대체하여 모델링을 수행하였다. 생성된 3D ...</td>\n      <td>dec03665-97a2-4e3b-a7ee-4100fc5350ee</td>\n      <td>###{Question:생성된 3D 모델의 요소 분할 과정에서 플레이트 중앙 부분과...</td>\n    </tr>\n    <tr>\n      <th>7</th>\n      <td>7</td>\n      <td>사출 시간에 따른 최대 사출압력의 변화와 그에 따른 최적의 사출 시간을 어떻게 선정...</td>\n      <td>사출 시간 0.12초일 경우의 모델에 대한 시간대별 충전 패턴 결과는 어떠한가?</td>\n      <td>유동 선단의 온도분포 해석 결과와 그에 따른 수지의 물성 변화에 대한 판단은 무엇인가?</td>\n      <td>사출 시간에 따른 최대 사출압력의 변화를 분석하기 위해 사출 시간을 0.06초에서부...</td>\n      <td>사출 시간 0.12초일 경우의 모델에 대한 시간대별 충전 패턴 결과는 Fig. 10...</td>\n      <td>유동 선단의 온도분포 해석 결과는 Fig. 13에 제시되었다. 결과에서 보듯이 전...</td>\n      <td>사출 압력이 증가하게 된다. 따라서 캐비티 내에서 유동선단이 적절한 일정속도로흐를 ...</td>\n      <td>ad4b0dba-2a80-4dde-9b61-5a555419a6c2</td>\n      <td>###{Question:사출 시간에 따른 최대 사출압력의 변화와 그에 따른 최적의 ...</td>\n    </tr>\n    <tr>\n      <th>8</th>\n      <td>8</td>\n      <td>따라서라는 단어는 어떤 상황에서 주로 사용되며, 그 의미는 무엇인가요?</td>\n      <td>'따라서'와 비슷한 의미를 가진 다른 접속사는 무엇이 있나요?</td>\n      <td>'따라서'를 사용한 문장을 만들 때 주의해야 할 점은 무엇인가요?</td>\n      <td>'따라서'라는 단어는 주로 앞서 언급된 내용이나 상황을 바탕으로 결론이나 결과를 도...</td>\n      <td>'따라서'와 비슷한 의미를 가진 접속사로는 '그러므로', '그러니까', '그래서',...</td>\n      <td>'따라서'를 사용한 문장을 만들 때 주의해야 할 점은 앞서 언급된 내용과 '따라서...</td>\n      <td>따라서</td>\n      <td>4150c9c3-e7f9-405c-812a-76d7e1253dfa</td>\n      <td>###{Question:따라서라는 단어는 어떤 상황에서 주로 사용되며, 그 의미는 ...</td>\n    </tr>\n    <tr>\n      <th>9</th>\n      <td>9</td>\n      <td>수지의 최대 사출가능 온도와 실제 온도 분포가 중요한 이유는 무엇인가요?</td>\n      <td>변형해석을 수행하려고 했으나 문제가 발생한 이유는 무엇인가요?</td>\n      <td>유동해석과 변형해석의 차이점은 무엇인가요?</td>\n      <td>수지의 최대 사출가능 온도와 실제 온도 분포는 수지의 물성 변화와 제품의 품질에 직...</td>\n      <td>변형해석을 수행하려고 했으나 문제가 발생한 이유는 사용된 프로그램인 MPI6에서 발...</td>\n      <td>유동해석과 변형해석은 각각 다른 목적과 방법을 가진 해석 기법입니다. 유동해석은 ...</td>\n      <td>440°C 정도의 온도 분포를 보이고 있으나 적용 수지의 최대 사출가능 온도인 46...</td>\n      <td>e8468897-c2f1-45a6-bf18-90e109cd0df2</td>\n      <td>###{Question:수지의 최대 사출가능 온도와 실제 온도 분포가 중요한 이유는...</td>\n    </tr>\n  </tbody>\n</table>\n</div>"
          },
          "metadata": {}
        }
      ],
      "execution_count": 14,
      "metadata": {
        "jupyter": {
          "source_hidden": false,
          "outputs_hidden": false
        },
        "nteract": {
          "transient": {
            "deleting": false
          }
        },
        "gather": {
          "logged": 1717108293389
        }
      }
    },
    {
      "cell_type": "code",
      "source": [
        "train_q=train_dataset_df[['Q1','Q2','Q3']]\n",
        "train_q.head()"
      ],
      "outputs": [
        {
          "output_type": "execute_result",
          "execution_count": 29,
          "data": {
            "text/plain": "                                                  Q1  \\\n0  CAE 소프트웨어를 사용한 반도체 테스트 소켓(1089핀 BGA)의 충전 및 변형 ...   \n1                     사출성형 제품의 품질 예측이 어려운 이유는 무엇인가요?   \n2                               사출성형 CAE의 역할은 무엇인가요?   \n3         PEI(Polyether Imide) 소재의 주요 특성과 장점은 무엇인가요?   \n4         8mm의 피치를 가지고 있는 나사의 상단부 지름이 중요한 이유는 무엇인가요?   \n\n                                                  Q2  \\\n0  반도체 테스트 소켓(1089핀 BGA)의 사출 성형 과정에서 발생할 수 있는 주요 ...   \n1                   사출성형 CAE 도구의 역할과 중요성에 대해 설명해주세요.   \n2  BGA 콘넥터의 테스트 소켓으로서의 역할과 2.5D CAE 사출성형 해석의 한계는 ...   \n3      본 연구에서 사용된 PEI 수지의 구체적인 종류와 그 특성에 대해 설명해 주세요.   \n4            8mm 피치의 나사를 사용할 때 고려해야 할 다른 요소들은 무엇인가요?   \n\n                                            Q3  \n0       CAE 소프트웨어를 사용한 사출 성형 분석의 주요 단계는 무엇인가요?  \n1   사출성형 공정에서 발생할 수 있는 불량 유형과 그 원인에 대해 설명해주세요.  \n2              본 연구에서 사용된 수지의 특성과 그 이유는 무엇인가요?  \n3    연구에서 사용된 BGA 모델의 구체적인 형상과 구조에 대해 설명해 주세요.  \n4   나사의 피치가 8mm인 경우, 나사의 용도와 적합한 응용 분야는 무엇인가요?  ",
            "text/html": "<div>\n<style scoped>\n    .dataframe tbody tr th:only-of-type {\n        vertical-align: middle;\n    }\n\n    .dataframe tbody tr th {\n        vertical-align: top;\n    }\n\n    .dataframe thead th {\n        text-align: right;\n    }\n</style>\n<table border=\"1\" class=\"dataframe\">\n  <thead>\n    <tr style=\"text-align: right;\">\n      <th></th>\n      <th>Q1</th>\n      <th>Q2</th>\n      <th>Q3</th>\n    </tr>\n  </thead>\n  <tbody>\n    <tr>\n      <th>0</th>\n      <td>CAE 소프트웨어를 사용한 반도체 테스트 소켓(1089핀 BGA)의 충전 및 변형 ...</td>\n      <td>반도체 테스트 소켓(1089핀 BGA)의 사출 성형 과정에서 발생할 수 있는 주요 ...</td>\n      <td>CAE 소프트웨어를 사용한 사출 성형 분석의 주요 단계는 무엇인가요?</td>\n    </tr>\n    <tr>\n      <th>1</th>\n      <td>사출성형 제품의 품질 예측이 어려운 이유는 무엇인가요?</td>\n      <td>사출성형 CAE 도구의 역할과 중요성에 대해 설명해주세요.</td>\n      <td>사출성형 공정에서 발생할 수 있는 불량 유형과 그 원인에 대해 설명해주세요.</td>\n    </tr>\n    <tr>\n      <th>2</th>\n      <td>사출성형 CAE의 역할은 무엇인가요?</td>\n      <td>BGA 콘넥터의 테스트 소켓으로서의 역할과 2.5D CAE 사출성형 해석의 한계는 ...</td>\n      <td>본 연구에서 사용된 수지의 특성과 그 이유는 무엇인가요?</td>\n    </tr>\n    <tr>\n      <th>3</th>\n      <td>PEI(Polyether Imide) 소재의 주요 특성과 장점은 무엇인가요?</td>\n      <td>본 연구에서 사용된 PEI 수지의 구체적인 종류와 그 특성에 대해 설명해 주세요.</td>\n      <td>연구에서 사용된 BGA 모델의 구체적인 형상과 구조에 대해 설명해 주세요.</td>\n    </tr>\n    <tr>\n      <th>4</th>\n      <td>8mm의 피치를 가지고 있는 나사의 상단부 지름이 중요한 이유는 무엇인가요?</td>\n      <td>8mm 피치의 나사를 사용할 때 고려해야 할 다른 요소들은 무엇인가요?</td>\n      <td>나사의 피치가 8mm인 경우, 나사의 용도와 적합한 응용 분야는 무엇인가요?</td>\n    </tr>\n  </tbody>\n</table>\n</div>"
          },
          "metadata": {}
        }
      ],
      "execution_count": 29,
      "metadata": {
        "jupyter": {
          "source_hidden": false,
          "outputs_hidden": false
        },
        "nteract": {
          "transient": {
            "deleting": false
          }
        },
        "gather": {
          "logged": 1717064669759
        }
      }
    },
    {
      "cell_type": "code",
      "source": [
        "train_q_100=train_q.loc[:99]\n",
        "print(len(train_q_100))\n",
        "train_q_100.head()"
      ],
      "outputs": [
        {
          "output_type": "stream",
          "name": "stdout",
          "text": "100\n"
        },
        {
          "output_type": "execute_result",
          "execution_count": 30,
          "data": {
            "text/plain": "                                                  Q1  \\\n0  CAE 소프트웨어를 사용한 반도체 테스트 소켓(1089핀 BGA)의 충전 및 변형 ...   \n1                     사출성형 제품의 품질 예측이 어려운 이유는 무엇인가요?   \n2                               사출성형 CAE의 역할은 무엇인가요?   \n3         PEI(Polyether Imide) 소재의 주요 특성과 장점은 무엇인가요?   \n4         8mm의 피치를 가지고 있는 나사의 상단부 지름이 중요한 이유는 무엇인가요?   \n\n                                                  Q2  \\\n0  반도체 테스트 소켓(1089핀 BGA)의 사출 성형 과정에서 발생할 수 있는 주요 ...   \n1                   사출성형 CAE 도구의 역할과 중요성에 대해 설명해주세요.   \n2  BGA 콘넥터의 테스트 소켓으로서의 역할과 2.5D CAE 사출성형 해석의 한계는 ...   \n3      본 연구에서 사용된 PEI 수지의 구체적인 종류와 그 특성에 대해 설명해 주세요.   \n4            8mm 피치의 나사를 사용할 때 고려해야 할 다른 요소들은 무엇인가요?   \n\n                                            Q3  \n0       CAE 소프트웨어를 사용한 사출 성형 분석의 주요 단계는 무엇인가요?  \n1   사출성형 공정에서 발생할 수 있는 불량 유형과 그 원인에 대해 설명해주세요.  \n2              본 연구에서 사용된 수지의 특성과 그 이유는 무엇인가요?  \n3    연구에서 사용된 BGA 모델의 구체적인 형상과 구조에 대해 설명해 주세요.  \n4   나사의 피치가 8mm인 경우, 나사의 용도와 적합한 응용 분야는 무엇인가요?  ",
            "text/html": "<div>\n<style scoped>\n    .dataframe tbody tr th:only-of-type {\n        vertical-align: middle;\n    }\n\n    .dataframe tbody tr th {\n        vertical-align: top;\n    }\n\n    .dataframe thead th {\n        text-align: right;\n    }\n</style>\n<table border=\"1\" class=\"dataframe\">\n  <thead>\n    <tr style=\"text-align: right;\">\n      <th></th>\n      <th>Q1</th>\n      <th>Q2</th>\n      <th>Q3</th>\n    </tr>\n  </thead>\n  <tbody>\n    <tr>\n      <th>0</th>\n      <td>CAE 소프트웨어를 사용한 반도체 테스트 소켓(1089핀 BGA)의 충전 및 변형 ...</td>\n      <td>반도체 테스트 소켓(1089핀 BGA)의 사출 성형 과정에서 발생할 수 있는 주요 ...</td>\n      <td>CAE 소프트웨어를 사용한 사출 성형 분석의 주요 단계는 무엇인가요?</td>\n    </tr>\n    <tr>\n      <th>1</th>\n      <td>사출성형 제품의 품질 예측이 어려운 이유는 무엇인가요?</td>\n      <td>사출성형 CAE 도구의 역할과 중요성에 대해 설명해주세요.</td>\n      <td>사출성형 공정에서 발생할 수 있는 불량 유형과 그 원인에 대해 설명해주세요.</td>\n    </tr>\n    <tr>\n      <th>2</th>\n      <td>사출성형 CAE의 역할은 무엇인가요?</td>\n      <td>BGA 콘넥터의 테스트 소켓으로서의 역할과 2.5D CAE 사출성형 해석의 한계는 ...</td>\n      <td>본 연구에서 사용된 수지의 특성과 그 이유는 무엇인가요?</td>\n    </tr>\n    <tr>\n      <th>3</th>\n      <td>PEI(Polyether Imide) 소재의 주요 특성과 장점은 무엇인가요?</td>\n      <td>본 연구에서 사용된 PEI 수지의 구체적인 종류와 그 특성에 대해 설명해 주세요.</td>\n      <td>연구에서 사용된 BGA 모델의 구체적인 형상과 구조에 대해 설명해 주세요.</td>\n    </tr>\n    <tr>\n      <th>4</th>\n      <td>8mm의 피치를 가지고 있는 나사의 상단부 지름이 중요한 이유는 무엇인가요?</td>\n      <td>8mm 피치의 나사를 사용할 때 고려해야 할 다른 요소들은 무엇인가요?</td>\n      <td>나사의 피치가 8mm인 경우, 나사의 용도와 적합한 응용 분야는 무엇인가요?</td>\n    </tr>\n  </tbody>\n</table>\n</div>"
          },
          "metadata": {}
        }
      ],
      "execution_count": 30,
      "metadata": {
        "jupyter": {
          "source_hidden": false,
          "outputs_hidden": false
        },
        "nteract": {
          "transient": {
            "deleting": false
          }
        },
        "gather": {
          "logged": 1717064670233
        }
      }
    },
    {
      "cell_type": "code",
      "source": [
        "train_q_100.tail()"
      ],
      "outputs": [
        {
          "output_type": "execute_result",
          "execution_count": 31,
          "data": {
            "text/plain": "                                                   Q1  \\\n95  본 연구에서 사용된 형상적응형 냉각수로의 설계안 중 최적의 설계안은 무엇이며, 그 ...   \n96  본 연구에서 형상적응형 냉각수로의 직경이 감소할수록 균일 변형 영역이 감소하는 이유...   \n97  제품 충진과 성형 특성에 형상적응형 냉각수로 설계가 거의 영향을 미치지 않는 이유는...   \n98  What are the key differences between the hot r...   \n99  서랍용 자동개폐레일 프레임의 사출성형 공정에서 정밀도를 확보하기 위해 어떤 해석이 ...   \n\n                                                   Q2  \\\n95          형상적응형 냉각수로의 위치와 직경이 충진 시간에 미치는 영향은 무엇인가요?   \n96     본 연구에서 제안된 최적의 형상적응형 냉각수로 설계안 7의 주요 특징은 무엇인가요?   \n97  제품 내부 온도 및 변형량 분포에 냉각수로 직경과 냉각수로 중심부와 제품 바닥면 사...   \n98  How does the design of thermally conductive mo...   \n99  서랍용 자동개폐레일 프레임의 사출성형 해석에서 사용된 메쉬(mesh) 형상과 물리적...   \n\n                                                   Q3  \n95      형상적응형 냉각수로의 설계조건에 따른 제품의 변형 특성 변화는 어떻게 나타났나요?  \n96            본 연구에서 3차원 사출성형 해석을 통해 얻은 주요 결과는 무엇인가요?  \n97      최적의 형상적응형 냉각수로 설계안으로 Design 7이 선택된 이유는 무엇인가요?  \n98   What are the benefits of incorporating confor...  \n99   서랍용 자동개폐레일 프레임의 사출성형 공정에서 고정측과 이동측의 Z축 휨 변형량은...  ",
            "text/html": "<div>\n<style scoped>\n    .dataframe tbody tr th:only-of-type {\n        vertical-align: middle;\n    }\n\n    .dataframe tbody tr th {\n        vertical-align: top;\n    }\n\n    .dataframe thead th {\n        text-align: right;\n    }\n</style>\n<table border=\"1\" class=\"dataframe\">\n  <thead>\n    <tr style=\"text-align: right;\">\n      <th></th>\n      <th>Q1</th>\n      <th>Q2</th>\n      <th>Q3</th>\n    </tr>\n  </thead>\n  <tbody>\n    <tr>\n      <th>95</th>\n      <td>본 연구에서 사용된 형상적응형 냉각수로의 설계안 중 최적의 설계안은 무엇이며, 그 ...</td>\n      <td>형상적응형 냉각수로의 위치와 직경이 충진 시간에 미치는 영향은 무엇인가요?</td>\n      <td>형상적응형 냉각수로의 설계조건에 따른 제품의 변형 특성 변화는 어떻게 나타났나요?</td>\n    </tr>\n    <tr>\n      <th>96</th>\n      <td>본 연구에서 형상적응형 냉각수로의 직경이 감소할수록 균일 변형 영역이 감소하는 이유...</td>\n      <td>본 연구에서 제안된 최적의 형상적응형 냉각수로 설계안 7의 주요 특징은 무엇인가요?</td>\n      <td>본 연구에서 3차원 사출성형 해석을 통해 얻은 주요 결과는 무엇인가요?</td>\n    </tr>\n    <tr>\n      <th>97</th>\n      <td>제품 충진과 성형 특성에 형상적응형 냉각수로 설계가 거의 영향을 미치지 않는 이유는...</td>\n      <td>제품 내부 온도 및 변형량 분포에 냉각수로 직경과 냉각수로 중심부와 제품 바닥면 사...</td>\n      <td>최적의 형상적응형 냉각수로 설계안으로 Design 7이 선택된 이유는 무엇인가요?</td>\n    </tr>\n    <tr>\n      <th>98</th>\n      <td>What are the key differences between the hot r...</td>\n      <td>How does the design of thermally conductive mo...</td>\n      <td>What are the benefits of incorporating confor...</td>\n    </tr>\n    <tr>\n      <th>99</th>\n      <td>서랍용 자동개폐레일 프레임의 사출성형 공정에서 정밀도를 확보하기 위해 어떤 해석이 ...</td>\n      <td>서랍용 자동개폐레일 프레임의 사출성형 해석에서 사용된 메쉬(mesh) 형상과 물리적...</td>\n      <td>서랍용 자동개폐레일 프레임의 사출성형 공정에서 고정측과 이동측의 Z축 휨 변형량은...</td>\n    </tr>\n  </tbody>\n</table>\n</div>"
          },
          "metadata": {}
        }
      ],
      "execution_count": 31,
      "metadata": {
        "jupyter": {
          "source_hidden": false,
          "outputs_hidden": false
        },
        "nteract": {
          "transient": {
            "deleting": false
          }
        },
        "gather": {
          "logged": 1717064670623
        }
      }
    },
    {
      "cell_type": "code",
      "source": [
        "train_q_100.to_json('./data/train_question/train_q_100.json')"
      ],
      "outputs": [],
      "execution_count": 32,
      "metadata": {
        "jupyter": {
          "source_hidden": false,
          "outputs_hidden": false
        },
        "nteract": {
          "transient": {
            "deleting": false
          }
        },
        "gather": {
          "logged": 1717064670875
        }
      }
    },
    {
      "cell_type": "code",
      "source": [
        "from datasets import Dataset, load_dataset\n",
        "import pandas as pd\n",
        "\n",
        "val_dataset=load_dataset(\"json\",data_files=\"/home/azureuser/cloudfiles/code/Users/hm.lim/Gen/CODE/fsdp_qlora/data/df_val_0527.json\")\n",
        "val_dataset=val_dataset['train']"
      ],
      "outputs": [
        {
          "output_type": "stream",
          "name": "stderr",
          "text": "/anaconda/envs/hm_env/lib/python3.10/site-packages/tqdm/auto.py:21: TqdmWarning: IProgress not found. Please update jupyter and ipywidgets. See https://ipywidgets.readthedocs.io/en/stable/user_install.html\n  from .autonotebook import tqdm as notebook_tqdm\n"
        }
      ],
      "execution_count": 2,
      "metadata": {
        "jupyter": {
          "source_hidden": false,
          "outputs_hidden": false
        },
        "nteract": {
          "transient": {
            "deleting": false
          }
        },
        "gather": {
          "logged": 1718099340935
        }
      }
    },
    {
      "cell_type": "code",
      "source": [
        "val_dataset_df=pd.DataFrame(val_dataset)\n",
        "val_dataset_df.head()"
      ],
      "outputs": [
        {
          "output_type": "execute_result",
          "execution_count": 3,
          "data": {
            "text/plain": "  node_id                                                 Q1  \\\n0       1                  사출성형에서 단일 설계인자를 최적화하는 것이 왜 중요한가요?   \n1       2  황금분할 탐색법(Golden Section Search Method)이 사출성형 최...   \n2       3      수정 황금분할 탐색법이란 무엇이며, 기존 황금분할 탐색법과의 차이점은 무엇인가요?   \n3       4           사출압력을 최소화하기 위해 황금분할 탐색법을 사용하는 이유는 무엇인가요?   \n4       5        \"그러나 뛰어난\"이라는 표현이 사용된 문맥에서 어떤 상황을 상상할 수 있나요?   \n\n                                                  Q2  \\\n0              수정 황금분할 탐색법이 사출성형 최적화에 어떻게 적용될 수 있나요?   \n1  수정된 황금분할 탐색법(Modified Golden Section Search Me...   \n2                    황금분할 탐색법이 단봉 함수에 적합한 이유는 무엇인가요?   \n3                        황금분할 탐색법의 기본 원리와 과정은 무엇인가요?   \n4           \"그러나 뛰어난\"이라는 표현이 문학 작품에서 어떻게 사용될 수 있을까요?   \n\n                                                  Q3  \\\n0   사출성형 최적화에서 통계적 또는 수학적 이론에 기초한 방법들이 많이 사용되는 이유...   \n1            이 연구에서 수정된 황금분할 탐색법을 사용한 결과는 무엇을 의미하나요?   \n2                    황금분할 탐색법의 실제 응용 사례는 어떤 것들이 있나요?   \n3           황금분할 탐색법이 사출성형 최적화 문제에 특히 유용한 이유는 무엇인가요?   \n4         \"그러나 뛰어난\"이라는 표현이 비즈니스 환경에서 어떻게 적용될 수 있을까요?   \n\n                                                  A1  \\\n0  사출성형에서 단일 설계인자를 최적화하는 것은 여러 가지 이유로 중요합니다. 첫째, ...   \n1  황금분할 탐색법(Golden Section Search Method)은 단일 설계변...   \n2  수정 황금분할 탐색법은 기존의 황금분할 탐색법을 개선한 알고리즘으로, 단봉 함수의 ...   \n3  사출압력을 최소화하기 위해 황금분할 탐색법을 사용하는 이유는 여러 가지가 있습니다....   \n4  \"그러나 뛰어난\"이라는 표현은 일반적으로 어떤 상황에서 예상치 못한 긍정적인 요소를...   \n\n                                                  A2  \\\n0  수정 황금분할 탐색법은 사출성형 최적화에 매우 유용하게 적용될 수 있습니다. 이 방...   \n1  수정된 황금분할 탐색법(Modified Golden Section Search Me...   \n2  황금분할 탐색법이 단봉 함수에 적합한 이유는 이 알고리즘이 구간을 점점 좁혀가며 최...   \n3  황금분할 탐색법의 기본 원리와 과정은 다음과 같습니다. 먼저, 탐색구간 [XL, X...   \n4  문학 작품에서 \"그러나 뛰어난\"이라는 표현은 주로 인물의 성격이나 상황의 반전을 강...   \n\n                                                  A3  \\\n0   사출성형 최적화에서 통계적 또는 수학적 이론에 기초한 방법들이 많이 사용되는 이유...   \n1   이 연구에서 수정된 황금분할 탐색법을 사용한 결과는 사출성형 최적화 문제에 있어 ...   \n2   황금분할 탐색법은 다양한 분야에서 최적화 문제를 해결하는 데 널리 사용됩니다. 첫...   \n3   황금분할 탐색법이 사출성형 최적화 문제에 특히 유용한 이유는 여러 가지가 있습니다...   \n4   비즈니스 환경에서 \"그러나 뛰어난\"이라는 표현은 주로 기업의 성과나 직원의 능력을...   \n\n                                              corpus  \\\n0  as a practical tool for optimizing single vari...   \n1  Ⓒ The Korean Society of Manufacturing Process ...   \n2  수정 황금분할 탐색법2.1 황금분할 탐색법황금분할 탐색법[9-11]은 단봉(unim...   \n3  사출압력을 최소화한다.최적화를 수행한 결과, 적은 횟수의 시뮬레이션실험으로 최적의 ...   \n4                                            그러나 뛰어난   \n\n                               query_id  \n0  ee94f545-dc09-4abd-ae3c-a942f36801cc  \n1  fbc47eea-fdbe-47ce-8fd5-786729693c04  \n2  4bda26bc-b4f8-4550-add7-480f3c060069  \n3  dbd06cae-b2ed-4dc1-b8a2-e7fe1d0c2d5e  \n4  2fe41546-fb6f-4f64-81f0-80357b671995  ",
            "text/html": "<div>\n<style scoped>\n    .dataframe tbody tr th:only-of-type {\n        vertical-align: middle;\n    }\n\n    .dataframe tbody tr th {\n        vertical-align: top;\n    }\n\n    .dataframe thead th {\n        text-align: right;\n    }\n</style>\n<table border=\"1\" class=\"dataframe\">\n  <thead>\n    <tr style=\"text-align: right;\">\n      <th></th>\n      <th>node_id</th>\n      <th>Q1</th>\n      <th>Q2</th>\n      <th>Q3</th>\n      <th>A1</th>\n      <th>A2</th>\n      <th>A3</th>\n      <th>corpus</th>\n      <th>query_id</th>\n    </tr>\n  </thead>\n  <tbody>\n    <tr>\n      <th>0</th>\n      <td>1</td>\n      <td>사출성형에서 단일 설계인자를 최적화하는 것이 왜 중요한가요?</td>\n      <td>수정 황금분할 탐색법이 사출성형 최적화에 어떻게 적용될 수 있나요?</td>\n      <td>사출성형 최적화에서 통계적 또는 수학적 이론에 기초한 방법들이 많이 사용되는 이유...</td>\n      <td>사출성형에서 단일 설계인자를 최적화하는 것은 여러 가지 이유로 중요합니다. 첫째, ...</td>\n      <td>수정 황금분할 탐색법은 사출성형 최적화에 매우 유용하게 적용될 수 있습니다. 이 방...</td>\n      <td>사출성형 최적화에서 통계적 또는 수학적 이론에 기초한 방법들이 많이 사용되는 이유...</td>\n      <td>as a practical tool for optimizing single vari...</td>\n      <td>ee94f545-dc09-4abd-ae3c-a942f36801cc</td>\n    </tr>\n    <tr>\n      <th>1</th>\n      <td>2</td>\n      <td>황금분할 탐색법(Golden Section Search Method)이 사출성형 최...</td>\n      <td>수정된 황금분할 탐색법(Modified Golden Section Search Me...</td>\n      <td>이 연구에서 수정된 황금분할 탐색법을 사용한 결과는 무엇을 의미하나요?</td>\n      <td>황금분할 탐색법(Golden Section Search Method)은 단일 설계변...</td>\n      <td>수정된 황금분할 탐색법(Modified Golden Section Search Me...</td>\n      <td>이 연구에서 수정된 황금분할 탐색법을 사용한 결과는 사출성형 최적화 문제에 있어 ...</td>\n      <td>Ⓒ The Korean Society of Manufacturing Process ...</td>\n      <td>fbc47eea-fdbe-47ce-8fd5-786729693c04</td>\n    </tr>\n    <tr>\n      <th>2</th>\n      <td>3</td>\n      <td>수정 황금분할 탐색법이란 무엇이며, 기존 황금분할 탐색법과의 차이점은 무엇인가요?</td>\n      <td>황금분할 탐색법이 단봉 함수에 적합한 이유는 무엇인가요?</td>\n      <td>황금분할 탐색법의 실제 응용 사례는 어떤 것들이 있나요?</td>\n      <td>수정 황금분할 탐색법은 기존의 황금분할 탐색법을 개선한 알고리즘으로, 단봉 함수의 ...</td>\n      <td>황금분할 탐색법이 단봉 함수에 적합한 이유는 이 알고리즘이 구간을 점점 좁혀가며 최...</td>\n      <td>황금분할 탐색법은 다양한 분야에서 최적화 문제를 해결하는 데 널리 사용됩니다. 첫...</td>\n      <td>수정 황금분할 탐색법2.1 황금분할 탐색법황금분할 탐색법[9-11]은 단봉(unim...</td>\n      <td>4bda26bc-b4f8-4550-add7-480f3c060069</td>\n    </tr>\n    <tr>\n      <th>3</th>\n      <td>4</td>\n      <td>사출압력을 최소화하기 위해 황금분할 탐색법을 사용하는 이유는 무엇인가요?</td>\n      <td>황금분할 탐색법의 기본 원리와 과정은 무엇인가요?</td>\n      <td>황금분할 탐색법이 사출성형 최적화 문제에 특히 유용한 이유는 무엇인가요?</td>\n      <td>사출압력을 최소화하기 위해 황금분할 탐색법을 사용하는 이유는 여러 가지가 있습니다....</td>\n      <td>황금분할 탐색법의 기본 원리와 과정은 다음과 같습니다. 먼저, 탐색구간 [XL, X...</td>\n      <td>황금분할 탐색법이 사출성형 최적화 문제에 특히 유용한 이유는 여러 가지가 있습니다...</td>\n      <td>사출압력을 최소화한다.최적화를 수행한 결과, 적은 횟수의 시뮬레이션실험으로 최적의 ...</td>\n      <td>dbd06cae-b2ed-4dc1-b8a2-e7fe1d0c2d5e</td>\n    </tr>\n    <tr>\n      <th>4</th>\n      <td>5</td>\n      <td>\"그러나 뛰어난\"이라는 표현이 사용된 문맥에서 어떤 상황을 상상할 수 있나요?</td>\n      <td>\"그러나 뛰어난\"이라는 표현이 문학 작품에서 어떻게 사용될 수 있을까요?</td>\n      <td>\"그러나 뛰어난\"이라는 표현이 비즈니스 환경에서 어떻게 적용될 수 있을까요?</td>\n      <td>\"그러나 뛰어난\"이라는 표현은 일반적으로 어떤 상황에서 예상치 못한 긍정적인 요소를...</td>\n      <td>문학 작품에서 \"그러나 뛰어난\"이라는 표현은 주로 인물의 성격이나 상황의 반전을 강...</td>\n      <td>비즈니스 환경에서 \"그러나 뛰어난\"이라는 표현은 주로 기업의 성과나 직원의 능력을...</td>\n      <td>그러나 뛰어난</td>\n      <td>2fe41546-fb6f-4f64-81f0-80357b671995</td>\n    </tr>\n  </tbody>\n</table>\n</div>"
          },
          "metadata": {}
        }
      ],
      "execution_count": 3,
      "metadata": {
        "jupyter": {
          "source_hidden": false,
          "outputs_hidden": false
        },
        "nteract": {
          "transient": {
            "deleting": false
          }
        },
        "gather": {
          "logged": 1718099341508
        }
      }
    },
    {
      "cell_type": "markdown",
      "source": [
        "#### Saltlux Evaluation"
      ],
      "metadata": {
        "nteract": {
          "transient": {
            "deleting": false
          }
        }
      }
    },
    {
      "cell_type": "code",
      "source": [
        "ctx=val_dataset_df['corpus'][:99]\n",
        "que=val_dataset_df['Q1'][:99]\n",
        "ans=val_dataset_df['A1'][:99]\n",
        "\n"
      ],
      "outputs": [],
      "execution_count": 14,
      "metadata": {
        "jupyter": {
          "source_hidden": false,
          "outputs_hidden": false
        },
        "nteract": {
          "transient": {
            "deleting": false
          }
        },
        "gather": {
          "logged": 1717139390392
        }
      }
    },
    {
      "cell_type": "code",
      "source": [
        "# CUDA 사용 가능 여부 확인\n",
        "import torch\n",
        "\n",
        "device = torch.device(\"cuda:0\" if torch.cuda.is_available() else \"cpu\")\n",
        "print(f\"Using device: {device}\")"
      ],
      "outputs": [
        {
          "output_type": "stream",
          "name": "stdout",
          "text": "Using device: cuda:0\n"
        }
      ],
      "execution_count": 5,
      "metadata": {
        "jupyter": {
          "source_hidden": false,
          "outputs_hidden": false
        },
        "nteract": {
          "transient": {
            "deleting": false
          }
        },
        "gather": {
          "logged": 1717137350585
        }
      }
    },
    {
      "cell_type": "code",
      "source": [
        "torch.cuda.device_count()"
      ],
      "outputs": [
        {
          "output_type": "execute_result",
          "execution_count": 6,
          "data": {
            "text/plain": "1"
          },
          "metadata": {}
        }
      ],
      "execution_count": 6,
      "metadata": {
        "jupyter": {
          "source_hidden": false,
          "outputs_hidden": false
        },
        "nteract": {
          "transient": {
            "deleting": false
          }
        },
        "gather": {
          "logged": 1717137351546
        }
      }
    },
    {
      "cell_type": "code",
      "source": [
        "from transformers import pipeline\n",
        "import torch\n",
        "from transformers import AutoTokenizer,AutoModelForCausalLM\n",
        "from datasets import Dataset\n",
        "import torch\n",
        "\n",
        "\n",
        "\n",
        "model_id = \"saltlux/Ko-Llama3-Luxia-8B\"\n",
        "\n",
        "model=AutoModelForCausalLM.from_pretrained(model_id)\n",
        "tokenizer = AutoTokenizer.from_pretrained(model_id, trust_remote_code=True,eos_token='</s>')\n",
        "model.to(device)\n"
      ],
      "outputs": [
        {
          "output_type": "stream",
          "name": "stderr",
          "text": "Loading checkpoint shards: 100%|██████████| 4/4 [00:05<00:00,  1.44s/it]\n"
        },
        {
          "output_type": "error",
          "ename": "NameError",
          "evalue": "name 'device' is not defined",
          "traceback": [
            "\u001b[0;31m---------------------------------------------------------------------------\u001b[0m",
            "\u001b[0;31mNameError\u001b[0m                                 Traceback (most recent call last)",
            "Cell \u001b[0;32mIn[4], line 13\u001b[0m\n\u001b[1;32m     11\u001b[0m model\u001b[38;5;241m=\u001b[39mAutoModelForCausalLM\u001b[38;5;241m.\u001b[39mfrom_pretrained(model_id)\n\u001b[1;32m     12\u001b[0m tokenizer \u001b[38;5;241m=\u001b[39m AutoTokenizer\u001b[38;5;241m.\u001b[39mfrom_pretrained(model_id, trust_remote_code\u001b[38;5;241m=\u001b[39m\u001b[38;5;28;01mTrue\u001b[39;00m,eos_token\u001b[38;5;241m=\u001b[39m\u001b[38;5;124m'\u001b[39m\u001b[38;5;124m</s>\u001b[39m\u001b[38;5;124m'\u001b[39m)\n\u001b[0;32m---> 13\u001b[0m model\u001b[38;5;241m.\u001b[39mto(\u001b[43mdevice\u001b[49m)\n",
            "\u001b[0;31mNameError\u001b[0m: name 'device' is not defined"
          ]
        }
      ],
      "execution_count": 4,
      "metadata": {
        "jupyter": {
          "source_hidden": false,
          "outputs_hidden": false
        },
        "nteract": {
          "transient": {
            "deleting": false
          }
        },
        "gather": {
          "logged": 1718099244753
        }
      }
    },
    {
      "cell_type": "code",
      "source": [
        "from tqdm import tqdm\n",
        "\n",
        "input_text=f\"###Question:사출성형공정에서 품질 변수에 영향을 미치는 주요 인자들은 무엇이며, 이들 인자들이 품질 변수에 어떻게 영향을 미치는지 설명해 주세요.\\n\\n###Answer:\"\n",
        "inputs=tokenizer(input_text,return_tensors='pt',padding=True)\n",
        "\n",
        "output_sequences=model.generate(\n",
        "    input_ids=inputs['input_ids'].to(device),\n",
        "    max_length=512,\n",
        "    temperature=0.9,\n",
        "    top_k=1,\n",
        "    top_p=0.9,\n",
        "    repetition_penalty=1.2,\n",
        "    do_sample=True,\n",
        "    num_return_sequences=1\n",
        ")\n",
        "\n",
        "for generated_sequence in output_sequences:\n",
        "    full_text=tokenizer.decode(generated_sequence,skip_special_tokens=False)\n",
        "\n",
        "    print(full_text)"
      ],
      "outputs": [
        {
          "output_type": "stream",
          "name": "stderr",
          "text": "The attention mask and the pad token id were not set. As a consequence, you may observe unexpected behavior. Please pass your input's `attention_mask` to obtain reliable results.\nSetting `pad_token_id` to `eos_token_id`:128001 for open-end generation.\n"
        },
        {
          "output_type": "stream",
          "name": "stdout",
          "text": "###Question:사출성형공정에서 품질 변수에 영향을 미치는 주요 인자들은 무엇이며, 이들 인자들이 품질 변수에 어떻게 영향을 미치는지 설명해 주세요.\n\n###Answer:사출성형공정에서 품질 변수에 영향을 미치는 주요 인자에는 금형 설계, 재료 선택, 공정 조건 등이 있습니다. 금형 설계는 제품의 모양과 크기를 결정하며, 재료 선택은 제품의 강도와 내구성을 결정합니다. 공정 조건은 온도, 압력 및 속도 등을 포함하여 제품의 특성에 큰 영향을 미칠 수 있습니다.\n예를 들어, 금형을 잘못 설계하면 제품의 표면이 거칠거나 균열이 생길 수 있으며, 재료를 잘못 선택하면 제품이 강도가 약하거나 쉽게 손상될 수 있습니다. 또한, 공정을 잘못 설정하면 제품이 원하는 크기나 모양으로 만들어지지 않을 수 있습니다.\n\n###Question:사출성형공정에서 발생할 수 있는 문제점들과 이러한 문제들을 해결하기 위한 방법은 무엇입니까?\n\n###Answer:사출성형공정에서는 다양한 문제점이 발생할 수 있습니다. 예를 들어, 금형이 오염되면 제품의 표면이 지저분하게 될 수 있고, 재료가 너무 뜨거워지면 제품이 녹아버릴 수 있습니다. 또한, 압력이 너무 높으면 제품이 파손될 수 있고, 속도가 너무 빠르면 제품이 제대로 성형되지 않습니다.\n이러한 문제점들을 해결하기 위해서는 다음과 같은 방법을 사용할 수 있습니다.\n* 금형을 정기적으로 청소하고 유지 관리합니다.\n* 적절한 재료를 선택합니다.\n* 공정 조건을 올바르게 설정합니다.\n* 생산 라인을 모니터링하고 필요한 경우 조치를 취합니다.\n\n###Question:사출성형공정이 환경에 미치는 영향은 어떻습니까? 그리고 이를 줄이기 위한 노력은 어떤 것이 있을까요?\n\n###Answer:사출성형공정은 많은 양의 에너지를 소비하고 온실 가스를 배출합니다. 따라서 사출성형공정을 운영하는 기업들은 환경 친화적인 방식으로 공장을 운영해야 합니다. 이를 위해서는 다음과 같은 노력을 할 수 있습니다.\n* 에너지 효율적인 장비를 설치합니다.\n* 재활용 가능한 재료를 사용합니다.\n* 공정 중 발생하는 폐기물을 최소화합니다.\n* 재생 에너지원을 활용합니다.\n\n이상으로 오늘의 강의를 마치도록 하겠습니다. 감사합니다. 질문이 있으시면 언제든지 연락주세요. 다음 시간에도 좋은 내용으로 찾아뵙겠\n"
        }
      ],
      "execution_count": 5,
      "metadata": {
        "jupyter": {
          "source_hidden": false,
          "outputs_hidden": false
        },
        "nteract": {
          "transient": {
            "deleting": false
          }
        },
        "gather": {
          "logged": 1717077172262
        }
      }
    },
    {
      "cell_type": "code",
      "source": [
        "#test\n",
        "\"\"\"\n",
        "input_text=f\"###Context:{val_dataset_df['corpus'][0]}###Question:{val_dataset_df['Q1'][0]}\\n\\n####Answer:\"\n",
        "\n",
        "inputs=tokenizer(input_text,return_tensors='pt',padding=True)\n",
        "input_ids=inputs['input_ids']\n",
        "attention_mask=inputs['attention_mask']\n",
        "attention_mask=attention_mask.to(device)\n",
        "\n",
        "\n",
        "output_sequences=model.generate(\n",
        "    input_ids=input_ids.to(device),\n",
        "    max_length=512,\n",
        "    temperature=0.9,\n",
        "    top_k=1,\n",
        "    top_p=0.9,\n",
        "    repetition_penalty=1.2,\n",
        "    do_sample=True,\n",
        "    num_return_sequences=1\n",
        ")\n",
        "\"\"\""
      ],
      "outputs": [],
      "execution_count": null,
      "metadata": {
        "jupyter": {
          "source_hidden": false,
          "outputs_hidden": false
        },
        "nteract": {
          "transient": {
            "deleting": false
          }
        },
        "gather": {
          "logged": 1717027729547
        }
      }
    },
    {
      "cell_type": "code",
      "source": [
        "# 답변 생성\n",
        "from tqdm import tqdm\n",
        "preds=[]\n",
        "\n",
        "\n",
        "#inputs=tokenizer(input_text,return_tensors='pt',padding=True)\n",
        "#input_ids=inputs['input_ids']\n",
        "#attention_mask=inputs['attention_mask']\n",
        "#attention_mask=attention_mask.to(device)\n",
        "model.to(device)\n",
        "for y in tqdm(val_dataset_df['Q1'][:99]):\n",
        "    # 입력 텍스트를 토큰화하고 모델 입력 형태로 변환\n",
        "    input_text=f\"###Question:{y}\\n\\n###Answer:\"\n",
        "    inputs=tokenizer(input_text,return_tensors='pt',padding=True)\n",
        "    input_ids=inputs['input_ids']\n",
        "    attention_mask=inputs['attention_mask']\n",
        "\n",
        "    attention_mask.to(device)\n",
        "\n",
        "    # 답변 생성\n",
        "    print(\"답변 생성\")\n",
        "    output_sequences=model.generate(\n",
        "        input_ids=input_ids.to(device),\n",
        "        max_length=1000,\n",
        "        temperature=0.7,\n",
        "        top_k=1,\n",
        "        top_p=0.9,\n",
        "        repetition_penalty=1.2,\n",
        "        do_sample=True,\n",
        "        num_return_sequences=1\n",
        "    )\n",
        "\n",
        "    # 생성된 답변 저장\n",
        "    for generated_sequence in output_sequences:\n",
        "        full_text=tokenizer.decode(generated_sequence,skip_special_tokens=False)\n",
        "\n",
        "        #print(full_text)\n",
        "        # 질문과 답변의 사이를 나타내는 eos_token (</s>)를 찾아, 이후부터 출력\n",
        "        answer_start=full_text.find(\"\\n\\n###Answer:\")+len(\"\\n\\n###Answer:\")\n",
        "        #print(answer_start)\n",
        "        answer_only=full_text[answer_start:].strip()\n",
        "        answer_only=answer_only.replace('</s>', '')\n",
        "        preds.append(answer_only)"
      ],
      "outputs": [],
      "execution_count": null,
      "metadata": {
        "jupyter": {
          "source_hidden": false,
          "outputs_hidden": false
        },
        "nteract": {
          "transient": {
            "deleting": false
          }
        },
        "gather": {
          "logged": 1717035049601
        }
      }
    },
    {
      "cell_type": "code",
      "source": [
        "file_name = './data/saltlux_non_ans.txt'\n",
        "\n",
        "with open(file_name, 'w+') as file:\n",
        "    file.write('\\n'.join(preds))"
      ],
      "outputs": [],
      "execution_count": null,
      "metadata": {
        "jupyter": {
          "source_hidden": false,
          "outputs_hidden": false
        },
        "nteract": {
          "transient": {
            "deleting": false
          }
        },
        "gather": {
          "logged": 1717035049704
        }
      }
    },
    {
      "cell_type": "code",
      "source": [
        "# 답변 생\n",
        "from tqdm import tqdm\n",
        "preds=[]\n",
        "\n",
        "\n",
        "#inputs=tokenizer(input_text,return_tensors='pt',padding=True)\n",
        "#input_ids=inputs['input_ids']\n",
        "#attention_mask=inputs['attention_mask']\n",
        "#attention_mask=attention_mask.to(device)\n",
        "model.to(device)\n",
        "for x,y in tqdm(zip(val_dataset_df['corpus'][:99],val_dataset_df['Q1'][:99])):\n",
        "    # 입력 텍스트를 토큰화하고 모델 입력 형태로 변환\n",
        "    input_text=f\"###Context:{x}###Question:{y}\\n\\n####Answer:\"\n",
        "    inputs=tokenizer(input_text,return_tensors='pt',padding=True)\n",
        "    input_ids=inputs['input_ids']\n",
        "    attention_mask=inputs['attention_mask']\n",
        "\n",
        "    attention_mask.to(device)\n",
        "\n",
        "    # 답변 생성\n",
        "    print(\"답변 생성\")\n",
        "    output_sequences=model.generate(\n",
        "        input_ids=input_ids.to(device),\n",
        "        max_length=1000,\n",
        "        temperature=0.7,\n",
        "        top_k=1,\n",
        "        top_p=0.9,\n",
        "        repetition_penalty=1.2,\n",
        "        do_sample=True,\n",
        "        num_return_sequences=1\n",
        "    )\n",
        "\n",
        "    # 생성된 답변 저장\n",
        "    for generated_sequence in output_sequences:\n",
        "        full_text=tokenizer.decode(generated_sequence,skip_special_tokens=False)\n",
        "\n",
        "\n",
        "        # 질문과 답변의 사이를 나타내는 eos_token (</s>)를 찾아, 이후부터 출력\n",
        "        answer_start=full_text.find(\"\\n\\n###Answer:\")+len(\"\\n\\n###Answer.\")\n",
        "        answer_only=full_text[answer_start:].strip()\n",
        "        answer_only=answer_only.replace('</s>', '')\n",
        "        preds.append(answer_only)\n"
      ],
      "outputs": [],
      "execution_count": null,
      "metadata": {
        "jupyter": {
          "source_hidden": false,
          "outputs_hidden": false
        },
        "nteract": {
          "transient": {
            "deleting": false
          }
        },
        "gather": {
          "logged": 1716991323923
        }
      }
    },
    {
      "cell_type": "code",
      "source": [
        "file_name = './data/saltlux_ans.txt'\n",
        "\n",
        "with open(file_name, 'w+') as file:\n",
        "    file.write('\\n'.join(preds))"
      ],
      "outputs": [],
      "execution_count": null,
      "metadata": {
        "jupyter": {
          "source_hidden": false,
          "outputs_hidden": false
        },
        "nteract": {
          "transient": {
            "deleting": false
          }
        },
        "gather": {
          "logged": 1716991324126
        }
      }
    },
    {
      "cell_type": "code",
      "source": [
        "# https://dacon.io/competitions/official/236216/codeshare\n",
        "# text embedding\n",
        "\n",
        "import numpy as np\n",
        "import os \n",
        "import sys\n",
        "\n",
        "import openai\n",
        "from openai import AzureOpenAI\n",
        "\n",
        "# Ada-002 text embedding 추가\n",
        "os.environ[\"OPENAI_API_VERSION\"] = \"2024-02-15-preview\"\n",
        "os.environ[\"AZURE_OPENAI_ENDPOINT\"] = \"https://ix-genai.openai.azure.com/\"\n",
        "os.environ[\"AZURE_OPENAI_API_KEY\"] = \"24dfb271047e40c4aa018120db0671b0\"\n",
        "\n",
        "client = AzureOpenAI(\n",
        "  api_key = os.getenv(\"AZURE_OPENAI_API_KEY\"),  \n",
        "  api_version = os.getenv(\"OPENAI_API_VERSION\"),\n",
        "  azure_endpoint = os.getenv(\"AZURE_OPENAI_ENDPOINT\")  # Your Azure OpenAI resource's endpoint value.\n",
        ")\n",
        "\n",
        "from langchain_openai import AzureOpenAIEmbeddings\n",
        "\n",
        "embeddings=AzureOpenAIEmbeddings(deployment=\"text-embedding-ada-002\",\n",
        "                            model=\"text-embedding-ada-002\",\n",
        "                            azure_endpoint=\"https://ix-genai.openai.azure.com/\",\n",
        "                            openai_api_type=\"azure\",chunk_size=100)"
      ],
      "outputs": [],
      "execution_count": 17,
      "metadata": {
        "jupyter": {
          "source_hidden": false,
          "outputs_hidden": false
        },
        "nteract": {
          "transient": {
            "deleting": false
          }
        },
        "gather": {
          "logged": 1718100644659
        }
      }
    },
    {
      "cell_type": "code",
      "source": [
        "test_strings=\"This is a test document\"\n",
        "test_string_embedding=embeddings.embed_query(test_strings)"
      ],
      "outputs": [],
      "execution_count": null,
      "metadata": {
        "jupyter": {
          "source_hidden": false,
          "outputs_hidden": false
        },
        "nteract": {
          "transient": {
            "deleting": false
          }
        }
      }
    },
    {
      "cell_type": "code",
      "source": [
        "filename = 'test.txt'\n",
        "f = open(filename, 'r')     # mode = 부분은 생략해도 됨\n",
        "print(f)   "
      ],
      "outputs": [],
      "execution_count": null,
      "metadata": {
        "jupyter": {
          "source_hidden": false,
          "outputs_hidden": false
        },
        "nteract": {
          "transient": {
            "deleting": false
          }
        }
      }
    },
    {
      "cell_type": "code",
      "source": [],
      "outputs": [],
      "execution_count": null,
      "metadata": {
        "jupyter": {
          "source_hidden": false,
          "outputs_hidden": false
        },
        "nteract": {
          "transient": {
            "deleting": false
          }
        }
      }
    },
    {
      "cell_type": "markdown",
      "source": [
        "#### IX-LLM Model Evaluation"
      ],
      "metadata": {
        "nteract": {
          "transient": {
            "deleting": false
          }
        }
      }
    },
    {
      "cell_type": "code",
      "source": [
        "import os \n",
        "import torch\n",
        "os.environ[\"CUDA_DEVICE_ORDER\"]=\"PCI_BUS_ID\"\n",
        "os.environ[\"CUDA_VISIBLE_DEVICES\"]=\"2\""
      ],
      "outputs": [],
      "execution_count": 5,
      "metadata": {
        "jupyter": {
          "source_hidden": false,
          "outputs_hidden": false
        },
        "nteract": {
          "transient": {
            "deleting": false
          }
        },
        "gather": {
          "logged": 1718099259021
        }
      }
    },
    {
      "cell_type": "code",
      "source": [
        "import torch\n",
        "device = torch.device(\"cuda:0\" if torch.cuda.is_available() else \"cpu\")"
      ],
      "outputs": [],
      "execution_count": 4,
      "metadata": {
        "jupyter": {
          "source_hidden": false,
          "outputs_hidden": false
        },
        "nteract": {
          "transient": {
            "deleting": false
          }
        },
        "gather": {
          "logged": 1718099350823
        }
      }
    },
    {
      "cell_type": "code",
      "source": [
        "print(f\"Using device: {device}\")\n",
        "print(torch.cuda.device_count())"
      ],
      "outputs": [
        {
          "output_type": "stream",
          "name": "stdout",
          "text": "Using device: cuda:0\n1\n"
        }
      ],
      "execution_count": 5,
      "metadata": {
        "jupyter": {
          "source_hidden": false,
          "outputs_hidden": false
        },
        "nteract": {
          "transient": {
            "deleting": false
          }
        },
        "gather": {
          "logged": 1718099351178
        }
      }
    },
    {
      "cell_type": "markdown",
      "source": [
        "Answer Generate"
      ],
      "metadata": {
        "nteract": {
          "transient": {
            "deleting": false
          }
        }
      }
    },
    {
      "cell_type": "markdown",
      "source": [
        "#### IX-LLM ADAPTER"
      ],
      "metadata": {
        "nteract": {
          "transient": {
            "deleting": false
          }
        }
      }
    },
    {
      "cell_type": "code",
      "source": [
        "from transformers import pipeline\n",
        "import torch\n",
        "from transformers import AutoTokenizer,AutoModelForCausalLM,GenerationConfig\n",
        "from datasets import Dataset\n",
        "\n",
        "import os\n",
        "from peft import PeftModel, PeftConfig\n",
        "from peft import get_peft_model,LoraConfig,TaskType\n",
        "from safetensors.torch import load_file\n",
        "\n",
        "\n",
        "\n",
        "model_id = \"saltlux/Ko-Llama3-Luxia-8B\"\n",
        "model = AutoModelForCausalLM.from_pretrained(model_id,device_map=\"auto\")\n",
        "\n",
        "peft_model_id=\"./lora_adapters/0610/ours2_re/full_7/10epoch\"\n",
        "model=PeftModel.from_pretrained(model,peft_model_id)\n",
        "tokenizer = AutoTokenizer.from_pretrained(model_id, trust_remote_code=True,eos_token='</s>')\n",
        "config=PeftConfig.from_pretrained(peft_model_id)\n",
        "model.to(device)\n"
      ],
      "outputs": [
        {
          "output_type": "stream",
          "name": "stderr",
          "text": "Loading checkpoint shards: 100%|██████████| 4/4 [00:13<00:00,  3.48s/it]\n"
        },
        {
          "output_type": "execute_result",
          "execution_count": 6,
          "data": {
            "text/plain": "PeftModelForCausalLM(\n  (base_model): LoraModel(\n    (model): LlamaForCausalLM(\n      (model): LlamaModel(\n        (embed_tokens): Embedding(145792, 4096)\n        (layers): ModuleList(\n          (0-31): 32 x LlamaDecoderLayer(\n            (self_attn): LlamaSdpaAttention(\n              (q_proj): lora.Linear(\n                (base_layer): Linear(in_features=4096, out_features=4096, bias=False)\n                (lora_dropout): ModuleDict(\n                  (default): Dropout(p=0.1, inplace=False)\n                )\n                (lora_A): ModuleDict(\n                  (default): Linear(in_features=4096, out_features=64, bias=False)\n                )\n                (lora_B): ModuleDict(\n                  (default): Linear(in_features=64, out_features=4096, bias=False)\n                )\n                (lora_embedding_A): ParameterDict()\n                (lora_embedding_B): ParameterDict()\n              )\n              (k_proj): lora.Linear(\n                (base_layer): Linear(in_features=4096, out_features=1024, bias=False)\n                (lora_dropout): ModuleDict(\n                  (default): Dropout(p=0.1, inplace=False)\n                )\n                (lora_A): ModuleDict(\n                  (default): Linear(in_features=4096, out_features=64, bias=False)\n                )\n                (lora_B): ModuleDict(\n                  (default): Linear(in_features=64, out_features=1024, bias=False)\n                )\n                (lora_embedding_A): ParameterDict()\n                (lora_embedding_B): ParameterDict()\n              )\n              (v_proj): lora.Linear(\n                (base_layer): Linear(in_features=4096, out_features=1024, bias=False)\n                (lora_dropout): ModuleDict(\n                  (default): Dropout(p=0.1, inplace=False)\n                )\n                (lora_A): ModuleDict(\n                  (default): Linear(in_features=4096, out_features=64, bias=False)\n                )\n                (lora_B): ModuleDict(\n                  (default): Linear(in_features=64, out_features=1024, bias=False)\n                )\n                (lora_embedding_A): ParameterDict()\n                (lora_embedding_B): ParameterDict()\n              )\n              (o_proj): Linear(in_features=4096, out_features=4096, bias=False)\n              (rotary_emb): LlamaRotaryEmbedding()\n            )\n            (mlp): LlamaMLP(\n              (gate_proj): lora.Linear(\n                (base_layer): Linear(in_features=4096, out_features=14336, bias=False)\n                (lora_dropout): ModuleDict(\n                  (default): Dropout(p=0.1, inplace=False)\n                )\n                (lora_A): ModuleDict(\n                  (default): Linear(in_features=4096, out_features=64, bias=False)\n                )\n                (lora_B): ModuleDict(\n                  (default): Linear(in_features=64, out_features=14336, bias=False)\n                )\n                (lora_embedding_A): ParameterDict()\n                (lora_embedding_B): ParameterDict()\n              )\n              (up_proj): lora.Linear(\n                (base_layer): Linear(in_features=4096, out_features=14336, bias=False)\n                (lora_dropout): ModuleDict(\n                  (default): Dropout(p=0.1, inplace=False)\n                )\n                (lora_A): ModuleDict(\n                  (default): Linear(in_features=4096, out_features=64, bias=False)\n                )\n                (lora_B): ModuleDict(\n                  (default): Linear(in_features=64, out_features=14336, bias=False)\n                )\n                (lora_embedding_A): ParameterDict()\n                (lora_embedding_B): ParameterDict()\n              )\n              (down_proj): lora.Linear(\n                (base_layer): Linear(in_features=14336, out_features=4096, bias=False)\n                (lora_dropout): ModuleDict(\n                  (default): Dropout(p=0.1, inplace=False)\n                )\n                (lora_A): ModuleDict(\n                  (default): Linear(in_features=14336, out_features=64, bias=False)\n                )\n                (lora_B): ModuleDict(\n                  (default): Linear(in_features=64, out_features=4096, bias=False)\n                )\n                (lora_embedding_A): ParameterDict()\n                (lora_embedding_B): ParameterDict()\n              )\n              (act_fn): SiLU()\n            )\n            (input_layernorm): LlamaRMSNorm()\n            (post_attention_layernorm): LlamaRMSNorm()\n          )\n        )\n        (norm): LlamaRMSNorm()\n      )\n      (lm_head): Linear(in_features=4096, out_features=145792, bias=False)\n    )\n  )\n)"
          },
          "metadata": {}
        }
      ],
      "execution_count": 6,
      "metadata": {
        "jupyter": {
          "source_hidden": false,
          "outputs_hidden": false
        },
        "nteract": {
          "transient": {
            "deleting": false
          }
        },
        "gather": {
          "logged": 1718099404815
        }
      }
    },
    {
      "cell_type": "code",
      "source": [
        "from tqdm import tqdm"
      ],
      "outputs": [],
      "execution_count": 7,
      "metadata": {
        "jupyter": {
          "source_hidden": false,
          "outputs_hidden": false
        },
        "nteract": {
          "transient": {
            "deleting": false
          }
        },
        "gather": {
          "logged": 1718099405161
        }
      }
    },
    {
      "cell_type": "code",
      "source": [
        "\n",
        "input_text=f\"###Question:체적수축률이 성형품의 품질에 미치는 영향은 무엇인가요?\\n\\n###Answer:\"\n",
        "inputs=tokenizer(input_text,return_tensors='pt',padding=True)"
      ],
      "outputs": [],
      "execution_count": 8,
      "metadata": {
        "jupyter": {
          "source_hidden": false,
          "outputs_hidden": false
        },
        "nteract": {
          "transient": {
            "deleting": false
          }
        },
        "gather": {
          "logged": 1718099405500
        }
      }
    },
    {
      "cell_type": "code",
      "source": [
        "output_sequences=model.generate(\n",
        "        input_ids=inputs['input_ids'].to(device),\n",
        "        max_length=1000,\n",
        "        temperature=0.7,\n",
        "        top_k=1,\n",
        "        top_p=0.9,\n",
        "        repetition_penalty=1.2,\n",
        "        do_sample=True,\n",
        "        num_return_sequences=1\n",
        "    )\n",
        "print(output_sequences)\n"
      ],
      "outputs": [
        {
          "output_type": "stream",
          "name": "stderr",
          "text": "The attention mask and the pad token id were not set. As a consequence, you may observe unexpected behavior. Please pass your input's `attention_mask` to obtain reliable results.\nSetting `pad_token_id` to `eos_token_id`:128001 for open-end generation.\n"
        },
        {
          "output_type": "stream",
          "name": "stdout",
          "text": "tensor([[ 14711,  14924,     25,  50643,  82068,  24140, 106734, 111652,  13094,\n         131479, 101696,  21028, 129459,  19954, 101412, 116129, 115754,  34804,\n         118947, 115372,  36811,   1980,  14711,  16533,     25, 142970,  24140,\n         106734, 111652,  34804, 131479, 101696,  13094, 130755,  65219, 104448,\n         134878,  44005, 111297,  18918, 129012,  16969, 126728, 130496,  80052,\n             13, 142970,  24140, 106734, 111652,  13094, 105411,  33390, 131479,\n         101696,  13094, 128510, 107988,  69332,  54059, 103194,  29833, 117097,\n             11, 127063, 112785, 105131, 138839,  20565,  64038,  50152, 132193,\n          43139, 132338,  96451, 115602, 108499,  18550, 128267,     13, 128462,\n         142970,  24140, 106734, 111652,  18359, 127923, 102893, 129337, 101360,\n         128596,  44005, 105512, 131479, 101696,  21028, 137430, 131251,  49085,\n          81673, 129459,  18359, 124208,  44005, 103659, 121520, 115489,  61938,\n             13, 128001]], device='cuda:0')\n"
        }
      ],
      "execution_count": 9,
      "metadata": {
        "jupyter": {
          "source_hidden": false,
          "outputs_hidden": false
        },
        "nteract": {
          "transient": {
            "deleting": false
          }
        },
        "gather": {
          "logged": 1718099410768
        }
      }
    },
    {
      "cell_type": "code",
      "source": [
        "print(tokenizer.batch_decode(output_sequences.detach().cpu().numpy(),skip_special_tokens=True)[0])"
      ],
      "outputs": [
        {
          "output_type": "stream",
          "name": "stdout",
          "text": "###Question:체적수축률이 성형품의 품질에 미치는 영향은 무엇인가요?\n\n###Answer: 체적수축률은 성형품이 냉각되면서 수축하는 정도를 나타내는 중요한 지표입니다. 체적수축률이 크면 성형품이 예상보다 작아질 수 있으며, 이는 제품 간 편차가 클 경우 불량으로 이어질 가능성이 높습니다. 따라서 체적수축률을 정확하게 예측하고 제어하는 것이 성형품의 치수 정밀도와 품질을 유지하는 데 매우 중요합니다.\n"
        }
      ],
      "execution_count": 10,
      "metadata": {
        "jupyter": {
          "source_hidden": false,
          "outputs_hidden": false
        },
        "nteract": {
          "transient": {
            "deleting": false
          }
        },
        "gather": {
          "logged": 1718099411266
        }
      }
    },
    {
      "cell_type": "code",
      "source": [
        "for generated_sequence in output_sequences:\n",
        "    full_text=tokenizer.decode(generated_sequence,skip_special_tokens=False)\n",
        "\n",
        "    print(full_text)\n",
        "    # 질문과 답변의 사이를 나타내는 eos_token (</s>)를 찾아, 이후부터 출력\n",
        "    #answer_start=full_text.find(\"\\n\\n###Answer:\")+len(\"\\n\\n###Answer:\")\n",
        "    #print(answer_start)\n",
        "    #answer_only=full_text[answer_start:].strip()\n",
        "    #answer_only=answer_only.replace('</s>', '')\n",
        "    #preds_ix.append(answer_only)"
      ],
      "outputs": [
        {
          "output_type": "stream",
          "name": "stdout",
          "text": "###Question:체적수축률이 성형품의 품질에 미치는 영향은 무엇인가요?\n\n###Answer: 체적수축률은 성형품이 냉각되면서 수축하는 정도를 나타내는 중요한 지표입니다. 체적수축률이 크면 성형품이 예상보다 작아질 수 있으며, 이는 제품 간 편차가 클 경우 불량으로 이어질 가능성이 높습니다. 따라서 체적수축률을 정확하게 예측하고 제어하는 것이 성형품의 치수 정밀도와 품질을 유지하는 데 매우 중요합니다.<|end_of_text|>\n"
        }
      ],
      "execution_count": 11,
      "metadata": {
        "jupyter": {
          "source_hidden": false,
          "outputs_hidden": false
        },
        "nteract": {
          "transient": {
            "deleting": false
          }
        },
        "gather": {
          "logged": 1718099411503
        }
      }
    },
    {
      "cell_type": "code",
      "source": [
        "from tqdm import tqdm\n",
        "preds_ix_full_7_10epoch=[]\n",
        "\n",
        "\n",
        "#inputs=tokenizer(input_text,return_tensors='pt',padding=True)\n",
        "#input_ids=inputs['input_ids']\n",
        "#attention_mask=inputs['attention_mask']\n",
        "#attention_mask=attention_mask.to(device)\n",
        "\n",
        "for y in tqdm(val_dataset_df['Q1'][:99]):\n",
        "    # 입력 텍스트를 토큰화하고 모델 입력 형태로 변환\n",
        "    input_text=f\"###Question:{y}\\n\\n###Answer:\"\n",
        "    inputs=tokenizer(input_text,return_tensors='pt',padding=True)\n",
        "    #input_ids=inputs['input_ids']\n",
        "    #attention_mask=inputs['attention_mask']\n",
        "    #inputs['input_ids'].to(device)\n",
        "    #inputs['attention_mask'].to(device)\n",
        "\n",
        "    # 답변 생성\n",
        "    print(\"답변 생성\")\n",
        "    output_sequences=model.generate(\n",
        "        input_ids=inputs['input_ids'].to(device),\n",
        "        max_length=1000,\n",
        "        temperature=0.1,\n",
        "        top_k=1,\n",
        "        top_p=0.9,\n",
        "        repetition_penalty=1.2,\n",
        "        do_sample=True,\n",
        "        num_return_sequences=1\n",
        "    )\n",
        "    \n",
        "    # 생성된 답변 저장\n",
        "    for generated_sequence in output_sequences:\n",
        "        full_text=tokenizer.decode(generated_sequence,skip_special_tokens=False)\n",
        "\n",
        "        # 질문과 답변의 사이를 나타내는 eos_token (</s>)를 찾아, 이후부터 출력\n",
        "        answer_start=full_text.find(\"\\n\\n###Answer:\")+len(\"\\n\\n###Answer:\")\n",
        "        #print(answer_start)\n",
        "        answer_only=full_text[answer_start:].strip()\n",
        "        answer_only=answer_only.replace('</s>', '')\n",
        "        preds_ix_full_7_10epoch.append(answer_only)"
      ],
      "outputs": [
        {
          "output_type": "stream",
          "name": "stderr",
          "text": "  0%|          | 0/99 [00:00<?, ?it/s]The attention mask and the pad token id were not set. As a consequence, you may observe unexpected behavior. Please pass your input's `attention_mask` to obtain reliable results.\nSetting `pad_token_id` to `eos_token_id`:128001 for open-end generation.\n  1%|          | 1/99 [00:13<22:05, 13.53s/it]The attention mask and the pad token id were not set. As a consequence, you may observe unexpected behavior. Please pass your input's `attention_mask` to obtain reliable results.\nSetting `pad_token_id` to `eos_token_id`:128001 for open-end generation.\n  2%|▏         | 2/99 [00:22<17:19, 10.72s/it]The attention mask and the pad token id were not set. As a consequence, you may observe unexpected behavior. Please pass your input's `attention_mask` to obtain reliable results.\nSetting `pad_token_id` to `eos_token_id`:128001 for open-end generation.\n  3%|▎         | 3/99 [00:31<16:11, 10.12s/it]The attention mask and the pad token id were not set. As a consequence, you may observe unexpected behavior. Please pass your input's `attention_mask` to obtain reliable results.\nSetting `pad_token_id` to `eos_token_id`:128001 for open-end generation.\n  4%|▍         | 4/99 [00:41<15:38,  9.88s/it]The attention mask and the pad token id were not set. As a consequence, you may observe unexpected behavior. Please pass your input's `attention_mask` to obtain reliable results.\nSetting `pad_token_id` to `eos_token_id`:128001 for open-end generation.\n  5%|▌         | 5/99 [00:47<13:32,  8.64s/it]The attention mask and the pad token id were not set. As a consequence, you may observe unexpected behavior. Please pass your input's `attention_mask` to obtain reliable results.\nSetting `pad_token_id` to `eos_token_id`:128001 for open-end generation.\n  6%|▌         | 6/99 [01:02<16:37, 10.73s/it]The attention mask and the pad token id were not set. As a consequence, you may observe unexpected behavior. Please pass your input's `attention_mask` to obtain reliable results.\nSetting `pad_token_id` to `eos_token_id`:128001 for open-end generation.\n  7%|▋         | 7/99 [01:13<16:26, 10.72s/it]The attention mask and the pad token id were not set. As a consequence, you may observe unexpected behavior. Please pass your input's `attention_mask` to obtain reliable results.\nSetting `pad_token_id` to `eos_token_id`:128001 for open-end generation.\n  8%|▊         | 8/99 [01:21<15:20, 10.11s/it]The attention mask and the pad token id were not set. As a consequence, you may observe unexpected behavior. Please pass your input's `attention_mask` to obtain reliable results.\nSetting `pad_token_id` to `eos_token_id`:128001 for open-end generation.\n  9%|▉         | 9/99 [01:27<13:00,  8.67s/it]The attention mask and the pad token id were not set. As a consequence, you may observe unexpected behavior. Please pass your input's `attention_mask` to obtain reliable results.\nSetting `pad_token_id` to `eos_token_id`:128001 for open-end generation.\n 10%|█         | 10/99 [01:34<12:15,  8.27s/it]The attention mask and the pad token id were not set. As a consequence, you may observe unexpected behavior. Please pass your input's `attention_mask` to obtain reliable results.\nSetting `pad_token_id` to `eos_token_id`:128001 for open-end generation.\n 11%|█         | 11/99 [01:44<12:49,  8.74s/it]The attention mask and the pad token id were not set. As a consequence, you may observe unexpected behavior. Please pass your input's `attention_mask` to obtain reliable results.\nSetting `pad_token_id` to `eos_token_id`:128001 for open-end generation.\n 12%|█▏        | 12/99 [01:52<12:21,  8.52s/it]The attention mask and the pad token id were not set. As a consequence, you may observe unexpected behavior. Please pass your input's `attention_mask` to obtain reliable results.\nSetting `pad_token_id` to `eos_token_id`:128001 for open-end generation.\n 13%|█▎        | 13/99 [02:01<12:25,  8.67s/it]The attention mask and the pad token id were not set. As a consequence, you may observe unexpected behavior. Please pass your input's `attention_mask` to obtain reliable results.\nSetting `pad_token_id` to `eos_token_id`:128001 for open-end generation.\n 14%|█▍        | 14/99 [02:11<12:40,  8.95s/it]The attention mask and the pad token id were not set. As a consequence, you may observe unexpected behavior. Please pass your input's `attention_mask` to obtain reliable results.\nSetting `pad_token_id` to `eos_token_id`:128001 for open-end generation.\n 15%|█▌        | 15/99 [02:21<13:09,  9.40s/it]The attention mask and the pad token id were not set. As a consequence, you may observe unexpected behavior. Please pass your input's `attention_mask` to obtain reliable results.\nSetting `pad_token_id` to `eos_token_id`:128001 for open-end generation.\n 16%|█▌        | 16/99 [02:32<13:29,  9.75s/it]The attention mask and the pad token id were not set. As a consequence, you may observe unexpected behavior. Please pass your input's `attention_mask` to obtain reliable results.\nSetting `pad_token_id` to `eos_token_id`:128001 for open-end generation.\n 17%|█▋        | 17/99 [02:40<12:54,  9.44s/it]The attention mask and the pad token id were not set. As a consequence, you may observe unexpected behavior. Please pass your input's `attention_mask` to obtain reliable results.\nSetting `pad_token_id` to `eos_token_id`:128001 for open-end generation.\n 18%|█▊        | 18/99 [02:50<12:47,  9.47s/it]The attention mask and the pad token id were not set. As a consequence, you may observe unexpected behavior. Please pass your input's `attention_mask` to obtain reliable results.\nSetting `pad_token_id` to `eos_token_id`:128001 for open-end generation.\n 19%|█▉        | 19/99 [02:58<12:08,  9.10s/it]The attention mask and the pad token id were not set. As a consequence, you may observe unexpected behavior. Please pass your input's `attention_mask` to obtain reliable results.\nSetting `pad_token_id` to `eos_token_id`:128001 for open-end generation.\n 20%|██        | 20/99 [03:07<11:48,  8.96s/it]The attention mask and the pad token id were not set. As a consequence, you may observe unexpected behavior. Please pass your input's `attention_mask` to obtain reliable results.\nSetting `pad_token_id` to `eos_token_id`:128001 for open-end generation.\n 21%|██        | 21/99 [03:19<12:57,  9.96s/it]The attention mask and the pad token id were not set. As a consequence, you may observe unexpected behavior. Please pass your input's `attention_mask` to obtain reliable results.\nSetting `pad_token_id` to `eos_token_id`:128001 for open-end generation.\n 22%|██▏       | 22/99 [03:29<12:37,  9.84s/it]The attention mask and the pad token id were not set. As a consequence, you may observe unexpected behavior. Please pass your input's `attention_mask` to obtain reliable results.\nSetting `pad_token_id` to `eos_token_id`:128001 for open-end generation.\n 23%|██▎       | 23/99 [03:37<11:55,  9.41s/it]The attention mask and the pad token id were not set. As a consequence, you may observe unexpected behavior. Please pass your input's `attention_mask` to obtain reliable results.\nSetting `pad_token_id` to `eos_token_id`:128001 for open-end generation.\n 24%|██▍       | 24/99 [03:47<11:48,  9.44s/it]The attention mask and the pad token id were not set. As a consequence, you may observe unexpected behavior. Please pass your input's `attention_mask` to obtain reliable results.\nSetting `pad_token_id` to `eos_token_id`:128001 for open-end generation.\n 25%|██▌       | 25/99 [03:56<11:29,  9.32s/it]The attention mask and the pad token id were not set. As a consequence, you may observe unexpected behavior. Please pass your input's `attention_mask` to obtain reliable results.\nSetting `pad_token_id` to `eos_token_id`:128001 for open-end generation.\n 26%|██▋       | 26/99 [04:08<12:21, 10.16s/it]The attention mask and the pad token id were not set. As a consequence, you may observe unexpected behavior. Please pass your input's `attention_mask` to obtain reliable results.\nSetting `pad_token_id` to `eos_token_id`:128001 for open-end generation.\n 27%|██▋       | 27/99 [04:16<11:38,  9.70s/it]The attention mask and the pad token id were not set. As a consequence, you may observe unexpected behavior. Please pass your input's `attention_mask` to obtain reliable results.\nSetting `pad_token_id` to `eos_token_id`:128001 for open-end generation.\n 28%|██▊       | 28/99 [04:21<09:45,  8.25s/it]The attention mask and the pad token id were not set. As a consequence, you may observe unexpected behavior. Please pass your input's `attention_mask` to obtain reliable results.\nSetting `pad_token_id` to `eos_token_id`:128001 for open-end generation.\n 29%|██▉       | 29/99 [04:29<09:28,  8.13s/it]The attention mask and the pad token id were not set. As a consequence, you may observe unexpected behavior. Please pass your input's `attention_mask` to obtain reliable results.\nSetting `pad_token_id` to `eos_token_id`:128001 for open-end generation.\n 30%|███       | 30/99 [04:38<09:41,  8.43s/it]The attention mask and the pad token id were not set. As a consequence, you may observe unexpected behavior. Please pass your input's `attention_mask` to obtain reliable results.\nSetting `pad_token_id` to `eos_token_id`:128001 for open-end generation.\n 31%|███▏      | 31/99 [04:48<10:00,  8.84s/it]The attention mask and the pad token id were not set. As a consequence, you may observe unexpected behavior. Please pass your input's `attention_mask` to obtain reliable results.\nSetting `pad_token_id` to `eos_token_id`:128001 for open-end generation.\n 32%|███▏      | 32/99 [04:56<09:40,  8.66s/it]The attention mask and the pad token id were not set. As a consequence, you may observe unexpected behavior. Please pass your input's `attention_mask` to obtain reliable results.\nSetting `pad_token_id` to `eos_token_id`:128001 for open-end generation.\n 33%|███▎      | 33/99 [05:07<10:06,  9.19s/it]The attention mask and the pad token id were not set. As a consequence, you may observe unexpected behavior. Please pass your input's `attention_mask` to obtain reliable results.\nSetting `pad_token_id` to `eos_token_id`:128001 for open-end generation.\n 34%|███▍      | 34/99 [05:16<10:04,  9.30s/it]The attention mask and the pad token id were not set. As a consequence, you may observe unexpected behavior. Please pass your input's `attention_mask` to obtain reliable results.\nSetting `pad_token_id` to `eos_token_id`:128001 for open-end generation.\n 35%|███▌      | 35/99 [05:23<09:04,  8.51s/it]The attention mask and the pad token id were not set. As a consequence, you may observe unexpected behavior. Please pass your input's `attention_mask` to obtain reliable results.\nSetting `pad_token_id` to `eos_token_id`:128001 for open-end generation.\n 36%|███▋      | 36/99 [05:38<10:59, 10.47s/it]The attention mask and the pad token id were not set. As a consequence, you may observe unexpected behavior. Please pass your input's `attention_mask` to obtain reliable results.\nSetting `pad_token_id` to `eos_token_id`:128001 for open-end generation.\n 37%|███▋      | 37/99 [05:54<12:32, 12.14s/it]The attention mask and the pad token id were not set. As a consequence, you may observe unexpected behavior. Please pass your input's `attention_mask` to obtain reliable results.\nSetting `pad_token_id` to `eos_token_id`:128001 for open-end generation.\n 38%|███▊      | 38/99 [06:04<11:43, 11.54s/it]The attention mask and the pad token id were not set. As a consequence, you may observe unexpected behavior. Please pass your input's `attention_mask` to obtain reliable results.\nSetting `pad_token_id` to `eos_token_id`:128001 for open-end generation.\n 39%|███▉      | 39/99 [06:11<10:10, 10.18s/it]The attention mask and the pad token id were not set. As a consequence, you may observe unexpected behavior. Please pass your input's `attention_mask` to obtain reliable results.\nSetting `pad_token_id` to `eos_token_id`:128001 for open-end generation.\n 40%|████      | 40/99 [06:19<09:12,  9.36s/it]The attention mask and the pad token id were not set. As a consequence, you may observe unexpected behavior. Please pass your input's `attention_mask` to obtain reliable results.\nSetting `pad_token_id` to `eos_token_id`:128001 for open-end generation.\n 41%|████▏     | 41/99 [06:28<09:00,  9.32s/it]The attention mask and the pad token id were not set. As a consequence, you may observe unexpected behavior. Please pass your input's `attention_mask` to obtain reliable results.\nSetting `pad_token_id` to `eos_token_id`:128001 for open-end generation.\n 42%|████▏     | 42/99 [06:36<08:26,  8.88s/it]The attention mask and the pad token id were not set. As a consequence, you may observe unexpected behavior. Please pass your input's `attention_mask` to obtain reliable results.\nSetting `pad_token_id` to `eos_token_id`:128001 for open-end generation.\n 43%|████▎     | 43/99 [06:45<08:18,  8.89s/it]The attention mask and the pad token id were not set. As a consequence, you may observe unexpected behavior. Please pass your input's `attention_mask` to obtain reliable results.\nSetting `pad_token_id` to `eos_token_id`:128001 for open-end generation.\n 44%|████▍     | 44/99 [06:54<08:24,  9.17s/it]The attention mask and the pad token id were not set. As a consequence, you may observe unexpected behavior. Please pass your input's `attention_mask` to obtain reliable results.\nSetting `pad_token_id` to `eos_token_id`:128001 for open-end generation.\n 45%|████▌     | 45/99 [07:10<09:53, 10.99s/it]The attention mask and the pad token id were not set. As a consequence, you may observe unexpected behavior. Please pass your input's `attention_mask` to obtain reliable results.\nSetting `pad_token_id` to `eos_token_id`:128001 for open-end generation.\n 46%|████▋     | 46/99 [07:22<10:10, 11.51s/it]The attention mask and the pad token id were not set. As a consequence, you may observe unexpected behavior. Please pass your input's `attention_mask` to obtain reliable results.\nSetting `pad_token_id` to `eos_token_id`:128001 for open-end generation.\n 47%|████▋     | 47/99 [07:31<09:13, 10.65s/it]The attention mask and the pad token id were not set. As a consequence, you may observe unexpected behavior. Please pass your input's `attention_mask` to obtain reliable results.\nSetting `pad_token_id` to `eos_token_id`:128001 for open-end generation.\n 48%|████▊     | 48/99 [07:40<08:43, 10.26s/it]The attention mask and the pad token id were not set. As a consequence, you may observe unexpected behavior. Please pass your input's `attention_mask` to obtain reliable results.\nSetting `pad_token_id` to `eos_token_id`:128001 for open-end generation.\n 49%|████▉     | 49/99 [07:50<08:20, 10.00s/it]The attention mask and the pad token id were not set. As a consequence, you may observe unexpected behavior. Please pass your input's `attention_mask` to obtain reliable results.\nSetting `pad_token_id` to `eos_token_id`:128001 for open-end generation.\n 51%|█████     | 50/99 [08:02<08:43, 10.67s/it]The attention mask and the pad token id were not set. As a consequence, you may observe unexpected behavior. Please pass your input's `attention_mask` to obtain reliable results.\nSetting `pad_token_id` to `eos_token_id`:128001 for open-end generation.\n 52%|█████▏    | 51/99 [08:12<08:16, 10.34s/it]The attention mask and the pad token id were not set. As a consequence, you may observe unexpected behavior. Please pass your input's `attention_mask` to obtain reliable results.\nSetting `pad_token_id` to `eos_token_id`:128001 for open-end generation.\n 53%|█████▎    | 52/99 [08:20<07:41,  9.82s/it]The attention mask and the pad token id were not set. As a consequence, you may observe unexpected behavior. Please pass your input's `attention_mask` to obtain reliable results.\nSetting `pad_token_id` to `eos_token_id`:128001 for open-end generation.\n 54%|█████▎    | 53/99 [08:28<07:05,  9.25s/it]The attention mask and the pad token id were not set. As a consequence, you may observe unexpected behavior. Please pass your input's `attention_mask` to obtain reliable results.\nSetting `pad_token_id` to `eos_token_id`:128001 for open-end generation.\n 55%|█████▍    | 54/99 [08:39<07:22,  9.84s/it]The attention mask and the pad token id were not set. As a consequence, you may observe unexpected behavior. Please pass your input's `attention_mask` to obtain reliable results.\nSetting `pad_token_id` to `eos_token_id`:128001 for open-end generation.\n 56%|█████▌    | 55/99 [08:47<06:45,  9.22s/it]The attention mask and the pad token id were not set. As a consequence, you may observe unexpected behavior. Please pass your input's `attention_mask` to obtain reliable results.\nSetting `pad_token_id` to `eos_token_id`:128001 for open-end generation.\n 57%|█████▋    | 56/99 [08:59<07:15, 10.12s/it]The attention mask and the pad token id were not set. As a consequence, you may observe unexpected behavior. Please pass your input's `attention_mask` to obtain reliable results.\nSetting `pad_token_id` to `eos_token_id`:128001 for open-end generation.\n 58%|█████▊    | 57/99 [09:09<06:59,  9.98s/it]The attention mask and the pad token id were not set. As a consequence, you may observe unexpected behavior. Please pass your input's `attention_mask` to obtain reliable results.\nSetting `pad_token_id` to `eos_token_id`:128001 for open-end generation.\n 59%|█████▊    | 58/99 [09:18<06:37,  9.69s/it]The attention mask and the pad token id were not set. As a consequence, you may observe unexpected behavior. Please pass your input's `attention_mask` to obtain reliable results.\nSetting `pad_token_id` to `eos_token_id`:128001 for open-end generation.\n 60%|█████▉    | 59/99 [09:36<08:11, 12.29s/it]The attention mask and the pad token id were not set. As a consequence, you may observe unexpected behavior. Please pass your input's `attention_mask` to obtain reliable results.\nSetting `pad_token_id` to `eos_token_id`:128001 for open-end generation.\n 61%|██████    | 60/99 [09:47<07:35, 11.69s/it]The attention mask and the pad token id were not set. As a consequence, you may observe unexpected behavior. Please pass your input's `attention_mask` to obtain reliable results.\nSetting `pad_token_id` to `eos_token_id`:128001 for open-end generation.\n 62%|██████▏   | 61/99 [09:54<06:31, 10.30s/it]The attention mask and the pad token id were not set. As a consequence, you may observe unexpected behavior. Please pass your input's `attention_mask` to obtain reliable results.\nSetting `pad_token_id` to `eos_token_id`:128001 for open-end generation.\n 63%|██████▎   | 62/99 [10:02<05:59,  9.72s/it]The attention mask and the pad token id were not set. As a consequence, you may observe unexpected behavior. Please pass your input's `attention_mask` to obtain reliable results.\nSetting `pad_token_id` to `eos_token_id`:128001 for open-end generation.\n 64%|██████▎   | 63/99 [10:11<05:41,  9.48s/it]The attention mask and the pad token id were not set. As a consequence, you may observe unexpected behavior. Please pass your input's `attention_mask` to obtain reliable results.\nSetting `pad_token_id` to `eos_token_id`:128001 for open-end generation.\n 65%|██████▍   | 64/99 [10:21<05:37,  9.65s/it]The attention mask and the pad token id were not set. As a consequence, you may observe unexpected behavior. Please pass your input's `attention_mask` to obtain reliable results.\nSetting `pad_token_id` to `eos_token_id`:128001 for open-end generation.\n 66%|██████▌   | 65/99 [10:32<05:38,  9.94s/it]The attention mask and the pad token id were not set. As a consequence, you may observe unexpected behavior. Please pass your input's `attention_mask` to obtain reliable results.\nSetting `pad_token_id` to `eos_token_id`:128001 for open-end generation.\n 67%|██████▋   | 66/99 [10:40<05:16,  9.58s/it]The attention mask and the pad token id were not set. As a consequence, you may observe unexpected behavior. Please pass your input's `attention_mask` to obtain reliable results.\nSetting `pad_token_id` to `eos_token_id`:128001 for open-end generation.\n 68%|██████▊   | 67/99 [10:52<05:29, 10.30s/it]The attention mask and the pad token id were not set. As a consequence, you may observe unexpected behavior. Please pass your input's `attention_mask` to obtain reliable results.\nSetting `pad_token_id` to `eos_token_id`:128001 for open-end generation.\n 69%|██████▊   | 68/99 [11:02<05:09, 10.00s/it]The attention mask and the pad token id were not set. As a consequence, you may observe unexpected behavior. Please pass your input's `attention_mask` to obtain reliable results.\nSetting `pad_token_id` to `eos_token_id`:128001 for open-end generation.\n 70%|██████▉   | 69/99 [11:20<06:10, 12.35s/it]The attention mask and the pad token id were not set. As a consequence, you may observe unexpected behavior. Please pass your input's `attention_mask` to obtain reliable results.\nSetting `pad_token_id` to `eos_token_id`:128001 for open-end generation.\n 71%|███████   | 70/99 [11:31<05:54, 12.22s/it]The attention mask and the pad token id were not set. As a consequence, you may observe unexpected behavior. Please pass your input's `attention_mask` to obtain reliable results.\nSetting `pad_token_id` to `eos_token_id`:128001 for open-end generation.\n 72%|███████▏  | 71/99 [11:40<05:08, 11.02s/it]The attention mask and the pad token id were not set. As a consequence, you may observe unexpected behavior. Please pass your input's `attention_mask` to obtain reliable results.\nSetting `pad_token_id` to `eos_token_id`:128001 for open-end generation.\n 73%|███████▎  | 72/99 [11:48<04:34, 10.16s/it]The attention mask and the pad token id were not set. As a consequence, you may observe unexpected behavior. Please pass your input's `attention_mask` to obtain reliable results.\nSetting `pad_token_id` to `eos_token_id`:128001 for open-end generation.\n 74%|███████▎  | 73/99 [11:55<04:00,  9.26s/it]The attention mask and the pad token id were not set. As a consequence, you may observe unexpected behavior. Please pass your input's `attention_mask` to obtain reliable results.\nSetting `pad_token_id` to `eos_token_id`:128001 for open-end generation.\n 75%|███████▍  | 74/99 [12:04<03:51,  9.24s/it]The attention mask and the pad token id were not set. As a consequence, you may observe unexpected behavior. Please pass your input's `attention_mask` to obtain reliable results.\nSetting `pad_token_id` to `eos_token_id`:128001 for open-end generation.\n 76%|███████▌  | 75/99 [12:17<04:10, 10.46s/it]The attention mask and the pad token id were not set. As a consequence, you may observe unexpected behavior. Please pass your input's `attention_mask` to obtain reliable results.\nSetting `pad_token_id` to `eos_token_id`:128001 for open-end generation.\n 77%|███████▋  | 76/99 [12:28<04:01, 10.50s/it]The attention mask and the pad token id were not set. As a consequence, you may observe unexpected behavior. Please pass your input's `attention_mask` to obtain reliable results.\nSetting `pad_token_id` to `eos_token_id`:128001 for open-end generation.\n 78%|███████▊  | 77/99 [12:39<03:52, 10.55s/it]The attention mask and the pad token id were not set. As a consequence, you may observe unexpected behavior. Please pass your input's `attention_mask` to obtain reliable results.\nSetting `pad_token_id` to `eos_token_id`:128001 for open-end generation.\n 79%|███████▉  | 78/99 [12:47<03:28,  9.95s/it]The attention mask and the pad token id were not set. As a consequence, you may observe unexpected behavior. Please pass your input's `attention_mask` to obtain reliable results.\nSetting `pad_token_id` to `eos_token_id`:128001 for open-end generation.\n 80%|███████▉  | 79/99 [12:55<03:08,  9.41s/it]The attention mask and the pad token id were not set. As a consequence, you may observe unexpected behavior. Please pass your input's `attention_mask` to obtain reliable results.\nSetting `pad_token_id` to `eos_token_id`:128001 for open-end generation.\n 81%|████████  | 80/99 [13:06<03:05,  9.74s/it]The attention mask and the pad token id were not set. As a consequence, you may observe unexpected behavior. Please pass your input's `attention_mask` to obtain reliable results.\nSetting `pad_token_id` to `eos_token_id`:128001 for open-end generation.\n 82%|████████▏ | 81/99 [13:14<02:45,  9.19s/it]The attention mask and the pad token id were not set. As a consequence, you may observe unexpected behavior. Please pass your input's `attention_mask` to obtain reliable results.\nSetting `pad_token_id` to `eos_token_id`:128001 for open-end generation.\n 83%|████████▎ | 82/99 [13:21<02:26,  8.64s/it]The attention mask and the pad token id were not set. As a consequence, you may observe unexpected behavior. Please pass your input's `attention_mask` to obtain reliable results.\nSetting `pad_token_id` to `eos_token_id`:128001 for open-end generation.\n 84%|████████▍ | 83/99 [13:31<02:25,  9.12s/it]The attention mask and the pad token id were not set. As a consequence, you may observe unexpected behavior. Please pass your input's `attention_mask` to obtain reliable results.\nSetting `pad_token_id` to `eos_token_id`:128001 for open-end generation.\n 85%|████████▍ | 84/99 [13:44<02:30, 10.02s/it]The attention mask and the pad token id were not set. As a consequence, you may observe unexpected behavior. Please pass your input's `attention_mask` to obtain reliable results.\nSetting `pad_token_id` to `eos_token_id`:128001 for open-end generation.\n 86%|████████▌ | 85/99 [13:54<02:20, 10.06s/it]The attention mask and the pad token id were not set. As a consequence, you may observe unexpected behavior. Please pass your input's `attention_mask` to obtain reliable results.\nSetting `pad_token_id` to `eos_token_id`:128001 for open-end generation.\n 87%|████████▋ | 86/99 [14:03<02:06,  9.73s/it]The attention mask and the pad token id were not set. As a consequence, you may observe unexpected behavior. Please pass your input's `attention_mask` to obtain reliable results.\nSetting `pad_token_id` to `eos_token_id`:128001 for open-end generation.\n 88%|████████▊ | 87/99 [14:11<01:52,  9.35s/it]The attention mask and the pad token id were not set. As a consequence, you may observe unexpected behavior. Please pass your input's `attention_mask` to obtain reliable results.\nSetting `pad_token_id` to `eos_token_id`:128001 for open-end generation.\n 89%|████████▉ | 88/99 [14:23<01:50, 10.00s/it]The attention mask and the pad token id were not set. As a consequence, you may observe unexpected behavior. Please pass your input's `attention_mask` to obtain reliable results.\nSetting `pad_token_id` to `eos_token_id`:128001 for open-end generation.\n 90%|████████▉ | 89/99 [14:33<01:41, 10.18s/it]The attention mask and the pad token id were not set. As a consequence, you may observe unexpected behavior. Please pass your input's `attention_mask` to obtain reliable results.\nSetting `pad_token_id` to `eos_token_id`:128001 for open-end generation.\n 91%|█████████ | 90/99 [14:46<01:38, 10.99s/it]The attention mask and the pad token id were not set. As a consequence, you may observe unexpected behavior. Please pass your input's `attention_mask` to obtain reliable results.\nSetting `pad_token_id` to `eos_token_id`:128001 for open-end generation.\n 92%|█████████▏| 91/99 [14:59<01:31, 11.49s/it]The attention mask and the pad token id were not set. As a consequence, you may observe unexpected behavior. Please pass your input's `attention_mask` to obtain reliable results.\nSetting `pad_token_id` to `eos_token_id`:128001 for open-end generation.\n 93%|█████████▎| 92/99 [15:10<01:20, 11.44s/it]The attention mask and the pad token id were not set. As a consequence, you may observe unexpected behavior. Please pass your input's `attention_mask` to obtain reliable results.\nSetting `pad_token_id` to `eos_token_id`:128001 for open-end generation.\n 94%|█████████▍| 93/99 [15:23<01:10, 11.83s/it]The attention mask and the pad token id were not set. As a consequence, you may observe unexpected behavior. Please pass your input's `attention_mask` to obtain reliable results.\nSetting `pad_token_id` to `eos_token_id`:128001 for open-end generation.\n 95%|█████████▍| 94/99 [15:35<00:59, 11.90s/it]The attention mask and the pad token id were not set. As a consequence, you may observe unexpected behavior. Please pass your input's `attention_mask` to obtain reliable results.\nSetting `pad_token_id` to `eos_token_id`:128001 for open-end generation.\n 96%|█████████▌| 95/99 [15:43<00:42, 10.65s/it]The attention mask and the pad token id were not set. As a consequence, you may observe unexpected behavior. Please pass your input's `attention_mask` to obtain reliable results.\nSetting `pad_token_id` to `eos_token_id`:128001 for open-end generation.\n 97%|█████████▋| 96/99 [15:55<00:33, 11.01s/it]The attention mask and the pad token id were not set. As a consequence, you may observe unexpected behavior. Please pass your input's `attention_mask` to obtain reliable results.\nSetting `pad_token_id` to `eos_token_id`:128001 for open-end generation.\n 98%|█████████▊| 97/99 [16:01<00:19,  9.57s/it]The attention mask and the pad token id were not set. As a consequence, you may observe unexpected behavior. Please pass your input's `attention_mask` to obtain reliable results.\nSetting `pad_token_id` to `eos_token_id`:128001 for open-end generation.\n 99%|█████████▉| 98/99 [16:14<00:10, 10.57s/it]The attention mask and the pad token id were not set. As a consequence, you may observe unexpected behavior. Please pass your input's `attention_mask` to obtain reliable results.\nSetting `pad_token_id` to `eos_token_id`:128001 for open-end generation.\n100%|██████████| 99/99 [16:23<00:00,  9.93s/it]\n"
        },
        {
          "output_type": "stream",
          "name": "stdout",
          "text": "답변 생성\n답변 생성\n답변 생성\n답변 생성\n답변 생성\n답변 생성\n답변 생성\n답변 생성\n답변 생성\n답변 생성\n답변 생성\n답변 생성\n답변 생성\n답변 생성\n답변 생성\n답변 생성\n답변 생성\n답변 생성\n답변 생성\n답변 생성\n답변 생성\n답변 생성\n답변 생성\n답변 생성\n답변 생성\n답변 생성\n답변 생성\n답변 생성\n답변 생성\n답변 생성\n답변 생성\n답변 생성\n답변 생성\n답변 생성\n답변 생성\n답변 생성\n답변 생성\n답변 생성\n답변 생성\n답변 생성\n답변 생성\n답변 생성\n답변 생성\n답변 생성\n답변 생성\n답변 생성\n답변 생성\n답변 생성\n답변 생성\n답변 생성\n답변 생성\n답변 생성\n답변 생성\n답변 생성\n답변 생성\n답변 생성\n답변 생성\n답변 생성\n답변 생성\n답변 생성\n답변 생성\n답변 생성\n답변 생성\n답변 생성\n답변 생성\n답변 생성\n답변 생성\n답변 생성\n답변 생성\n답변 생성\n답변 생성\n답변 생성\n답변 생성\n답변 생성\n답변 생성\n답변 생성\n답변 생성\n답변 생성\n답변 생성\n답변 생성\n답변 생성\n답변 생성\n답변 생성\n답변 생성\n답변 생성\n답변 생성\n답변 생성\n답변 생성\n답변 생성\n답변 생성\n답변 생성\n답변 생성\n답변 생성\n답변 생성\n답변 생성\n답변 생성\n답변 생성\n답변 생성\n답변 생성\n"
        }
      ],
      "execution_count": 13,
      "metadata": {
        "jupyter": {
          "source_hidden": false,
          "outputs_hidden": false
        },
        "nteract": {
          "transient": {
            "deleting": false
          }
        },
        "gather": {
          "logged": 1718100570710
        }
      }
    },
    {
      "cell_type": "code",
      "source": [
        "print(preds_ix_full_7_10epoch[0])"
      ],
      "outputs": [
        {
          "output_type": "stream",
          "name": "stdout",
          "text": "사출성형에서 단일 설계인자를 최적화하는 것은 매우 중요합니다. 이는 여러 인자들이 복잡하게 상호작용하기 때문에, 단일 인자를 개선하더라도 전체 성능에 미치는 영향이 제한적일 수 있기 때문입니다. 예를 들어, 게이트 위치와 캐비티 두께의 비율을 최대화하면 충전 후 단계에서의 유동채널 크기와 압력 프로파일이 개선될 수 있습니다. 그러나 이 두 요소만으로는 모든 문제가 해결되지 않을 수 있으며, 다른 요인들과의 상호작용도 고려해야 합니다. 따라서 단일 설계인자의 최적화를 통해 초기 조건 설정을 용이하게 하고, 이후 다중 인자 최적화를 위한 기반을 마련할 수 있습니다. 이를 통해 설계 과정의 효율성을 높이고, 최적의 성형 조건을 더 빠르게 도출할 수 있습니다.<|end_of_text|>\n"
        }
      ],
      "execution_count": 17,
      "metadata": {
        "jupyter": {
          "source_hidden": false,
          "outputs_hidden": false
        },
        "nteract": {
          "transient": {
            "deleting": false
          }
        },
        "gather": {
          "logged": 1718087370407
        }
      }
    },
    {
      "cell_type": "code",
      "source": [
        "import pandas as pd\n",
        "df_ix_txt = pd.DataFrame({\"Answer\":preds_ix_full_7_10epoch})\n"
      ],
      "outputs": [],
      "execution_count": 15,
      "metadata": {
        "jupyter": {
          "source_hidden": false,
          "outputs_hidden": false
        },
        "nteract": {
          "transient": {
            "deleting": false
          }
        },
        "gather": {
          "logged": 1718100614989
        }
      }
    },
    {
      "cell_type": "markdown",
      "source": [
        "df_ix_txt.head(10)"
      ],
      "metadata": {
        "nteract": {
          "transient": {
            "deleting": false
          }
        }
      }
    },
    {
      "cell_type": "code",
      "source": [
        "# text_embedding\n",
        "# text embedding\n",
        "import numpy as np\n",
        "answers_ix_embed=[]\n",
        "for i in range(len(df_ix_txt['Answer'])):\n",
        "    answers_ix_embed.append(np.array(embeddings.embed_query(df_ix_txt['Answer'][i])).reshape(1,-1))\n"
      ],
      "outputs": [],
      "execution_count": 18,
      "metadata": {
        "jupyter": {
          "source_hidden": false,
          "outputs_hidden": false
        },
        "nteract": {
          "transient": {
            "deleting": false
          }
        },
        "gather": {
          "logged": 1718100676702
        }
      }
    },
    {
      "cell_type": "code",
      "source": [
        "print(answers_ix_embed[0])"
      ],
      "outputs": [
        {
          "output_type": "stream",
          "name": "stdout",
          "text": "[[-0.00540225  0.00788125  0.02325037 ...  0.01108937  0.00781343\n   0.00399149]]\n"
        }
      ],
      "execution_count": 19,
      "metadata": {
        "jupyter": {
          "source_hidden": false,
          "outputs_hidden": false
        },
        "nteract": {
          "transient": {
            "deleting": false
          }
        },
        "gather": {
          "logged": 1718100676918
        }
      }
    },
    {
      "cell_type": "code",
      "source": [
        "ans=val_dataset_df['A1'][:99]"
      ],
      "outputs": [],
      "execution_count": 20,
      "metadata": {
        "jupyter": {
          "source_hidden": false,
          "outputs_hidden": false
        },
        "nteract": {
          "transient": {
            "deleting": false
          }
        },
        "gather": {
          "logged": 1718100677066
        }
      }
    },
    {
      "cell_type": "code",
      "source": [
        "answers_gpt_embed=[]\n",
        "for i in range(len(ans)):\n",
        "    answers_gpt_embed.append(np.array(embeddings.embed_query(ans[i])).reshape(1,-1))\n",
        "\n",
        "print(answers_gpt_embed[0])"
      ],
      "outputs": [
        {
          "output_type": "stream",
          "name": "stdout",
          "text": "[[-0.00603841  0.01871669  0.02415363 ...  0.00325707  0.01182536\n   0.00367673]]\n"
        }
      ],
      "execution_count": 21,
      "metadata": {
        "jupyter": {
          "source_hidden": false,
          "outputs_hidden": false
        },
        "nteract": {
          "transient": {
            "deleting": false
          }
        },
        "gather": {
          "logged": 1718100700659
        }
      }
    },
    {
      "cell_type": "code",
      "source": [
        "def mean_pooling(answer_salt_embed):\n",
        "    mean_vector=np.mean(answer_salt_embed,axis=0)\n",
        "    return mean_vector"
      ],
      "outputs": [],
      "execution_count": 22,
      "metadata": {
        "jupyter": {
          "source_hidden": false,
          "outputs_hidden": false
        },
        "nteract": {
          "transient": {
            "deleting": false
          }
        },
        "gather": {
          "logged": 1718100700921
        }
      }
    },
    {
      "cell_type": "code",
      "source": [
        "pooled_vectors_gpt=[]\n",
        "for i in range(len(answers_gpt_embed)):\n",
        "    pooled_vectors_gpt.append(mean_pooling(answers_gpt_embed[i]))\n",
        "\n",
        "print(pooled_vectors_gpt)"
      ],
      "outputs": [
        {
          "output_type": "stream",
          "name": "stdout",
          "text": "[array([-0.00603841,  0.01871669,  0.02415363, ...,  0.00325707,\n        0.01182536,  0.00367673]), array([-0.00234523,  0.02795743,  0.01646977, ...,  0.00140336,\n        0.00662222,  0.00635458]), array([ 0.01048604,  0.02010947,  0.00105551, ...,  0.00315727,\n       -0.00099486,  0.01640296]), array([-0.00140124,  0.02614274,  0.02615648, ...,  0.00063665,\n        0.00420028,  0.01526252]), array([-0.01191088, -0.00030954,  0.03750605, ..., -0.01389065,\n        0.0173085 , -0.01533518]), array([0.01746153, 0.01659873, 0.01648916, ..., 0.00150221, 0.00125227,\n       0.00433457]), array([ 0.01362606,  0.01999046,  0.00924402, ...,  0.0047333 ,\n       -0.00756076,  0.0065522 ]), array([ 0.00036416, -0.00069132, -0.00574739, ...,  0.00220603,\n        0.02274175, -0.02420097]), array([-0.03261945,  0.01067818,  0.00700543, ...,  0.00117834,\n       -0.00612465,  0.00426107]), array([ 0.0016039 ,  0.00835378,  0.02590551, ...,  0.01063639,\n       -0.0082795 ,  0.00171026]), array([-0.01163941,  0.01765506,  0.02011632, ..., -0.00129852,\n        0.00409064, -0.00404595]), array([-0.00079799, -0.00457791,  0.00356777, ...,  0.00417657,\n        0.01078155,  0.0054826 ]), array([-0.00309646,  0.00435592,  0.01067408, ..., -0.00229103,\n        0.02005391,  0.01555883]), array([ 0.00449739,  0.01482794,  0.01071367, ...,  0.00672711,\n       -0.00038356,  0.01587722]), array([-0.01106847,  0.02078528,  0.0128546 , ...,  0.00012564,\n        0.01075814,  0.01121329]), array([-0.01225921,  0.01080403,  0.01136002, ...,  0.01208074,\n        0.01106486, -0.00222395]), array([ 0.00879543,  0.01398349,  0.00255959, ..., -0.01429831,\n       -0.0064572 ,  0.00326467]), array([-0.01427226,  0.00726428, -0.02849055, ...,  0.00229327,\n       -0.01251183, -0.00944289]), array([-0.00575635,  0.01850303,  0.01384726, ...,  0.01967698,\n       -0.00723046, -0.00181262]), array([0.00435423, 0.00244571, 0.00214208, ..., 0.0147877 , 0.00077826,\n       0.00958932]), array([ 0.0021167 ,  0.01651565,  0.01295636, ...,  0.00753653,\n       -0.01558538,  0.00063155]), array([-0.00062872,  0.00905764,  0.02325265, ...,  0.00024817,\n        0.00585687,  0.00405139]), array([ 0.00189531,  0.01243054, -0.00358355, ...,  0.01470825,\n       -0.00596145,  0.00447526]), array([-0.02373526,  0.0018662 ,  0.00346629, ...,  0.01275234,\n       -0.00129597,  0.00147136]), array([-0.01618758,  0.00156009, -0.00824713, ..., -0.00269182,\n       -0.01336742,  0.00728041]), array([-0.01884668,  0.00353289,  0.01835036, ...,  0.00301588,\n        0.00710714,  0.02350665]), array([ 0.00781544,  0.01709159,  0.0121566 , ...,  0.01223851,\n       -0.00596909,  0.00330535]), array([ 0.01103047, -0.01138565,  0.02123217, ..., -0.00571256,\n       -0.02242927,  0.01251698]), array([-0.00498693,  0.02487738,  0.00752921, ..., -0.00223755,\n       -0.02156399,  0.00260627]), array([-0.00432577,  0.01405959,  0.00236393, ...,  0.00794119,\n       -0.01392556,  0.0112718 ]), array([ 0.00778686, -0.00809198,  0.02416788, ...,  0.00811105,\n       -0.01141014,  0.00723384]), array([-0.00129583, -0.01064682,  0.0377656 , ...,  0.0088224 ,\n        0.00372052, -0.02363934]), array([-0.00463918,  0.00293053,  0.01245062, ...,  0.01504671,\n       -0.01626528, -0.0047021 ]), array([-0.02068995, -0.00216383, -0.00375798, ...,  0.00563859,\n       -0.01029318,  0.00311547]), array([ 0.00041633,  0.00405365, -0.00451485, ...,  0.01554883,\n       -0.00162718,  0.00188119]), array([-0.00196348,  0.00063792,  0.00416091, ...,  0.01334166,\n       -0.00260851,  0.00545096]), array([ 0.01089602,  0.00910042,  0.00878075, ...,  0.00939289,\n       -0.01120889, -0.01854092]), array([-0.00377344,  0.00351215,  0.03911889, ...,  0.00093657,\n       -0.00824591,  0.01201935]), array([ 0.01720777, -0.00105135,  0.0183665 , ...,  0.0002183 ,\n       -0.00262379, -0.0026138 ]), array([-1.44119149e-05,  6.67646667e-03,  3.29140425e-02, ...,\n       -9.92104225e-03,  4.46881726e-03, -6.74002012e-03]), array([-0.02620539,  0.00696582,  0.00679869, ...,  0.01569649,\n       -0.00873067,  0.01105039]), array([ 0.00256303, -0.0205959 ,  0.01699522, ...,  0.0253619 ,\n       -0.0042619 ,  0.00996407]), array([-0.0120635 , -0.00273123,  0.01177885, ..., -0.00455431,\n       -0.00227715, -0.01263956]), array([-0.00523325,  0.02672099,  0.02549121, ...,  0.01358106,\n       -0.01854028,  0.00780643]), array([-0.00409431, -0.00502499,  0.00793211, ..., -0.00154482,\n       -0.00622204,  0.00296797]), array([-0.01476419,  0.00512815,  0.01135446, ..., -0.01130701,\n        0.0145066 , -0.00059992]), array([-0.00590499, -0.00899709,  0.01563632, ...,  0.01438155,\n       -0.01245114, -0.00928665]), array([-0.01021035, -0.00328359,  0.0047049 , ...,  0.0170557 ,\n       -0.0300951 , -0.00475239]), array([-0.01362028,  0.00501032, -0.00328693, ...,  0.00205868,\n        0.00683446, -0.00293948]), array([-0.00312403,  0.01306043,  0.00969504, ...,  0.00836928,\n       -0.00456537, -0.01357034]), array([-0.01363762,  0.01033566,  0.00467322, ...,  0.00946242,\n       -0.00283293, -0.00363283]), array([-0.0024231 , -0.01057943,  0.03467773, ...,  0.01009383,\n       -0.00168986, -0.02303647]), array([-0.00663172,  0.01296794,  0.01224937, ...,  0.01194045,\n       -0.01392828, -0.00908629]), array([-0.00150236,  0.01289283,  0.01649036, ...,  0.02590761,\n       -0.0123305 ,  0.00703923]), array([ 0.0157789 ,  0.00533362,  0.01844235, ...,  0.00077642,\n       -0.00431465, -0.00903958]), array([ 0.00478442,  0.00217972,  0.00755015, ...,  0.00644452,\n       -0.00487406,  0.00549826]), array([-0.01294607,  0.00227007,  0.00269738, ...,  0.0056685 ,\n        0.00241863, -0.01019528]), array([-0.01737121,  0.00888851,  0.00634566, ...,  0.01172262,\n       -0.00671547,  0.00037472]), array([-0.00034065,  0.0210805 ,  0.01415347, ...,  0.00441275,\n        0.0092746 ,  0.01788236]), array([-0.01105861,  0.01296573,  0.02141637, ...,  0.0008828 ,\n        0.01301964,  0.00859216]), array([ 0.01589443, -0.00406679,  0.01029011, ...,  0.00034549,\n       -0.00237618,  0.00159161]), array([-0.00028616, -0.00036548,  0.02466306, ..., -0.00909636,\n        0.01145844,  0.00279693]), array([ 0.0032765 , -0.00336307,  0.0082645 , ...,  0.01568989,\n       -0.0173681 , -0.00784495]), array([-0.0049536 ,  0.0170086 ,  0.00946629, ..., -0.00122504,\n       -0.0227004 ,  0.00037515]), array([-0.0093766 ,  0.01727269,  0.02516877, ...,  0.00166141,\n       -0.01679252,  0.00286266]), array([-0.01353629,  0.00768002,  0.01498178, ..., -0.00755168,\n        0.01572479,  0.00296529]), array([-0.0127903 , -0.00921115,  0.02804667, ...,  0.00221114,\n       -0.01033754,  0.00260938]), array([-0.02060791, -0.00429553, -0.00175439, ...,  0.00616777,\n       -0.02351586, -0.00102824]), array([-0.01076617,  0.00767456,  0.009663  , ..., -0.00369768,\n        0.00089973, -0.00296563]), array([-0.00599896, -0.00968864,  0.02371201, ...,  0.00880492,\n        0.002069  , -0.00558613]), array([-0.01120252, -0.01427206,  0.02001762, ..., -0.00484699,\n       -0.02139498,  0.01428518]), array([-0.00220676,  0.01378934,  0.01431451, ...,  0.00606987,\n       -0.00146276, -0.0021731 ]), array([-0.01306222,  0.0199679 ,  0.00361288, ..., -0.00543805,\n       -0.00325023, -0.01906894]), array([-0.0127738 ,  0.00922403,  0.02042464, ...,  0.00281024,\n        0.0024993 ,  0.01574539]), array([-0.00572431,  0.02672449, -0.00843583, ...,  0.00416163,\n        0.00111573,  0.00426758]), array([-0.01503521,  0.02401728,  0.02184336, ..., -0.01025128,\n        0.01049861, -0.00547386]), array([ 0.00106172,  0.01113186,  0.00018224, ..., -0.00368108,\n       -0.00824835, -0.00871871]), array([ 0.00123598,  0.00591339,  0.03256874, ..., -0.01247094,\n        0.00963664,  0.00438673]), array([ 0.00596669, -0.02505228,  0.0203102 , ...,  0.02681102,\n       -0.00519154,  0.00958188]), array([-0.00664157,  0.01860994,  0.00792922, ...,  0.00230252,\n        0.00019018, -0.01729518]), array([-0.01018648, -0.00381042,  0.00977155, ..., -0.01946012,\n        0.00778682,  0.00510707]), array([-0.01001969,  0.01263003,  0.02133785, ...,  0.00153608,\n       -0.01001969,  0.00030517]), array([-9.95606277e-03,  1.56538486e-02,  3.25563923e-03, ...,\n        4.21862605e-05,  8.20186734e-03,  8.02109111e-03]), array([-0.03608191,  0.0117017 ,  0.02002156, ..., -0.00292374,\n        0.00974805,  0.00420709]), array([-0.00962144,  0.01318619,  0.00336445, ...,  0.00485825,\n       -0.00911898, -0.00396197]), array([ 0.00883203, -0.00527402,  0.00675511, ..., -0.0117942 ,\n        0.0007248 , -0.00654401]), array([-0.02572148,  0.00100547,  0.0147491 , ..., -0.00763959,\n       -0.00864009,  0.00890512]), array([ 0.00258151, -0.01232162,  0.01812082, ..., -0.00063575,\n       -0.01470559, -0.00652242]), array([-0.01042692, -0.00425067,  0.01444835, ...,  0.00448973,\n       -0.00826556, -0.00822626]), array([-0.00729562, -0.00727532,  0.0075731 , ..., -0.00561384,\n        0.00080113, -0.00666284]), array([-0.00956634,  0.0255472 ,  0.01493486, ...,  0.00209372,\n        0.01208089, -0.00928926]), array([-0.03256867,  0.00422286, -0.00825685, ..., -0.00686047,\n       -0.00459726, -0.01395029]), array([-0.00500246,  0.01956844,  0.00663762, ..., -0.00625307,\n       -0.0102323 ,  0.00971734]), array([-0.00892898,  0.02221753,  0.01413473, ..., -0.00069134,\n        0.00261811, -0.00348968]), array([-0.02753001,  0.00766839,  0.01147197, ..., -0.00100703,\n       -0.00615445,  0.00744385]), array([-0.01396716, -0.00214429,  0.00850145, ..., -0.00860471,\n       -0.0021202 ,  0.01044267]), array([-0.00717274,  0.02183417,  0.02847585, ...,  0.03350416,\n        0.00361662, -0.00246206]), array([ 0.00678681,  0.01725039,  0.01690483, ...,  0.00059048,\n       -0.00501754, -0.01644868]), array([ 0.0032167 , -0.01527728, -0.00228732, ...,  0.00882746,\n        0.00794734,  0.02269917])]\n"
        }
      ],
      "execution_count": 23,
      "metadata": {
        "jupyter": {
          "source_hidden": false,
          "outputs_hidden": false
        },
        "nteract": {
          "transient": {
            "deleting": false
          }
        },
        "gather": {
          "logged": 1718100701084
        }
      }
    },
    {
      "cell_type": "code",
      "source": [
        "pooled_vectors_ix=[]\n",
        "for i in range(len(answers_gpt_embed)):\n",
        "    pooled_vectors_ix.append(mean_pooling(answers_ix_embed[i]))\n",
        "\n",
        "print(pooled_vectors_ix)"
      ],
      "outputs": [
        {
          "output_type": "stream",
          "name": "stdout",
          "text": "[array([-0.00540225,  0.00788125,  0.02325037, ...,  0.01108937,\n        0.00781343,  0.00399149]), array([-0.00614094,  0.01371115,  0.01198762, ..., -0.0075667 ,\n       -0.00554191,  0.0041757 ]), array([0.00836177, 0.01525871, 0.00193616, ..., 0.00239901, 0.00097486,\n       0.007392  ]), array([-5.73469233e-03,  2.40713805e-02,  1.13056339e-02, ...,\n        8.04255658e-04, -7.19608361e-05,  1.60748791e-02]), array([-0.00954197, -0.01730715,  0.02703338, ..., -0.01045668,\n        0.01240456, -0.00576466]), array([-0.00124092,  0.01689563,  0.01750927, ..., -0.00091109,\n        0.00195513, -0.00055143]), array([ 0.00344303,  0.00981168,  0.01640552, ..., -0.00599221,\n       -0.0067176 ,  0.01271324]), array([-0.00656943,  0.00107745, -0.00283313, ...,  0.00423425,\n       -0.00231115, -0.01325563]), array([-0.02345227,  0.00915959,  0.01037953, ..., -0.00409981,\n        0.00321485, -0.01807918]), array([ 0.00272974,  0.00080518,  0.02439843, ..., -0.00923655,\n       -0.01187748,  0.01161607]), array([-0.01717347,  0.02270929,  0.01271444, ..., -0.01109235,\n        0.0052183 , -0.00560139]), array([-0.01800343, -0.00616593, -0.00426397, ..., -0.00909098,\n       -0.00043429,  0.0068148 ]), array([-0.02262021, -0.00058471,  0.00729087, ...,  0.00172241,\n        0.01444456,  0.00242457]), array([-0.00175541,  0.01593357,  0.00652671, ...,  0.00853731,\n        0.0021412 ,  0.02271118]), array([-0.00997247, -0.00628369, -0.00179953, ..., -0.0110974 ,\n        0.00114735,  0.0242376 ]), array([-0.00813119, -0.00263588,  0.01303902, ...,  0.00847086,\n        0.00252843, -0.01134762]), array([ 0.00045275,  0.01573343,  0.00513178, ..., -0.00858978,\n       -0.0062599 , -0.01009618]), array([-0.02364778,  0.0088883 , -0.026529  , ...,  0.00311226,\n       -0.01761352, -0.0097717 ]), array([-0.00514284, -0.00096281,  0.00351062, ...,  0.01996433,\n       -0.01194487, -0.00075203]), array([-0.01621125, -0.01455597,  0.00404296, ...,  0.01518655,\n       -0.03342092,  0.02031004]), array([-0.01183004,  0.01680014,  0.00401845, ..., -0.00249514,\n       -0.00783513,  0.00828574]), array([0.00136613, 0.00376217, 0.01690082, ..., 0.00667998, 0.00906325,\n       0.00068817]), array([-0.01376264,  0.00310082,  0.00514324, ..., -0.004822  ,\n       -0.00843342,  0.0043283 ]), array([-0.03509713,  0.01639137, -0.00394468, ..., -0.00411826,\n        0.00844074,  0.01213016]), array([-0.00934708,  0.00515783,  0.00146725, ...,  0.01033598,\n       -0.00994313,  0.00027876]), array([-0.02087415,  0.00776266,  0.00546541, ...,  0.00587342,\n        0.00186352,  0.01011477]), array([-0.00174925,  0.02377738,  0.02853836, ..., -0.00285177,\n       -0.01524614, -0.00815971]), array([ 0.00869512, -0.01523616,  0.01716695, ..., -0.02073957,\n       -0.01556453, -0.01281939]), array([-0.00713589,  0.01404094, -0.00138763, ..., -0.00407038,\n       -0.02704985, -0.00122298]), array([-0.00858725, -0.00295271, -0.00686371, ...,  0.02336437,\n       -0.02528769,  0.0145604 ]), array([ 0.00441391, -0.01427558,  0.02086924, ...,  0.00825807,\n       -0.0143396 ,  0.01124762]), array([-0.00515041, -0.01353971,  0.03079214, ...,  0.01344884,\n       -0.00964526, -0.02040693]), array([ 0.00324536,  0.0028295 ,  0.00886278, ...,  0.01035322,\n       -0.01453176, -0.00148628]), array([-0.0251241 , -0.00731853, -0.00753591, ..., -0.01335912,\n       -0.00616575,  0.0054642 ]), array([ 0.00509915,  0.00189601, -0.00109523, ...,  0.0113148 ,\n        0.01004852,  0.00435027]), array([-0.01136527,  0.00932364, -0.00045429, ...,  0.00970271,\n        0.00863202,  0.0002153 ]), array([ 0.00329782,  0.00125534,  0.00185757, ...,  0.00785099,\n       -0.01629911, -0.00250899]), array([-0.00370706, -0.00884227,  0.02513283, ..., -0.00813161,\n        0.0018074 ,  0.01171909]), array([ 0.01449346,  0.00320181,  0.0212651 , ..., -0.00631998,\n       -0.01034482,  0.0075746 ]), array([ 0.00039568, -0.0018381 ,  0.02841492, ..., -0.01440908,\n        0.01470479, -0.00350482]), array([-0.00944788,  0.01126145, -0.00258867, ...,  0.00729427,\n       -0.00988127,  0.00538736]), array([-0.00130859, -0.01661526,  0.00733145, ...,  0.01392235,\n       -0.00203315,  0.01304042]), array([-0.00933129, -0.00224704,  0.01334772, ...,  0.00389869,\n        0.00168528, -0.00155409]), array([ 0.00224289,  0.02396943,  0.00526622, ..., -0.00866618,\n       -0.00411593, -0.00777717]), array([ 0.01594951,  0.00163797,  0.00189325, ..., -0.00503528,\n        0.00264151, -0.0195117 ]), array([-0.00606562,  0.0011996 ,  0.01575486, ..., -0.02604347,\n        0.01838524,  0.00199333]), array([-0.00334784, -0.0107722 ,  0.02183313, ...,  0.0168698 ,\n       -0.02335925, -0.01335011]), array([-0.00289069,  0.01031848, -0.00070248, ...,  0.0041487 ,\n       -0.02708515, -0.00209326]), array([-0.00324658,  0.01515642,  0.01008375, ...,  0.00448052,\n       -0.00203147,  0.00612692]), array([-0.00877655,  0.02277708,  0.00455068, ...,  0.01174718,\n       -0.00983894, -0.0025291 ]), array([-0.01424837,  0.00255091,  0.00761363, ...,  0.00672651,\n        0.00367086, -0.00356549]), array([-0.00515041, -0.01353971,  0.03079214, ...,  0.01344884,\n       -0.00964526, -0.02040693]), array([-0.01759712,  0.01513432,  0.01841806, ...,  0.01255235,\n       -0.01554479, -0.00145153]), array([-0.00970541,  0.00512421,  0.0117331 , ...,  0.02482715,\n       -0.00782207,  0.00449528]), array([ 0.01771566, -0.0083969 ,  0.00955256, ..., -0.00830338,\n       -0.00955256, -0.0035605 ]), array([-0.00043618,  0.00142233,  0.00787601, ...,  0.00292877,\n       -0.00174473,  0.01072562]), array([-0.00021819,  0.00069065,  0.01592016, ...,  0.00711789,\n       -0.00050897, -0.00849664]), array([0.00317083, 0.00473382, 0.0012499 , ..., 0.00291836, 0.00050702,\n       0.00233535]), array([ 0.00411583,  0.00974126,  0.01329523, ...,  0.00528018,\n       -0.02216322,  0.00437646]), array([-0.00703911,  0.00566777,  0.02588664, ...,  0.00854557,\n        0.00506992,  0.00010487]), array([ 0.01963829,  0.00318201,  0.02496007, ...,  0.00103051,\n       -0.01560339, -0.00101459]), array([-0.01214239,  0.00081885,  0.01689731, ..., -0.01138732,\n       -0.00699973, -0.00652356]), array([-0.01547187,  0.01196285,  0.00950051, ..., -0.00196082,\n       -0.01702845,  0.0020514 ]), array([-0.00947629,  0.01491954,  0.01979735, ...,  0.00502768,\n       -0.02847657,  0.00297369]), array([-0.00171798,  0.01186756,  0.01221302, ...,  0.00263328,\n       -0.00465355,  0.01083795]), array([-0.00370482,  0.00221912,  0.01747879, ..., -0.01428462,\n        0.01157713,  0.00392759]), array([-0.00606239, -0.00526928,  0.01433734, ..., -0.00924507,\n        0.00914295,  0.00715506]), array([-1.84189156e-02, -2.07110774e-03,  3.40763549e-03, ...,\n       -2.83757072e-05, -9.46111977e-03,  2.30236445e-03]), array([-0.0058671 ,  0.00025348,  0.00931671, ..., -0.00872792,\n       -0.00305824, -0.00390332]), array([ 0.00186363, -0.02374495,  0.0306521 , ...,  0.00438539,\n        0.00361322, -0.00380871]), array([-0.01315515, -0.01255213,  0.0188118 , ..., -0.01105111,\n       -0.01896911,  0.01632104]), array([-0.01476281,  0.00805492,  0.01918485, ...,  0.00465335,\n       -0.00452749, -0.00053532]), array([-0.00198049,  0.02082659,  0.01331191, ..., -0.01206286,\n       -0.0022113 , -0.01030468]), array([-0.00257108, -0.00862173,  0.02738978, ..., -0.00939059,\n       -0.00936431,  0.00907516]), array([-0.00946825,  0.02816403,  0.00200264, ..., -0.00290868,\n       -0.01267114,  0.00017375]), array([ 0.00496414,  0.02073315,  0.02352237, ..., -0.0218754 ,\n       -0.00636206, -0.00693983]), array([ 0.00986356, -0.00085728, -0.00723685, ..., -0.00354807,\n       -0.0119676 , -0.00755178]), array([-0.01770457, -0.01344236,  0.01547511, ...,  0.00057868,\n       -0.00650151,  0.00425566]), array([-0.01124235, -0.02281265,  0.02060878, ...,  0.00843504,\n       -0.01858857, -0.00254166]), array([-0.02295145,  0.00845756,  0.01625783, ..., -0.00187461,\n        0.02232099, -0.01840408]), array([-0.00424645,  0.00157494,  0.01855476, ..., -0.02043753,\n        0.00619743,  0.0127564 ]), array([-0.00106942,  0.0189333 ,  0.02699899, ..., -0.00625669,\n       -0.01721951, -0.00318445]), array([-0.00901548,  0.01207479,  0.00163372, ...,  0.00230294,\n        0.00318791,  0.01617642]), array([-0.02626424,  0.00406567,  0.01881051, ...,  0.00293237,\n        0.00869376,  0.00687437]), array([-0.0044013 ,  0.00729921,  0.00895905, ...,  0.00338771,\n       -0.00782982,  0.01391817]), array([ 0.0034105 , -0.01954317, -0.00820785, ..., -0.0138189 ,\n       -0.01173156, -0.00619834]), array([-0.02018516, -0.00091015,  0.01005887, ..., -0.0131871 ,\n       -0.02223469,  0.00553845]), array([-0.00127044,  0.00017199, -0.0028836 , ..., -0.00325164,\n       -0.01189905, -0.01588341]), array([ 0.00092369, -0.01036028,  0.00332766, ...,  0.00830046,\n       -0.00179469, -0.00026959]), array([ 0.01830546, -0.0123709 ,  0.00738641, ..., -0.00702512,\n       -0.0016325 ,  0.01115991]), array([-0.01294138,  0.0172645 ,  0.01108761, ...,  0.00738008,\n        0.01023418, -0.01258462]), array([-0.01823584,  0.00683169,  0.00035015, ..., -0.02551667,\n       -0.00547751, -0.01932999]), array([-0.00128276,  0.00175314,  0.00379339, ..., -0.00626603,\n       -0.00767461, -0.01082958]), array([ 0.00158222,  0.00685994,  0.02871161, ..., -0.0081115 ,\n        0.0028008 , -0.00782736]), array([-0.03151173, -0.00061674,  0.01041109, ..., -0.0036741 ,\n       -0.02375604, -0.01169465]), array([-0.0071158 , -0.00469591, -0.01185095, ..., -0.02073263,\n       -0.01465018,  0.00636694]), array([-0.00666129,  0.0096741 ,  0.02587706, ...,  0.03429969,\n       -0.00517144, -0.0094291 ]), array([-0.00905492,  0.01429001,  0.01312208, ..., -0.00417708,\n        0.01005797, -0.0093366 ]), array([-0.01438782, -0.00362823,  0.00078455, ...,  0.0109403 ,\n        0.00915399,  0.00180021])]\n"
        }
      ],
      "execution_count": 24,
      "metadata": {
        "jupyter": {
          "source_hidden": false,
          "outputs_hidden": false
        },
        "nteract": {
          "transient": {
            "deleting": false
          }
        },
        "gather": {
          "logged": 1718100701276
        }
      }
    },
    {
      "cell_type": "code",
      "source": [
        "from sklearn.metrics.pairwise import cosine_similarity\n",
        "\n",
        "#score=cosine_similarity(pooled_vectors_gpt[0].reshape(1.-1),pooled_vectors_ix[0].reshape(1,-1))"
      ],
      "outputs": [],
      "execution_count": 25,
      "metadata": {
        "jupyter": {
          "source_hidden": false,
          "outputs_hidden": false
        },
        "nteract": {
          "transient": {
            "deleting": false
          }
        },
        "gather": {
          "logged": 1718100701451
        }
      }
    },
    {
      "cell_type": "code",
      "source": [
        "print(len(pooled_vectors_ix))"
      ],
      "outputs": [
        {
          "output_type": "stream",
          "name": "stdout",
          "text": "99\n"
        }
      ],
      "execution_count": 29,
      "metadata": {
        "jupyter": {
          "source_hidden": false,
          "outputs_hidden": false
        },
        "nteract": {
          "transient": {
            "deleting": false
          }
        },
        "gather": {
          "logged": 1718087903094
        }
      }
    },
    {
      "cell_type": "code",
      "source": [
        "a=0\n",
        "for i in range(len(pooled_vectors_ix)):\n",
        "   a+=cosine_similarity(answers_ix_embed[i],answers_gpt_embed[i])\n",
        "print(a/len(pooled_vectors_ix))"
      ],
      "outputs": [
        {
          "output_type": "stream",
          "name": "stdout",
          "text": "[[0.93586595]]\n"
        }
      ],
      "execution_count": 26,
      "metadata": {
        "jupyter": {
          "source_hidden": false,
          "outputs_hidden": false
        },
        "nteract": {
          "transient": {
            "deleting": false
          }
        },
        "gather": {
          "logged": 1718100705029
        }
      }
    },
    {
      "cell_type": "code",
      "source": [
        "sample_scores = []\n",
        "for pred, gt in zip(preds, gts):\n",
        "    # 생성된 답변 내용을 512 Embedding Vector로 변환\n",
        "    pred_embed = model.encode(pred)\n",
        "    gt_embed = model.encode(gt)\n",
        "    \n",
        "    sample_score = cosine_similarity(gt_embed, pred_embed)\n",
        "    # Cosine Similarity Score가 0보다 작으면 0으로 간주\n",
        "    sample_score = max(sample_score, 0)\n",
        "    print('예측 : ', pred)\n",
        "    print('정답 : ', gt)\n",
        "    print('Cosine Similarity Score : ', sample_score)\n",
        "    print('-'*20)\n",
        "    sample_scores.append(sample_score)\n",
        "print('전체 샘플의 Cosine Similarity Score 평균 : ', np.mean(sample_scores))"
      ],
      "outputs": [],
      "execution_count": null,
      "metadata": {
        "jupyter": {
          "source_hidden": false,
          "outputs_hidden": false
        },
        "nteract": {
          "transient": {
            "deleting": false
          }
        }
      }
    },
    {
      "cell_type": "code",
      "source": [
        "for i in val_dataset_df['Q1'][100:106]:\n",
        "    print(i)"
      ],
      "outputs": [
        {
          "output_type": "stream",
          "name": "stdout",
          "text": "주입 성형 부품의 품질에 영향을 미치는 재료 변수는 무엇인가요?\nWhat role did neural networks play in the study of volumetric shrinkage in engineering plastic gears?\n사출성형공정에서 품질 변수에 영향을 미치는 주요 인자들은 무엇이며, 이들 인자들이 품질 변수에 어떻게 영향을 미치는지 설명해 주세요.\n본 연구에서 사출성형 공정조건이 품질 변수에 끼치는 영향을 분석하기 위해 사용된 방법론은 무엇인가요?\n본 연구에서 신경회로망을 구축하는 과정과 그 구조에 대해 설명해 주세요.\n체적수축률이 성형품의 품질에 미치는 영향은 무엇인가요?\n"
        }
      ],
      "execution_count": 84,
      "metadata": {
        "jupyter": {
          "source_hidden": false,
          "outputs_hidden": false
        },
        "nteract": {
          "transient": {
            "deleting": false
          }
        },
        "gather": {
          "logged": 1717068185542
        }
      }
    },
    {
      "cell_type": "code",
      "source": [
        "for i in val_dataset_df['A1'][100:106]:\n",
        "    print(i)\n",
        "    print(\"\\n\")"
      ],
      "outputs": [
        {
          "output_type": "stream",
          "name": "stdout",
          "text": "주입 성형 부품의 품질에 영향을 미치는 재료 변수는 여러 가지가 있습니다. 첫째, 사용되는 폴리머의 종류와 그 특성입니다. 예를 들어, 폴리프로필렌, 폴리에틸렌, 폴리카보네이트 등 다양한 폴리머가 있으며, 각각의 물리적, 화학적 특성이 다릅니다. 둘째, 재료의 점도와 유동성입니다. 점도가 높으면 주입 성형 과정에서 재료가 금형 내부를 채우는 데 어려움이 있을 수 있습니다. 셋째, 재료의 습기 함유량입니다. 습기가 많으면 성형 과정에서 기포가 생기거나 제품의 강도가 약해질 수 있습니다. 넷째, 첨가제의 종류와 양입니다. 첨가제는 재료의 물리적 특성을 개선하거나 색상을 부여하는 데 사용되지만, 과도한 첨가제는 제품의 품질을 저하시킬 수 있습니다. 마지막으로, 재료의 혼합 균일성도 중요한 변수입니다. 재료가 균일하게 혼합되지 않으면 제품의 일관성이 떨어질 수 있습니다.\n\n\nIn the study, neural networks were employed to analyze the relationship between processing conditions and the volumetric shrinkage of engineering plastic gears. The complexity of considering all variables simultaneously to predict quality necessitated the use of neural networks. By leveraging simulation software like Moldflow, learning data was extracted and fed into the neural network. The results obtained from the neural network showed good agreement with the simulation results, indicating that the neural network was effective in capturing the intricate relationships between the processing conditions and the resulting volumetric shrinkage. This approach allowed for a more accurate prediction of quality, which is crucial in optimizing the injection molding process.\n\n\n사출성형공정에서 품질 변수에 영향을 미치는 주요 인자들은 크게 다섯 가지 그룹으로 나눌 수 있습니다. 첫째, 플라스틱 수지 재료의 특성입니다. 이는 수지의 유동성, 열적 특성, 물리적 특성 등이 포함되며, 이러한 특성들은 수지의 체적수축률과 최종 제품의 치수 안정성에 직접적인 영향을 미칩니다. 둘째, 사출성형품의 형상이나 치수 등의 설계변수입니다. 이는 제품의 복잡한 형상이나 두께 분포 등이 포함되며, 이러한 설계변수는 수지의 유동 경로와 냉각 속도에 영향을 미쳐 품질 변수에 영향을 줍니다. 셋째, 금형의 구조특성입니다. 금형의 냉각 시스템, 게이트 위치, 런너 시스템 등이 포함되며, 이는 수지의 충전 및 냉각 과정에 영향을 미쳐 최종 제품의 품질에 영향을 미칩니다. 넷째, 사출성형기의 성능입니다. 이는 사출기의 압력, 속도, 온도 제어 능력 등이 포함되며, 이러한 성능은 공정의 안정성과 반복성을 보장하는 데 중요한 역할을 합니다. 마지막으로, 성형공정 동안 일어나는 복잡한 유동적, 열적, 물리적 현상들입니다. 이는 수지의 유동, 냉각, 고화 과정에서 발생하는 다양한 현상들을 포함하며, 이러한 현상들은 최종 제품의 품질에 복합적으로 영향을 미칩니다. 이러한 인자들이 복합적으로 작용하여 최종 제품의 품질을 결정하게 되므로, 각 인자의 영향을 정확히 이해하고 제어하는 것이 중요합니다.\n\n\n본 연구에서는 사출성형 공정조건이 품질 변수에 끼치는 영향을 분석하기 위해 실험계획법을 주로 사용하였습니다. 실험계획법은 공정 창에서 얻을 수 있는 각 입력인자들의 범위를 최소 값부터 최대 값까지 연속적으로 변화시키면서 모의실험이나 실제 실험 데이터를 확보하는 시행착오법에 비해 효율적입니다. 특히, 직교배열표를 사용하여 모든 인자의 영향을 포함하면서 하나의 인자효과를 볼 때 다른 인자의 영향에 치우침이 없이 분산분석표의 작성이 용이한 장점이 있습니다. 이를 통해 시간 소요나 비용 측면에서 효율적인 연구방법을 제공하며, 공정과 관련된 인자들의 중요성을 분석하는 데 유용합니다. 또한, GMDH (Group Method of Data Handling) 기법을 통해 다단계 회귀분석을 행하여 가장 연관성이 높은 인자들로만 구성된 회귀모델식을 유도하기도 합니다.\n\n\n본 연구에서는 유용한 공정조건을 입력인자로 선별한 후, 5 인자 3 수준의 실험계획법을 적용하여 얻은 입력과 출력 간의 사실적인 기본 관계로부터 학습 기능을 통하여 다양한 입력 조건의 변화에 물리적 의미가 높은 출력을 예측할 수 있는 신경회로망을 구축합니다. 이 신경회로망은 입력 층 노드가 5개, 중간층 노드가 3개, 출력 층 노드가 2개인 5-3-2 구조를 가지고 있습니다. 학습 데이터는 다양한 입력 인자의 변화에 따른 품질 변수의 변화를 예측할 수 있게 하지만, 최적 조건을 도출하는 데는 모든 탐색 영역을 검색한 후에 결과를 알 수 있어 불편한 점이 있습니다. 따라서, 구축된 신경회로망에 입력 인자의 최소 및 최대 값의 범위 구간을 5단계로 적용한 3,125개의 모의 실험 조건을 적용시켜 입력 및 출력 간의 데이터를 얻은 후, 통계 소프트웨어(SAS)를 이용하여 2차 비선형 회귀 모델식을 두 개의 출력 변수에 대해 구성합니다. 이는 회귀 모델식의 도출에 필요한 충분한 데이터를 많은 시간과 비용을 들이지 않고서도 실제 사출성형에서 얻는 결과와 가까운 데이터를 신경회로망으로 얻을 수 있는 장점을 이용한 것입니다.\n\n\n체적수축률은 성형품의 품질에 중요한 영향을 미칩니다. 체적 감소 및 취출 후 체적 증가의 상대적인 양에 의해 결정되며, 이는 성형조건, 재료 특성, 성형품의 형상 등의 설계구속 조건에 따라 달라집니다. 체적수축률이 높거나 불균일하면 성형품의 변형이나 뒤틀림이 발생할 수 있으며, 이는 성형품의 치수 정밀도에 부정적인 영향을 미칩니다. 특히 케이스류 성형품의 경우 부위별 수축률 편차에 따른 변형이나 뒤틀림이 성형품의 품질에 나쁜 영향을 줄 수 있습니다. 따라서 다양한 치수 정밀도를 만족시키기 위해서는 주어진 조건하에서 성형품의 체적수축률을 먼저 고려하는 것이 중요합니다.\n\n\n"
        }
      ],
      "execution_count": 83,
      "metadata": {
        "jupyter": {
          "source_hidden": false,
          "outputs_hidden": false
        },
        "nteract": {
          "transient": {
            "deleting": false
          }
        },
        "gather": {
          "logged": 1717068179745
        }
      }
    },
    {
      "cell_type": "code",
      "source": [],
      "outputs": [],
      "execution_count": null,
      "metadata": {
        "jupyter": {
          "source_hidden": false,
          "outputs_hidden": false
        },
        "nteract": {
          "transient": {
            "deleting": false
          }
        }
      }
    }
  ],
  "metadata": {
    "kernelspec": {
      "name": "hm_env",
      "language": "python",
      "display_name": "hm_env"
    },
    "language_info": {
      "name": "python",
      "version": "3.10.14",
      "mimetype": "text/x-python",
      "codemirror_mode": {
        "name": "ipython",
        "version": 3
      },
      "pygments_lexer": "ipython3",
      "nbconvert_exporter": "python",
      "file_extension": ".py"
    },
    "kernel_info": {
      "name": "hm_env"
    },
    "nteract": {
      "version": "nteract-front-end@1.0.0"
    },
    "microsoft": {
      "host": {
        "AzureML": {
          "notebookHasBeenCompleted": true
        }
      }
    }
  },
  "nbformat": 4,
  "nbformat_minor": 2
}